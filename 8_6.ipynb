{
  "nbformat": 4,
  "nbformat_minor": 0,
  "metadata": {
    "colab": {
      "provenance": [],
      "authorship_tag": "ABX9TyMV7Hy3CZ5drdby8F6C9kPI",
      "include_colab_link": true
    },
    "kernelspec": {
      "name": "python3",
      "display_name": "Python 3"
    },
    "language_info": {
      "name": "python"
    }
  },
  "cells": [
    {
      "cell_type": "markdown",
      "metadata": {
        "id": "view-in-github",
        "colab_type": "text"
      },
      "source": [
        "<a href=\"https://colab.research.google.com/github/Annie00000/Project/blob/main/8_6.ipynb\" target=\"_parent\"><img src=\"https://colab.research.google.com/assets/colab-badge.svg\" alt=\"Open In Colab\"/></a>"
      ]
    },
    {
      "cell_type": "markdown",
      "source": [
        "如果na值我也想排名呢? 就放最後排成最後的名次"
      ],
      "metadata": {
        "id": "ByR7RxMxaAbQ"
      }
    },
    {
      "cell_type": "code",
      "source": [
        "import pandas as pd\n",
        "import numpy as np\n",
        "\n",
        "# 示例数据\n",
        "data = {\n",
        "    'col1': ['A', 'A', 'A', 'B', 'B', 'B', 'C', 'C', 'C', 'D'],\n",
        "    'col2': ['X', 'X', '', 'Y', 'Y', '', 'Z', 'Z', '', ''],\n",
        "    'col3': [1, 2, np.nan, 1, 2, 3, 1, 2, np.nan, 4],\n",
        "    'col4': [10, 12, 14, 10, 11, 13, 9, 10, 15, 16]\n",
        "}\n",
        "df = pd.DataFrame(data)\n",
        "\n",
        "# 按 col3 值由大至小排序，将 NaN 值放在末尾\n",
        "df_sorted = df.sort_values(by='col3', ascending=False, na_position='last')\n",
        "\n",
        "# 计算 col3 的排名，NaN 值排名在最后\n",
        "df_sorted['rank'] = df_sorted['col3'].rank(method='min', ascending=False, na_option='bottom')\n",
        "# 对 NaN 值进行排名\n",
        "nan_count = df_sorted['col3'].isna().sum()\n",
        "df_sorted.loc[df_sorted['col3'].isna(), 'rank'] = range(len(df_sorted) - nan_count + 1, len(df_sorted) + 1)\n",
        "\n",
        "# 打印结果\n",
        "print(df_sorted)\n"
      ],
      "metadata": {
        "id": "8Nvji_9faUGk"
      },
      "execution_count": null,
      "outputs": []
    },
    {
      "cell_type": "code",
      "source": [
        "  col1 col2  col3  col4  rank\n",
        "9    D        4.0    16   1.0\n",
        "5    B        3.0    13   2.0\n",
        "1    A    X   2.0    12   3.0\n",
        "4    B    Y   2.0    11   3.0\n",
        "7    C    Z   2.0    10   3.0\n",
        "0    A    X   1.0    10   6.0\n",
        "3    B    Y   1.0    10   6.0\n",
        "6    C    Z   1.0     9   6.0\n",
        "2    A        NaN    14   9.0\n",
        "8    C        NaN    15  10.0\n"
      ],
      "metadata": {
        "id": "L60Zrh3jaFAN"
      },
      "execution_count": null,
      "outputs": []
    },
    {
      "cell_type": "markdown",
      "source": [
        "1. sort_values 中的 na_position='last' 将 NaN 值放在排序结果的末尾。\n",
        "2. rank 方法中的 na_option='bottom' 表示 NaN 值在排名中不参与计算。\n",
        "3. 对于 NaN 值，使用 range(non_nan_count + 1, len(df_sorted) + 1) 手动指定排名。"
      ],
      "metadata": {
        "id": "ab4oiVj4aJ-x"
      }
    }
  ]
}