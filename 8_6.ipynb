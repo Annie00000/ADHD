{
  "nbformat": 4,
  "nbformat_minor": 0,
  "metadata": {
    "colab": {
      "provenance": [],
      "authorship_tag": "ABX9TyMvmQYEjXtnz2YbwuNiVyv8",
      "include_colab_link": true
    },
    "kernelspec": {
      "name": "python3",
      "display_name": "Python 3"
    },
    "language_info": {
      "name": "python"
    }
  },
  "cells": [
    {
      "cell_type": "markdown",
      "metadata": {
        "id": "view-in-github",
        "colab_type": "text"
      },
      "source": [
        "<a href=\"https://colab.research.google.com/github/Annie00000/Project/blob/main/8_6.ipynb\" target=\"_parent\"><img src=\"https://colab.research.google.com/assets/colab-badge.svg\" alt=\"Open In Colab\"/></a>"
      ]
    },
    {
      "cell_type": "markdown",
      "source": [
        "## 1."
      ],
      "metadata": {
        "id": "uOZy4U-kZqN_"
      }
    },
    {
      "cell_type": "markdown",
      "source": [
        "1. 對 col1 和 col2 分群。\n",
        "2. 計算每個群體中 col4 的相對誤差比率 v。\n",
        "3. 提取每個群體中指定的 col3 對應的 v 值。\n",
        "4. 將每個群體中提取出的數據拼成一個新的 DataFrame。"
      ],
      "metadata": {
        "id": "SKNiaOqzZsCu"
      }
    },
    {
      "cell_type": "code",
      "source": [
        "import pandas as pd\n",
        "import numpy as np\n",
        "\n",
        "# 示例數據\n",
        "data = {\n",
        "    'col1': ['A', 'A', 'A', 'B', 'B', 'B', 'C', 'C', 'C'],\n",
        "    'col2': ['X', 'X', 'Y', 'Y', 'Y', 'Z', 'Z', 'Z', 'Z'],\n",
        "    'col3': [1, 2, 3, 1, 2, 3, 1, 2, 3],\n",
        "    'col4': [10, 12, 14, 10, 11, 13, 9, 10, 15]\n",
        "}\n",
        "df = pd.DataFrame(data)\n",
        "\n",
        "# 指定要提取的 col3 值\n",
        "specified_col3_values = [1, 3]\n",
        "\n",
        "# 用於存儲結果的列表\n",
        "result_list = []\n",
        "\n",
        "# 對 col1 和 col2 分群，並在循環內計算相對誤差比率和提取值\n",
        "for (name, group) in df.groupby(['col1', 'col2']):\n",
        "    # 計算中位數\n",
        "    median_col4 = group['col4'].median()\n",
        "    # 計算相對誤差比率\n",
        "    group['v'] = np.abs(group['col4'] - median_col4) / median_col4\n",
        "    # 提取指定的 col3 值對應的 v 值\n",
        "    filtered_group = group[group['col3'].isin(specified_col3_values)]\n",
        "    # 將結果 append 到列表中\n",
        "    result_list.append(filtered_group)\n",
        "\n",
        "# 將結果拼接成一個新的 DataFrame\n",
        "result_df = pd.concat(result_list, ignore_index=True)\n",
        "\n",
        "# 打印結果\n",
        "print(result_df)\n"
      ],
      "metadata": {
        "id": "8QovkAfxaMkY"
      },
      "execution_count": null,
      "outputs": []
    },
    {
      "cell_type": "markdown",
      "source": [
        "### 1-1. **在最終結果中添加三個新的列**"
      ],
      "metadata": {
        "id": "0cmnB_FTdLeF"
      }
    },
    {
      "cell_type": "markdown",
      "source": [
        "\n",
        "\n",
        "  - rank1：根據原始分群計算的順序，依次排序給出序號。\n",
        "  - rank2：根據每個群體中 v 的平均值排序，從大到小。\n",
        "  - rank3：根據每個群體中 v 的最大值排序，從大到小。"
      ],
      "metadata": {
        "id": "g_E9FpAdcmMz"
      }
    },
    {
      "cell_type": "code",
      "source": [
        "import pandas as pd\n",
        "import numpy as np\n",
        "\n",
        "# 示例數據\n",
        "data = {\n",
        "    'col1': ['A', 'A', 'A', 'B', 'B', 'B', 'C', 'C', 'C'],\n",
        "    'col2': ['X', 'X', 'Y', 'Y', 'Y', 'Z', 'Z', 'Z', 'Z'],\n",
        "    'col3': [1, 2, 3, 1, 2, 3, 1, 2, 3],\n",
        "    'col4': [10, 12, 14, 10, 11, 13, 9, 10, 15]\n",
        "}\n",
        "df = pd.DataFrame(data)\n",
        "\n",
        "# 指定要提取的 col3 值\n",
        "specified_col3_values = [1, 3]\n",
        "\n",
        "# 用於存儲結果的列表\n",
        "result_list = []\n",
        "\n",
        "# 用於存儲每個群體的統計信息\n",
        "group_stats = []\n",
        "\n",
        "# 對 col1 和 col2 分群，並在循環內計算相對誤差比率和提取值\n",
        "for idx, (name, group) in enumerate(df.groupby(['col1', 'col2']), start=1):\n",
        "    # 計算中位數\n",
        "    median_col4 = group['col4'].median()\n",
        "    # 計算相對誤差比率\n",
        "    group['v'] = np.abs(group['col4'] - median_col4) / median_col4\n",
        "    # 提取指定的 col3 值對應的 v 值\n",
        "    filtered_group = group[group['col3'].isin(specified_col3_values)]\n",
        "    # 添加 rank1\n",
        "    filtered_group['rank1'] = idx\n",
        "    # 添加群體的中位數\n",
        "    filtered_group['median'] = median_col4\n",
        "    # 計算群體的 v 的統計信息\n",
        "    mean_v = group['v'].mean()\n",
        "    max_v = group['v'].max()\n",
        "    group_stats.append((name, mean_v, max_v))\n",
        "    # 將結果 append 到列表中\n",
        "    result_list.append(filtered_group)\n",
        "\n",
        "# 將結果拼接成一個新的 DataFrame\n",
        "result_df = pd.concat(result_list, ignore_index=True)\n",
        "\n",
        "# 將群體的統計信息轉換成 DataFrame\n",
        "stats_df = pd.DataFrame(group_stats, columns=['group', 'mean_v', 'max_v'])\n",
        "\n",
        "# 計算 rank2 和 rank3\n",
        "stats_df['rank2'] = stats_df['mean_v'].rank(method='dense', ascending=False).astype(int)\n",
        "stats_df['rank3'] = stats_df['max_v'].rank(method='dense', ascending=False).astype(int)\n",
        "\n",
        "# 合併 rank2 和 rank3 到結果 DataFrame\n",
        "result_df = result_df.merge(stats_df[['group', 'rank2', 'rank3']], left_on='rank1', right_index=True, how='left')\n",
        "\n",
        "# 打印結果\n",
        "print(result_df)\n"
      ],
      "metadata": {
        "id": "lMlN5bq7cskL"
      },
      "execution_count": null,
      "outputs": []
    },
    {
      "cell_type": "markdown",
      "source": [
        "### 1-2. 再計算偏差的時候，會出現一種狀況，就是**col4有些值是''**，那麼我想要忽略這些去做，該如何做"
      ],
      "metadata": {
        "id": "jxaLkuiZdPSa"
      }
    },
    {
      "cell_type": "markdown",
      "source": [
        "Ans: 計算之前將這些值過濾掉。"
      ],
      "metadata": {
        "id": "8NKRLIT6dV0K"
      }
    },
    {
      "cell_type": "markdown",
      "source": [
        "具體步驟：\n",
        "1. 將空字符串轉換為 NaN：使用 pd.to_numeric 方法將 col4 中的空字符串轉換為 NaN。\n",
        "2. 對 col1 和 col2 分群並計算 v 值。\n",
        "3. 在每個群體內計算 v 的平均值和最大值。\n",
        "4. 提取每個群體中指定的 col3 值的有效數據並計算 v 值。\n",
        "5. 將結果拼接成一個新的 DataFrame。"
      ],
      "metadata": {
        "id": "fBsAjfZJewnr"
      }
    },
    {
      "cell_type": "code",
      "source": [
        "import pandas as pd\n",
        "import numpy as np\n",
        "\n",
        "# 示例數據，包含空字符串值\n",
        "data = {\n",
        "    'col1': ['A', 'A', 'A', 'B', 'B', 'B', 'C', 'C', 'C'],\n",
        "    'col2': ['X', 'X', 'Y', 'Y', 'Y', 'Z', 'Z', 'Z', 'Z'],\n",
        "    'col3': [1, 2, 3, 1, 2, 3, 1, 2, 3],\n",
        "    'col4': [10, 12, '', 10, 11, 13, 9, '', 15]\n",
        "}\n",
        "df = pd.DataFrame(data)\n",
        "\n",
        "# 將空字符串轉換為NaN\n",
        "df['col4'] = pd.to_numeric(df['col4'], errors='coerce')\n",
        "\n",
        "# 指定要提取的 col3 值\n",
        "specified_col3_values = [1, 3]\n",
        "\n",
        "# 用於存儲結果的列表\n",
        "result_list = []\n",
        "\n",
        "# 用於存儲每個群體的統計信息\n",
        "group_stats = []\n",
        "\n",
        "# 對 col1 和 col2 分群，並在循環內計算相對誤差比率和提取值\n",
        "for idx, (name, group) in enumerate(df.groupby(['col1', 'col2']), start=1):\n",
        "    # 去掉 col4 中的 NaN 值\n",
        "    valid_group = group.dropna(subset=['col4'])\n",
        "\n",
        "    # 計算中位數\n",
        "    median_col4 = valid_group['col4'].median()\n",
        "\n",
        "    # 計算相對誤差比率\n",
        "    valid_group['v'] = np.abs(valid_group['col4'] - median_col4) / median_col4\n",
        "\n",
        "    # 提取指定的 col3 值對應的 v 值，且 col4 必須不是 NaN\n",
        "    filtered_group = valid_group[valid_group['col3'].isin(specified_col3_values)]\n",
        "\n",
        "    # 添加 rank1\n",
        "    filtered_group['rank1'] = idx\n",
        "    # 添加群體的中位數\n",
        "    filtered_group['median'] = median_col4\n",
        "\n",
        "    # 計算群體的 v 的統計信息\n",
        "    mean_v = valid_group['v'].mean()\n",
        "    max_v = valid_group['v'].max()\n",
        "    group_stats.append((name, mean_v, max_v))\n",
        "\n",
        "    # 將結果 append 到列表中\n",
        "    result_list.append(filtered_group)\n",
        "\n",
        "# 將結果拼接成一個新的 DataFrame\n",
        "result_df = pd.concat(result_list, ignore_index=True)\n",
        "\n",
        "# 將群體的統計信息轉換成 DataFrame\n",
        "stats_df = pd.DataFrame(group_stats, columns=['group', 'mean_v', 'max_v'])\n",
        "\n",
        "# 計算 rank2 和 rank3\n",
        "stats_df['rank2'] = stats_df['mean_v'].rank(method='dense', ascending=False).astype(int)\n",
        "stats_df['rank3'] = stats_df['max_v'].rank(method='dense', ascending=False).astype(int)\n",
        "\n",
        "# 合併 rank2 和 rank3 到結果 DataFrame\n",
        "result_df = result_df.merge(stats_df[['group', 'rank2', 'rank3']], left_on='rank1', right_index=True, how='left')\n",
        "\n",
        "# 打印結果\n",
        "print(result_df)\n"
      ],
      "metadata": {
        "id": "nKR4CjUDdTi2"
      },
      "execution_count": null,
      "outputs": []
    },
    {
      "cell_type": "code",
      "source": [
        "    col1  col2    col3  col4    v     rank1    rank2   rank3\n",
        "0    A    X     1  10.0  0.166667      1      2      2\n",
        "1    A    X     3  12.0  0.000000      1      2      2\n",
        "2    B    Y     1  10.0  0.095238      2      3      3\n",
        "3    B    Y     3  13.0  0.142857      2      3      3\n",
        "4    C    Z     1   9.0  0.333333      3      1      1\n",
        "5    C    Z     3  15.0  0.666667      3      1      1\n"
      ],
      "metadata": {
        "id": "ZTfUcK5nfc27"
      },
      "execution_count": null,
      "outputs": []
    },
    {
      "cell_type": "markdown",
      "source": [
        "* **對result_df根據rank1 提取相對應的col1,col2值**"
      ],
      "metadata": {
        "id": "hQ-p6nJLfaEO"
      }
    },
    {
      "cell_type": "code",
      "source": [
        "result_df = pd.DataFrame(data)\n",
        "\n",
        "# 提取相對應的col1, col2值\n",
        "unique_rank1 = result_df['rank1'].unique()\n",
        "\n",
        "for rank in unique_rank1:\n",
        "    subset = result_df[result_df['rank1'] == rank]\n",
        "    col1_value = subset['col1'].iloc[0]\n",
        "    col2_value = subset['col2'].iloc[0]\n",
        "    print(f\"Rank1: {rank}, col1: {col1_value}, col2: {col2_value}\")"
      ],
      "metadata": {
        "id": "uuwxp1wlgkhG"
      },
      "execution_count": null,
      "outputs": []
    }
  ]
}