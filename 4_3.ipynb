{
  "nbformat": 4,
  "nbformat_minor": 0,
  "metadata": {
    "colab": {
      "provenance": [],
      "authorship_tag": "ABX9TyM4SD581M89IjalUqRox9oO",
      "include_colab_link": true
    },
    "kernelspec": {
      "name": "python3",
      "display_name": "Python 3"
    },
    "language_info": {
      "name": "python"
    }
  },
  "cells": [
    {
      "cell_type": "markdown",
      "metadata": {
        "id": "view-in-github",
        "colab_type": "text"
      },
      "source": [
        "<a href=\"https://colab.research.google.com/github/Annie00000/Project/blob/main/4_3.ipynb\" target=\"_parent\"><img src=\"https://colab.research.google.com/assets/colab-badge.svg\" alt=\"Open In Colab\"/></a>"
      ]
    },
    {
      "cell_type": "markdown",
      "source": [
        "## 1. collection 添加release lock機制"
      ],
      "metadata": {
        "id": "M8y2Zd_yR7dQ"
      }
    },
    {
      "cell_type": "code",
      "source": [
        "def release_lock():\n",
        "    \"\"\"释放锁\"\"\"\n",
        "    try:\n",
        "        if os.path.exists(LOCK_FILE):\n",
        "            os.remove(LOCK_FILE)\n",
        "    except:\n",
        "        print(\"Failed to release lock:\", str(e))"
      ],
      "metadata": {
        "id": "gupvTk37SATu"
      },
      "execution_count": null,
      "outputs": []
    },
    {
      "cell_type": "code",
      "source": [
        "if __name__ == \"__main__\":\n",
        "    # 假设每个服务器有一个唯一的ID，可以根据需要自行获取\n",
        "    server_id = \"Server1\"  # 你需要替换为服务器的实际标识\n",
        "\n",
        "    # 尝试获取锁并执行 collection.py\n",
        "    acquire_lock(server_id)\n",
        "    try:\n",
        "        pool = Pool(processes=3)\n",
        "        for i, mode in enumerate(['today', 'recent', 'past']):\n",
        "            pool.apply_async(collection, args=(mode,))\n",
        "        pool.close()\n",
        "        pool.join()\n",
        "    finally:\n",
        "        release_lock(server_id)\n"
      ],
      "metadata": {
        "id": "fKNDjGJJSqbt"
      },
      "execution_count": null,
      "outputs": []
    }
  ]
}