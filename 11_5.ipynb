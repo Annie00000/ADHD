{
  "nbformat": 4,
  "nbformat_minor": 0,
  "metadata": {
    "colab": {
      "provenance": [],
      "authorship_tag": "ABX9TyPw3frtpdyxxzlUoA/0RZk/",
      "include_colab_link": true
    },
    "kernelspec": {
      "name": "python3",
      "display_name": "Python 3"
    },
    "language_info": {
      "name": "python"
    }
  },
  "cells": [
    {
      "cell_type": "markdown",
      "metadata": {
        "id": "view-in-github",
        "colab_type": "text"
      },
      "source": [
        "<a href=\"https://colab.research.google.com/github/Annie00000/Project/blob/main/11_5.ipynb\" target=\"_parent\"><img src=\"https://colab.research.google.com/assets/colab-badge.svg\" alt=\"Open In Colab\"/></a>"
      ]
    },
    {
      "cell_type": "markdown",
      "source": [
        "## 1. 記憶體管理"
      ],
      "metadata": {
        "id": "nsuoSJc7Sg1F"
      }
    },
    {
      "cell_type": "code",
      "source": [
        "#####  1.  ######\n",
        "# 每一次循環中，重新load一筆資料並一樣命名為df，Python 會在新資料賦值給 df 時，自動釋放舊資料的引用\n",
        "\n",
        "#####  2.  ######\n",
        "import pandas as pd\n",
        "import gc\n",
        "\n",
        "# 儲存每批處理結果的列表\n",
        "result_list = []\n",
        "\n",
        "for i in range(20):  # 假設有20次，每次100萬筆資料\n",
        "    # 載入一筆100萬的資料\n",
        "    df = pd.read_csv(f'path_to_data_file_{i}.csv')\n",
        "\n",
        "    # 進行一些計算，得到 result_df\n",
        "    result_df = some_processing_function(df)\n",
        "\n",
        "    # 將結果儲存到結果列表中\n",
        "    result_list.append(result_df)\n",
        "\n",
        "    # 刪除已處理的資料並清理內存\n",
        "    del df  # 刪除變數 df 的引用。Python的垃圾回收機制會自動釋放不再使用的變數所佔的記憶體空間，del指令可加快這過程。\n",
        "    gc.collect()\n",
        "    # 手動觸發Python的垃圾回收器，即使有的物件仍在等待被釋放，使用gc.collect()也能強制清理內存。這在處理大量資料時特別有效。\n",
        "    print(f\"Processed batch {i+1} and cleared memory.\")\n",
        "\n",
        "# 合併所有結果\n",
        "final_result = pd.concat(result_list, ignore_index=True)\n",
        "print(\"All batches processed and concatenated.\")\n"
      ],
      "metadata": {
        "id": "L0cIwnlKSi0c"
      },
      "execution_count": null,
      "outputs": []
    },
    {
      "cell_type": "markdown",
      "source": [
        "## 2. 兩個 df merge，NA部分改填0"
      ],
      "metadata": {
        "id": "_iCEbV2pTCHI"
      }
    },
    {
      "cell_type": "code",
      "source": [
        "# 使用 'key' 欄位進行合併\n",
        "merged_df = pd.merge(df1, df2, on='key', how='outer')\n",
        "\n",
        "# 將空值填充為 0\n",
        "merged_df = merged_df.fillna(0)"
      ],
      "metadata": {
        "id": "_AaxPmp0Vlem"
      },
      "execution_count": null,
      "outputs": []
    },
    {
      "cell_type": "markdown",
      "source": [
        "## 3. merge兩個df，並取min(release_time)"
      ],
      "metadata": {
        "id": "JeZJgin8a1jF"
      }
    },
    {
      "cell_type": "code",
      "source": [
        "import pandas as pd\n",
        "\n",
        "# 範例資料\n",
        "df1 = pd.DataFrame({\n",
        "    'col1': [1, 2, 3],\n",
        "    'col2': ['A', 'B', 'C'],\n",
        "    'col3': ['X', 'Y', 'Z'],\n",
        "    'col4': [10, 20, 30],\n",
        "    'col5': [100, 200, 300],\n",
        "    'col6': [1000, 2000, 3000],\n",
        "    'rule_1': [5, 15, 25]\n",
        "})\n",
        "\n",
        "df2 = pd.DataFrame({\n",
        "    'col1': [1, 2, 4],\n",
        "    'col2': ['A', 'B', 'D'],\n",
        "    'col3': ['X', 'Y', 'W'],\n",
        "    'col4': [8, 25, 35],\n",
        "    'col5': [110, 210, 310],\n",
        "    'col6': [1100, 2100, 3100],\n",
        "    'rule_2': [7, 17, 27]\n",
        "})\n",
        "\n",
        "# 欄位列表\n",
        "lst = ['col1', 'col2', 'col3']\n",
        "# 使用 lst 來選取需要的欄位進行合併\n",
        "combined_df = pd.merge(\n",
        "    df1[lst + ['col4', 'rule1']],\n",
        "    df2[lst + ['col4', 'rule2']],\n",
        "    on=lst,\n",
        "    how='outer',\n",
        "    indicator=True\n",
        ")\n",
        "\n",
        "\n",
        "# 對於 _merge 為 'both' 的行，選取 col4 的最小值 --------------------------\n",
        "## way 1:\n",
        "merged_df['col4'] = merged_df.apply(\n",
        "    lambda row: min(row['col4_x'], row['col4_y']) if row['_merge'] == 'both' else (row['col4_x'] if pd.notna(row['col4_x']) else row['col4_y']),\n",
        "    axis=1\n",
        ")\n",
        "# way 2:\n",
        "combined_df['col4'] = combined_df[['col4_x', 'col4_y']].min(axis=1)\n",
        "# 在合併後的 DataFrame 中，取 col4 最小的行\n",
        "final_df = combined_df.loc[combined_df.groupby(['col1', 'col2', 'col3'])['min_col4'].idxmin()]\n",
        "# 僅保留指定的欄位\n",
        "final_df = final_df[['col1', 'col2', 'col3', 'col4', 'rule_1', 'rule_2']]\n",
        "\n",
        "\n",
        "\n",
        "\n",
        "# 只保留需要的欄位，並填充 rule_1 和 rule_2 的 NaN 值為 0\n",
        "combined_df = merged_df[['col1', 'col2', 'col3', 'col4', 'rule_1', 'rule_2']].fillna({'rule_1': 0, 'rule_2': 0})\n",
        "\n",
        "# 查看結果\n",
        "print(combined_df)\n"
      ],
      "metadata": {
        "id": "unKLoGv6a5yc"
      },
      "execution_count": null,
      "outputs": []
    },
    {
      "cell_type": "markdown",
      "source": [
        "## 4. rule check"
      ],
      "metadata": {
        "id": "s8-zcTicirtH"
      }
    },
    {
      "cell_type": "code",
      "source": [
        "re1 = []\n",
        "re2 = []\n",
        "re3 = []\n",
        "\n",
        "for group, sub_data in df.groupby('chart_name'):\n",
        "  # 取每個lot下面 time最小的那筆資訊\n",
        "  data = sub_data.sort_values(['lot', 'time']).drop_duplicates('lot')\n",
        "  # rule 計算\n",
        "  trigger1 = rule1(data, n=2)\n",
        "  trigger2 = rule2(data, n=4)\n",
        "  trigger3 = rule3(data)\n",
        "  # record\n",
        "  re1.append(trigger1)\n",
        "  re2.append(trigger2)\n",
        "  re3.append(trigger3)\n",
        "\n",
        "#\n",
        "re1_raw = pd.concat(re1)\n",
        "re1_raw['rule1'] = '1'\n",
        "re2_raw = pd.concat(re1)\n",
        "re2_raw['rule_ooc'] = '1'\n",
        "re3_raw = pd.concat(re1)\n",
        "re3_raw['rule_trend'] = '1'\n",
        "\n",
        "\n",
        "# 同 col1,col2,lot下，不同param只保留一筆\n",
        "re1_df = re1_raw.drop_duplicates(subset=['col1','col2', 'lot']).reset_index(drop=True)\n",
        "re2_df = re2_raw.drop_duplicates(subset=['col1','col2', 'lot']).reset_index(drop=True)\n",
        "re3_df = re3_raw.drop_duplicates(subset=['col1','col2', 'lot']).reset_index(drop=True)\n",
        "\n",
        "\n",
        "# merge re1_df/re2_df/re3_df 結果，以col1,col2,lot做merge(how='outer'),並且只留下time數值最小的那筆"
      ],
      "metadata": {
        "id": "zbAluCmle6s4"
      },
      "execution_count": null,
      "outputs": []
    },
    {
      "cell_type": "markdown",
      "source": [
        "* 上面的精鍊版本"
      ],
      "metadata": {
        "id": "I6Knlk1WkVPw"
      }
    },
    {
      "cell_type": "code",
      "source": [
        "import pandas as pd\n",
        "\n",
        "# 儲存結果的空列表\n",
        "results = {\n",
        "    're1': [],\n",
        "    're2': [],\n",
        "    're3': []\n",
        "}\n",
        "\n",
        "# 使用 groupby 並針對每個 chart_name 計算 rule\n",
        "for group, sub_data in df.groupby('chart_name'):\n",
        "    # 取每個 lot 下 time 最小的資料\n",
        "    data = sub_data.sort_values(['lot', 'time']).drop_duplicates('lot')\n",
        "\n",
        "    # 計算規則並儲存\n",
        "    results['re1'].append(rule1(data, n=2))\n",
        "    results['re2'].append(rule2(data, n=4))\n",
        "    results['re3'].append(rule3(data))\n",
        "\n",
        "# 合併結果\n",
        "re1_df_raw = pd.concat(results['re1'], ignore_index=True)\n",
        "re2_df_raw = pd.concat(results['re2'])\n",
        "re3_df_raw = pd.concat(results['re3'])\n",
        "\n",
        "\n",
        "# merge所有"
      ],
      "metadata": {
        "id": "H6QcnnVSkU1o"
      },
      "execution_count": null,
      "outputs": []
    }
  ]
}