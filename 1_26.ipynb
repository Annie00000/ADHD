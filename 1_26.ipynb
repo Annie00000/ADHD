{
  "nbformat": 4,
  "nbformat_minor": 0,
  "metadata": {
    "colab": {
      "provenance": [],
      "authorship_tag": "ABX9TyO9cGem+IiYkxzWm6SPAO3I",
      "include_colab_link": true
    },
    "kernelspec": {
      "name": "python3",
      "display_name": "Python 3"
    },
    "language_info": {
      "name": "python"
    }
  },
  "cells": [
    {
      "cell_type": "markdown",
      "metadata": {
        "id": "view-in-github",
        "colab_type": "text"
      },
      "source": [
        "<a href=\"https://colab.research.google.com/github/Annie00000/Project/blob/main/1_26.ipynb\" target=\"_parent\"><img src=\"https://colab.research.google.com/assets/colab-badge.svg\" alt=\"Open In Colab\"/></a>"
      ]
    },
    {
      "cell_type": "markdown",
      "source": [
        "### 1.以當下日期為current time，抓取近2周/1月的時間列表 (含今天)"
      ],
      "metadata": {
        "id": "vqwUz2xDBRF4"
      }
    },
    {
      "cell_type": "code",
      "execution_count": null,
      "metadata": {
        "id": "OWqlvPUJBKpo"
      },
      "outputs": [],
      "source": [
        "from datetime import datetime, timedelta\n",
        "\n",
        "def get_date_list(days):\n",
        "    # 獲取當前日期\n",
        "    current_date = datetime.datetime.now()\n",
        "    # 創建日期列表\n",
        "    date_list = [(current_date - datetime.timedelta(days=x)).strftime('%Y-%m-%d') for x in range(days)]\n",
        "\n",
        "    return date_list\n",
        "\n",
        "\n",
        "# 獲取近兩週的日期列表\n",
        "last_two_weeks = get_date_list(14)\n",
        "print(\"近兩週的日期：\", last_two_weeks)\n",
        "\n",
        "# 獲取近一個月的日期列表\n",
        "# 假設一個月為30天\n",
        "last_month = get_date_list(30)\n",
        "print(\"近一個月的日期：\", last_month)"
      ]
    },
    {
      "cell_type": "markdown",
      "source": [
        "### 2.如果我想要一個代碼可以根據所填數字d，抓取近d天內時間列表（不含今日）,以及當天的列表（d=0)"
      ],
      "metadata": {
        "id": "DFlvKKa_GxSP"
      }
    },
    {
      "cell_type": "code",
      "source": [
        "from datetime import datetime, timedelta\n",
        "\n",
        "def get_dates(days):\n",
        "    current_date = datetime.now()\n",
        "    dates = []\n",
        "\n",
        "    if days == 0:\n",
        "        # 只包含當天的日期\n",
        "        dates.append(current_date.strftime('%Y-%m-%d'))\n",
        "    else:\n",
        "        # 包含從昨天開始的過去 days 天\n",
        "        dates = [(current_date - timedelta(days=x)).strftime('%Y-%m-%d') for x in range(1, days + 1)]\n",
        "\n",
        "    return dates\n",
        "\n",
        "# 示例使用\n",
        "print(\"僅今天: \", get_dates(0))\n",
        "print(\"過去3天（不含今天）: \", get_dates(3))"
      ],
      "metadata": {
        "id": "LXT1Nv0PHABl"
      },
      "execution_count": null,
      "outputs": []
    },
    {
      "cell_type": "markdown",
      "source": [
        "### 3.創建一個函數來區分不同的時間段，如“當天”、“昨天”、“過去14天（不含今天）”和“過去一個月（有兩個版本：一個不含今天和昨天，另一個不含過去14天）”，"
      ],
      "metadata": {
        "id": "XnIz3vnNBYpo"
      }
    },
    {
      "cell_type": "code",
      "source": [
        "from datetime import datetime, timedelta\n",
        "\n",
        "def get_dates(option):\n",
        "    current_date = datetime.now()\n",
        "    dates = []\n",
        "\n",
        "    if option == 'today':\n",
        "        dates.append(current_date.strftime('%Y-%m-%d'))\n",
        "\n",
        "    elif option == 'yesterday':\n",
        "        yesterday = current_date - timedelta(days=1)\n",
        "        dates.append(yesterday.strftime('%Y-%m-%d'))\n",
        "\n",
        "    elif option == 'last_14_days':\n",
        "        dates = [(current_date - timedelta(days=x)).strftime('%Y-%m-%d') for x in range(1, 15)]\n",
        "\n",
        "    elif option == 'last_month_exclude_today_yesterday':\n",
        "        dates = [(current_date - timedelta(days=x)).strftime('%Y-%m-%d') for x in range(2, 31)]\n",
        "\n",
        "    elif option == 'last_month_exclude_last_14_days':\n",
        "        dates = [(current_date - timedelta(days=x)).strftime('%Y-%m-%d') for x in range(15, 31)]\n",
        "\n",
        "    return dates\n",
        "\n",
        "# 使用示例\n",
        "print(\"當天: \", get_dates('today'))\n",
        "print(\"昨天: \", get_dates('yesterday'))\n",
        "print(\"過去14天（不含今天）: \", get_dates('last_14_days'))\n",
        "print(\"過去一個月（不含今天和昨天）: \", get_dates('last_month_exclude_today_yesterday'))\n",
        "print(\"過去一個月（不含過去14天）: \", get_dates('last_month_exclude_last_14_days'))"
      ],
      "metadata": {
        "id": "mJI5aPycGw2O"
      },
      "execution_count": null,
      "outputs": []
    },
    {
      "cell_type": "markdown",
      "source": [
        "### 4.創建一個函數，根據您的要求區分出不同的時間段，如“當天”、“過去14天（不含今天）”以及“過去一個月（不包含過去14天內的日期(含今天)）”"
      ],
      "metadata": {
        "id": "EyDtDInMIoqb"
      }
    },
    {
      "cell_type": "code",
      "source": [
        "from datetime import datetime, timedelta\n",
        "\n",
        "def get_dates(option):\n",
        "    current_date = datetime.now()\n",
        "    dates = []\n",
        "\n",
        "    if option == 1:  # 當天\n",
        "        dates.append(current_date.strftime('%Y-%m-%d'))\n",
        "\n",
        "    elif option == 2:  # 過去14天（不含今天）\n",
        "        dates = [(current_date - timedelta(days=x)).strftime('%Y-%m-%d') for x in range(1, 15)]\n",
        "\n",
        "    elif option == 3:  # 過去一個月（不含過去14天和今天）\n",
        "        dates = [(current_date - timedelta(days=x)).strftime('%Y-%m-%d') for x in range(15, 31)]\n",
        "\n",
        "    return dates\n",
        "\n",
        "# 使用示例\n",
        "print(\"當天: \", get_dates(1))\n",
        "print(\"過去14天（不含今天）: \", get_dates(2))\n",
        "print(\"過去一個月（不含過去14天和今天）: \", get_dates(3))"
      ],
      "metadata": {
        "id": "f_rBVCL5IoRP"
      },
      "execution_count": null,
      "outputs": []
    },
    {
      "cell_type": "markdown",
      "source": [
        "#### 4.1我想將上面這個函式的三個情況寫成multiprocess的，且確保三個進程能同時進行時不互相干擾"
      ],
      "metadata": {
        "id": "F2yjkhHtKg9h"
      }
    },
    {
      "cell_type": "code",
      "source": [
        "from datetime import datetime, timedelta\n",
        "from multiprocessing import Process\n",
        "\n",
        "def get_dates(option):\n",
        "    current_date = datetime.now()\n",
        "    dates = []\n",
        "\n",
        "    if option == 1:  # 當天\n",
        "        dates.append(current_date.strftime('%Y-%m-%d'))\n",
        "\n",
        "    elif option == 2:  # 過去14天（不含今天）\n",
        "        dates = [(current_date - timedelta(days=x)).strftime('%Y-%m-%d') for x in range(1, 15)]\n",
        "\n",
        "    elif option == 3:  # 過去一個月（不含過去14天和今天）\n",
        "        dates = [(current_date - timedelta(days=x)).strftime('%Y-%m-%d') for x in range(15, 31)]\n",
        "\n",
        "    print(f\"Option {option}: {dates}\")\n",
        "\n",
        "# 創建並啟動多進程\n",
        "if __name__ == \"__main__\": # 當 Python 文件被直接運行時，才會直接執行此區域code\n",
        "    processes = []\n",
        "\n",
        "    for i in range(1, 4):\n",
        "        p = Process(target=get_dates, args=(i,)) # 使用 Process 來創建三個不同的進程\n",
        "        processes.append(p)\n",
        "        p.start() # 啟動來執行相應的任務\n",
        "\n",
        "    for p in processes:\n",
        "        p.join() # 確保主程序等待所有進程完成。\n"
      ],
      "metadata": {
        "id": "IsM7MvSGKnr3"
      },
      "execution_count": null,
      "outputs": []
    },
    {
      "cell_type": "markdown",
      "source": [
        "簡而言之：\n",
        "\n",
        "1. 如果文件是被直接運行的，則執行 if __name__ == \"__main__\": 下的代碼。\n",
        "\n",
        "2. 如果文件是作為模塊被導入的，則不執行 if __name__ == \"__main__\": 下的代碼。\n",
        "\n",
        "這樣做的好處是可以在同一文件中既有可以導出為模塊的代碼，又有作為獨立腳本運行時的特定代碼（例如測試代碼或主程序代碼）。"
      ],
      "metadata": {
        "id": "mDOoEY__OMhq"
      }
    }
  ]
}