{
  "nbformat": 4,
  "nbformat_minor": 0,
  "metadata": {
    "colab": {
      "provenance": [],
      "authorship_tag": "ABX9TyMh09EJ8M9to48w9juvStai",
      "include_colab_link": true
    },
    "kernelspec": {
      "name": "python3",
      "display_name": "Python 3"
    },
    "language_info": {
      "name": "python"
    }
  },
  "cells": [
    {
      "cell_type": "markdown",
      "metadata": {
        "id": "view-in-github",
        "colab_type": "text"
      },
      "source": [
        "<a href=\"https://colab.research.google.com/github/Annie00000/Project/blob/main/5/31.ipynb\" target=\"_parent\"><img src=\"https://colab.research.google.com/assets/colab-badge.svg\" alt=\"Open In Colab\"/></a>"
      ]
    },
    {
      "cell_type": "code",
      "source": [
        "# 可改 width: auto;\n",
        "style = '''\n",
        "<style>\n",
        "    table {\n",
        "        border-collapse: collapse;\n",
        "        width: 100%;\n",
        "        /* width: auto; */\n",
        "        font-family:  Calibri, Arial, sans-serif;\n",
        "    }\n",
        "    th, td {\n",
        "        border: 1px solid #dddddd;\n",
        "        text-align: left;\n",
        "        padding: 8px;\n",
        "        /* padding: 8px 12px;   添加水平和垂直內邊距 */\n",
        "    }\n",
        "    th {\n",
        "        font-weight: bold;\n",
        "    }\n",
        "    p {\n",
        "        font-family:  Calibri, Arial, sans-serif;\n",
        "        font-size: 16px;\n",
        "        font-weight: bold;\n",
        "    }\n",
        "</style>\n",
        "'''"
      ],
      "metadata": {
        "id": "xmpMWmlhRIy3"
      },
      "execution_count": null,
      "outputs": []
    },
    {
      "cell_type": "markdown",
      "source": [
        "* border-collapse: collapse:\n",
        "  - 這個屬性指定表格的邊框是否應該被合併成一個單一的邊框。\n",
        "  - 當設置為 collapse 時，相鄰的邊框會合併成一個邊框，這樣可以減少重疊的邊框，使表格看起來更加整齊。\n",
        "  - 例如，如果你有兩個相鄰的單元格，通常每個單元格都有自己的邊框。當邊框合併時，這兩個邊框會合併成一條邊框。\n",
        "\n",
        "* width: 100%;:\n",
        "  - 這個屬性設置表格的寬度佔據其父容器的100%。\n",
        "  - 這意味著表格會自動調整寬度以適應其父容器的寬度，無論父容器有多寬，表格都會填滿整個寬度。\n",
        "  - 這可以確保表格在各種不同的顯示設備和視窗大小中都能自適應寬度。\n",
        "\n",
        "* font-family:  Calibri, Arial, sans-serif;\n",
        "  - 指定字體，優先使用 Calibri 字體，如果系統中沒有 Calibri 字體，則使用 Arial 字體，否則使用 sans-serif 字體。\n",
        "  - sans-serif: 系統默認的無襯線字體。\n",
        "\n",
        "* border: 1px solid #dddddd;：\n",
        "  - border 屬性用來設置元素的邊框。\n",
        "  - 1px 指定邊框的寬度為1像素。\n",
        "  - solid 指定邊框的樣式為實線。\n",
        "  - #dddddd 指定邊框的顏色為淺灰色（十六進制顏色值）。\n",
        "* text-align: left;：\n",
        "  - text-align 屬性用來設置元素中文本的水平對齊方式。\n",
        "  - left 指定文本在元素中左對齊。\n",
        "* padding: 8px;：\n",
        "  - padding 屬性用來設置元素內部的填充（內邊距）。\n",
        "  - 8px 指定填充的大小為8像素，這會在元素的內容和邊框之間添加8像素的空間。"
      ],
      "metadata": {
        "id": "bq6k7t8KRyzC"
      }
    }
  ]
}