{
  "nbformat": 4,
  "nbformat_minor": 0,
  "metadata": {
    "colab": {
      "provenance": [],
      "authorship_tag": "ABX9TyMfHnxodSB0QtW+TopXEG1l",
      "include_colab_link": true
    },
    "kernelspec": {
      "name": "python3",
      "display_name": "Python 3"
    },
    "language_info": {
      "name": "python"
    }
  },
  "cells": [
    {
      "cell_type": "markdown",
      "metadata": {
        "id": "view-in-github",
        "colab_type": "text"
      },
      "source": [
        "<a href=\"https://colab.research.google.com/github/Annie00000/Project/blob/main/10_15.ipynb\" target=\"_parent\"><img src=\"https://colab.research.google.com/assets/colab-badge.svg\" alt=\"Open In Colab\"/></a>"
      ]
    },
    {
      "cell_type": "markdown",
      "source": [
        "## Check ENG"
      ],
      "metadata": {
        "id": "p65n9cme1qRF"
      }
    },
    {
      "cell_type": "code",
      "source": [
        "col_dict = {\n",
        "    'site_value': 'col6',\n",
        "    'lcl': 'col7',\n",
        "    'ucl': 'col8',\n",
        "    'group_lst': \"['col3', 'col4']\", # 'col3'\n",
        "}\n",
        "def check_ENG(df, col_dict):\n",
        "  df[['site_value', 'lcl', 'ucl']] = df[['site_value', 'lcl', 'ucl']].astype(float)\n",
        "  # Step 1: 新增 'Site_fail' 欄位\n",
        "  df['Site_fail'] = df.apply(lambda row: 0 if row['col7'] < row['col6'] < row['col8'] else 1, axis=1)\n",
        "\n",
        "  # Step 2: 以 col3 和 col4 為分群條件(PRODWFR_ID)，計算 'Site_fail' 的比例\n",
        "  eng_rate = df.groupby(['col3', 'col4'])['Site_fail'].apply(lambda x: (1 - x).mean()).reset_index()\n",
        "  eng_rate = eng_rate.rename(columns={'Site_fail': 'ENG_Rate'})\n",
        "\n",
        "  # Step 3: 使用 left join 將 'ENG_Rate' 合併回原始資料\n",
        "  df = df.merge(eng_rate, on=['col3', 'col4'], how='left')\n",
        "\n",
        "  # Step 4: 根據 'ENG_Rate' 與 'col5' 的比較新增 'ENG_fail' 欄位\n",
        "  df['ENG_fail'] = df.apply(lambda row: 0 if row['ENG_Rate'] > row['col5'] else 1, axis=1)\n",
        "\n",
        "  return df"
      ],
      "metadata": {
        "id": "vxmAh2ZU1-88"
      },
      "execution_count": null,
      "outputs": []
    },
    {
      "cell_type": "markdown",
      "source": [
        "## ENG rule"
      ],
      "metadata": {
        "id": "uledJiGjhtgl"
      }
    },
    {
      "cell_type": "code",
      "source": [
        "def check_rule_ENG(df, col_dict):\n",
        "  result_df = check_ENG(df, col_dict)\n",
        "  result_df = result_df[result_df['ENG_fail']==1] # df[(df['ENG_fail']==1)&(df['Site_fail']==1)]\n",
        "\n",
        "  return result_df\n"
      ],
      "metadata": {
        "id": "ApIRe0_p3wzI"
      },
      "execution_count": null,
      "outputs": []
    },
    {
      "cell_type": "code",
      "source": [
        "# Step 1: 新增 'Site_fail' 欄位\n",
        "df['Site_fail'] = df.apply(lambda row: 0 if row['col7'] < row['col6'] < row['col8'] else 1, axis=1)\n",
        "\n",
        "# Step 2: 以 col3 和 col4 為分群條件，計算 'Site_fail' 的比例\n",
        "eng_rate = df.groupby(['col3', 'col4'])['Site_fail'].apply(lambda x: (1 - x).mean()).reset_index()\n",
        "eng_rate = eng_rate.rename(columns={'Site_fail': 'ENG_Rate'})\n",
        "\n",
        "# Step 3: 使用 left join 將 'ENG_Rate' 合併回原始資料\n",
        "df = df.merge(eng_rate, on=['col3', 'col4'], how='left')\n",
        "\n",
        "# Step 4: 根據 'ENG_Rate' 與 'col5' 的比較新增 'ENG_fail' 欄位\n",
        "df['ENG_fail'] = df.apply(lambda row: 0 if row['ENG_Rate'] > row['col5'] else 1, axis=1)\n",
        "\n",
        "# Step 5: 回傳資料 (先篩選出 ENG_fail = 1的)\n",
        "df = df[df['ENG_fail']==1] # 回傳該lot下 fail 的 wafer_id (含所有site資料)\n",
        "df = df[(df['ENG_fail']==1)&(df['Site_fail']==1)] # 回傳該lot下 fail 的 wafer_id 下 site_fail=1的部分\n"
      ],
      "metadata": {
        "id": "tph8qLZeht0X"
      },
      "execution_count": null,
      "outputs": []
    },
    {
      "cell_type": "markdown",
      "source": [
        "## Site Rule"
      ],
      "metadata": {
        "id": "P4d_lNtFhtW8"
      }
    },
    {
      "cell_type": "code",
      "source": [
        "def check_rule_site(df, col_dict):\n",
        "  result_df = check_ENG(df, col_dict)\n",
        "  result_df = result_df[result_df['ENG_fail']==0]\n",
        "  # 接下來check 有無三片wafer fail在同 site_id\n",
        "  ....."
      ],
      "metadata": {
        "id": "dpYDZ6z83EC3"
      },
      "execution_count": null,
      "outputs": []
    },
    {
      "cell_type": "code",
      "source": [
        "# Step 1: 新增 'Site_fail' 欄位\n",
        "df['Site_fail'] = df.apply(lambda row: 0 if row['col7'] < row['col6'] < row['col8'] else 1, axis=1)\n",
        "\n",
        "# Step 2: 以 col3 和 col4 為分群條件，計算 'Site_fail' 的比例\n",
        "eng_rate = df.groupby(['col3', 'col4'])['Site_fail'].apply(lambda x: (1 - x).mean()).reset_index()\n",
        "eng_rate = eng_rate.rename(columns={'Site_fail': 'ENG_Rate'})\n",
        "\n",
        "# Step 3: 使用 left join 將 'ENG_Rate' 合併回原始資料\n",
        "df = df.merge(eng_rate, on=['col3', 'col4'], how='left')\n",
        "\n",
        "# Step 4: 根據 'ENG_Rate' 與 'col5' 的比較新增 'ENG_fail' 欄位\n",
        "df['ENG_fail'] = df.apply(lambda row: 0 if row['ENG_Rate'] > row['col5'] else 1, axis=1)\n",
        "\n",
        "# Step 5: 保留 ENG_fail = 0的項目，再去做site_fail check，最後回傳資料記得清除後面新增的col(保留raw data)"
      ],
      "metadata": {
        "id": "Ile9MyrRveZb"
      },
      "execution_count": null,
      "outputs": []
    },
    {
      "cell_type": "markdown",
      "source": [
        "## WAT Rule"
      ],
      "metadata": {
        "id": "XwwKQDC43-oR"
      }
    },
    {
      "cell_type": "markdown",
      "source": [],
      "metadata": {
        "id": "B4Iw87cE4DWI"
      }
    },
    {
      "cell_type": "markdown",
      "source": [
        "## 彙總 : 所有結果"
      ],
      "metadata": {
        "id": "tmziJkc7g_BV"
      }
    },
    {
      "cell_type": "markdown",
      "source": [
        "(groupby LOT, CATE) (若該rule有trigger項則在此row標記為1)"
      ],
      "metadata": {
        "id": "03Y6y9SUhPb7"
      }
    },
    {
      "cell_type": "markdown",
      "source": [
        "### 1. 一次 groupby"
      ],
      "metadata": {
        "id": "GTPJX7VqhSgZ"
      }
    },
    {
      "cell_type": "code",
      "source": [
        "import pandas as pd\n",
        "\n",
        "# 建立範例資料\n",
        "data = {\n",
        "    'col1': ['A', 'A', 'A', 'B', 'B', 'B', 'C', 'C'],\n",
        "    'col2': [1, 1, 1, 2, 2, 2, 3, 3],\n",
        "    'col3': ['X', 'X', 'Y', 'X', 'Y', 'Y', 'X', 'X'],\n",
        "    'col4': ['P', 'P', 'P', 'Q', 'Q', 'Q', 'P', 'P'],\n",
        "    'value': [5, 10, 15, 20, 25, 30, 35, 40]\n",
        "}\n",
        "df = pd.DataFrame(data)\n",
        "\n",
        "# 定義多個函數，模擬不同的計算\n",
        "def fun1(group):\n",
        "    return group['value'].mean()  # 計算平均值\n",
        "\n",
        "def fun2(group):\n",
        "    return group['value'].sum()   # 計算總和\n",
        "\n",
        "def fun3(group):\n",
        "    return group['value'].max()   # 找出最大值\n",
        "\n",
        "def fun4(group):\n",
        "    return group['value'].min()   # 找出最小值\n",
        "\n",
        "def fun5(group):\n",
        "    return group['value'].std()   # 計算標準差\n",
        "\n",
        "# 建立一個列表來儲存結果\n",
        "results = []\n",
        "\n",
        "# 使用 groupby 進行分組並逐一套用函數\n",
        "for key, group_data in df.groupby(['col1', 'col2', 'col3', 'col4']):\n",
        "    result1 = fun1(group_data)\n",
        "    result2 = fun2(group_data)\n",
        "    result3 = fun3(group_data)\n",
        "    result4 = fun4(group_data)\n",
        "    result5 = fun5(group_data)\n",
        "\n",
        "    # 將結果與對應的群組標記一起儲存\n",
        "    results.append({\n",
        "        'col1': key[0],\n",
        "        'col2': key[1],\n",
        "        'col3': key[2],\n",
        "        'col4': key[3],\n",
        "        'mean': result1,\n",
        "        'sum': result2,\n",
        "        'max': result3,\n",
        "        'min': result4,\n",
        "        'std': result5\n",
        "    })\n",
        "\n",
        "# 將結果轉為 DataFrame 方便查看\n",
        "results_df = pd.DataFrame(results)\n",
        "\n",
        "# 顯示結果\n",
        "print(results_df)\n"
      ],
      "metadata": {
        "id": "9NKGcZ-_hOBI"
      },
      "execution_count": null,
      "outputs": []
    },
    {
      "cell_type": "markdown",
      "source": [
        "### 2."
      ],
      "metadata": {
        "id": "kgISpomJhcSg"
      }
    },
    {
      "cell_type": "code",
      "source": [
        "import pandas as pd\n",
        "\n",
        "# 建立範例資料\n",
        "data = {\n",
        "    'col1': ['A', 'A', 'A', 'B', 'B', 'B', 'C', 'C'],\n",
        "    'col2': [1, 1, 1, 2, 2, 2, 3, 3],\n",
        "    'col3': ['X', 'X', 'Y', 'X', 'Y', 'Y', 'X', 'X'],\n",
        "    'col4': ['P', 'P', 'P', 'Q', 'Q', 'Q', 'P', 'P'],\n",
        "    'value': [5, 10, 15, 20, 25, 30, 35, 40]\n",
        "}\n",
        "df = pd.DataFrame(data)\n",
        "\n",
        "# 定義多個函數，模擬不同的計算\n",
        "def fun1(group):\n",
        "    return group['value'].mean()\n",
        "\n",
        "def fun2(group):\n",
        "    return group['value'].sum()\n",
        "\n",
        "def fun3(group):\n",
        "    return group['value'].max()\n",
        "\n",
        "def fun4(group):\n",
        "    return group['value'].min()\n",
        "\n",
        "def fun5(group):\n",
        "    return group['value'].std()\n",
        "\n",
        "# Step 1: 根據 col1, col2, col3, col4 分群，計算指標並儲存結果\n",
        "group_results = []\n",
        "\n",
        "for key, group_data in df.groupby(['col1', 'col2', 'col3', 'col4']):\n",
        "    result1 = fun1(group_data)\n",
        "    result2 = fun2(group_data)\n",
        "    result3 = fun3(group_data)\n",
        "    result4 = fun4(group_data)\n",
        "    result5 = fun5(group_data)\n",
        "\n",
        "    group_results.append({\n",
        "        'col1': key[0],\n",
        "        'col2': key[1],\n",
        "        'col3': key[2],\n",
        "        'col4': key[3],\n",
        "        'mean': result1,\n",
        "        'sum': result2,\n",
        "        'max': result3,\n",
        "        'min': result4,\n",
        "        'std': result5\n",
        "    })\n",
        "\n",
        "group_results_df = pd.DataFrame(group_results)\n",
        "print(\"各群 (col1, col2, col3, col4) 的結果：\")\n",
        "print(group_results_df)\n",
        "\n",
        "# Step 2: 根據 col1, col2, col3 彙總，計算平均發生率、總和等\n",
        "summary_results = group_results_df.groupby(['col1', 'col2', 'col3']).agg(\n",
        "    avg_mean=('mean', 'mean'),\n",
        "    total_sum=('sum', 'sum'),\n",
        "    max_value=('max', 'max'),\n",
        "    min_value=('min', 'min'),\n",
        "    std_dev=('std', 'mean')  # 平均標準差\n",
        ").reset_index()\n",
        "\n",
        "print(\"\\n根據 col1, col2, col3 的彙總結果：\")\n",
        "print(summary_results)\n"
      ],
      "metadata": {
        "id": "Ub8jhT3ohoRn"
      },
      "execution_count": null,
      "outputs": []
    }
  ]
}