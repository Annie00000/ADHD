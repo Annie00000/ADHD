{
  "nbformat": 4,
  "nbformat_minor": 0,
  "metadata": {
    "colab": {
      "provenance": [],
      "authorship_tag": "ABX9TyPcFdW54+hNpgbcJu+loo/1",
      "include_colab_link": true
    },
    "kernelspec": {
      "name": "python3",
      "display_name": "Python 3"
    },
    "language_info": {
      "name": "python"
    }
  },
  "cells": [
    {
      "cell_type": "markdown",
      "metadata": {
        "id": "view-in-github",
        "colab_type": "text"
      },
      "source": [
        "<a href=\"https://colab.research.google.com/github/Annie00000/Project/blob/main/5_14.ipynb\" target=\"_parent\"><img src=\"https://colab.research.google.com/assets/colab-badge.svg\" alt=\"Open In Colab\"/></a>"
      ]
    },
    {
      "cell_type": "markdown",
      "source": [
        "* 可以從這裡開始"
      ],
      "metadata": {
        "id": "KTwCKJ534DWM"
      }
    },
    {
      "cell_type": "code",
      "source": [
        "from datetime import datetime, timedelta\n",
        "from dateutil.relativedelta import relativedelta, SU\n",
        "import os\n",
        "import time\n",
        "\n",
        "while True:\n",
        "    # 获取今天的日期\n",
        "    today = datetime.today().date()\n",
        "\n",
        "    # 如果今天是星期日，向前推一周\n",
        "    if today.weekday() == 6: # 周一是0,周日是6\n",
        "        today -= timedelta(days=1)\n",
        "\n",
        "    # 找到往前推最近的 4 个星期日的日期\n",
        "    missing_dates = []\n",
        "    for i in range(1, 5):\n",
        "        previous_sunday = today - relativedelta(weekday=SU(-i))\n",
        "        # 构建文件名的前缀\n",
        "        prefix = f\"PCM_{previous_sunday.strftime('%Y%m%d')}\"\n",
        "        # 检查最近一個星期日的文件是否存在\n",
        "        if i == 1 and any(filename.startswith(prefix) for filename in os.listdir('./')):\n",
        "            print(\"最近的星期日文件存在，等待12小时后重新检查...\")\n",
        "            time.sleep(60*60*12)\n",
        "            break  # 在这里跳出当前循环，重新开始外部循环\n",
        "        else:\n",
        "            if not any(filename.startswith(prefix) for filename in os.listdir('./')):\n",
        "                missing_dates.append(previous_sunday)\n",
        "\n",
        "    print(\"缺失的日期：\", missing_dates)\n"
      ],
      "metadata": {
        "id": "fWGUv5D64C84"
      },
      "execution_count": null,
      "outputs": []
    },
    {
      "cell_type": "markdown",
      "source": [
        "**修改一下邏輯:**  (用此版)"
      ],
      "metadata": {
        "id": "ltMQ0jZp5PKS"
      }
    },
    {
      "cell_type": "code",
      "source": [
        "from datetime import datetime, timedelta\n",
        "from dateutil.relativedelta import relativedelta, SU\n",
        "import os\n",
        "import time\n",
        "\n",
        "# 获取今天的日期\n",
        "today = datetime.today().date()\n",
        "\n",
        "# 如果今天是星期日，向前推一周\n",
        "if today.weekday() == 6: # 周一是0,周日是6\n",
        "    today -= timedelta(days=1)\n",
        "\n",
        "# 找到最近的 1 个星期日的日期\n",
        "latest_sunday = today - relativedelta(weekday=SU(-1))\n",
        "\n",
        "# 构建文件名的前缀\n",
        "prefix = f\"PCM_{latest_sunday.strftime('%Y%m%d')}\"\n",
        "\n",
        "# 如果最近的一个星期日对应的文件存在，就不执行操作，而是休眠12小时\n",
        "if any(filename.startswith(prefix) for filename in os.listdir('./')):\n",
        "    print(\"最近的一个星期日对应的文件存在，不执行操作，休眠12小时...\")\n",
        "    time.sleep(12 * 3600)\n",
        "    break\n",
        "else:\n",
        "    # 找到往前推最近的 4 个星期日的日期\n",
        "    missing_dates = []\n",
        "    for i in range(1, 5):\n",
        "        previous_sunday = today - relativedelta(weekday=SU(-i))\n",
        "        # 构建文件名的前缀\n",
        "        prefix = f\"PCM_{previous_sunday.strftime('%Y%m%d')}\"\n",
        "        # 检查文件夹中是否存在相应的文件\n",
        "        if not any(filename.startswith(prefix) for filename in os.listdir('./')):\n",
        "            missing_dates.append(previous_sunday)\n",
        "\n",
        "    # 对缺失的日期列表进行排序\n",
        "    missing_dates.sort()\n",
        "\n",
        "    # 按照日期顺序依次处理缺失日期\n",
        "    for date in missing_dates:\n",
        "        # 在这里执行你的操作\n",
        "        print(\"操作日期:\", date)\n"
      ],
      "metadata": {
        "id": "DwwmuBdL5ej5"
      },
      "execution_count": null,
      "outputs": []
    },
    {
      "cell_type": "markdown",
      "source": [
        "* 第一版"
      ],
      "metadata": {
        "id": "bh2xhZWn4BOP"
      }
    },
    {
      "cell_type": "code",
      "source": [
        "from datetime import datetime, timedelta\n",
        "from dateutil.relativedelta import relativedelta, SU, MO\n",
        "import os\n",
        "\n",
        "# 獲取今天的日期\n",
        "today = datetime.today().date()\n",
        "\n",
        "# 如果今天是星期日，向前推一周\n",
        "if today.weekday() == 6: # 周一是0,周日是6\n",
        "    today -= timedelta(days=7)\n",
        "\n",
        "# 找到往前推最近的 4 个星期日的日期\n",
        "dates = []\n",
        "for i in range(1,5):\n",
        "    previous_sunday = today - relativedelta(weekday=SU(-i))\n",
        "    dates.append(str(previous_sunday))\n",
        "dates = sorted(dates)\n",
        "\n",
        "missing_dates = []\n",
        "folder_path = './'\n",
        "for date in dates:\n",
        "    # 文件名要檢查的前綴詞\n",
        "    prefix = f\"PCM_{date.replace('-', '')}\"\n",
        "    # 檢查folder中是否存在相應的檔案\n",
        "    file_exist = any(filename.startswith(prefix) for filename in os.listdir(folder_path))\n",
        "    if not file_exist:\n",
        "        missing_dates.append(date)"
      ],
      "metadata": {
        "id": "MWITrjj0iNe6"
      },
      "execution_count": 39,
      "outputs": []
    },
    {
      "cell_type": "markdown",
      "source": [
        "* 簡潔版"
      ],
      "metadata": {
        "id": "6zsIOnJHyWQx"
      }
    },
    {
      "cell_type": "code",
      "source": [
        "from datetime import datetime, timedelta\n",
        "from dateutil.relativedelta import relativedelta, SU\n",
        "import os\n",
        "\n",
        "# 获取今天的日期\n",
        "today = datetime.today().date()\n",
        "\n",
        "# 如果今天是星期日，向前推一周\n",
        "if today.weekday() == 6: # 周一是0,周日是6\n",
        "    today -= timedelta(days=1)\n",
        "\n",
        "# 找到往前推最近的 4 个星期日的日期\n",
        "missing_dates = []\n",
        "for i in range(1, 5):\n",
        "    previous_sunday = today - relativedelta(weekday=SU(-i))\n",
        "    # 构建文件名的前缀\n",
        "    prefix = f\"PCM_{previous_sunday.strftime('%Y%m%d')}\"\n",
        "    # 检查文件夹中是否存在相应的文件\n",
        "    if not any(filename.startswith(prefix) for filename in os.listdir('./')):\n",
        "        missing_dates.append(previous_sunday)\n",
        "\n",
        "# 对缺失的日期列表进行排序\n",
        "missing_dates.sort()\n",
        "\n",
        "# 按照日期顺序依次处理缺失日期\n",
        "for date in missing_dates:\n",
        "    # 在这里执行你的操作\n",
        "    print(\"操作日期:\", date)\n"
      ],
      "metadata": {
        "id": "jOqOj36czwlr"
      },
      "execution_count": null,
      "outputs": []
    },
    {
      "cell_type": "code",
      "source": [
        "from datetime import datetime, timedelta\n",
        "from dateutil.relativedelta import relativedelta, SU\n",
        "import os\n",
        "\n",
        "# 获取今天的日期\n",
        "today = datetime.today().date()\n",
        "\n",
        "# 如果今天是星期日，向前推一周\n",
        "if today.weekday() == 6: # 周一是0,周日是6\n",
        "    today -= timedelta(days=1)\n",
        "\n",
        "# 找到往前推最近的 4 个星期日的日期\n",
        "missing_dates = []\n",
        "for i in range(1, 5):\n",
        "    previous_sunday = today - relativedelta(weekday=SU(-i))\n",
        "    # 构建文件名的前缀\n",
        "    prefix = f\"PCM_{previous_sunday.strftime('%Y%m%d')}\"\n",
        "    # 检查文件夹中是否存在相应的文件\n",
        "    if not any(filename.startswith(prefix) for filename in os.listdir('./')):\n",
        "        missing_dates.append(previous_sunday)\n",
        "\n",
        "print(\"不存在的日期：\", missing_dates)"
      ],
      "metadata": {
        "id": "fPy-3_4PvOJv"
      },
      "execution_count": null,
      "outputs": []
    }
  ]
}