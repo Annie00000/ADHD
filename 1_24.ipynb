{
  "nbformat": 4,
  "nbformat_minor": 0,
  "metadata": {
    "colab": {
      "provenance": [],
      "authorship_tag": "ABX9TyNYdB2LyHtUpu4ZD4kXOhIg",
      "include_colab_link": true
    },
    "kernelspec": {
      "name": "python3",
      "display_name": "Python 3"
    },
    "language_info": {
      "name": "python"
    }
  },
  "cells": [
    {
      "cell_type": "markdown",
      "metadata": {
        "id": "view-in-github",
        "colab_type": "text"
      },
      "source": [
        "<a href=\"https://colab.research.google.com/github/Annie00000/Project/blob/main/1_24.ipynb\" target=\"_parent\"><img src=\"https://colab.research.google.com/assets/colab-badge.svg\" alt=\"Open In Colab\"/></a>"
      ]
    },
    {
      "cell_type": "markdown",
      "source": [
        "## 1. 跳出蜂巢迴圈"
      ],
      "metadata": {
        "id": "cQDzMifg-MM5"
      }
    },
    {
      "cell_type": "code",
      "source": [
        "should_break = False\n",
        "\n",
        "for i in range(3):\n",
        "    for j in range(3):\n",
        "        for k in range(3):\n",
        "            print(f\"i={i}, j={j}, k={k}\")\n",
        "            if k == 1:  # 目標條件\n",
        "                should_break = True\n",
        "                break  # 跳出第3層\n",
        "        if should_break:\n",
        "            break  # 跳出第2層\n",
        "    if should_break:\n",
        "        break  # 跳出第1層\n"
      ],
      "metadata": {
        "id": "ECz1LigZ-MrH"
      },
      "execution_count": null,
      "outputs": []
    },
    {
      "cell_type": "markdown",
      "source": [
        "## 2. 今日已寄信否 確認"
      ],
      "metadata": {
        "id": "9KQ5JQrS95s7"
      }
    },
    {
      "cell_type": "code",
      "source": [
        "import os\n",
        "import time\n",
        "from datetime import datetime\n",
        "\n",
        "# 設定日期記錄檔案的路徑\n",
        "mail_file = \"last_generated_date.txt\"\n",
        "\n",
        "def has_generated_today():\n",
        "    \"\"\"檢查是否已經在今天產生過文件\"\"\"\n",
        "    if os.path.exists(mail_file):\n",
        "        with open(mail_file, \"r\") as file:\n",
        "            last_date = file.read().strip()\n",
        "        # 取得今天的日期\n",
        "        today = datetime.now().strftime(\"%Y-%m-%d\")\n",
        "        return last_date == today  # 如果記錄是今天，返回 True\n",
        "    return False  # 如果記錄檔案不存在，返回 False\n",
        "\n",
        "def update_generated_date():\n",
        "    \"\"\"更新記錄檔案為今天的日期\"\"\"\n",
        "    with open(mail_file, \"w\") as file:\n",
        "        today = datetime.now().strftime(\"%Y-%m-%d\")\n",
        "        file.write(today)\n",
        "\n",
        "while True:\n",
        "    print(\"開始執行處理程序...\")\n",
        "\n",
        "    # 檢查是否需要產生 txt 文件\n",
        "    if has_generated_today():\n",
        "        print(\"今天已經產生過 txt 文件，跳過產生步驟。\")\n",
        "    else:\n",
        "        print(\"正在產生 txt 文件...\")\n",
        "        # 這裡是產生 txt 文件的邏輯\n",
        "        with open(\"output.txt\", \"w\") as txt_file:\n",
        "            txt_file.write(\"這是今天的產出文件。\\n\")\n",
        "        print(\"txt 文件已產生。\")\n",
        "        # 更新記錄為今天的日期\n",
        "        update_generated_date()\n",
        "\n",
        "    print(\"處理程序完成，進入休息狀態...\")\n",
        "    # 休息 4 小時\n",
        "    time.sleep(4 * 60 * 60)\n",
        "    print(\"休息結束，準備進入下一次迴圈...\")\n"
      ],
      "metadata": {
        "id": "IEpQboiz9-Ip"
      },
      "execution_count": null,
      "outputs": []
    },
    {
      "cell_type": "markdown",
      "source": [
        "## 3. update temp 50"
      ],
      "metadata": {
        "id": "2b-cJhPh--J4"
      }
    },
    {
      "cell_type": "code",
      "source": [
        "## 更新 有進行rule check的資料\n",
        "for group, data in test_data.groupby():"
      ],
      "metadata": {
        "id": "4OwK0LnzKWtN"
      },
      "execution_count": null,
      "outputs": []
    },
    {
      "cell_type": "code",
      "source": [
        "import pandas as pd\n",
        "\n",
        "# 假設 df1 和 df2 的結構如下：\n",
        "# df1 和 df2 有 col1, col2, col5, col6, 其他列\n",
        "df1 = pd.DataFrame({\n",
        "    \"col1\": [1, 1, 2, 2, 3],\n",
        "    \"col2\": [\"A\", \"A\", \"B\", \"B\", \"C\"],\n",
        "    \"col5\": [100, 100, 200, 200, 300],\n",
        "    \"col6\": [1, 2, 3, 4, 5],\n",
        "    \"data\": [\"df1_1\", \"df1_2\", \"df1_3\", \"df1_4\", \"df1_5\"]\n",
        "})\n",
        "\n",
        "df2 = pd.DataFrame({\n",
        "    \"col1\": [1, 1, 2, 2, 3],\n",
        "    \"col2\": [\"A\", \"A\", \"B\", \"B\", \"C\"],\n",
        "    \"col5\": [100, 100, 200, 200, 300],\n",
        "    \"col6\": [1, 2, 3, 4, 5],\n",
        "    \"data\": [\"df2_1\", \"df2_2\", \"df2_3\", \"df2_4\", \"df2_5\"]\n",
        "})\n",
        "\n",
        "# 1. 對 df2 基於 col6 去重\n",
        "df2_dedup = df2.drop_duplicates(subset=\"col6\")\n",
        "\n",
        "# 2. 合併 df1 和 df2_dedup，基於 col1, col2, col5\n",
        "merged = pd.concat([df1, df2_dedup])\n",
        "\n",
        "# 3. 按 col1, col2, col5 分組，取最後 50 筆資料\n",
        "merged_sorted = (\n",
        "    merged.sort_values(by=[\"col1\", \"col2\", \"col5\", \"col6\"], ascending=True)\n",
        "          .groupby([\"col1\", \"col2\", \"col5\"])\n",
        "          .tail(50)\n",
        ")\n",
        "\n",
        "# 4. 找出未合併的 df1 資料\n",
        "merged_keys = merged_sorted[[\"col1\", \"col2\", \"col5\"]].drop_duplicates()\n",
        "df1_keys = df1[[\"col1\", \"col2\", \"col5\"]].drop_duplicates()\n",
        "unmerged_keys = pd.concat([df1_keys, merged_keys]).drop_duplicates(keep=False)\n",
        "unmerged_df1 = df1.merge(unmerged_keys, on=[\"col1\", \"col2\", \"col5\"], how=\"inner\")\n",
        "\n",
        "# 輸出結果\n",
        "print(\"合併後的資料 (取最後50筆)：\")\n",
        "print(merged_sorted)\n",
        "\n",
        "print(\"\\n未合併的 df1 資料：\")\n",
        "print(unmerged_df1)\n"
      ],
      "metadata": {
        "id": "CXfaU4hRM98q"
      },
      "execution_count": null,
      "outputs": []
    }
  ]
}