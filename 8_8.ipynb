{
  "nbformat": 4,
  "nbformat_minor": 0,
  "metadata": {
    "colab": {
      "provenance": [],
      "authorship_tag": "ABX9TyPmmnsyi7uoZxzTWOs8emUk",
      "include_colab_link": true
    },
    "kernelspec": {
      "name": "python3",
      "display_name": "Python 3"
    },
    "language_info": {
      "name": "python"
    }
  },
  "cells": [
    {
      "cell_type": "markdown",
      "metadata": {
        "id": "view-in-github",
        "colab_type": "text"
      },
      "source": [
        "<a href=\"https://colab.research.google.com/github/Annie00000/Project/blob/main/8_8.ipynb\" target=\"_parent\"><img src=\"https://colab.research.google.com/assets/colab-badge.svg\" alt=\"Open In Colab\"/></a>"
      ]
    },
    {
      "cell_type": "markdown",
      "source": [
        "如果na值我也想排名呢? 就放最後排成最後的名次"
      ],
      "metadata": {
        "id": "ByR7RxMxaAbQ"
      }
    },
    {
      "cell_type": "code",
      "source": [
        "import pandas as pd\n",
        "import numpy as np\n",
        "\n",
        "# 示例数据\n",
        "data = {\n",
        "    'col1': ['A', 'A', 'B', 'B', 'C', 'A', 'B', 'C', 'C', 'C'],\n",
        "    'col2': ['X', 'X', 'Y', 'Y', 'Z', 'Y', 'Z', 'X', 'X', 'Y'],\n",
        "    'col3': [3.0, 3.0, np.nan, np.nan, 2.0, 1.0, 1.0, np.nan, np.nan, 4.0]\n",
        "}\n",
        "df = pd.DataFrame(data)\n",
        "\n",
        "# 按 col3 值由大至小排序，将 NaN 值放在末尾\n",
        "df_sorted = df.sort_values(by='col3', ascending=False, na_position='last')\n",
        "\n",
        "# 创建一个新的列用于存储排名\n",
        "df_sorted['rank'] = np.nan\n",
        "\n",
        "# 对非 NaN 部分进行排名\n",
        "df_sorted.loc[df_sorted['col3'].notna(), 'rank'] = df_sorted.loc[df_sorted['col3'].notna(), 'col3'].rank(method='dense', ascending=False)\n",
        "\n",
        "# 对 NaN 部分进行单独排名\n",
        "nan_groups = df_sorted[df_sorted['col3'].isna()].groupby(['col1', 'col2']).ngroup() + 1\n",
        "df_sorted.loc[df_sorted['col3'].isna(), 'rank'] = nan_groups + df_sorted['rank'].max()\n",
        "\n",
        "# 打印结果\n",
        "print(df_sorted)\n"
      ],
      "metadata": {
        "id": "15GgA5j99ybQ"
      },
      "execution_count": null,
      "outputs": []
    },
    {
      "cell_type": "code",
      "source": [
        "  col1 col2  col3  rank\n",
        "9    C    Y   4.0   1.0\n",
        "0    A    X   3.0   2.0\n",
        "1    A    X   3.0   2.0\n",
        "4    C    Z   2.0   3.0\n",
        "5    A    Y   1.0   4.0\n",
        "6    B    Z   1.0   4.0\n",
        "2    B    Y   NaN   5.0\n",
        "3    B    Y   NaN   5.0\n",
        "7    C    X   NaN   6.0\n",
        "8    C    X   NaN   6.0\n"
      ],
      "metadata": {
        "id": "7X6qxaEF--x2"
      },
      "execution_count": null,
      "outputs": []
    },
    {
      "cell_type": "markdown",
      "source": [
        "1. 创建 DataFrame：包含一些示例数据，其中 col3 列有一些值为 NaN。\n",
        "2. 排序：使用 sort_values 对 col3 列进行排序，将 NaN 值放在末尾。\n",
        "3. 非 NaN 部分排名：对非 NaN 部分进行排名，确保相同 col1 和 col2 组合的情况具有相同的排名。\n",
        "4. NaN 部分排名：对 NaN 部分进行单独排名，在不同的 col1 和 col2 组合下具有不同的排名。"
      ],
      "metadata": {
        "id": "UiB94RUB_B-N"
      }
    }
  ]
}