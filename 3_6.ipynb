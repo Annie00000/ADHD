{
  "nbformat": 4,
  "nbformat_minor": 0,
  "metadata": {
    "colab": {
      "provenance": [],
      "authorship_tag": "ABX9TyOkqHIQ91HA0mPR4mWkcwDX",
      "include_colab_link": true
    },
    "kernelspec": {
      "name": "python3",
      "display_name": "Python 3"
    },
    "language_info": {
      "name": "python"
    }
  },
  "cells": [
    {
      "cell_type": "markdown",
      "metadata": {
        "id": "view-in-github",
        "colab_type": "text"
      },
      "source": [
        "<a href=\"https://colab.research.google.com/github/Annie00000/Project/blob/main/3_6.ipynb\" target=\"_parent\"><img src=\"https://colab.research.google.com/assets/colab-badge.svg\" alt=\"Open In Colab\"/></a>"
      ]
    },
    {
      "cell_type": "markdown",
      "source": [
        "## 1."
      ],
      "metadata": {
        "id": "U1KaBspHNO_L"
      }
    },
    {
      "cell_type": "markdown",
      "source": [
        "* is_test_running() 用于检查 test.py 进程是否在运行。它运行了一个 ps -ef 命令来获取系统中所有进程的列表，然后检查输出中是否包含了 test.py。如果包含，则返回 True，表示 test.py 进程正在运行；否则返回 False。\n",
        "\n",
        "* subprocess.Popen : 这行代码创建了一个新的进程来运行 test.py 程序。subprocess.Popen() 函数用于启动一个新的进程。传递给它的参数是一个列表，第一个元素是要执行的程序名称，后面的元素是传递给程序的命令行参数。"
      ],
      "metadata": {
        "id": "adNDKxXbOLff"
      }
    },
    {
      "cell_type": "code",
      "source": [
        "import time\n",
        "import subprocess\n",
        "\n",
        "# 检查 test.py 是否在运行的函数\n",
        "def is_test_running():\n",
        "    # 运行 ps 命令检查 test.py 是否在进程列表中\n",
        "    ps_output = subprocess.run(['ps', '-ef'], capture_output=True, text=True)\n",
        "    return 'test.py' in ps_output.stdout\n",
        "\n",
        "if __name__ == \"__main__\":\n",
        "    while True:\n",
        "        # 检查 test.py 是否在运行\n",
        "        if not is_test_running():\n",
        "            # 启动 test.py\n",
        "            subprocess.Popen(['python3', 'test.py'])\n",
        "        time.sleep(600)  # 每隔10分钟检查一次\n"
      ],
      "metadata": {
        "id": "6ktUF3KnOEMk"
      },
      "execution_count": null,
      "outputs": []
    },
    {
      "cell_type": "markdown",
      "source": [
        "## 2."
      ],
      "metadata": {
        "id": "HHMlJmiCOzwl"
      }
    },
    {
      "cell_type": "markdown",
      "source": [
        "'test.py' in ps_output.stdout:\n",
        "\n",
        " 這句程式碼是在檢查一個字串 'test.py' 是否在字串 ps_output.stdout 中出現。 在這裡，ps_output.stdout 應該是一個字串，可能包含了系統的進程信息，透過運行 ps -ef 命令來獲取。 然後，程式會檢查是否有包含 'test.py' 的內容，以確定 test.py 進程是否正在執行中。\n",
        "\n",
        "如果 'test.py' 出現在 ps_output.stdout 中，is_test_running() 函數傳回 True，表示 test.py 進程正在執行。 否則回傳 False，表示 test.py 進程沒有在運作。\n",
        "\n",
        "這種方式通常用於在 Python 中檢查其他進程的運行狀態。"
      ],
      "metadata": {
        "id": "w9Ik976RQV6e"
      }
    },
    {
      "cell_type": "code",
      "source": [
        "import time\n",
        "import subprocess\n",
        "import multiprocessing as mp\n",
        "\n",
        "# 定义 collection 函数\n",
        "def collection(mode, i, args):\n",
        "    if mode == 'today':\n",
        "        print(f'Today mode: {i}')\n",
        "        # 执行针对今天的任务逻辑\n",
        "    elif mode == 'recent':\n",
        "        print(f'Recent mode: {i}')\n",
        "        # 执行针对最近的任务逻辑\n",
        "    elif mode == 'past':\n",
        "        print(f'Past mode: {i}')\n",
        "        # 执行针对过去的任务逻辑\n",
        "\n",
        "# 监控 test.py 进程是否在运行的函数\n",
        "def is_test_running():\n",
        "    # 运行 ps 命令检查 test.py 是否在进程列表中\n",
        "    ps_output = subprocess.run(['ps', '-ef'], capture_output=True, text=True)\n",
        "    return 'test.py' in ps_output.stdout\n",
        "    \"\"\"\"\"\"\"# 检查一个字符串 'test.py' 是否在字符串 ps_output.stdout 中出现\n",
        "\n",
        "# 监控程序的逻辑\n",
        "def monitor():\n",
        "    while True:\n",
        "        # 检查 test.py 是否在运行\n",
        "        if not is_test_running():\n",
        "            # 启动 test.py\n",
        "            pool = mp.Pool(processes=3)\n",
        "            for i, mode in enumerate(['today', 'recent', 'past']):\n",
        "                # 使用 apply_async 方法异步提交任务\n",
        "                pool.apply_async(collection, args=(mode, i, args))\n",
        "            # 关闭进程池，阻止提交新任务\n",
        "            pool.close()\n",
        "            # 等待所有进程完成\n",
        "            pool.join()\n",
        "        time.sleep(600)  # 每隔10分钟检查一次\n",
        "\n",
        "if __name__ == \"__main__\":\n",
        "    monitor()  # 启动监控程序\n"
      ],
      "metadata": {
        "id": "tAM1roa_O1Hi"
      },
      "execution_count": null,
      "outputs": []
    },
    {
      "cell_type": "markdown",
      "source": [
        "## NOW"
      ],
      "metadata": {
        "id": "mnSTPyr4Y9VP"
      }
    },
    {
      "cell_type": "markdown",
      "source": [
        "整体逻辑是当程序启动时，首先尝试获取锁，如果获取成功则继续执行程序；如果锁文件存在并且未超时，则程序会等待一段时间再次尝试获取锁，直到获取成功为止。获取锁成功后，程序进入主循环，执行 collection 函数。在 collection 函数中，不断更新锁文件的访问时间和修改时间，并根据不同的模式设置不同的睡眠时间。最后，无论程序执行成功还是出现异常，都会释放锁文件。"
      ],
      "metadata": {
        "id": "5aBL0ilDgrRe"
      }
    },
    {
      "cell_type": "code",
      "source": [
        "from multiprocessing import Pool\n",
        "import os\n",
        "import time\n",
        "\n",
        "# 定义锁文件路径和服务器标识文件路径\n",
        "LOCK_FILE = \"lock.txt\"\n",
        "LOCK_TIMEOUT = 600  # 设置锁超时时间（秒）\n",
        "\n",
        "def acquire_lock(server_id):\n",
        "    \"\"\"获取锁，并记录服务器标识\"\"\"\n",
        "    while True:\n",
        "        if os.path.exists(LOCK_FILE):  # 检查是否存在锁文件\n",
        "            if check_lock_timeout():  # 检查锁是否超时\n",
        "                print(\"Lock timeout, trying to remove lock file...\")\n",
        "                release_lock()  # 释放过期的锁\n",
        "                continue  # 继续循环，重新尝试获取锁 (跳回到 while True: 行，重新开始下一轮的循环。)\n",
        "\n",
        "            print(f\"Another server (ID: {server_id}) is running test.py. Waiting for 5 seconds...\")\n",
        "            time.sleep(5) #执行完毕后，程序会继续执行if os.path.exists(LOCK_FILE):\n",
        "        else:\n",
        "            try:\n",
        "                with open(LOCK_FILE, \"w\") as f:\n",
        "                    f.write(str(server_id))  # 写入当前服务器标识到锁文件\n",
        "                break  # 获取锁成功，退出循环\n",
        "            except Exception as e:\n",
        "                print(\"Failed to acquire lock:\", str(e))\n",
        "                # 在这里处理获取锁失败的情况\n",
        "\n",
        "def check_lock_timeout():\n",
        "    \"\"\"检查锁是否超时\"\"\"\n",
        "    if os.path.exists(LOCK_FILE):\n",
        "        lock_time = os.path.getmtime(LOCK_FILE)\n",
        "        current_time = time.time()\n",
        "        if current_time - lock_time > LOCK_TIMEOUT:\n",
        "            return True\n",
        "    return False\n",
        "\n",
        "def release_lock():\n",
        "    \"\"\"释放锁\"\"\"\n",
        "    try:\n",
        "        if os.path.exists(LOCK_FILE):\n",
        "            os.remove(LOCK_FILE)\n",
        "    except Exception as e:\n",
        "        print(\"Failed to release lock:\", str(e))\n",
        "        # 在这里处理释放锁失败的情况\n",
        "\n",
        "def collection(mode):\n",
        "  while True:\n",
        "    os.utime(LOCK_FILE, (time.time(), time.time()))\n",
        "    \"\"\"执行 collection 函数，并在执行前后处理锁\"\"\"\n",
        "    try:\n",
        "        if mode=='today':\n",
        "          sleep_time = 60\n",
        "        elif mode=='recent':\n",
        "          sleep_time = 60*10\n",
        "        else:\n",
        "          sleep_time = 60*60*3\n",
        "\n",
        "        # 在这里执行 collection 函数的内容\n",
        "        print(f\"Process {option} (Server {server_id}) is running collection...\")\n",
        "        time.sleep(10)  # 模拟 collection 函数的执行时间\n",
        "\n",
        "        time.sleep(sleep_time)\n",
        "\n",
        "    except Exception as e:\n",
        "        print(\"Error in collection:\", str(e))\n",
        "        # 在这里处理 collection 函数执行过程中的异常\n",
        "\n",
        "\n",
        "if __name__ == \"__main__\":\n",
        "    # 假设每个服务器有一个唯一的ID，可以根据需要自行获取\n",
        "    server_id = \"Server1\"  # 你需要替换为服务器的实际标识\n",
        "\n",
        "    acquire_lock()\n",
        "    try:\n",
        "      pool = Pool(processes=3)\n",
        "      for i, mode in enumerate(['today', 'recent', 'past']):\n",
        "          pool.apply_async(collection, args=(mode,))\n",
        "      pool.close()\n",
        "      pool.join()\n",
        "    finally:\n",
        "      release_lock()\n"
      ],
      "metadata": {
        "id": "urZmhZ4ZY_Is"
      },
      "execution_count": null,
      "outputs": []
    }
  ]
}