{
  "nbformat": 4,
  "nbformat_minor": 0,
  "metadata": {
    "colab": {
      "provenance": [],
      "authorship_tag": "ABX9TyPCErxDmg7CiF4LIjUVKHhR",
      "include_colab_link": true
    },
    "kernelspec": {
      "name": "python3",
      "display_name": "Python 3"
    },
    "language_info": {
      "name": "python"
    }
  },
  "cells": [
    {
      "cell_type": "markdown",
      "metadata": {
        "id": "view-in-github",
        "colab_type": "text"
      },
      "source": [
        "<a href=\"https://colab.research.google.com/github/Annie00000/Project/blob/main/4_11.ipynb\" target=\"_parent\"><img src=\"https://colab.research.google.com/assets/colab-badge.svg\" alt=\"Open In Colab\"/></a>"
      ]
    },
    {
      "cell_type": "markdown",
      "source": [
        "## 1. Layout"
      ],
      "metadata": {
        "id": "cLx37ceOmooF"
      }
    },
    {
      "cell_type": "markdown",
      "source": [
        "已在dash_table.DataTable的style_table屬性中設定了表格的高度和寬度。\n",
        "\n",
        "為了讓這些表格能夠**並排**顯示而不是堆疊，你需要在包裹dash_table.DataTable和按鈕的html.Div中設定style屬性，使之採用**display:inline-block**佈局，並適當調整其寬度以適應你的頁面佈局。"
      ],
      "metadata": {
        "id": "VMW_xABMnLgw"
      }
    },
    {
      "cell_type": "markdown",
      "source": [
        "我将每个小表格的display属性设置为inline-block并分配了适当的margin和width，以确保它们能够以你想要的布局排列。由于每行希望放置5个表格，每个表格的width被设置为18%，这样留出一些空间给margin，以防止它们紧挨在一起。最后的\"Data period\"按钮被设置为width: 100%以占满整行，但你可以根据需要调整这个设置。"
      ],
      "metadata": {
        "id": "lVj_221v1CMA"
      }
    },
    {
      "cell_type": "code",
      "source": [
        "import dash\n",
        "import dash_core_components as dcc\n",
        "import dash_html_components as html\n",
        "import dash_table\n",
        "import pandas as pd\n",
        "\n",
        "def filter_table_func(filter_data):\n",
        "    # 将输入的数据转换为 pandas DataFrame\n",
        "    filter_data = pd.DataFrame(filter_data)\n",
        "    output = []  # 初始化输出列表，用于存放生成的表格和相关组件\n",
        "\n",
        "    # 遍历数据的每一列\n",
        "    for i in range(len(filter_data.columns)):\n",
        "        # 对当前列去重、排序并重置索引\n",
        "        df = filter_data[[filter_data.columns[i]]].drop_duplicates(keep='first').sort_values(filter_data.columns[i]).reset_index(drop=True)\n",
        "\n",
        "        # 创建一个包含数据表和按钮的 div 元素，作为子组件添加到输出列表中\n",
        "        output.append(\n",
        "            html.Div(\n",
        "                style={'display': 'inline-block', 'margin': '10px', 'width': '18%'},  # 调整每个表格的布局和样式\n",
        "                children=[\n",
        "                    dcc.Store({'type': 'select-data', 'index': i}, data=[]),  # 创建一个用于存储数据的 dcc.Store 组件\n",
        "                    html.Div(children=[\n",
        "                        html.Div([\n",
        "                            dash_table.DataTable(\n",
        "                                id={'type': 'select-table', 'index': i},  # 设置表格的 ID，使其唯一\n",
        "                                # 设置表格列\n",
        "                                columns=[{'name': list(df.columns)[0], 'id': list(df.columns)[0], 'selectable': True}],\n",
        "                                data=df.to_dict('records'),  # 将 DataFrame 转换为字典列表格式并设置为表格数据\n",
        "                                page_size=99999,  # 设置表格页面大小\n",
        "                                style_as_list_view=True,\n",
        "                                fixed_rows={'headers': True},  # 固定表头\n",
        "                                style_table={'height': '250px', 'overflowX': 'auto'},  # 调整表格样式以适应容器\n",
        "                                filter_action='native',  # 启用内置的筛选功能\n",
        "                                style_cell={'font-size': '14px', 'textAlign': 'left', 'height': 'auto', 'color': 'black'},\n",
        "                                style_filter={'textAlign': 'left'},  # 设置筛选框样式\n",
        "                                style_header={  # 设置表头样式\n",
        "                                    'backgroundColor': '#f0f0f0',\n",
        "                                    'textAlign': 'center',\n",
        "                                    'fontWeight': 'bold',\n",
        "                                    'color': 'black',\n",
        "                                    'font-size': '14px',\n",
        "                                    'textAlign': 'left'\n",
        "                                },\n",
        "                                fill_width=True,\n",
        "                                sort_action='native',  # 启用内置的排序功能\n",
        "                                sort_mode='multi',\n",
        "                                column_selectable='multi',  # 允许多列选择\n",
        "                                row_selectable='multi',  # 允许多行选择\n",
        "                                selected_columns=[df.columns[0]] if df.columns[0] in ['STEP', 'SOURCE', \"PROG\"] else [],\n",
        "                                selected_rows=[],  # 设置默认选中的行\n",
        "                            )\n",
        "                        ])\n",
        "                    ]),\n",
        "                    html.Div(\n",
        "                        style={'text-align': 'center', 'padding-top': '5px'},\n",
        "                        children=[\n",
        "                            html.Button(['Lock'],  # 创建“锁定”按钮\n",
        "                                        id={'type': 'lock-button', 'index': i},\n",
        "                                        n_clicks=0),\n",
        "                            html.Button(['Release'],  # 创建“释放”按钮\n",
        "                                        id={'type': 'release-button', 'index': i},\n",
        "                                        n_clicks=0),\n",
        "                        ]\n",
        "                    )\n",
        "                ],\n",
        "            )\n",
        "        )\n",
        "\n",
        "    # 在最后添加期间按钮，此处可能需要调整布局以确保与其它元素的一致性\n",
        "    output.append(\n",
        "        html.Div(\n",
        "            style={'display': 'inline-block', 'margin': '10px', 'width': '100%', 'text-align': 'center'},  # 调整期间按钮的样式\n",
        "            children=[\n",
        "                html.Button(['Data period'],\n",
        "                            id={'type': 'period-button'},\n",
        "                            n_clicks=0),\n",
        "            ]\n",
        "        )\n",
        "    )\n",
        "    return output\n"
      ],
      "metadata": {
        "id": "Z-VSMOb90-Zc"
      },
      "execution_count": null,
      "outputs": []
    },
    {
      "cell_type": "code",
      "source": [
        "output.append(\n",
        "    ##### 此Div包裹整个表格和按钮组合 #####\n",
        "    html.Div(\n",
        "        # 使用 style 设置布局和样式，而不是 className\n",
        "        style={\n",
        "            'display': 'inline-block',  # 允许元素并排显示\n",
        "            'margin': '10px',  # 添加一些外边距，避免表格相互挤压\n",
        "            'verticalAlign': 'top'  # 确保如果行高不一，元素顶部对齐\n",
        "        },\n",
        "        children=[\n",
        "            dcc.Store({'type': 'select-data', 'index': i}, data=[]),\n",
        "            html.Div(children=[\n",
        "                html.Div([\n",
        "                    dash_table.DataTable(\n",
        "                        id={'type': 'select-table', 'index': i},\n",
        "                        columns=[{'name': list(df.columns)[0], 'id': list(df.columns)[0], 'selectable': True}],\n",
        "                        data=df.to_dict('records'),\n",
        "                        page_size=99999,\n",
        "                        style_as_list_view=True,\n",
        "                        fixed_rows={'headers': True},\n",
        "                        style_table={'height': '250px', 'width': '100%'},  # 调整为100%以填满父容器\n",
        "                        filter_action='native',\n",
        "                        style_cell={'font-size': '14px', 'textAlign': 'left', 'height': 'auto', 'color': 'black'},\n",
        "                        style_filter={'textAlign': 'left'},\n",
        "                        style_header={\n",
        "                            'backgroundColor': '#f0f0f0',\n",
        "                            'textAlign': 'center',\n",
        "                            'fontWeight': 'bold',\n",
        "                            'color': 'black',\n",
        "                            'font-size': '14px',\n",
        "                            'textAlign': 'left'\n",
        "                        },\n",
        "                        fill_width=True,\n",
        "                        sort_action='native',\n",
        "                        sort_mode='multi',\n",
        "                        column_selectable='multi',\n",
        "                        row_selectable='multi',\n",
        "                        selected_columns=[df.columns[0]] if df.columns[0] in ['STEP', 'SOURCE', \"PROG\"] else [],\n",
        "                        selected_rows=[],\n",
        "                    )\n",
        "                ])\n",
        "            ]),\n",
        "            html.Div(style={'backgroundColor': 'gray'},\n",
        "                children=[\n",
        "                    html.Button(['Lock'],\n",
        "                                id={'type': 'lock-button', 'index': i},\n",
        "                                n_clicks=0),\n",
        "                    html.Button(['Release'],\n",
        "                                id={'type': 'release-button', 'index': i},\n",
        "                                n_clicks=0),\n",
        "                ]\n",
        "            )\n",
        "        ],\n",
        "    )\n",
        ")\n",
        "\n",
        "\n",
        "output.append(\n",
        "    html.Div(\n",
        "        style={'backgroundColor': 'gray'},\n",
        "        children=[\n",
        "             html.Button(['Data period'],\n",
        "                    id={'type': 'period-button'},\n",
        "                    n_clicks=0),\n",
        "\n",
        "        ]\n",
        "    )\n",
        ")\n",
        "\n"
      ],
      "metadata": {
        "id": "hzyWSmNLmrwu"
      },
      "execution_count": null,
      "outputs": []
    },
    {
      "cell_type": "markdown",
      "source": [
        "## 2. display參數 (style)"
      ],
      "metadata": {
        "id": "45akzPRCqS7j"
      }
    },
    {
      "cell_type": "markdown",
      "source": [
        "- **inline元素**：不会以新行开始，只占用它需要的宽度。inline元素不能设置宽度和高度，它们会紧挨着彼此或文字排列。例如，\"span\"和\"a\"是典型的inline元素。\n",
        "- **block元素**：会占据整行，即使后面还有空间，其他元素也会被迫换行显示。block元素可以设置宽度和高度。例如，\"div\"和\"p\"是典型的block元素。"
      ],
      "metadata": {
        "id": "WqTX_QZ6qViC"
      }
    },
    {
      "cell_type": "markdown",
      "source": [
        " **inline-block的特性**：\n",
        "1. 并排显示：inline-block元素在水平方向上可以像inline元素一样并排显示，不会自动换行（除非容器宽度不足以容纳它们）。\n",
        "2. 设置宽高：与block元素一样，inline-block元素允许设置宽度和高度。这意味着你可以控制每个元素的尺寸，而这些元素仍然能够并排显示。\n",
        "3. 不重叠：由于inline-block元素允许设置宽度，所以可以通过适当的宽度安排，确保元素并排显示时不会重叠。此外，可以通过外边距（margin）来增加元素之间的空间，避免视觉上的挤压。\n",
        "4. 自動換行: 如果一行内的display: inline-block元素总宽度超过了容器的宽度，这些元素会自动换到新的一行，类似于文字的换行，保证布局的整洁和元素的可见性。\n",
        "\n",
        "5. 对齐方式:\n",
        "通过调整vertical-align属性，你可以控制display: inline-block元素在垂直方向上的对齐方式（例如，顶部对齐、底部对齐或中间对齐），这在处理不同高度的元素时特别有用。"
      ],
      "metadata": {
        "id": "_CZ5ocTkqi8s"
      }
    },
    {
      "cell_type": "markdown",
      "source": [
        "inline-block特别适用于需要并排排列的组件或布局元素，同时又需要对这些元素的大小进行控制的场景。比如，网页上的导航菜单、图像画廊、卡片布局等，都可以利用inline-block来实现既紧凑又有序的布局。"
      ],
      "metadata": {
        "id": "7lbu0cbwrAIz"
      }
    },
    {
      "cell_type": "markdown",
      "source": [
        "## 3."
      ],
      "metadata": {
        "id": "9tYJbKmzxkE3"
      }
    },
    {
      "cell_type": "markdown",
      "source": [
        "1. 最外围的div（包含Table和按钮）：\n",
        "\n",
        "这是一个容器div，用于将每个数据表及其相关的按钮组封装成一个单独的单元。通过设置style属性，你可以控制这些单元的布局方式（例如，使它们并排显示或堆叠显示）、外边距、对齐等。在你的代码中，这个div通过style={'display': 'inline-block', 'margin': '10px'}确保每个表格及其按钮以inline-block的方式展示，且有一定的间隔。\n",
        "\n",
        "\n",
        "2. 第二层的div + 内嵌的div（包含Table）：\n",
        "\n",
        "第二层的div是为了进一步封装和组织内容。通常，这样的结构可以用于应用额外的样式或者作为布局的一部分。内嵌的div直接包含dash_table.DataTable组件。这种分层有助于在需要的时候对表格进行样式上的细节调整，比如添加背景颜色、边框等，而不影响到外层的布局或其他组件。\n",
        "\n",
        "\n",
        "3. div（包含按钮）：\n",
        "\n",
        "这个div容器专门用于包裹“锁定”和“释放”按钮。通过将按钮放在它自己的div中，你可以分别控制按钮区域的布局和样式，比如背景颜色、按钮之间的间距等。在你的代码中，这个div被赋予了灰色背景{'backgroundColor': 'gray'}，这有助于视觉上区分按钮区域和表格区域。\n",
        "通过这样的结构安排，你的代码创造了一个既有组织又具有良好视觉层次的用户界面，使得每个表格和其操作按钮成为一个独立的交互单元，而且通过样式的细节调整，实现了良好的用户体验设计。"
      ],
      "metadata": {
        "id": "CgwzVW9XxmLs"
      }
    },
    {
      "cell_type": "code",
      "source": [],
      "metadata": {
        "id": "YuVzR2VPxlmn"
      },
      "execution_count": null,
      "outputs": []
    }
  ]
}