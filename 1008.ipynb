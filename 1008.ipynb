{
  "nbformat": 4,
  "nbformat_minor": 0,
  "metadata": {
    "colab": {
      "provenance": [],
      "authorship_tag": "ABX9TyPTHJMZ3sdEQt6atkqYthQE",
      "include_colab_link": true
    },
    "kernelspec": {
      "name": "python3",
      "display_name": "Python 3"
    },
    "language_info": {
      "name": "python"
    }
  },
  "cells": [
    {
      "cell_type": "markdown",
      "metadata": {
        "id": "view-in-github",
        "colab_type": "text"
      },
      "source": [
        "<a href=\"https://colab.research.google.com/github/Annie00000/Project/blob/main/1008.ipynb\" target=\"_parent\"><img src=\"https://colab.research.google.com/assets/colab-badge.svg\" alt=\"Open In Colab\"/></a>"
      ]
    },
    {
      "cell_type": "markdown",
      "source": [
        "## Rule 5"
      ],
      "metadata": {
        "id": "xNoPVXTfHARw"
      }
    },
    {
      "cell_type": "code",
      "source": [
        "import pandas as pd\n",
        "\n",
        "def western_electric_custom_rule(df, n1, n2, cal_col, mean, sigma, k_sigma):\n",
        "    record = []\n",
        "\n",
        "    # 定義 k sigma 的上下界限\n",
        "    upper_limit = mean + k_sigma * sigma\n",
        "    lower_limit = mean - k_sigma * sigma\n",
        "\n",
        "    for i in range(len(df) - n1 + 1):\n",
        "        sub_df = df[cal_col].iloc[i:i+n1].values\n",
        "        # 計算每一個點是否落在 k sigma 外\n",
        "        is_above_sigma = [val > upper_limit for val in sub_df]\n",
        "        is_below_sigma = [val < lower_limit for val in sub_df]\n",
        "\n",
        "        # 檢查連續 n1 點中至少有 n2 點超出 k sigma，且這些點都必須在同一側，最後一點必須符合\n",
        "        if (sum(is_above_sigma) >= n2 and is_above_sigma[-1]) or (sum(is_below_sigma) >= n2 and is_below_sigma[-1]):\n",
        "            # 如果找到符合條件的連續 n1 點，記錄這些點的最後一點\n",
        "            record.append(df.iloc[i + n1 - 1])\n",
        "\n",
        "    # 回傳符合條件的紀錄\n",
        "    return pd.DataFrame(record)\n"
      ],
      "metadata": {
        "id": "IC_9iq0vqiQF"
      },
      "execution_count": null,
      "outputs": []
    },
    {
      "cell_type": "markdown",
      "source": [
        "## Rule 7"
      ],
      "metadata": {
        "id": "sYzDWZy0KSa6"
      }
    },
    {
      "cell_type": "markdown",
      "source": [
        "* **7-1** : 連續十五點落在 1 sigma之內 (與中線距離少於 1 sigma)"
      ],
      "metadata": {
        "id": "reTlfkfOKV_c"
      }
    },
    {
      "cell_type": "markdown",
      "source": [
        "據品質控制規範，連續 15 點都落在 1 sigma 之內 的規則通常是檢測過程異常的一個跡象。然而，這個規則並不特別要求這些點必須同時在均值的兩側出現。"
      ],
      "metadata": {
        "id": "lc-uXfJ8rDjy"
      }
    },
    {
      "cell_type": "code",
      "source": [
        "import pandas as pd\n",
        "\n",
        "def western_electric_rule_sigma(df, cal_col, mean, sigma, n1, k, filter_ls=None):\n",
        "    record = []\n",
        "\n",
        "    # 計算 1 sigma 的上下界限\n",
        "    upper_limit = mean + k * sigma\n",
        "    lower_limit = mean - k * sigma\n",
        "\n",
        "    for i in range(len(df) - n1 + 1):\n",
        "        sub_df = df[cal_col].iloc[i:i+n1].values\n",
        "        # 檢查 n1 點是否都落在 1 sigma 之內\n",
        "        inside_sigma = [(x < upper_limit and x > lower_limit) for x in sub_df]\n",
        "        if all(inside_sigma):\n",
        "            # 如果找到符合條件的情況，記錄這些點的第 n1 點\n",
        "            record.append(df.iloc[i + n1 - 1])\n",
        "\n",
        "\n",
        "    # 回傳符合條件的紀錄\n",
        "    return pd.DataFrame(record)\n"
      ],
      "metadata": {
        "id": "UlZolpYNJcHM"
      },
      "execution_count": null,
      "outputs": []
    },
    {
      "cell_type": "code",
      "source": [
        "import pandas as pd\n",
        "\n",
        "def western_electric_rule_15_in_1_sigma(df, n1, cal_col, mean, sigma):\n",
        "    record = []\n",
        "\n",
        "    # 定義 1 sigma 的上下界限\n",
        "    upper_limit = mean + sigma\n",
        "    lower_limit = mean - sigma\n",
        "\n",
        "    for i in range(len(df) - n1 + 1):\n",
        "        sub_df = df[cal_col].iloc[i:i+n1].values\n",
        "        # 檢查連續 n1 點是否都在 1 sigma 內\n",
        "        if all(lower_limit <= val <= upper_limit for val in sub_df):\n",
        "            # 如果找到符合條件的連續 n1 點，記錄這些點的最後一點\n",
        "            record.append(df.iloc[i + n1 - 1])\n",
        "\n",
        "    # 回傳符合條件的紀錄\n",
        "    return pd.DataFrame(record)\n"
      ],
      "metadata": {
        "id": "tQzKF8ihrNT9"
      },
      "execution_count": null,
      "outputs": []
    },
    {
      "cell_type": "markdown",
      "source": [
        "* **7-2** : 強調兩側都需要有點"
      ],
      "metadata": {
        "id": "3MXyDJyurQgk"
      }
    },
    {
      "cell_type": "code",
      "source": [
        "import pandas as pd\n",
        "\n",
        "def western_electric_rule_15_in_1_sigma_both_sides(df, n1, cal_col, mean, sigma):\n",
        "    record = []\n",
        "\n",
        "    # 定義 1 sigma 的上下界限\n",
        "    upper_limit = mean + sigma\n",
        "    lower_limit = mean - sigma\n",
        "\n",
        "    for i in range(len(df) - n1 + 1):\n",
        "        sub_df = df[cal_col].iloc[i:i+n1].values\n",
        "        # 檢查連續 n1 點是否都在 1 sigma 內\n",
        "        if all(lower_limit <= val <= upper_limit for val in sub_df):\n",
        "            # 檢查這些點是否同時出現在均值的兩側\n",
        "            if any(val > mean for val in sub_df) and any(val < mean for val in sub_df):\n",
        "                # 如果符合條件，記錄這些點的最後一點\n",
        "                record.append(df.iloc[i + n1 - 1])\n",
        "\n",
        "    # 回傳符合條件的紀錄\n",
        "    return pd.DataFrame(record)\n"
      ],
      "metadata": {
        "id": "5f7g3-xVrU3C"
      },
      "execution_count": null,
      "outputs": []
    },
    {
      "cell_type": "code",
      "source": [
        "import pandas as pd\n",
        "\n",
        "def western_electric_rule_15_in_1_sigma(df, n1, cal_col, mean, sigma):\n",
        "    record = []\n",
        "\n",
        "    # 定義 1 sigma 的上下界限\n",
        "    upper_limit = mean + sigma\n",
        "    lower_limit = mean - sigma\n",
        "\n",
        "    for i in range(len(df) - n1 + 1):\n",
        "        sub_df = df[cal_col].iloc[i:i+n1].values\n",
        "\n",
        "        # 檢查是否連續 n1 點都在 1 sigma 內\n",
        "        all_in_sigma = all(lower_limit <= val <= upper_limit for val in sub_df)\n",
        "\n",
        "        # 檢查是否有點出現在均值的兩側\n",
        "        has_both_sides = any(val > mean for val in sub_df) and any(val < mean for val in sub_df)\n",
        "\n",
        "        if all_in_sigma and has_both_sides:\n",
        "            # 如果找到符合條件的連續 n1 點，記錄這些點的最後一點\n",
        "            record.append(df.iloc[i + n1 - 1])\n",
        "\n",
        "    # 回傳符合條件的紀錄\n",
        "    return pd.DataFrame(record)\n"
      ],
      "metadata": {
        "id": "G43kUVGjtFPa"
      },
      "execution_count": null,
      "outputs": []
    },
    {
      "cell_type": "markdown",
      "source": [
        "## Rule 8"
      ],
      "metadata": {
        "id": "H9gw5fL3Me_Z"
      }
    },
    {
      "cell_type": "markdown",
      "source": [
        "連續八點都在 1 sigma 之外的上下兩側 (與中線距離超過 1 sigma)"
      ],
      "metadata": {
        "id": "ttLt4Z5fMg7v"
      }
    },
    {
      "cell_type": "code",
      "source": [
        "import pandas as pd\n",
        "\n",
        "def western_electric_rule_sigma_outside(df, cal_col, mean, sigma, n1, k, filter_ls=None):\n",
        "    record = []\n",
        "\n",
        "    # 計算 1 sigma 的上下界限\n",
        "    upper_limit = mean + k * sigma\n",
        "    lower_limit = mean - k * sigma\n",
        "\n",
        "    for i in range(len(df) - n1 + 1):\n",
        "        sub_df = df[cal_col].iloc[i:i+n1].values\n",
        "        # 檢查 n1 點是否都落在 1 sigma 之外\n",
        "        outside_sigma = [(x > upper_limit or x < lower_limit) for x in sub_df]\n",
        "        if all(outside_sigma):\n",
        "            # 如果找到符合條件的情況，記錄這些點的第 n1 點\n",
        "            record.append(df.iloc[i + n1 - 1])\n",
        "\n",
        "\n",
        "    # 回傳符合條件的紀錄\n",
        "    return pd.DataFrame(record)\n"
      ],
      "metadata": {
        "id": "ZacsflgdMpH4"
      },
      "execution_count": null,
      "outputs": []
    },
    {
      "cell_type": "code",
      "source": [
        "import pandas as pd\n",
        "\n",
        "def western_electric_rule_8_out_1_sigma(df, n1, cal_col, mean, sigma):\n",
        "    record = []\n",
        "\n",
        "    # 定義 1 sigma 的上下界限\n",
        "    upper_limit = mean + sigma\n",
        "    lower_limit = mean - sigma\n",
        "\n",
        "    for i in range(len(df) - n1 + 1):\n",
        "        sub_df = df[cal_col].iloc[i:i+n1].values\n",
        "\n",
        "        # 檢查連續 n1 點是否都在 1 sigma 之外\n",
        "        all_outside_sigma = all(val > upper_limit or val < lower_limit for val in sub_df)\n",
        "\n",
        "        if all_outside_sigma:\n",
        "            # 如果找到符合條件的連續 n1 點，記錄這些點的最後一點\n",
        "            record.append(df.iloc[i + n1 - 1])\n",
        "\n",
        "    # 回傳符合條件的紀錄\n",
        "    return pd.DataFrame(record)\n"
      ],
      "metadata": {
        "id": "E1z5RDYcuT70"
      },
      "execution_count": null,
      "outputs": []
    },
    {
      "cell_type": "markdown",
      "source": [
        "* 檢查「連續八點都在 1 sigma 之外的上下兩側」，且要求這八點中**至少有一點**在上方超過 1 sigma，另一點在下方低於 1 sigma"
      ],
      "metadata": {
        "id": "nGgIwoFWM_Lx"
      }
    },
    {
      "cell_type": "code",
      "source": [
        "import pandas as pd\n",
        "\n",
        "def western_electric_rule_two_sides(df, cal_col, mean, sigma, n1, k, filter_ls=None):\n",
        "    record = []\n",
        "\n",
        "    # 計算 1 sigma 的上下界限\n",
        "    upper_limit = mean + k * sigma\n",
        "    lower_limit = mean - k * sigma\n",
        "\n",
        "    for i in range(len(df) - n1 + 1):\n",
        "        sub_df = df[cal_col].iloc[i:i+n1].values\n",
        "        # 檢查 n1 點是否都落在 1 sigma 之外\n",
        "        outside_sigma = [(x > upper_limit or x < lower_limit) for x in sub_df]\n",
        "        # 確保至少一點在上方(> upper_limit)，至少一點在下方(< lower_limit)\n",
        "        has_upper = any(x > upper_limit for x in sub_df)\n",
        "        has_lower = any(x < lower_limit for x in sub_df)\n",
        "\n",
        "        # 如果都在 1 sigma 之外且兩側都有點\n",
        "        if all(outside_sigma) and has_upper and has_lower:\n",
        "            # 如果找到符合條件的情況，記錄這些點的第 n1 點\n",
        "            record.append(df.iloc[i + n1 - 1])\n",
        "\n",
        "\n",
        "\n",
        "    # 回傳符合條件的紀錄\n",
        "    return pd.DataFrame(record)\n"
      ],
      "metadata": {
        "id": "Qd2ukRnYM_ig"
      },
      "execution_count": null,
      "outputs": []
    },
    {
      "cell_type": "code",
      "source": [
        "import pandas as pd\n",
        "\n",
        "def western_electric_rule_8_out_1_sigma_both_sides(df, n1, cal_col, mean, sigma):\n",
        "    record = []\n",
        "\n",
        "    # 定義 1 sigma 的上下界限\n",
        "    upper_limit = mean + sigma\n",
        "    lower_limit = mean - sigma\n",
        "\n",
        "    for i in range(len(df) - n1 + 1):\n",
        "        sub_df = df[cal_col].iloc[i:i+n1].values\n",
        "\n",
        "        # 檢查連續 n1 點是否都在 1 sigma 之外\n",
        "        all_outside_sigma = all(val > upper_limit or val < lower_limit for val in sub_df)\n",
        "\n",
        "        # 檢查是否有點在均值上方，是否有點在均值下方\n",
        "        has_above_mean = any(val > mean for val in sub_df)\n",
        "        has_below_mean = any(val < mean for val in sub_df)\n",
        "\n",
        "        # 同時滿足這兩個條件才記錄\n",
        "        if all_outside_sigma and has_above_mean and has_below_mean:\n",
        "            # 如果找到符合條件的連續 n1 點，記錄這些點的最後一點\n",
        "            record.append(df.iloc[i + n1 - 1])\n",
        "\n",
        "    # 回傳符合條件的紀錄\n",
        "    return pd.DataFrame(record)\n"
      ],
      "metadata": {
        "id": "HFEXv7_AuqtU"
      },
      "execution_count": null,
      "outputs": []
    }
  ]
}