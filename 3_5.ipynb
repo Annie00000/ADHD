{
  "nbformat": 4,
  "nbformat_minor": 0,
  "metadata": {
    "colab": {
      "provenance": [],
      "authorship_tag": "ABX9TyP+35bPezibh5qL/aLWvvmH",
      "include_colab_link": true
    },
    "kernelspec": {
      "name": "python3",
      "display_name": "Python 3"
    },
    "language_info": {
      "name": "python"
    }
  },
  "cells": [
    {
      "cell_type": "markdown",
      "metadata": {
        "id": "view-in-github",
        "colab_type": "text"
      },
      "source": [
        "<a href=\"https://colab.research.google.com/github/Annie00000/Project/blob/main/3_5.ipynb\" target=\"_parent\"><img src=\"https://colab.research.google.com/assets/colab-badge.svg\" alt=\"Open In Colab\"/></a>"
      ]
    },
    {
      "cell_type": "markdown",
      "source": [
        "## 初始"
      ],
      "metadata": {
        "id": "HuhYC295HYcC"
      }
    },
    {
      "cell_type": "markdown",
      "source": [
        "每台伺服器在嘗試取得鎖定時會先將自己的識別寫入到 server_id.txt 檔案中，其他伺服器在等待時可以知道哪個伺服器在使用 collection.py 檔案。 這樣，即使其他伺服器想要執行 collection.py 文件，也能夠知道目前是哪個伺服器在運作。"
      ],
      "metadata": {
        "id": "t-TfJ_9Y-p5_"
      }
    },
    {
      "cell_type": "code",
      "source": [
        "from multiprocessing import Pool\n",
        "import os\n",
        "import time\n",
        "\n",
        "# 定义锁文件路径和服务器标识文件路径\n",
        "LOCK_FILE = \"test_lock\"\n",
        "SERVER_ID_FILE = \"server_id.txt\"\n",
        "\n",
        "def acquire_lock(server_id):\n",
        "    \"\"\"获取锁，并记录服务器标识\"\"\"\n",
        "    while os.path.exists(LOCK_FILE):\n",
        "        print(f\"Another server (ID: {server_id}) is running test.py. Waiting for 5 seconds...\")\n",
        "        time.sleep(5)\n",
        "    # 创建锁文件\n",
        "    try:\n",
        "        open(LOCK_FILE, \"w\").close()\n",
        "        with open(SERVER_ID_FILE, \"w\") as f:\n",
        "            f.write(str(server_id))\n",
        "    except Exception as e:\n",
        "        print(\"Failed to acquire lock:\", str(e))\n",
        "        # 在这里处理获取锁失败的情况\n",
        "\n",
        "def release_lock():\n",
        "    \"\"\"释放锁\"\"\"\n",
        "    try:\n",
        "        if os.path.exists(LOCK_FILE):\n",
        "            os.remove(LOCK_FILE)\n",
        "        if os.path.exists(SERVER_ID_FILE):\n",
        "            os.remove(SERVER_ID_FILE)\n",
        "    except Exception as e:\n",
        "        print(\"Failed to release lock:\", str(e))\n",
        "        # 在这里处理释放锁失败的情况\n",
        "\n",
        "def collection(option):\n",
        "    \"\"\"执行 collection 函数，并在执行前后处理锁\"\"\"\n",
        "    try:\n",
        "        # 获取服务器标识\n",
        "        with open(SERVER_ID_FILE) as f:\n",
        "            server_id = f.read()\n",
        "        acquire_lock(server_id)\n",
        "        # 在这里执行 collection 函数的内容\n",
        "        print(f\"Process {option} (Server {server_id}) is running collection...\")\n",
        "        time.sleep(10)  # 模拟 collection 函数的执行时间\n",
        "    except Exception as e:\n",
        "        print(\"Error in collection:\", str(e))\n",
        "        # 在这里处理 collection 函数执行过程中的异常\n",
        "    finally:\n",
        "        release_lock()\n",
        "\n",
        "if __name__ == \"__main__\":\n",
        "    # 假设每个服务器有一个唯一的ID，可以根据需要自行获取\n",
        "    server_id = \"Server1\"  # 你需要替换为服务器的实际标识\n",
        "\n",
        "    pool = Pool(processes=3)\n",
        "\n",
        "    for i, mode in enumerate(['today', 'recent', 'past']):\n",
        "        pool.apply_async(collection, args=(mode,))\n",
        "    pool.close()\n",
        "    pool.join()"
      ],
      "metadata": {
        "id": "_Qmjza0b0VeZ"
      },
      "execution_count": null,
      "outputs": []
    },
    {
      "cell_type": "markdown",
      "source": [
        "## second"
      ],
      "metadata": {
        "id": "vnEVoa10HbI-"
      }
    },
    {
      "cell_type": "markdown",
      "source": [
        "在 if __name__ == \"__main__\": 中调用，则只会在主进程中执行一次锁的获取和释放操作。而如果在 collection 函数中调用，则每个子进程在执行时都会尝试获取锁，并在执行结束后释放锁。\n",
        "\n",
        "这里是在 if __name__ == \"__main__\": 中调用的示例代码："
      ],
      "metadata": {
        "id": "mcJnlLcqGVAZ"
      }
    },
    {
      "cell_type": "markdown",
      "source": [
        "由於是 multiprocess，最好在主程式中使用 acquire_lock(server_id)，因為這樣可以確保在進程池中的每個進程啟動之前都取得了鎖定。 在每個子程序的 collection 函數中再次取得鎖也可以，但可能會導致多次嘗試取得鎖，從而增加不必要的等待時間。 因此，建議在主程式中取得鎖。"
      ],
      "metadata": {
        "id": "gYHq5kEnGp0V"
      }
    },
    {
      "cell_type": "code",
      "source": [
        "from multiprocessing import Pool\n",
        "import os\n",
        "import time\n",
        "\n",
        "# 定义锁文件路径和服务器标识文件路径\n",
        "LOCK_FILE = \"test_lock\"\n",
        "SERVER_ID_FILE = \"server_id.txt\"\n",
        "\n",
        "def acquire_lock(server_id):\n",
        "    \"\"\"获取锁，并记录服务器标识\"\"\"\n",
        "    while True:\n",
        "        if os.path.exists(LOCK_FILE):\n",
        "            # 检查锁文件中记录的服务器标识\n",
        "            with open(SERVER_ID_FILE) as f:\n",
        "                locked_server_id = f.read().strip()\n",
        "            if locked_server_id == server_id:\n",
        "                # 锁文件是当前服务器创建的，但是进程意外终止导致锁文件未被释放\n",
        "                print(f\"Lock file exists but not released by Server {server_id}. Attempting to remove and re-acquire...\")\n",
        "                try:\n",
        "                    os.remove(LOCK_FILE)\n",
        "                except Exception as e:\n",
        "                    print(\"Failed to remove lock file:\", str(e))\n",
        "                    # 在这里处理无法删除锁文件的情况\n",
        "            else:\n",
        "                print(f\"Another server (ID: {locked_server_id}) is running test.py. Waiting for 5 seconds...\")\n",
        "                time.sleep(5)\n",
        "        else:\n",
        "            # 创建锁文件并记录服务器标识\n",
        "            try:\n",
        "                open(LOCK_FILE, \"w\").close()\n",
        "                with open(SERVER_ID_FILE, \"w\") as f:\n",
        "                    f.write(str(server_id))\n",
        "                break\n",
        "            except Exception as e:\n",
        "                print(\"Failed to acquire lock:\", str(e))\n",
        "                # 在这里处理获取锁失败的情况\n",
        "\n",
        "def release_lock(server_id):\n",
        "    \"\"\"释放锁\"\"\"\n",
        "    try:\n",
        "        if os.path.exists(LOCK_FILE):\n",
        "            os.remove(LOCK_FILE)\n",
        "        if os.path.exists(SERVER_ID_FILE):\n",
        "            os.remove(SERVER_ID_FILE)\n",
        "    except Exception as e:\n",
        "        print(\"Failed to release lock:\", str(e))\n",
        "        # 在这里处理释放锁失败的情况\n",
        "\n",
        "def collection(option):\n",
        "    \"\"\"执行 collection 函数，并在执行前后处理锁\"\"\"\n",
        "    try:\n",
        "        # 获取服务器标识\n",
        "        with open(SERVER_ID_FILE) as f:\n",
        "            server_id = f.read().strip()\n",
        "        # 在这里执行 collection 函数的内容\n",
        "        print(f\"Process {option} (Server {server_id}) is running collection...\")\n",
        "        time.sleep(10)  # 模拟 collection 函数的执行时间\n",
        "    except Exception as e:\n",
        "        print(\"Error in collection:\", str(e))\n",
        "        # 在这里处理 collection 函数执行过程中的异常\n",
        "\n",
        "if __name__ == \"__main__\":\n",
        "    # 假设每个服务器有一个唯一的ID，可以根据需要自行获取\n",
        "    server_id = \"Server1\"  # 你需要替换为服务器的实际标识\n",
        "\n",
        "    # 尝试获取锁并执行 collection.py\n",
        "    acquire_lock(server_id)\n",
        "    try:\n",
        "        pool = Pool(processes=3)\n",
        "        for i, mode in enumerate(['today', 'recent', 'past']):\n",
        "            pool.apply_async(collection, args=(mode,))\n",
        "        pool.close()\n",
        "        pool.join()\n",
        "    finally:\n",
        "        release_lock(server_id)\n"
      ],
      "metadata": {
        "id": "NKlHB58OGV8Q"
      },
      "execution_count": null,
      "outputs": []
    },
    {
      "cell_type": "markdown",
      "source": [
        "Q :如果正在使用服务器66运行该代码，而服务器76尝试运行相同的代码，结果会如下：\n",
        "\n",
        "A :\n",
        "1.   服务器76尝试获取锁文件，发现已经存在锁文件。\n",
        "2.   服务器76检查锁文件中记录的服务器标识，发现标识为服务器66。\n",
        "3.   服务器76显示等待5秒钟后，再次尝试获取锁文件。\n",
        "4.   服务器76循环等待，直到服务器66的进程完成并释放了锁文件为止。\n",
        "5.   一旦服务器66的进程完成并释放了锁文件，服务器76的进程就能够获取到锁文件，并且开始执行任务。\n",
        "\n",
        "因此，在这种情况下，服务器76会等待服务器66的进程执行完成后才能执行任务。\n",
        "\n"
      ],
      "metadata": {
        "id": "5F-L-CWjHHCg"
      }
    },
    {
      "cell_type": "markdown",
      "source": [
        "Q :  這樣的話如果有正在使用66運行該code，斷網後，66重新運行，會返回什麼? 該程式能正常運作嗎?\n",
        "\n",
        "A :\n",
        "\n",
        "如果在運行該程式碼的過程中斷網，然後重新運行，情況會有所不同：\n",
        "\n",
        "(1)如果運行過程中斷網，然後重新運行程序，66重新運行，因為在重新運行時沒有其他伺服器持有鎖文件，因此可以獲取鎖，並成功執行 collection.py。 這是因為在重新運行時，程式會嘗試取得鎖，並成功獲取，然後正常執行。\n",
        "\n",
        "(2)如果運行過程中斷網，然後重新運行程序，但在66重新運行之前另一台伺服器76已經獲取了鎖並正在運行collection.py，那麼66在嘗試獲取鎖時會發現鎖文件已經存在，並且伺服器標識 文件中記錄的伺服器ID 不符合目前伺服器ID。 這時，66會等待一段時間後再嘗試重新取得鎖。 當76執行完成並釋放鎖定後，66將能夠取得鎖定並正常執行 collection.py。\n"
      ],
      "metadata": {
        "id": "yuCMFGfqIAF7"
      }
    },
    {
      "cell_type": "markdown",
      "source": [
        "## third : 多進程造成lock重複刪除創建"
      ],
      "metadata": {
        "id": "qMiKJnbnHWQz"
      }
    },
    {
      "cell_type": "markdown",
      "source": [
        "創建不同mode下的lock文件"
      ],
      "metadata": {
        "id": "QuOnMIwISJ8s"
      }
    },
    {
      "cell_type": "code",
      "source": [
        "from multiprocessing import Pool\n",
        "import os\n",
        "import time\n",
        "\n",
        "# 定义锁文件的文件夹路径和服务器标识文件路径\n",
        "LOCK_FOLDER = \"lock_files\"\n",
        "SERVER_ID_FILE = \"server_id.txt\"\n",
        "\n",
        "def acquire_lock(server_id, mode):\n",
        "    \"\"\"获取锁，并记录服务器标识\"\"\"\n",
        "    lock_file = os.path.join(LOCK_FOLDER, f\"{mode}_lock\")\n",
        "    while True:\n",
        "        if os.path.exists(lock_file):\n",
        "            # 检查锁文件中记录的服务器标识\n",
        "            with open(SERVER_ID_FILE) as f:\n",
        "                locked_server_id = f.read().strip()\n",
        "            if locked_server_id == server_id:\n",
        "                # 锁文件是当前服务器创建的，但是进程意外终止导致锁文件未被释放\n",
        "                print(f\"Lock file exists but not released by Server {server_id} for mode {mode}. Attempting to remove and re-acquire...\")\n",
        "                try:\n",
        "                    os.remove(lock_file)\n",
        "                except Exception as e:\n",
        "                    print(\"Failed to remove lock file:\", str(e))\n",
        "                    # 在这里处理无法删除锁文件的情况\n",
        "            else:\n",
        "                print(f\"Another server (ID: {locked_server_id}) is running test.py for mode {mode}. Waiting for 5 seconds...\")\n",
        "                time.sleep(5)\n",
        "        else:\n",
        "            # 创建锁文件并记录服务器标识\n",
        "            try:\n",
        "                os.makedirs(LOCK_FOLDER, exist_ok=True)\n",
        "                open(lock_file, \"w\").close()\n",
        "                with open(SERVER_ID_FILE, \"w\") as f:\n",
        "                    f.write(str(server_id))\n",
        "                break\n",
        "            except Exception as e:\n",
        "                print(\"Failed to acquire lock:\", str(e))\n",
        "                # 在这里处理获取锁失败的情况\n",
        "\n",
        "def release_lock(server_id, mode):\n",
        "    \"\"\"释放锁\"\"\"\n",
        "    try:\n",
        "        lock_file = os.path.join(LOCK_FOLDER, f\"{mode}_lock\")\n",
        "        if os.path.exists(lock_file):\n",
        "            os.remove(lock_file)\n",
        "        if os.path.exists(SERVER_ID_FILE):\n",
        "            os.remove(SERVER_ID_FILE)\n",
        "    except Exception as e:\n",
        "        print(\"Failed to release lock:\", str(e))\n",
        "        # 在这里处理释放锁失败的情况\n",
        "\n",
        "def collection(option):\n",
        "    \"\"\"执行 collection 函数，并在执行前后处理锁\"\"\"\n",
        "    try:\n",
        "        mode, index = option\n",
        "        # 获取服务器标识\n",
        "        with open(SERVER_ID_FILE) as f:\n",
        "            server_id = f.read().strip()\n",
        "        # 在这里执行 collection 函数的内容\n",
        "        print(f\"Process {mode} (Server {server_id}) is running collection...\")\n",
        "        time.sleep(10)  # 模拟 collection 函数的执行时间\n",
        "    except Exception as e:\n",
        "        print(\"Error in collection:\", str(e))\n",
        "        # 在这里处理 collection 函数执行过程中的异常\n",
        "\n",
        "if __name__ == \"__main__\":\n",
        "    # 假设每个服务器有一个唯一的ID，可以根据需要自行获取\n",
        "    server_id = \"Server1\"  # 你需要替换为服务器的实际标识\n",
        "\n",
        "    # 尝试获取锁并执行 collection.py\n",
        "    for mode in ['today', 'recent', 'past']:\n",
        "        acquire_lock(server_id, mode)\n",
        "    try:\n",
        "        pool = Pool(processes=3)\n",
        "        modes = [(mode, i) for i, mode in enumerate(['today', 'recent', 'past'])]\n",
        "        pool.map(collection, modes)\n",
        "    finally:\n",
        "        for mode in ['today', 'recent', 'past']:\n",
        "            release_lock(server_id, mode)\n"
      ],
      "metadata": {
        "id": "s9gL2SQhWTvq"
      },
      "execution_count": null,
      "outputs": []
    },
    {
      "cell_type": "markdown",
      "source": [
        "* 參考命名方式"
      ],
      "metadata": {
        "id": "TKf10s8MWlFK"
      }
    },
    {
      "cell_type": "code",
      "source": [
        "from multiprocessing import Pool\n",
        "import os\n",
        "import time\n",
        "\n",
        "# 定义锁文件基本路径和服务器标识文件基本路径\n",
        "LOCK_FILE_BASE = \"test_lock_\"\n",
        "SERVER_ID_FILE_BASE = \"server_id_\"\n",
        "\n",
        "def acquire_lock(mode):\n",
        "    \"\"\"获取锁，并记录服务器标识\"\"\"\n",
        "    lock_file = LOCK_FILE_BASE + mode\n",
        "    server_id_file = SERVER_ID_FILE_BASE + mode\n",
        "    while True:\n",
        "        if os.path.exists(lock_file):\n",
        "            # 检查锁文件中记录的服务器标识\n",
        "            with open(server_id_file) as f:\n",
        "                locked_server_id = f.read().strip()\n",
        "            print(f\"Another process for mode {mode} (Server {locked_server_id}) is running test.py. Waiting for 5 seconds...\")\n",
        "            time.sleep(5)\n",
        "        else:\n",
        "            # 创建锁文件并记录服务器标识\n",
        "            try:\n",
        "                open(lock_file, \"w\").close()\n",
        "                with open(server_id_file, \"w\") as f:\n",
        "                    f.write(str(os.getpid()))\n",
        "                break\n",
        "            except Exception as e:\n",
        "                print(f\"Failed to acquire lock for mode {mode}:\", str(e))\n",
        "                # 在这里处理获取锁失败的情况\n",
        "\n",
        "def release_lock(mode):\n",
        "    \"\"\"释放锁\"\"\"\n",
        "    lock_file = LOCK_FILE_BASE + mode\n",
        "    server_id_file = SERVER_ID_FILE_BASE + mode\n",
        "    try:\n",
        "        if os.path.exists(lock_file):\n",
        "            os.remove(lock_file)\n",
        "        if os.path.exists(server_id_file):\n",
        "            os.remove(server_id_file)\n",
        "    except Exception as e:\n",
        "        print(f\"Failed to release lock for mode {mode}:\", str(e))\n",
        "        # 在这里处理释放锁失败的情况\n",
        "\n",
        "def collection(mode):\n",
        "    \"\"\"执行 collection 函数，并在执行前后处理锁\"\"\"\n",
        "    try:\n",
        "        # 获取服务器标识\n",
        "        server_id_file = SERVER_ID_FILE_BASE + mode\n",
        "        with open(server_id_file) as f:\n",
        "            server_id = f.read().strip()\n",
        "        # 在这里执行 collection 函数的内容\n",
        "        print(f\"Process for mode {mode} (Server {server_id}) is running collection...\")\n",
        "        time.sleep(10)  # 模拟 collection 函数的执行时间\n",
        "    except Exception as e:\n",
        "        print(f\"Error in collection for mode {mode}:\", str(e))\n",
        "        # 在这里处理 collection 函数执行过程中的异常\n",
        "\n",
        "if __name__ == \"__main__\":\n",
        "    # 假设每个服务器有一个唯一的ID，可以根据需要自行获取\n",
        "    server_id = \"Server1\"  # 你需要替换为服务器的实际标识\n",
        "\n",
        "    # 尝试获取锁并执行 collection.py\n",
        "    try:\n",
        "        pool = Pool(processes=3)\n",
        "        for mode in ['today', 'recent', 'past']:\n",
        "            acquire_lock(mode)\n",
        "            pool.apply_async(collection, args=(mode,))\n",
        "        pool.close()\n",
        "        pool.join()\n",
        "    finally:\n",
        "        # 释放所有模式的锁\n",
        "        for mode in ['today', 'recent', 'past']:\n",
        "            release_lock(mode)\n"
      ],
      "metadata": {
        "id": "04S7VKxIWnAE"
      },
      "execution_count": null,
      "outputs": []
    }
  ]
}