{
  "nbformat": 4,
  "nbformat_minor": 0,
  "metadata": {
    "colab": {
      "provenance": [],
      "authorship_tag": "ABX9TyMXM6UAWiroelwIIqF6Yczp",
      "include_colab_link": true
    },
    "kernelspec": {
      "name": "python3",
      "display_name": "Python 3"
    },
    "language_info": {
      "name": "python"
    }
  },
  "cells": [
    {
      "cell_type": "markdown",
      "metadata": {
        "id": "view-in-github",
        "colab_type": "text"
      },
      "source": [
        "<a href=\"https://colab.research.google.com/github/Annie00000/Project/blob/main/4_24.ipynb\" target=\"_parent\"><img src=\"https://colab.research.google.com/assets/colab-badge.svg\" alt=\"Open In Colab\"/></a>"
      ]
    },
    {
      "cell_type": "markdown",
      "source": [
        "### WALIMT"
      ],
      "metadata": {
        "id": "qQsXcjhYkzZQ"
      }
    },
    {
      "cell_type": "code",
      "source": [
        "SELECT\n",
        "    a.col1,\n",
        "    a.col2,\n",
        "    a.col3,\n",
        "    a.col4,\n",
        "    a.col5,\n",
        "    SUBSTRING(a.col1, 1, 7) AS col1_7\n",
        "FROM\n",
        "    YourDatabase a\n",
        "INNER JOIN (\n",
        "    SELECT\n",
        "        col1,\n",
        "        MAX(col2) AS max_col2\n",
        "    FROM\n",
        "        YourDatabase\n",
        "    GROUP BY\n",
        "        col1\n",
        ") b ON a.col1 = b.col1 AND a.col2 = b.max_col2\n",
        "WHERE\n",
        "    SUBSTRING(a.col1, 1, 7) = 'H02U-3A';\n"
      ],
      "metadata": {
        "id": "sRFTYyOWksEk"
      },
      "execution_count": null,
      "outputs": []
    },
    {
      "cell_type": "markdown",
      "source": [
        "## 3/5"
      ],
      "metadata": {
        "id": "v0CrIY_Xox-c"
      }
    },
    {
      "cell_type": "markdown",
      "source": [
        "* 先滑動再分組"
      ],
      "metadata": {
        "id": "gLqcJrIpqWeV"
      }
    },
    {
      "cell_type": "code",
      "source": [
        "import pandas as pd\n",
        "\n",
        "# 创建DataFrame\n",
        "data = {\n",
        "    'col1': ['A', 'A', 'B', 'B', 'C', 'C', 'A', 'B', 'C'],\n",
        "    'col2': ['aa', 'bb', 'bb', 'aa', 'aa', 'cc', 'cc', 'cc', 'bb'],\n",
        "    'col3': [1, 0, 0, 0, 1, 1, 0, 1, 0]\n",
        "}\n",
        "df = pd.DataFrame(data)\n",
        "\n",
        "# 计算滑动窗口中1的比例\n",
        "df['percentage'] = df['col3'].rolling(window=5).mean()\n",
        "\n",
        "# 基于col1和col2分组，计算每组的平均比例\n",
        "result_df = df.groupby(['col1', 'col2'])['percentage'].mean().reset_index()\n",
        "\n",
        "# 打印结果\n",
        "print(result_df)\n"
      ],
      "metadata": {
        "id": "oxFWSxPzqeq9"
      },
      "execution_count": null,
      "outputs": []
    },
    {
      "cell_type": "markdown",
      "source": [
        "* 先分組在滑動"
      ],
      "metadata": {
        "id": "o7ETonkCqY_e"
      }
    },
    {
      "cell_type": "code",
      "source": [
        "import pandas as pd\n",
        "\n",
        "# 创建DataFrame\n",
        "data = {\n",
        "    'col1': ['A', 'A', 'B', 'B', 'C', 'C', 'A', 'B', 'C'],\n",
        "    'col2': ['aa', 'bb', 'bb', 'aa', 'aa', 'cc', 'cc', 'cc', 'bb'],\n",
        "    'col3': [1, 0, 0, 0, 1, 1, 0, 1, 0]\n",
        "}\n",
        "df = pd.DataFrame(data)\n",
        "\n",
        "# 定义一个函数来计算每个组内的滑动窗口比例\n",
        "def calculate_rolling_percentage(group):\n",
        "    group['percentage'] = group['col3'].rolling(window=5).mean()  # 使用min_periods=1允许较小的窗口\n",
        "    return group\n",
        "\n",
        "# 先根据col1和col2分组，然后应用函数\n",
        "grouped_df = df.groupby(['col1', 'col2']).apply(calculate_rolling_percentage)\n",
        "\n",
        "# 重置索引\n",
        "grouped_df = grouped_df.reset_index(drop=True)\n",
        "\n",
        "# 计算每个分组的平均比例\n",
        "result_df = grouped_df.groupby(['col1', 'col2'])['percentage'].mean().reset_index()\n",
        "\n",
        "# 重命名列以更清晰表示数据意义\n",
        "result_df.columns = ['col1', 'col2', 'average_percentage']\n",
        "\n",
        "# 显示结果\n",
        "print(result_df)\n"
      ],
      "metadata": {
        "id": "JRoIBX0PqjKM"
      },
      "execution_count": null,
      "outputs": []
    },
    {
      "cell_type": "markdown",
      "source": [
        "* 滑動，不滿數還是計算"
      ],
      "metadata": {
        "id": "CnMndnb4sfWr"
      }
    },
    {
      "cell_type": "code",
      "source": [
        "import pandas as pd\n",
        "\n",
        "data = {\n",
        "    'Values': [10, 20, 30, 40, 50]\n",
        "}\n",
        "df = pd.DataFrame(data)\n",
        "\n",
        "# 窗口大小\n",
        "window_size = 3\n",
        "\n",
        "# 生成滑动窗口的列表\n",
        "results = [df['Values'].iloc[i:i+window_size].tolist() for i in range(len(df) - window_size + 1)]\n",
        "\n",
        "# 添加剩余元素为最后一组（如果有的话）\n",
        "if len(df) % window_size != 0:\n",
        "    results.append(df['Values'].iloc[-(len(df) % window_size):].tolist())\n",
        "\n",
        "print(results)\n"
      ],
      "metadata": {
        "id": "jLnMU2qQssU0"
      },
      "execution_count": null,
      "outputs": []
    },
    {
      "cell_type": "markdown",
      "source": [
        "这个代码的工作方式如下：\n",
        "\n",
        "1. 数据初始化：首先定义了一个包含数值的简单 DataFrame。\n",
        "2. 窗口大小设定：设定一个变量 window_size 为 3。\n",
        "3. 循环生成窗口：通过一个列表推导式，从第一个元素开始，每次向下移动一格，生成包含连续3个元素的列表。这一操作持续到倒数第三个元素（因为 range(len(df) - window_size + 1) 会停在允许的最后一个完整窗口的起始索引）。\n",
        "4. 处理剩余元素：如果 DataFrame 的长度不能被窗口大小整除，剩余的元素（最后不足窗口大小的部分）将被添加为最后一个窗口。\n",
        "\n",
        "这样，results 将包含所有滑动窗口，包括末尾不完整的窗口。这种方法适合在数据长度不是窗口长度整数倍的情况下使用，可以确保所有数据都被考虑。如果你有其他的处理需求或者想要对数据进行特定的统计计算，请告知以便进一步修改代码。"
      ],
      "metadata": {
        "id": "hv2y96krsuXt"
      }
    }
  ]
}