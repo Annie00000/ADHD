{
  "nbformat": 4,
  "nbformat_minor": 0,
  "metadata": {
    "colab": {
      "provenance": [],
      "authorship_tag": "ABX9TyNWg8XSJ8nk42kKwzPMsesY",
      "include_colab_link": true
    },
    "kernelspec": {
      "name": "python3",
      "display_name": "Python 3"
    },
    "language_info": {
      "name": "python"
    }
  },
  "cells": [
    {
      "cell_type": "markdown",
      "metadata": {
        "id": "view-in-github",
        "colab_type": "text"
      },
      "source": [
        "<a href=\"https://colab.research.google.com/github/Annie00000/Project/blob/main/4_12.ipynb\" target=\"_parent\"><img src=\"https://colab.research.google.com/assets/colab-badge.svg\" alt=\"Open In Colab\"/></a>"
      ]
    },
    {
      "cell_type": "markdown",
      "source": [
        "## 1."
      ],
      "metadata": {
        "id": "OzAEoY6vDE2Y"
      }
    },
    {
      "cell_type": "markdown",
      "source": [
        "1. **收集DataTable勾选的列**：使用Dash的回调机制，监听每个DataTable的selected_columns属性变化，从而获取勾选的列名。\n",
        "2. **构建URL**：基于选中的列名构建一个URL，该URL包含你希望传递给新页面的所有选中列名作为查询参数。\n",
        "3. **使用html.A创建链接**：将这个URL设置为html.A组件的href属性，使得点击该链接时能够在新标签页中打开新页面，并通过URL传递数据。"
      ],
      "metadata": {
        "id": "VpEGn9MPCl-I"
      }
    },
    {
      "cell_type": "code",
      "source": [
        "from dash.dependencies import Input, Output, State\n",
        "import urllib.parse\n",
        "\n",
        "# 假设你的Dash app实例叫做app\n",
        "\n",
        "@app.callback(\n",
        "    Output('plot-link', 'href'),  # 'plot-link'是你准备用来放置html.A组件的id\n",
        "    [Input({'type': 'select-table', 'index': ALL}, 'selected_columns')]  # 监听所有DataTable的selected_columns属性\n",
        ")\n",
        "def update_plot_link(selected_columns_list):\n",
        "    # 将选中的列名收集到一个列表中\n",
        "    selected_columns = [col for sublist in selected_columns_list for col in sublist]\n",
        "    # 创建查询参数\n",
        "    query_params = urllib.parse.urlencode({'col': selected_columns})\n",
        "    # 构建新页面的URL\n",
        "    url = f'/your-new-page-path/?{query_params}'\n",
        "    return url\n",
        "\n",
        "\n",
        "\n",
        "output.append(\n",
        "    html.Div(\n",
        "        children=[\n",
        "            html.A(\n",
        "                'Plot Selected Columns',\n",
        "                id='plot-link',\n",
        "                href='',  # 这个href将通过回调更新\n",
        "                target='_blank'  # 在新标签页中打开链接\n",
        "            )\n",
        "        ],\n",
        "        style={'display': 'inline-block', 'width': '100%', 'textAlign': 'center'}\n",
        "    )\n",
        ")\n"
      ],
      "metadata": {
        "id": "uBsQBl4bDOrU"
      },
      "execution_count": null,
      "outputs": []
    },
    {
      "cell_type": "markdown",
      "source": [
        "在这个实现中，用户通过选择不同的DataTable中的列，回调函数update_plot_link会被触发，根据用户的选择更新html.A组件的href属性。点击\"Plot Selected Columns\"链接时，就会根据构建的URL在新标签页中打开新页面，并将选中的列名作为查询参数传递。\n",
        "\n",
        "请注意，这里只是一个示例，你可能需要根据实际情况调整URL的构建方式、回调函数和其它细节。"
      ],
      "metadata": {
        "id": "rHPVm-Z5DTZy"
      }
    },
    {
      "cell_type": "markdown",
      "source": [
        "## 2."
      ],
      "metadata": {
        "id": "yVZAKbWoCkJT"
      }
    },
    {
      "cell_type": "code",
      "source": [
        "import dash\n",
        "from dash import dcc, html\n",
        "from dash.dependencies import Input, Output, State\n",
        "import dash_table\n",
        "import pandas as pd\n",
        "\n",
        "# 假设的数据\n",
        "data = pd.DataFrame({\n",
        "    'col1': range(1, 11),\n",
        "    'col2': range(11, 21),\n",
        "    'col3': range(21, 31),\n",
        "})\n",
        "\n",
        "# 初始化Dash应用\n",
        "app = dash.Dash(__name__)\n",
        "\n",
        "# 应用布局\n",
        "app.layout = html.Div([\n",
        "    dash_table.DataTable(\n",
        "        id='table',\n",
        "        columns=[{\"name\": i, \"id\": i, \"selectable\": True} for i in data.columns],\n",
        "        data=data.to_dict('records'),\n",
        "        column_selectable=\"multi\",\n",
        "    ),\n",
        "    html.Button('Plot', id='plot-button'),\n",
        "    html.Div(id='link-container')\n",
        "])\n",
        "\n",
        "# 回调函数来更新链接\n",
        "@app.callback(\n",
        "    Output('link-container', 'children'),\n",
        "    [Input('plot-button', 'n_clicks')],\n",
        "    [State('table', 'selected_columns')]\n",
        ")\n",
        "def update_link(n_clicks, selected_columns):\n",
        "    if n_clicks is None:\n",
        "        raise dash.exceptions.PreventUpdate\n",
        "    # 构建基础URL\n",
        "    base_url = \"http://your-new-page-url.com/page1/\"\n",
        "    # 构建查询字符串\n",
        "    query_string = \"&\".join([f\"{col}=value\" for col in selected_columns])\n",
        "    # 完整的URL\n",
        "    full_url = f\"{base_url}?{query_string}\"\n",
        "    # 创建链接\n",
        "    link = html.A('Go to Plot', href=full_url, target='_blank')\n",
        "    return link\n",
        "\n",
        "# 运行服务器\n",
        "if __name__ == '__main__':\n",
        "    app.run_server(debug=True)\n"
      ],
      "metadata": {
        "id": "lhz037w0C7oA"
      },
      "execution_count": null,
      "outputs": []
    },
    {
      "cell_type": "markdown",
      "source": [
        "在这个示例中：\n",
        "\n",
        "- 当用户在DataTable中选择列并点击“Plot”按钮时，update_link函数会被触发。\n",
        "- 函数根据选中的列名构建一个URL，并将其设置为html.A标签的href属性，文本为\"Go to Plot\"。点击这个链接会在新标签页中打开指定的URL，并携带选中的列名作为查询参数。\n",
        "- 注意替换base_url为你实际的新页面URL。\n",
        "\n",
        "这个基础示例展示了如何通过Dash回调和URL查询参数在页面之间传递数据。你可能需要根据你的具体需求调整代码，比如如何处理选中列的值传递等。"
      ],
      "metadata": {
        "id": "pBdCpGzrC-CA"
      }
    },
    {
      "cell_type": "markdown",
      "source": [
        "## 3. 雜湊"
      ],
      "metadata": {
        "id": "Qg3UKscKEPgA"
      }
    },
    {
      "cell_type": "code",
      "source": [
        "# 将selected_data转换为JSON字符串，并进行URL编码\n",
        "encoded_data = urllib.parse.quote(json.dumps(selected_data))\n",
        "# 构造新页面的URL，附加编码后的数据作为查询参数\n",
        "new_page_url = f'/page1/?data={encoded_data}'"
      ],
      "metadata": {
        "id": "8SyzeZBIEPLe"
      },
      "execution_count": null,
      "outputs": []
    }
  ]
}