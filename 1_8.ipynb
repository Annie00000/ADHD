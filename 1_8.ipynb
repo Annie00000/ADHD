{
  "nbformat": 4,
  "nbformat_minor": 0,
  "metadata": {
    "colab": {
      "provenance": [],
      "authorship_tag": "ABX9TyObO9V2NXGqD40uu1RJ8NrY",
      "include_colab_link": true
    },
    "kernelspec": {
      "name": "python3",
      "display_name": "Python 3"
    },
    "language_info": {
      "name": "python"
    }
  },
  "cells": [
    {
      "cell_type": "markdown",
      "metadata": {
        "id": "view-in-github",
        "colab_type": "text"
      },
      "source": [
        "<a href=\"https://colab.research.google.com/github/Annie00000/Project/blob/main/1_8.ipynb\" target=\"_parent\"><img src=\"https://colab.research.google.com/assets/colab-badge.svg\" alt=\"Open In Colab\"/></a>"
      ]
    },
    {
      "cell_type": "markdown",
      "source": [
        "### 紀錄處理狀態"
      ],
      "metadata": {
        "id": "VPjswfCZ2IPG"
      }
    },
    {
      "cell_type": "markdown",
      "source": [
        "1. 紀錄完成的 issue_number 或已處理的 group/stat 組合\n",
        "\n",
        "  可以使用一個 Excel 或 TXT 文件來紀錄每次成功處理的 issue_number 或 group/stat 組合。\n",
        "\n",
        "2. 重啟時檢查紀錄文件\n",
        "\n",
        "  程式啟動時，先讀取紀錄文件，跳過已完成的部分，避免重複處理。"
      ],
      "metadata": {
        "id": "OQzrX1LW2MZZ"
      }
    },
    {
      "cell_type": "code",
      "source": [
        "\"\"\"\n",
        "在每次成功上拋後，將成功的 issue_number 或相關資訊寫入紀錄文件：\n",
        "\"\"\"\n",
        "\n",
        "import pandas as pd\n",
        "import os\n",
        "\n",
        "# 紀錄文件路徑\n",
        "record_file = \"processed_records.xlsx\"\n",
        "\n",
        "# 初始化紀錄文件\n",
        "if not os.path.exists(record_file):\n",
        "    pd.DataFrame(columns=[\"issue_number\", \"group\", \"stat\"]).to_excel(record_file, index=False)\n",
        "\n",
        "# 加載紀錄文件\n",
        "processed_records = pd.read_excel(record_file)\n",
        "\n",
        "# 紀錄處理完成的 group/stat\n",
        "def update_record(issue_number, group, stat):\n",
        "    new_record = pd.DataFrame({\"issue_number\": [issue_number], \"group\": [group], \"stat\": [stat]})\n",
        "    updated_records = pd.concat([processed_records, new_record], ignore_index=True)\n",
        "    updated_records.to_excel(record_file, index=False)\n"
      ],
      "metadata": {
        "id": "mZkeC9Ge2JkV"
      },
      "execution_count": null,
      "outputs": []
    },
    {
      "cell_type": "code",
      "source": [
        "\"\"\"\n",
        "篩掉已處理的資料 , 在程式啟動時，讀取紀錄文件，過濾掉已完成的 group/stat 組合：\n",
        "\"\"\"\n",
        "# 加載已處理的紀錄\n",
        "processed_records = pd.read_excel(record_file)\n",
        "\n",
        "# 過濾已處理的 group/stat\n",
        "for group, data in df1.groupby(\"col1\"):\n",
        "    if group in processed_records[\"group\"].values:\n",
        "        continue  # 跳過已處理的 group\n",
        "\n",
        "    rule = rule_df[rule_df[\"name\"] == group]\n",
        "    for stat in rule[\"STAT\"].unique():\n",
        "        if (processed_records[(processed_records[\"group\"] == group) & (processed_records[\"stat\"] == stat)].shape[0] > 0):\n",
        "            continue  # 跳過已處理的 group/stat\n",
        "\n",
        "        # 執行未處理的邏輯\n",
        "        res = func1(data, stat)\n",
        "        note_res = res[res['time'] > '2024-10-10']\n",
        "        for i, item in note_res.iterrows():\n",
        "            issue_number += 1\n",
        "            upload_data = (\n",
        "                df[(df[\"col1\"] == item[\"col1\"]) & (df[\"col2\"] == item[\"col2\"])]\n",
        "                if base == \"lot\" else item.copy()\n",
        "            )\n",
        "            for idx, row in upload_data.iterrows():\n",
        "                a = insert(issue_number, row)  # 上拋至 SQL server\n",
        "                if a.status == 200:\n",
        "                    print(\"upload successful\")\n",
        "                    update_record(issue_number, group, stat)  # 紀錄成功的事件\n",
        "                else:\n",
        "                    print(\"upload failed\")\n"
      ],
      "metadata": {
        "id": "WaMcx8ls22rI"
      },
      "execution_count": null,
      "outputs": []
    },
    {
      "cell_type": "markdown",
      "source": [],
      "metadata": {
        "id": "yX8UTO1o22Y0"
      }
    }
  ]
}