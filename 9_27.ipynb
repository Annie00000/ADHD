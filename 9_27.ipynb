{
  "nbformat": 4,
  "nbformat_minor": 0,
  "metadata": {
    "colab": {
      "provenance": [],
      "authorship_tag": "ABX9TyMUG0h7X1YgIFw9zU5l2Q3N",
      "include_colab_link": true
    },
    "kernelspec": {
      "name": "python3",
      "display_name": "Python 3"
    },
    "language_info": {
      "name": "python"
    }
  },
  "cells": [
    {
      "cell_type": "markdown",
      "metadata": {
        "id": "view-in-github",
        "colab_type": "text"
      },
      "source": [
        "<a href=\"https://colab.research.google.com/github/Annie00000/Project/blob/main/9_27.ipynb\" target=\"_parent\"><img src=\"https://colab.research.google.com/assets/colab-badge.svg\" alt=\"Open In Colab\"/></a>"
      ]
    },
    {
      "cell_type": "markdown",
      "source": [
        "## Rule 1\n",
        "\n",
        "單一點落在3外"
      ],
      "metadata": {
        "id": "3GPYQm-fsG80"
      }
    },
    {
      "cell_type": "markdown",
      "source": [
        "#### 1.1 一般 (未分群，只查看 value)"
      ],
      "metadata": {
        "id": "oyqJaUl6ujQo"
      }
    },
    {
      "cell_type": "code",
      "source": [
        "import pandas as pd\n",
        "\n",
        "def check_western_electric_rule1(df, column_name, k):\n",
        "    \"\"\"\n",
        "    檢查 Western Electric Rule 1 是否被觸發。\n",
        "\n",
        "    參數:\n",
        "    df (pandas.DataFrame): 包含過程數據的 DataFrame。\n",
        "    column_name (str): DataFrame 中包含過程變數的列名。\n",
        "    k (float): 控制限的倍數，通常為 3 倍標準差。\n",
        "\n",
        "    返回:\n",
        "    violations (pandas.DataFrame): 包含違規點的 DataFrame。\n",
        "    \"\"\"\n",
        "    # 計算平均值和標準差\n",
        "    mean = df[column_name].mean()\n",
        "    std_dev = df[column_name].std()\n",
        "\n",
        "    # 計算控制限\n",
        "    upper_control_limit = mean + k * std_dev\n",
        "    lower_control_limit = mean - k * std_dev\n",
        "\n",
        "    # 檢測違規的點\n",
        "    mask = (df[column_name] > upper_control_limit) | (df[column_name] < lower_control_limit)\n",
        "    violations = df[mask]\n",
        "\n",
        "    return violations\n",
        "\n",
        "# 示例使用\n",
        "# 假設 'process_data' 是一個 DataFrame，並且我們關心名為 'measurement' 的列\n",
        "# process_data = pd.read_excel('path_to_your_file.xlsx')  # 加載你的數據\n",
        "# rule1_violations = check_western_electric_rule1(process_data, 'measurement', 3)\n",
        "# print(rule1_violations)\n"
      ],
      "metadata": {
        "id": "wawPH-irsImR"
      },
      "execution_count": null,
      "outputs": []
    },
    {
      "cell_type": "markdown",
      "source": [
        "#### 1.2 有分群"
      ],
      "metadata": {
        "id": "871vZzsfuuON"
      }
    },
    {
      "cell_type": "markdown",
      "source": [
        "## Rule 2\n",
        "\n",
        "連續9點同一側"
      ],
      "metadata": {
        "id": "LoEBPYkvsJMH"
      }
    },
    {
      "cell_type": "code",
      "source": [
        "import pandas as pd\n",
        "\n",
        "def western_electric_rule2(df, k, cal_col, mean, filter_ls=None):\n",
        "    record = []\n",
        "\n",
        "    # 如果 filter_ls 為空，直接對整個 DataFrame 進行檢查\n",
        "    if not filter_ls:\n",
        "        for i in range(len(df) - k + 1):\n",
        "            sub_df = df[cal_col].iloc[i:i+k]\n",
        "            # 檢查是否連續 k 點都大於均值或小於均值\n",
        "            if all(sub_df > mean) or all(sub_df < mean):\n",
        "                # 如果找到符合條件的連續 k 點，記錄這些點的第 k 點（即第9點）\n",
        "                record.append(df.iloc[i + k - 1])\n",
        "\n",
        "    # 如果有分群條件\n",
        "    else:\n",
        "        grouped = df.groupby(filter_ls)\n",
        "        for name, group in grouped:\n",
        "            for i in range(len(group) - k + 1):\n",
        "                sub_df = group[cal_col].iloc[i:i+k]\n",
        "                # 檢查是否連續 k 點都大於均值或小於均值\n",
        "                if all(sub_df > mean) or all(sub_df < mean):\n",
        "                    # 如果找到符合條件的連續 k 點，記錄這些點的第 k 點（即第9點）\n",
        "                    record.append(group.iloc[i + k - 1])\n",
        "\n",
        "    # 回傳符合條件的紀錄\n",
        "    return pd.DataFrame(record)\n"
      ],
      "metadata": {
        "id": "fcl3pW2KC0x8"
      },
      "execution_count": null,
      "outputs": []
    },
    {
      "cell_type": "markdown",
      "source": [
        "## Rule 3 (已做過)"
      ],
      "metadata": {
        "id": "YR2cqp9Hxv7A"
      }
    },
    {
      "cell_type": "code",
      "source": [
        "import pandas as pd\n",
        "\n",
        "def western_electric_rule3(df, k, cal_col, filter_ls=None):\n",
        "    record = []\n",
        "\n",
        "    # 如果 filter_ls 為空，直接對整個 DataFrame 進行檢查\n",
        "    if not filter_ls:\n",
        "        for i in range(len(df) - k + 1):\n",
        "            sub_df = df[cal_col].iloc[i:i+k]\n",
        "            # 檢查是否單調遞增或單調遞減\n",
        "            if all(sub_df.diff().dropna() > 0) or all(sub_df.diff().dropna() < 0):\n",
        "                # 如果找到符合條件的連續 k 點，記錄這些點的第 k 點\n",
        "                record.append(df.iloc[i + k - 1])\n",
        "\n",
        "    # 如果有分群條件\n",
        "    else:\n",
        "        grouped = df.groupby(filter_ls)\n",
        "        for name, group in grouped:\n",
        "            for i in range(len(group) - k + 1):\n",
        "                sub_df = group[cal_col].iloc[i:i+k]\n",
        "                # 檢查是否單調遞增或單調遞減\n",
        "                if all(sub_df.diff().dropna() > 0) or all(sub_df.diff().dropna() < 0):\n",
        "                    # 如果找到符合條件的連續 k 點，記錄這些點的第 k 點\n",
        "                    record.append(group.iloc[i + k - 1])\n",
        "\n",
        "    # 回傳符合條件的紀錄\n",
        "    return pd.DataFrame(record)\n"
      ],
      "metadata": {
        "id": "3OPK9n-UENsz"
      },
      "execution_count": null,
      "outputs": []
    },
    {
      "cell_type": "markdown",
      "source": [
        "## Rule 4"
      ],
      "metadata": {
        "id": "jsSfPje1x4TQ"
      }
    },
    {
      "cell_type": "code",
      "source": [
        "import pandas as pd\n",
        "\n",
        "def western_electric_rule4(df, k, cal_col, filter_ls=None):\n",
        "    record = []\n",
        "\n",
        "    # 如果 filter_ls 為空，直接對整個 DataFrame 進行檢查\n",
        "    if not filter_ls:\n",
        "        for i in range(len(df) - k + 1):\n",
        "            sub_df = df[cal_col].iloc[i:i+k].values\n",
        "            # 檢查是否交替上升下降\n",
        "            if all((sub_df[j] < sub_df[j+1] and sub_df[j+1] > sub_df[j+2]) or\n",
        "                   (sub_df[j] > sub_df[j+1] and sub_df[j+1] < sub_df[j+2])\n",
        "                   for j in range(k - 2)):\n",
        "                # 如果找到符合條件的連續 k 點，記錄這些點的第 k 點\n",
        "                record.append(df.iloc[i + k - 1])\n",
        "\n",
        "    # 如果有分群條件\n",
        "    else:\n",
        "        grouped = df.groupby(filter_ls)\n",
        "        for name, group in grouped:\n",
        "            for i in range(len(group) - k + 1):\n",
        "                sub_df = group[cal_col].iloc[i:i+k].values\n",
        "                # 檢查是否交替上升下降\n",
        "                if all((sub_df[j] < sub_df[j+1] and sub_df[j+1] > sub_df[j+2]) or\n",
        "                       (sub_df[j] > sub_df[j+1] and sub_df[j+1] < sub_df[j+2])\n",
        "                       for j in range(k - 2)):\n",
        "                    # 如果找到符合條件的連續 k 點，記錄這些點的第 k 點\n",
        "                    record.append(group.iloc[i + k - 1])\n",
        "\n",
        "    # 回傳符合條件的紀錄\n",
        "    return pd.DataFrame(record)\n"
      ],
      "metadata": {
        "id": "fHQa-Pr0Grtl"
      },
      "execution_count": null,
      "outputs": []
    },
    {
      "cell_type": "markdown",
      "source": [
        "說明：\n",
        "1. 使用 all()：在主程式中直接使用 all() 函數來檢查 sub_df 是否符合交替上升或下降的條件。條件是：\n",
        "\n",
        "  * sub_df[j] < sub_df[j+1] and sub_df[j+1] > sub_df[j+2]：檢查第 j 和 j+1 點是上升，然後 j+1 和 j+2 是下降。\n",
        "  * sub_df[j] > sub_df[j+1] and sub_df[j+1] < sub_df[j+2]：檢查第 j 和 j+1 點是下降，然後 j+1 和 j+2 是上升。\n",
        "2. 遍歷的長度：我們只需要遍歷到 k-2，因為每次檢查三個相鄰的點。\n",
        "\n",
        "3. 分群條件：如果有 filter_ls，會先對 df 進行分群，然後對每個分群中的資料進行相同的檢查。"
      ],
      "metadata": {
        "id": "Wq3bNXmSGwNx"
      }
    },
    {
      "cell_type": "code",
      "source": [
        "def western_electric_rule4_v2(df, k, col_name):\n",
        "    # 初始化一個空的 DataFrame 來存儲結果\n",
        "    columns = ['col1', 'col2', 'col_value']\n",
        "    for i in range(k, 0, -1):\n",
        "        columns.append(f'point{i}')\n",
        "        columns.append(f'point{i}_value')\n",
        "\n",
        "    results = pd.DataFrame(columns=columns)\n",
        "\n",
        "    # 檢查每個點是否符合連續 k 點交替上升下降的規則\n",
        "    for i in range(len(df) - k + 1):\n",
        "        sub_df = df[col_name].iloc[i:i+k].values\n",
        "        # 檢查是否交替上升下降\n",
        "        is_alternating = all((sub_df[j] > sub_df[j-1] and sub_df[j+1] < sub_df[j]) or\n",
        "                             (sub_df[j] < sub_df[j-1] and sub_df[j+1] > sub_df[j])\n",
        "                             for j in range(1, k-1))\n",
        "        if is_alternating:\n",
        "            # 如果找到符合條件的連續 k 點，記錄這些點及其索引\n",
        "            row = {\n",
        "                'col1': df.iloc[i+k-1]['col1'],  # 根據實際需求自行調整\n",
        "                'col2': df.iloc[i+k-1]['col2'],  # 根據實際需求自行調整\n",
        "                'col_value': df[col_name].iloc[i+k-1]\n",
        "            }\n",
        "            for j in range(k):\n",
        "                row[f'point{k-j}'] = i+k-j\n",
        "                row[f'point{k-j}_value'] = df[col_name].iloc[i+k-j]\n",
        "\n",
        "            results = results.append(row, ignore_index=True)\n",
        "\n",
        "    return results\n",
        "\n",
        "# 測試函數\n",
        "result_rule4_v2 = western_electric_rule4_v2(df, 14, 'col_name')\n",
        "tools.display_dataframe_to_user(name=\"Western Electric Rule 4 Results (Corrected)\", dataframe=result_rule4_v2)\n"
      ],
      "metadata": {
        "id": "m0EbTvuJjoEa"
      },
      "execution_count": null,
      "outputs": []
    },
    {
      "cell_type": "markdown",
      "source": [
        "## Rule 5"
      ],
      "metadata": {
        "id": "xNoPVXTfHARw"
      }
    },
    {
      "cell_type": "markdown",
      "source": [
        "連續三點中的兩點落在 2 sigma之外 (與中線距離超過 2 sigma)\n",
        "\n",
        "(好像是之前2/3 ooc)"
      ],
      "metadata": {
        "id": "mOC-MvjxIl6r"
      }
    },
    {
      "cell_type": "code",
      "source": [
        "import pandas as pd\n",
        "\n",
        "def western_electric_rule_custom(df, cal_col, mean, sigma, filter_ls=None):\n",
        "    record = []\n",
        "\n",
        "    # 計算 2 sigma 的上下界限\n",
        "    upper_limit = mean + 2 * sigma\n",
        "    lower_limit = mean - 2 * sigma\n",
        "\n",
        "    # 如果 filter_ls 為空，直接對整個 DataFrame 進行檢查\n",
        "    if not filter_ls:\n",
        "        for i in range(len(df) - 2):\n",
        "            sub_df = df[cal_col].iloc[i:i+3].values\n",
        "            # 檢查三個點中的兩個點是否落在 2 sigma 之外\n",
        "            outside_sigma = [(x > upper_limit or x < lower_limit) for x in sub_df]\n",
        "            if sum(outside_sigma) >= 2:\n",
        "                # 如果找到符合條件的情況，記錄這些點的第 3 點\n",
        "                record.append(df.iloc[i + 2])\n",
        "\n",
        "    # 如果有分群條件\n",
        "    else:\n",
        "        grouped = df.groupby(filter_ls)\n",
        "        for name, group in grouped:\n",
        "            for i in range(len(group) - 2):\n",
        "                sub_df = group[cal_col].iloc[i:i+3].values\n",
        "                # 檢查三個點中的兩個點是否落在 2 sigma 之外\n",
        "                outside_sigma = [(x > upper_limit or x < lower_limit) for x in sub_df]\n",
        "                if sum(outside_sigma) >= 2:\n",
        "                    # 如果找到符合條件的情況，記錄這些點的第 3 點\n",
        "                    record.append(group.iloc[i + 2])\n",
        "\n",
        "    # 回傳符合條件的紀錄\n",
        "    return pd.DataFrame(record)\n"
      ],
      "metadata": {
        "id": "N-8nOdmjxxbd"
      },
      "execution_count": null,
      "outputs": []
    },
    {
      "cell_type": "markdown",
      "source": [
        "* 改版 (確保最後一個點是)"
      ],
      "metadata": {
        "id": "2frQ-xlMLohw"
      }
    },
    {
      "cell_type": "code",
      "source": [
        "import pandas as pd\n",
        "\n",
        "def western_electric_custom_rule(df, k, cal_col, mean, sigma, filter_ls=None):\n",
        "    record = []\n",
        "\n",
        "    # 定義 2 sigma 的上下界限\n",
        "    upper_limit = mean + 2 * sigma\n",
        "    lower_limit = mean - 2 * sigma\n",
        "\n",
        "    # 如果 filter_ls 為空，直接對整個 DataFrame 進行檢查\n",
        "    if not filter_ls:\n",
        "        for i in range(len(df) - k + 1):\n",
        "            sub_df = df[cal_col].iloc[i:i+k].values\n",
        "            # 計算每一個點是否落在 2 sigma 外\n",
        "            is_outside_sigma = [(val > upper_limit or val < lower_limit) for val in sub_df]\n",
        "\n",
        "            # 檢查連續三點中的至少兩點落在 2 sigma 之外，且最後一個點必須符合\n",
        "            if sum(is_outside_sigma) >= 2 and is_outside_sigma[-1]:\n",
        "                # 如果找到符合條件的連續 k 點，記錄這些點的最後一點\n",
        "                record.append(df.iloc[i + k - 1])\n",
        "\n",
        "    # 如果有分群條件\n",
        "    else:\n",
        "        grouped = df.groupby(filter_ls)\n",
        "        for name, group in grouped:\n",
        "            for i in range(len(group) - k + 1):\n",
        "                sub_df = group[cal_col].iloc[i:i+k].values\n",
        "                # 計算每一個點是否落在 2 sigma 外\n",
        "                is_outside_sigma = [(val > upper_limit or val < lower_limit) for val in sub_df]\n",
        "\n",
        "                # 檢查連續三點中的至少兩點落在 2 sigma 之外，且最後一個點必須符合\n",
        "                if sum(is_outside_sigma) >= 2 and is_outside_sigma[-1]:\n",
        "                    # 如果找到符合條件的連續 k 點，記錄這些點的最後一點\n",
        "                    record.append(group.iloc[i + k - 1])\n",
        "\n",
        "    # 回傳符合條件的紀錄\n",
        "    return pd.DataFrame(record)\n"
      ],
      "metadata": {
        "id": "40sQ63U0L-Aw"
      },
      "execution_count": null,
      "outputs": []
    },
    {
      "cell_type": "markdown",
      "source": [
        "**函數參數說明：**\n",
        "\n",
        "* df: 輸入的 DataFrame。\n",
        "* cal_col: 要檢查的數值欄位名稱。\n",
        "* mean: 中心線的均值。\n",
        "* sigma: 數據的標準差。\n",
        "* n1: 連續幾個點需要檢查（例如：3點）。\n",
        "* n2: 需要超過標準差範圍的點數（例如：2點）。\n",
        "* k: 幾個標準差的倍數（例如：2倍標準差）。\n",
        "* filter_ls: 分群條件，可以為空、1個或2個，用於 groupby。\n",
        "\n",
        "\n",
        "---\n",
        "\n",
        "\n",
        "\n",
        "**主要邏輯：**\n",
        "1. 計算 k 倍標準差的上下限，即 mean + k * sigma 和 mean - k * sigma。\n",
        "2. 檢查每 n1 個連續點中是否有 n2 點超出這個範圍。\n",
        "3. 使用 sum(outside_sigma) 計算超過上下限的點數，若滿足條件（超過 n2 點），則記錄第 n1 點。"
      ],
      "metadata": {
        "id": "6SBFE2dsJjXt"
      }
    },
    {
      "cell_type": "code",
      "source": [
        "\n",
        "import pandas as pd\n",
        "\n",
        "def western_electric_rule_general(df, cal_col, mean, sigma, n1, n2, k, filter_ls=None):\n",
        "    record = []\n",
        "\n",
        "    # 計算 k 個標準差的上下界限\n",
        "    upper_limit = mean + k * sigma\n",
        "    lower_limit = mean - k * sigma\n",
        "\n",
        "    # 如果 filter_ls 為空，直接對整個 DataFrame 進行檢查\n",
        "    if not filter_ls:\n",
        "        for i in range(len(df) - n1 + 1):\n",
        "            sub_df = df[cal_col].iloc[i:i+n1].values\n",
        "            # 檢查 n1 點中有多少點落在 k sigma 之外\n",
        "            outside_sigma = [(x > upper_limit or x < lower_limit) for x in sub_df]\n",
        "            if sum(outside_sigma) >= n2:\n",
        "                # 如果找到符合條件的情況，記錄這些點的第 n1 點\n",
        "                record.append(df.iloc[i + n1 - 1])\n",
        "\n",
        "    # 如果有分群條件\n",
        "    else:\n",
        "        grouped = df.groupby(filter_ls)\n",
        "        for name, group in grouped:\n",
        "            for i in range(len(group) - n1 + 1):\n",
        "                sub_df = group[cal_col].iloc[i:i+n1].values\n",
        "                # 檢查 n1 點中有多少點落在 k sigma 之外\n",
        "                outside_sigma = [(x > upper_limit or x < lower_limit) for x in sub_df]\n",
        "                if sum(outside_sigma) >= n2:\n",
        "                    # 如果找到符合條件的情況，記錄這些點的第 n1 點\n",
        "                    record.append(group.iloc[i + n1 - 1])\n",
        "\n",
        "    # 回傳符合條件的紀錄\n",
        "    return pd.DataFrame(record)\n"
      ],
      "metadata": {
        "id": "ZichKbbBJdbR"
      },
      "execution_count": null,
      "outputs": []
    },
    {
      "cell_type": "markdown",
      "source": [
        "* 改版 (最後一個點要是)"
      ],
      "metadata": {
        "id": "oHVcJUqDMsD_"
      }
    },
    {
      "cell_type": "code",
      "source": [
        "import pandas as pd\n",
        "\n",
        "def western_electric_custom_rule(df, n1, n2, cal_col, mean, sigma, k_sigma, filter_ls=None):\n",
        "    record = []\n",
        "\n",
        "    # 定義 k sigma 的上下界限\n",
        "    upper_limit = mean + k_sigma * sigma\n",
        "    lower_limit = mean - k_sigma * sigma\n",
        "\n",
        "    # 如果 filter_ls 為空，直接對整個 DataFrame 進行檢查\n",
        "    if not filter_ls:\n",
        "        for i in range(len(df) - n1 + 1):\n",
        "            sub_df = df[cal_col].iloc[i:i+n1].values\n",
        "            # 計算每一個點是否落在 k sigma 外\n",
        "            is_outside_sigma = [(val > upper_limit or val < lower_limit) for val in sub_df]\n",
        "\n",
        "            # 檢查連續 n1 點中至少有 n2 點落在 k sigma 之外，且最後一個點必須符合\n",
        "            if sum(is_outside_sigma) >= n2 and is_outside_sigma[-1]:\n",
        "                # 如果找到符合條件的連續 n1 點，記錄這些點的最後一點\n",
        "                record.append(df.iloc[i + n1 - 1])\n",
        "\n",
        "    # 如果有分群條件\n",
        "    else:\n",
        "        grouped = df.groupby(filter_ls)\n",
        "        for name, group in grouped:\n",
        "            for i in range(len(group) - n1 + 1):\n",
        "                sub_df = group[cal_col].iloc[i:i+n1].values\n",
        "                # 計算每一個點是否落在 k sigma 外\n",
        "                is_outside_sigma = [(val > upper_limit or val < lower_limit) for val in sub_df]\n",
        "\n",
        "                # 檢查連續 n1 點中至少有 n2 點落在 k sigma 之外，且最後一個點必須符合\n",
        "                if sum(is_outside_sigma) >= n2 and is_outside_sigma[-1]:\n",
        "                    # 如果找到符合條件的連續 n1 點，記錄這些點的最後一點\n",
        "                    record.append(group.iloc[i + n1 - 1])\n",
        "\n",
        "    # 回傳符合條件的紀錄\n",
        "    return pd.DataFrame(record)\n"
      ],
      "metadata": {
        "id": "_Lx-cvDAMv_V"
      },
      "execution_count": null,
      "outputs": []
    },
    {
      "cell_type": "markdown",
      "source": [
        "## Rule 6  (同rule5)"
      ],
      "metadata": {
        "id": "VhX5l3AsJSC1"
      }
    },
    {
      "cell_type": "markdown",
      "source": [
        "## Rule 7"
      ],
      "metadata": {
        "id": "sYzDWZy0KSa6"
      }
    },
    {
      "cell_type": "markdown",
      "source": [
        "連續十五點落在 1 sigma之內 (與中線距離少於 1 sigma)"
      ],
      "metadata": {
        "id": "reTlfkfOKV_c"
      }
    },
    {
      "cell_type": "code",
      "source": [
        "import pandas as pd\n",
        "\n",
        "def western_electric_rule_sigma(df, cal_col, mean, sigma, n1, k, filter_ls=None):\n",
        "    record = []\n",
        "\n",
        "    # 計算 1 sigma 的上下界限\n",
        "    upper_limit = mean + k * sigma\n",
        "    lower_limit = mean - k * sigma\n",
        "\n",
        "    # 如果 filter_ls 為空，直接對整個 DataFrame 進行檢查\n",
        "    if not filter_ls:\n",
        "        for i in range(len(df) - n1 + 1):\n",
        "            sub_df = df[cal_col].iloc[i:i+n1].values\n",
        "            # 檢查 n1 點是否都落在 1 sigma 之內\n",
        "            inside_sigma = [(x < upper_limit and x > lower_limit) for x in sub_df]\n",
        "            if all(inside_sigma):\n",
        "                # 如果找到符合條件的情況，記錄這些點的第 n1 點\n",
        "                record.append(df.iloc[i + n1 - 1])\n",
        "\n",
        "    # 如果有分群條件\n",
        "    else:\n",
        "        grouped = df.groupby(filter_ls)\n",
        "        for name, group in grouped:\n",
        "            for i in range(len(group) - n1 + 1):\n",
        "                sub_df = group[cal_col].iloc[i:i+n1].values\n",
        "                # 檢查 n1 點是否都落在 1 sigma 之內\n",
        "                inside_sigma = [(x < upper_limit and x > lower_limit) for x in sub_df]\n",
        "                if all(inside_sigma):\n",
        "                    # 如果找到符合條件的情況，記錄這些點的第 n1 點\n",
        "                    record.append(group.iloc[i + n1 - 1])\n",
        "\n",
        "    # 回傳符合條件的紀錄\n",
        "    return pd.DataFrame(record)\n"
      ],
      "metadata": {
        "id": "UlZolpYNJcHM"
      },
      "execution_count": null,
      "outputs": []
    },
    {
      "cell_type": "markdown",
      "source": [
        "## Rule 8"
      ],
      "metadata": {
        "id": "H9gw5fL3Me_Z"
      }
    },
    {
      "cell_type": "markdown",
      "source": [
        "連續八點都在 1 sigma 之外的上下兩側 (與中線距離超過 1 sigma)"
      ],
      "metadata": {
        "id": "ttLt4Z5fMg7v"
      }
    },
    {
      "cell_type": "code",
      "source": [
        "import pandas as pd\n",
        "\n",
        "def western_electric_rule_sigma_outside(df, cal_col, mean, sigma, n1, k, filter_ls=None):\n",
        "    record = []\n",
        "\n",
        "    # 計算 1 sigma 的上下界限\n",
        "    upper_limit = mean + k * sigma\n",
        "    lower_limit = mean - k * sigma\n",
        "\n",
        "    # 如果 filter_ls 為空，直接對整個 DataFrame 進行檢查\n",
        "    if not filter_ls:\n",
        "        for i in range(len(df) - n1 + 1):\n",
        "            sub_df = df[cal_col].iloc[i:i+n1].values\n",
        "            # 檢查 n1 點是否都落在 1 sigma 之外\n",
        "            outside_sigma = [(x > upper_limit or x < lower_limit) for x in sub_df]\n",
        "            if all(outside_sigma):\n",
        "                # 如果找到符合條件的情況，記錄這些點的第 n1 點\n",
        "                record.append(df.iloc[i + n1 - 1])\n",
        "\n",
        "    # 如果有分群條件\n",
        "    else:\n",
        "        grouped = df.groupby(filter_ls)\n",
        "        for name, group in grouped:\n",
        "            for i in range(len(group) - n1 + 1):\n",
        "                sub_df = group[cal_col].iloc[i:i+n1].values\n",
        "                # 檢查 n1 點是否都落在 1 sigma 之外\n",
        "                outside_sigma = [(x > upper_limit or x < lower_limit) for x in sub_df]\n",
        "                if all(outside_sigma):\n",
        "                    # 如果找到符合條件的情況，記錄這些點的第 n1 點\n",
        "                    record.append(group.iloc[i + n1 - 1])\n",
        "\n",
        "    # 回傳符合條件的紀錄\n",
        "    return pd.DataFrame(record)\n"
      ],
      "metadata": {
        "id": "ZacsflgdMpH4"
      },
      "execution_count": null,
      "outputs": []
    },
    {
      "cell_type": "markdown",
      "source": [
        "* 檢查「連續八點都在 1 sigma 之外的上下兩側」，且要求這八點中**至少有一點**在上方超過 1 sigma，另一點在下方低於 1 sigma"
      ],
      "metadata": {
        "id": "nGgIwoFWM_Lx"
      }
    },
    {
      "cell_type": "code",
      "source": [
        "import pandas as pd\n",
        "\n",
        "def western_electric_rule_two_sides(df, cal_col, mean, sigma, n1, k, filter_ls=None):\n",
        "    record = []\n",
        "\n",
        "    # 計算 1 sigma 的上下界限\n",
        "    upper_limit = mean + k * sigma\n",
        "    lower_limit = mean - k * sigma\n",
        "\n",
        "    # 如果 filter_ls 為空，直接對整個 DataFrame 進行檢查\n",
        "    if not filter_ls:\n",
        "        for i in range(len(df) - n1 + 1):\n",
        "            sub_df = df[cal_col].iloc[i:i+n1].values\n",
        "            # 檢查 n1 點是否都落在 1 sigma 之外\n",
        "            outside_sigma = [(x > upper_limit or x < lower_limit) for x in sub_df]\n",
        "            # 確保至少一點在上方(> upper_limit)，至少一點在下方(< lower_limit)\n",
        "            has_upper = any(x > upper_limit for x in sub_df)\n",
        "            has_lower = any(x < lower_limit for x in sub_df)\n",
        "\n",
        "            # 如果都在 1 sigma 之外且兩側都有點\n",
        "            if all(outside_sigma) and has_upper and has_lower:\n",
        "                # 如果找到符合條件的情況，記錄這些點的第 n1 點\n",
        "                record.append(df.iloc[i + n1 - 1])\n",
        "\n",
        "    # 如果有分群條件\n",
        "    else:\n",
        "        grouped = df.groupby(filter_ls)\n",
        "        for name, group in grouped:\n",
        "            for i in range(len(group) - n1 + 1):\n",
        "                sub_df = group[cal_col].iloc[i:i+n1].values\n",
        "                # 檢查 n1 點是否都落在 1 sigma 之外\n",
        "                outside_sigma = [(x > upper_limit or x < lower_limit) for x in sub_df]\n",
        "                # 確保至少一點在上方(> upper_limit)，至少一點在下方(< lower_limit)\n",
        "                has_upper = any(x > upper_limit for x in sub_df)\n",
        "                has_lower = any(x < lower_limit for x in sub_df)\n",
        "\n",
        "                # 如果都在 1 sigma 之外且兩側都有點\n",
        "                if all(outside_sigma) and has_upper and has_lower:\n",
        "                    # 如果找到符合條件的情況，記錄這些點的第 n1 點\n",
        "                    record.append(group.iloc[i + n1 - 1])\n",
        "\n",
        "    # 回傳符合條件的紀錄\n",
        "    return pd.DataFrame(record)\n"
      ],
      "metadata": {
        "id": "Qd2ukRnYM_ig"
      },
      "execution_count": null,
      "outputs": []
    }
  ]
}