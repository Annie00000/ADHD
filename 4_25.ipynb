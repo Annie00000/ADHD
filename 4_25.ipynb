{
  "nbformat": 4,
  "nbformat_minor": 0,
  "metadata": {
    "colab": {
      "provenance": [],
      "authorship_tag": "ABX9TyNERMCZz6V6nq/d9bEDO1z5",
      "include_colab_link": true
    },
    "kernelspec": {
      "name": "python3",
      "display_name": "Python 3"
    },
    "language_info": {
      "name": "python"
    }
  },
  "cells": [
    {
      "cell_type": "markdown",
      "metadata": {
        "id": "view-in-github",
        "colab_type": "text"
      },
      "source": [
        "<a href=\"https://colab.research.google.com/github/Annie00000/Project/blob/main/4_25.ipynb\" target=\"_parent\"><img src=\"https://colab.research.google.com/assets/colab-badge.svg\" alt=\"Open In Colab\"/></a>"
      ]
    },
    {
      "cell_type": "markdown",
      "source": [
        "## Case 2"
      ],
      "metadata": {
        "id": "B1E5juArzE0L"
      }
    },
    {
      "cell_type": "markdown",
      "source": [
        "* Changes:\n",
        "\n",
        "1. Auto-switching of the server.\n",
        "2. Processing the entire workflow for one wafer at a time.\n",
        "3. Modification to the plotting functions.\n",
        "4. Addition of an API for image category prediction.\n",
        "5. Creation of a new database. (DCAVI_WAFER_PATTERN)"
      ],
      "metadata": {
        "id": "k68wUwZ0zgWz"
      }
    },
    {
      "cell_type": "markdown",
      "source": [
        "## Case 3"
      ],
      "metadata": {
        "id": "ClT53WFGzHdE"
      }
    },
    {
      "cell_type": "markdown",
      "source": [
        "1. Modify the condition time period filter mode.\n",
        "2. Display of query time."
      ],
      "metadata": {
        "id": "CLyoYquv2HQe"
      }
    }
  ]
}