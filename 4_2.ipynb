{
  "nbformat": 4,
  "nbformat_minor": 0,
  "metadata": {
    "colab": {
      "provenance": [],
      "authorship_tag": "ABX9TyMykX2L8OclGU2goj+9NgmG",
      "include_colab_link": true
    },
    "kernelspec": {
      "name": "python3",
      "display_name": "Python 3"
    },
    "language_info": {
      "name": "python"
    }
  },
  "cells": [
    {
      "cell_type": "markdown",
      "metadata": {
        "id": "view-in-github",
        "colab_type": "text"
      },
      "source": [
        "<a href=\"https://colab.research.google.com/github/Annie00000/Project/blob/main/4_2.ipynb\" target=\"_parent\"><img src=\"https://colab.research.google.com/assets/colab-badge.svg\" alt=\"Open In Colab\"/></a>"
      ]
    },
    {
      "cell_type": "code",
      "source": [
        "import dash\n",
        "from dash import dcc, html, Input, Output, State\n",
        "import os\n",
        "\n",
        "app = dash.Dash(__name__)\n",
        "\n",
        "app.layout = html.Div([\n",
        "    dcc.Input(id='param1', type='text', placeholder='参数1'),\n",
        "    dcc.Input(id='param2', type='text', placeholder='参数2'),\n",
        "    html.Button('提交', id='submit-button'),\n",
        "    html.Div(id='output')\n",
        "])\n",
        "\n",
        "@app.callback(\n",
        "    Output('output', 'children'),\n",
        "    Input('submit-button', 'n_clicks'),\n",
        "    [State('param1', 'value'), State('param2', 'value')]\n",
        ")\n",
        "def update_output(n_clicks, value1, value2):\n",
        "    if n_clicks is None:\n",
        "        return '请提交参数'\n",
        "\n",
        "    # 假设我们这里只处理两个参数，实际应用中可以扩展为多个\n",
        "    params = {\n",
        "        '参数1': value1 or '',\n",
        "        '参数2': value2 or '',\n",
        "        # 添加更多参数\n",
        "    }\n",
        "\n",
        "    # 构建文本内容\n",
        "    content = ', '.join(f'{key}: {value}' for key, value in params.items())\n",
        "\n",
        "    # 指定文件路径和名称\n",
        "    file_path = 'path/to/your/directory/parameters.txt'\n",
        "\n",
        "    # 将内容写入文件\n",
        "    with open(file_path, 'w', encoding='utf-8') as file:\n",
        "        file.write(content)\n",
        "\n",
        "    return '参数已保存'\n",
        "\n",
        "if __name__ == '__main__':\n",
        "    app.run_server(debug=True)\n"
      ],
      "metadata": {
        "id": "4hxDd1-7TRxQ"
      },
      "execution_count": null,
      "outputs": []
    }
  ]
}