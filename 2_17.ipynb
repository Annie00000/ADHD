{
  "nbformat": 4,
  "nbformat_minor": 0,
  "metadata": {
    "colab": {
      "provenance": [],
      "authorship_tag": "ABX9TyPRoKiNOHINxk2le3hdSazT",
      "include_colab_link": true
    },
    "kernelspec": {
      "name": "python3",
      "display_name": "Python 3"
    },
    "language_info": {
      "name": "python"
    }
  },
  "cells": [
    {
      "cell_type": "markdown",
      "metadata": {
        "id": "view-in-github",
        "colab_type": "text"
      },
      "source": [
        "<a href=\"https://colab.research.google.com/github/Annie00000/Project/blob/main/2_17.ipynb\" target=\"_parent\"><img src=\"https://colab.research.google.com/assets/colab-badge.svg\" alt=\"Open In Colab\"/></a>"
      ]
    },
    {
      "cell_type": "code",
      "source": [
        "import csv\n",
        "import os\n",
        "\n",
        "for map in map_dict:\n",
        "    try:\n",
        "        predict_class, prob = process_map(map)  # 假設在這裡進行了處理並得到了 predict_class 和 prob\n",
        "\n",
        "        # 創建 CSV 文件名，根據日期\n",
        "        csv_filename = f\"{map['Date']}_predictions.csv\"\n",
        "\n",
        "        # 檢查 CSV 文件是否存在，如果不存在，則寫入頭部\n",
        "        if not os.path.exists(csv_filename):\n",
        "            with open(csv_filename, mode='w', newline='') as file:\n",
        "                fieldnames = ['map_ID', 'Date', 'Time', 'predict_class', 'prob']\n",
        "                writer = csv.DictWriter(file, fieldnames=fieldnames)\n",
        "                writer.writeheader()\n",
        "        else:\n",
        "            # 如果 CSV 文件已存在，檢查是否已存在該 ID 的資料，如果是，則覆寫該行資料\n",
        "            temp_data = []\n",
        "            with open(csv_filename, mode='r', newline='') as file:\n",
        "                reader = csv.DictReader(file)\n",
        "                for row in reader:\n",
        "                    if row['map_ID'] == map['ID']:\n",
        "                        row['predict_class'] = predict_class\n",
        "                        row['prob'] = prob\n",
        "                    temp_data.append(row)\n",
        "            # 將資料寫回 CSV 文件\n",
        "            with open(csv_filename, mode='w', newline='') as file:\n",
        "                writer = csv.DictWriter(file, fieldnames=fieldnames)\n",
        "                writer.writeheader()\n",
        "                writer.writerows(temp_data)\n",
        "                # 覆寫完原有資料後，退出迴圈，不再執行後續的新增資料行操作\n",
        "                continue\n",
        "\n",
        "        # 寫入新的資料行\n",
        "        with open(csv_filename, mode='a', newline='') as file:\n",
        "            fieldnames = ['map_ID', 'Date', 'Time', 'predict_class', 'prob']\n",
        "            writer = csv.DictWriter(file, fieldnames=fieldnames)\n",
        "            writer.writerow({'map_ID': map['ID'], 'Date': map['Date'], 'Time': map['Time'],\n",
        "                             'predict_class': predict_class, 'prob': prob})\n",
        "    except Exception as e:\n",
        "        # 處理錯誤，例如記錄錯誤訊息或者執行其他操作\n",
        "        print(f\"An error occurred while processing map: {e}\")"
      ],
      "metadata": {
        "id": "wSo4cii1nbUl"
      },
      "execution_count": null,
      "outputs": []
    },
    {
      "cell_type": "markdown",
      "source": [
        "* 法二"
      ],
      "metadata": {
        "id": "byv_dyZ9oD34"
      }
    },
    {
      "cell_type": "code",
      "source": [
        "import csv\n",
        "import os\n",
        "\n",
        "# 將資訊寫入CSV文件\n",
        "def write_to_csv(map_dict):\n",
        "    for map in map_dict:\n",
        "        try:\n",
        "            predict_class, prob = process_map(map)  # 假設在這裡進行了處理並得到了 predict_class 和 prob\n",
        "\n",
        "            # 確認CSV文件路徑\n",
        "            csv_filename = f\"{map['Date']}.csv\"\n",
        "            csv_exists = os.path.exists(csv_filename)\n",
        "\n",
        "            # 開啟 CSV 檔案，設置文件寫入器\n",
        "            with open(csv_filename, mode='a', newline='') as file:\n",
        "                fieldnames = ['ID', 'Date', 'Time', 'predict_class', 'prob']\n",
        "                writer = csv.DictWriter(file, fieldnames=fieldnames)\n",
        "\n",
        "                # 如果CSV文件不存在，寫入 CSV 文件的頭部\n",
        "                if not csv_exists:\n",
        "                    writer.writeheader()\n",
        "\n",
        "                # 如果該ID已存在於CSV文件中，覆寫該ID的資訊\n",
        "                if map['ID'] in get_existing_ids(csv_filename):\n",
        "                    update_existing_data(csv_filename, map['ID'], predict_class, prob)\n",
        "                else:\n",
        "                    # 寫入新的資訊\n",
        "                    writer.writerow({'ID': map['ID'], 'Date': map['Date'], 'Time': map['Time'],\n",
        "                                     'predict_class': predict_class, 'prob': prob})\n",
        "        except Exception as e:\n",
        "            # 處理錯誤，例如記錄錯誤訊息或者執行其他操作\n",
        "            print(f\"An error occurred while processing map: {e}\")\n",
        "\n",
        "# 獲取CSV文件中已存在的ID\n",
        "def get_existing_ids(csv_filename):\n",
        "    existing_ids = set()\n",
        "    with open(csv_filename, mode='r', newline='') as file:\n",
        "        reader = csv.DictReader(file)\n",
        "        for row in reader:\n",
        "            existing_ids.add(row['ID'])\n",
        "    return existing_ids\n",
        "\n",
        "# 更新已存在的資料\n",
        "def update_existing_data(csv_filename, id, predict_class, prob):\n",
        "    updated_rows = []\n",
        "    with open(csv_filename, mode='r', newline='') as file:\n",
        "        reader = csv.DictReader(file)\n",
        "        for row in reader:\n",
        "            if row['ID'] == id:\n",
        "                row['predict_class'] = predict_class\n",
        "                row['prob'] = prob\n",
        "            updated_rows.append(row)\n",
        "\n",
        "    with open(csv_filename, mode='w', newline='') as file:\n",
        "        fieldnames = ['ID', 'Date', 'Time', 'predict_class', 'prob']\n",
        "        writer = csv.DictWriter(file, fieldnames=fieldnames)\n",
        "        writer.writeheader()\n",
        "        writer.writerows(updated_rows)\n",
        "\n",
        "# 在此處調用 write_to_csv 函式並傳入 map_dict\n"
      ],
      "metadata": {
        "id": "DChIub1cncWz"
      },
      "execution_count": null,
      "outputs": []
    }
  ]
}