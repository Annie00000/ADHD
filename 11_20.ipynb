{
  "nbformat": 4,
  "nbformat_minor": 0,
  "metadata": {
    "colab": {
      "provenance": [],
      "authorship_tag": "ABX9TyNxjFP1S0nWvC3uTEfhat0R",
      "include_colab_link": true
    },
    "kernelspec": {
      "name": "python3",
      "display_name": "Python 3"
    },
    "language_info": {
      "name": "python"
    }
  },
  "cells": [
    {
      "cell_type": "markdown",
      "metadata": {
        "id": "view-in-github",
        "colab_type": "text"
      },
      "source": [
        "<a href=\"https://colab.research.google.com/github/Annie00000/Project/blob/main/11_20.ipynb\" target=\"_parent\"><img src=\"https://colab.research.google.com/assets/colab-badge.svg\" alt=\"Open In Colab\"/></a>"
      ]
    },
    {
      "cell_type": "code",
      "source": [
        "fig.add_trace(go.Scatter(\n",
        "    x=x_values,\n",
        "    y=[y_value] * len(x_values),  # 水平線的 Y 值\n",
        "    mode='lines',\n",
        "    line=dict(color='red', width=2, dash='dash'),\n",
        "    name='Horizontal Line'\n",
        "))"
      ],
      "metadata": {
        "id": "S0zp4XoFiF9z"
      },
      "execution_count": null,
      "outputs": []
    },
    {
      "cell_type": "code",
      "source": [
        "import plotly.graph_objects as go\n",
        "\n",
        "# 模擬數據\n",
        "x_values = list(range(1, 51))\n",
        "y_values = [i ** 0.5 for i in x_values]  # 示例數據曲線\n",
        "mean = 5  # μ\n",
        "std_dev = 1  # σ\n",
        "\n",
        "# 計算控制線\n",
        "lines = [\n",
        "    {\"value\": mean + std_dev, \"text\": \"μ + σ\"},\n",
        "    {\"value\": mean - std_dev, \"text\": \"μ - σ\"},\n",
        "    {\"value\": mean + 3 * std_dev, \"text\": \"μ + 3σ\"},\n",
        "    {\"value\": mean - 3 * std_dev, \"text\": \"μ - 3σ\"},\n",
        "    {\"value\": mean + 4 * std_dev, \"text\": \"μ + 4σ\"},\n",
        "    {\"value\": mean - 4 * std_dev, \"text\": \"μ - 4σ\"},\n",
        "]\n",
        "\n",
        "fig = go.Figure()\n",
        "\n",
        "# 添加主要數據曲線\n",
        "fig.add_trace(go.Scatter(\n",
        "    x=x_values,\n",
        "    y=y_values,\n",
        "    mode='lines',\n",
        "    name='Data',\n",
        "    line=dict(color='blue')\n",
        "))\n",
        "\n",
        "# 添加控制線\n",
        "for line in lines:\n",
        "    fig.add_trace(go.Scatter(\n",
        "        x=x_values,\n",
        "        y=[line[\"value\"]] * len(x_values),  # 水平線的 Y 值\n",
        "        mode='lines',\n",
        "        name=line[\"text\"],\n",
        "        line=dict(dash=\"dash\", width=2)\n",
        "    ))\n",
        "    # 添加標註\n",
        "    fig.add_annotation(\n",
        "        x=max(x_values),  # 在 X 軸的最右側\n",
        "        y=line[\"value\"],  # 標註在水平線的 Y 值\n",
        "        text=line[\"text\"],  # 標註內容\n",
        "        showarrow=False,\n",
        "        xanchor=\"left\",\n",
        "        yanchor=\"middle\",\n",
        "        font=dict(size=12, color=\"black\")\n",
        "    )\n",
        "\n",
        "# 更新佈局\n",
        "fig.update_layout(\n",
        "    title=\"Control Chart with μ ± σ, μ ± 3σ, μ ± 4σ\",\n",
        "    xaxis_title=\"X-Axis\",\n",
        "    yaxis_title=\"Y-Axis\"\n",
        ")\n",
        "\n",
        "# 顯示圖形\n",
        "fig.show()\n"
      ],
      "metadata": {
        "id": "4O-X6x3blrNF"
      },
      "execution_count": null,
      "outputs": []
    },
    {
      "cell_type": "markdown",
      "source": [
        "---"
      ],
      "metadata": {
        "id": "9mqBfQ4pnbnD"
      }
    },
    {
      "cell_type": "code",
      "source": [
        "import plotly.graph_objects as go\n",
        "\n",
        "# 類別型數據的 X 軸\n",
        "x_values = [\"A\", \"B\", \"C\", \"D\", \"E\"]\n",
        "mean = 5\n",
        "std_dev = 1\n",
        "\n",
        "# 水平線和標註內容\n",
        "lines = [\n",
        "    {\"value\": mean + std_dev, \"text\": \"μ + σ\"},\n",
        "    {\"value\": mean - std_dev, \"text\": \"μ - σ\"},\n",
        "    {\"value\": mean + 3 * std_dev, \"text\": \"μ + 3σ\"},\n",
        "    {\"value\": mean - 3 * std_dev, \"text\": \"μ - 3σ\"},\n",
        "]\n",
        "\n",
        "fig = go.Figure()\n",
        "\n",
        "# 添加數據線\n",
        "fig.add_trace(go.Scatter(\n",
        "    x=x_values,\n",
        "    y=[2, 3, 5, 7, 9],  # 示例數據\n",
        "    mode='lines+markers',\n",
        "    name='Data',\n",
        "    line=dict(color='blue')\n",
        "))\n",
        "\n",
        "# 添加水平線及標註\n",
        "for line in lines:\n",
        "    # 添加水平線\n",
        "    fig.add_trace(go.Scatter(\n",
        "        x=x_values,\n",
        "        y=[line[\"value\"]] * len(x_values),  # 水平線的 Y 值\n",
        "        mode='lines',\n",
        "        line=dict(dash=\"dash\", width=2),\n",
        "        name=line[\"text\"]\n",
        "    ))\n",
        "    # 添加標註\n",
        "    fig.add_annotation(\n",
        "        x=x_values[-1],  # 最後一個類別值\n",
        "        y=line[\"value\"],\n",
        "        text=line[\"text\"],\n",
        "        showarrow=False,\n",
        "        xanchor=\"left\",  # 將文字靠左對齊\n",
        "        xshift=20,       # 向右偏移 20 像素\n",
        "        yanchor=\"middle\",\n",
        "        font=dict(size=12, color=\"black\")\n",
        "    )\n",
        "\n",
        "# 更新佈局\n",
        "fig.update_layout(\n",
        "    title=\"Horizontal Line with Offset Annotations\",\n",
        "    xaxis_title=\"Category\",\n",
        "    yaxis_title=\"Value\",\n",
        "    showlegend=True\n",
        ")\n",
        "\n",
        "fig.show()\n"
      ],
      "metadata": {
        "id": "XI0lUnREncXi"
      },
      "execution_count": null,
      "outputs": []
    }
  ]
}