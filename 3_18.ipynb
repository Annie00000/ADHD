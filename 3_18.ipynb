{
  "nbformat": 4,
  "nbformat_minor": 0,
  "metadata": {
    "colab": {
      "provenance": [],
      "authorship_tag": "ABX9TyNSczawo7ZMyFKoXlVZYzLN",
      "include_colab_link": true
    },
    "kernelspec": {
      "name": "python3",
      "display_name": "Python 3"
    },
    "language_info": {
      "name": "python"
    }
  },
  "cells": [
    {
      "cell_type": "markdown",
      "metadata": {
        "id": "view-in-github",
        "colab_type": "text"
      },
      "source": [
        "<a href=\"https://colab.research.google.com/github/Annie00000/Project/blob/main/3_18.ipynb\" target=\"_parent\"><img src=\"https://colab.research.google.com/assets/colab-badge.svg\" alt=\"Open In Colab\"/></a>"
      ]
    },
    {
      "cell_type": "code",
      "source": [
        "def mp_logger(mode):\n",
        "local_"
      ],
      "metadata": {
        "id": "6llGpRB95voG"
      },
      "execution_count": null,
      "outputs": []
    },
    {
      "cell_type": "code",
      "source": [
        "def mp_logger(mode):\n",
        "  local_time = datetime.datetime.now()\n",
        "  date = local_time.strftime('%Y-%m-%d')\n",
        "  if 'log' not in os.listdir('./'):\n",
        "    os.mkdir('./log')\n",
        "  logger = logging.getLogger(f'{date}__log')\n",
        "  if not logger.handlers:\n",
        "    logger.setLevel(level=logging.INFO)\n",
        "    handler = logging.FileHandler(f'./log/{date}__{mode}.txt')\n",
        "    handler.setLevel(logging.INFO)\n",
        "    formatter = logging.Formater(f'[%(asctime)s] : %(message)s', datefmt='%Y-%m-%d %H:%M:%S')\n",
        "    handler.setFormatter(formatter) # 将上面创建的格式化器应用到文件处理器(handler)上。 !!!!! 增加這行!!!!!\n",
        "    logger.addHandler(handler)\n",
        "  return logger"
      ],
      "metadata": {
        "id": "5EGn-ghn56-L"
      },
      "execution_count": null,
      "outputs": []
    },
    {
      "cell_type": "markdown",
      "source": [
        "* 更新後"
      ],
      "metadata": {
        "id": "KsSi17avF531"
      }
    },
    {
      "cell_type": "code",
      "source": [
        "import logging\n",
        "import os\n",
        "import datetime\n",
        "\n",
        "def mp_logger(mode):\n",
        "    local_time = datetime.datetime.now()\n",
        "    date = local_time.strftime('%Y-%m-%d')\n",
        "    if 'log' not in os.listdir('./'):\n",
        "        os.mkdir('./log')\n",
        "\n",
        "    # 使用基于日期和模式的名称，以确保唯一性\n",
        "    logger = logging.getLogger(f'{date}__{mode}_log')\n",
        "\n",
        "    # 清理已存在的处理器 -------------------\n",
        "    # 显式地移除任何现有的 handlers\n",
        "    # 这一步确保即使在同一天内多次运行程序，也不会重复添加 handler\n",
        "    for handler in logger.handlers[:]:\n",
        "        logger.removeHandler(handler)\n",
        "\n",
        "\n",
        "    # 配置 logger ------------\n",
        "    # 无需再次检查 logger.handlers 是否为空\n",
        "    logger.setLevel(logging.INFO)\n",
        "\n",
        "    # 注意修正拼写错误：Formater -> Formatter\n",
        "    handler = logging.FileHandler(f'./log/{date}__{mode}.txt')\n",
        "    handler.setLevel(logging.INFO)\n",
        "    formatter = logging.Formatter(f'[%(asctime)s] : %(message)s', datefmt='%Y-%m-%d %H:%M:%S')\n",
        "    handler.setFormatter(formatter)\n",
        "    logger.addHandler(handler)\n",
        "\n",
        "    return logger\n"
      ],
      "metadata": {
        "id": "1p3zJVZMF7BY"
      },
      "execution_count": null,
      "outputs": []
    }
  ]
}