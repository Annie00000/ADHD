{
  "nbformat": 4,
  "nbformat_minor": 0,
  "metadata": {
    "colab": {
      "provenance": [],
      "authorship_tag": "ABX9TyOwtycClxhKxVMjRdk/ZKPg",
      "include_colab_link": true
    },
    "kernelspec": {
      "name": "python3",
      "display_name": "Python 3"
    },
    "language_info": {
      "name": "python"
    }
  },
  "cells": [
    {
      "cell_type": "markdown",
      "metadata": {
        "id": "view-in-github",
        "colab_type": "text"
      },
      "source": [
        "<a href=\"https://colab.research.google.com/github/Annie00000/Project/blob/main/1_31.ipynb\" target=\"_parent\"><img src=\"https://colab.research.google.com/assets/colab-badge.svg\" alt=\"Open In Colab\"/></a>"
      ]
    },
    {
      "cell_type": "markdown",
      "source": [
        "1. 使用 iterrows() 方法：\n",
        "\n",
        "  * 這種方法適用於當你需要使用DataFrame中的行索引（row index）時，可以使用 iterrows() 方法獲取行索引，例如在迴圈中遍歷DataFrame並進行相應的操作。\n",
        "\n",
        "  * iterrows() 生成器返回每一行的索引和行數據，這使得你可以同時訪問索引和數據。\n",
        "  * 但是，對於大型DataFrame來說，iterrows() 可能會較慢，因為它需要遍歷所有行。\n",
        "\n",
        "2. 使用 .to_dict(orient='records') 方法：\n",
        "\n",
        "  * 這種方法將整個DataFrame轉換為一個字典列表，每個字典對應一行數據。字典中的鍵是列名，值是該列的數據值。\n",
        "  * 這種方法在處理大型DataFrame時通常更快，因為它只需要一次性轉換整個DataFrame。\n",
        "  * 但是，它不提供行索引信息，如果需要行索引，你需要額外保存或處理它。"
      ],
      "metadata": {
        "id": "w6BYwhdPoVe3"
      }
    },
    {
      "cell_type": "code",
      "source": [
        "import pandas as pd\n",
        "import os\n",
        "\n",
        "# 將 DataFrame 轉換為字典列表，'records' 表示每一行轉換為一個字典\n",
        "dict_list = df.to_dict(orient='records')\n",
        "\n",
        "# 遍歷字典列表\n",
        "for row_dict in dict_list:\n",
        "    # 使用字典中的資訊來構建 rle_path\n",
        "    rle_path = \"../RLE/{date}/{date}_{step}.txt\".format(date=row_dict[\"date\"], step=row_dict[\"step\"])\n",
        "\n",
        "    # 檢查 rle_path 是否存在\n",
        "    if not os.path.exists(rle_path):\n",
        "        # 假設你的 get_avi_csv 函式需要一些參數，你需要根據你的需求提供這些參數\n",
        "        wafer_df = get_avi_csv(...., row_dict[\"step\"], row_dict[\"prog\"])\n",
        "\n",
        "        # 假設你想將 wafer_df 保存到 \"./map/{date}/{date}.csv\" 中\n",
        "        map_folder = f\"./map/{row_dict['date']}\"\n",
        "        os.makedirs(map_folder, exist_ok=True)\n",
        "        csv_file_path = os.path.join(map_folder, f\"{row_dict['date']}.csv\")\n",
        "\n",
        "        wafer_df.to_csv(csv_file_path, index=False)\n"
      ],
      "metadata": {
        "id": "0p8f0uygoJv5"
      },
      "execution_count": null,
      "outputs": []
    },
    {
      "cell_type": "code",
      "source": [
        "# 將 DataFrame 轉換為字典列表\n",
        "dict_list = df.to_dict(orient='records')\n",
        "\n",
        "# 遍歷字典列表\n",
        "for row_dict in dict_list:\n",
        "    try:\n",
        "        # 使用字典中的資訊來構建 rle_path\n",
        "        rle_path = \"../RLE/{date}/{date}_{step}.txt\".format(date=row_dict[\"date\"], step=row_dict[\"step\"])\n",
        "\n",
        "        # 檢查 rle_path 是否存在\n",
        "        if not os.path.exists(rle_path):\n",
        "            # 假設你的 get_avi_csv 函式需要一些參數，你需要根據你的需求提供這些參數\n",
        "            wafer_df = get_avi_csv(...., row_dict[\"step\"], row_dict[\"prog\"])\n",
        "\n",
        "            # 假設你的 runlengthencoding 函式用於RLE壓縮，然後將結果保存到output_path\n",
        "            output_path = \"../RLE/{date}/{date}_{step}_rle.txt\".format(date=row_dict[\"date\"], step=row_dict[\"step\"])\n",
        "            runlengthencoding(wafer_df, output_path)\n",
        "\n",
        "    except Exception as e:\n",
        "        # 如果在處理當前資料時出現錯誤，輸出錯誤信息，然後繼續處理下一筆資料\n",
        "        print(f\"Error processing data: {e}\")\n",
        "        continue"
      ],
      "metadata": {
        "id": "ryljff2ysFUN"
      },
      "execution_count": null,
      "outputs": []
    },
    {
      "cell_type": "markdown",
      "source": [
        "在前一筆資料可能有錯(get_avi_csv返回的是, (一個逗號)  )的情況下，將該筆wafer_dict資訊寫入txt檔，然後不做RLE，繼續下一筆的資料的還是能正常運作轉換\n",
        "\n",
        "\n"
      ],
      "metadata": {
        "id": "LIUTvUF9tg1j"
      }
    },
    {
      "cell_type": "code",
      "source": [
        "import pandas as pd\n",
        "import os\n",
        "\n",
        "# 假設你有一個名為 df 的 DataFrame\n",
        "\n",
        "# 將 DataFrame 轉換為字典列表\n",
        "dict_list = df.to_dict(orient='records')\n",
        "\n",
        "# 遍歷字典列表\n",
        "for row_dict in dict_list:\n",
        "    # 使用字典中的資訊來構建 rle_path\n",
        "    rle_path = \"../RLE/{date}/{date}_{step}.txt\".format(date=row_dict[\"date\"], step=row_dict[\"step\"])\n",
        "\n",
        "    # 檢查 rle_path 是否存在\n",
        "    if not os.path.exists(rle_path):\n",
        "        try:\n",
        "            # 嘗試獲取數據\n",
        "            wafer_df = get_avi_csv(...., row_dict[\"step\"], row_dict[\"prog\"])\n",
        "\n",
        "            # 檢查返回值是否為 (一個逗號)，如果是，將相關資訊寫入 txt 檔案\n",
        "            if wafer_df.equals(pd.DataFrame({'column_name': [',']})):\n",
        "                error_message = f\"Invalid data for wafer_dict: {str(row_dict)}\\n\"\n",
        "                with open(\"error_log.txt\", \"a\") as error_file:\n",
        "                    error_file.write(error_message)\n",
        "                continue  # 繼續處理下一筆資料\n",
        "            '''\n",
        "            # 檢查返回值是否只是一個逗號字串\n",
        "            if wafer_data.strip() == ',':\n",
        "                error_message = f\"Invalid data for wafer_dict: {str(row_dict)}\\n\"\n",
        "                with open(\"error_log.txt\", \"a\") as error_file:\n",
        "                    error_file.write(error_message)\n",
        "                continue  # 繼續處理下一筆資料\n",
        "            '''\n",
        "\n",
        "\n",
        "\n",
        "            # 假設你的 runlengthencoding 函式用於RLE壓縮，然後將結果保存到output_path\n",
        "            output_path = \"../RLE/{date}/{date}_{step}_rle.txt\".format(date=row_dict[\"date\"], step=row_dict[\"step\"])\n",
        "            runlengthencoding(wafer_df, output_path)\n",
        "        except Exception as e:\n",
        "            # 如果出現錯誤，將相關資訊寫入 txt 檔案\n",
        "            error_message = f\"Error processing wafer_dict: {str(row_dict)}\\nError details: {str(e)}\\n\"\n",
        "            with open(\"error_log.txt\", \"a\") as error_file:\n",
        "                error_file.write(error_message)\n",
        "            continue  # 繼續處理下一筆資料"
      ],
      "metadata": {
        "id": "9URf0sTXtk8N"
      },
      "execution_count": null,
      "outputs": []
    },
    {
      "cell_type": "markdown",
      "source": [
        "## RLE 修改"
      ],
      "metadata": {
        "id": "C-Tm-qVOg0gv"
      }
    },
    {
      "cell_type": "code",
      "source": [
        "data_list = [\n",
        "    ['', '', '', '', '', '', '', '', '', ''],\n",
        "    ['', '', '', '', '', '', '', '', '', ''],\n",
        "    ['', '', '', 0, 0, 0, 0, '', '', ''],\n",
        "    ['', '', '', 0, 0, 1, 1, 1, 0, 0, '', '', ''],\n",
        "    ['', '', '', 0, 0, 0, 1, 1, 1, 4, 4, 2, 2, '', '', ''],\n",
        "    ['', '', '', 0, 0, 0, '', '', '', '', '', '', ''],\n",
        "    ['', '', '', '', '', '', '', '', '', ''],\n",
        "    ['', '', '', '', '', '', '', '', '', '']\n",
        "]\n"
      ],
      "metadata": {
        "id": "ExfB1V7eg5UC"
      },
      "execution_count": 17,
      "outputs": []
    },
    {
      "cell_type": "code",
      "source": [
        "def rle(data_list):\n",
        "  encoded_data = []    # 結果儲存列表\n",
        "  for sublist in data_list:\n",
        "    encoded_list = [] # 初始化每個子列表的RLE結果列表\n",
        "    current_value = sublist[0]\n",
        "    count = 1\n",
        "    for value in sublist[1:]:\n",
        "      if value == current_value:\n",
        "        count += 1\n",
        "      else:\n",
        "        encoded_list.append(f\"{current_value}:{count}\")  # 如果不相等，將前一個值的計數添加到結果中\n",
        "        current_value = value  # 更新當前值\n",
        "        count = 1  # 重置計數器\n",
        "    # 確保將最後一個值的計數添加到結果中, 因為最後current_value=最後的值，所以計數完就直接append\n",
        "    encoded_list.append(f\"{current_value}:{count}\")\n",
        "    encoded_line = \",\".join(encoded_list) # 使用逗號將不同計數隔開，然後組合成一個字符串\n",
        "    encoded_data.append(encoded_line)   # 添加子列表的RLE結果 到 結果儲存列表\n",
        "\n",
        "  # 將RLE結果寫入txt檔案\n",
        "  with open(\"./output3.txt\", \"w\") as file:\n",
        "    file.write(\"\\n\".join(encoded_data))\n"
      ],
      "metadata": {
        "id": "toK5nBHLzK9J"
      },
      "execution_count": 42,
      "outputs": []
    },
    {
      "cell_type": "code",
      "source": [
        "rle(data_list)"
      ],
      "metadata": {
        "id": "qs0kKdei41lB"
      },
      "execution_count": 43,
      "outputs": []
    },
    {
      "cell_type": "code",
      "source": [],
      "metadata": {
        "id": "w-Elz7Kd_Rm8"
      },
      "execution_count": null,
      "outputs": []
    }
  ]
}