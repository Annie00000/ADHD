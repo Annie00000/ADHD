{
  "nbformat": 4,
  "nbformat_minor": 0,
  "metadata": {
    "colab": {
      "provenance": [],
      "authorship_tag": "ABX9TyOcnurbDJ4nVJiNcdDj+ILL",
      "include_colab_link": true
    },
    "kernelspec": {
      "name": "python3",
      "display_name": "Python 3"
    },
    "language_info": {
      "name": "python"
    }
  },
  "cells": [
    {
      "cell_type": "markdown",
      "metadata": {
        "id": "view-in-github",
        "colab_type": "text"
      },
      "source": [
        "<a href=\"https://colab.research.google.com/github/Annie00000/Project/blob/main/8_5.ipynb\" target=\"_parent\"><img src=\"https://colab.research.google.com/assets/colab-badge.svg\" alt=\"Open In Colab\"/></a>"
      ]
    },
    {
      "cell_type": "markdown",
      "source": [
        "**正確的部分：**\n",
        "1. 判定偏離（離群值）：確實，箱線圖（Box Plot）和正態分佈（Normal Distribution）是常用來判定數據是否偏離（即離群）的工具。\n",
        "\n",
        "  - 箱線圖：利用四分位距（IQR）來判定離群值。通常，如果數據點小於 Q1 - 1.5IQR 或大於 Q3 + 1.5IQR，就被視為離群值。\n",
        "  - 正態分佈：利用標準差來判定離群值。通常，如果數據點超過均值的三倍標準差，就被視為離群值。\n",
        "2. 發生次數：某一數值的發生次數（在直方圖中顯示）只能說明該數值的出現頻率或概率，不能說明該數值是否偏離正常範圍。\n",
        "\n",
        "\n",
        "**箱線圖和正態分佈的適用性**：這兩種方法適用於不同情況。\n",
        "\n",
        "1. 箱線圖：適用於各種類型的數據，特別是當數據分佈不是正態分佈時。\n",
        "2. 正態分佈：適用於數據近似正態分佈的情況。\n",
        "多樣性的方法：除了箱線圖和正態分佈，還有其他方法可以判定離群值，如Z-Score、MAD（Median Absolute Deviation）等。"
      ],
      "metadata": {
        "id": "h2LFSUv0oZdN"
      }
    }
  ]
}