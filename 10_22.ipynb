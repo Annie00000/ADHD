{
  "nbformat": 4,
  "nbformat_minor": 0,
  "metadata": {
    "colab": {
      "provenance": [],
      "authorship_tag": "ABX9TyN1+7gqOYTHP0vy7i0UpqCh",
      "include_colab_link": true
    },
    "kernelspec": {
      "name": "python3",
      "display_name": "Python 3"
    },
    "language_info": {
      "name": "python"
    }
  },
  "cells": [
    {
      "cell_type": "markdown",
      "metadata": {
        "id": "view-in-github",
        "colab_type": "text"
      },
      "source": [
        "<a href=\"https://colab.research.google.com/github/Annie00000/Project/blob/main/10_22.ipynb\" target=\"_parent\"><img src=\"https://colab.research.google.com/assets/colab-badge.svg\" alt=\"Open In Colab\"/></a>"
      ]
    },
    {
      "cell_type": "markdown",
      "source": [
        "#"
      ],
      "metadata": {
        "id": "GvD7ou-5GXEf"
      }
    },
    {
      "cell_type": "code",
      "source": [
        "# 初始化記錄觸發情況的列表\n",
        "record = []\n",
        "\n",
        "# 根據 col1 和 col2 進行分組\n",
        "for i, data in df.groupby(['col1', 'col2']):\n",
        "    # 執行每個規則\n",
        "    trigger1 = rule1(data)\n",
        "    trigger2 = rule2(data)\n",
        "    trigger3 = rule3(data)\n",
        "    trigger4 = rule4(data)\n",
        "    trigger5 = rule5(data)\n",
        "    trigger6 = rule6(data)\n",
        "\n",
        "    # 建立每個群組的規則觸發記錄\n",
        "    temp = {\n",
        "        'col1': i[0],  # col1 的值\n",
        "        'col2': i[1],  # col2 的值\n",
        "        'Rule1': 1 if len(trigger1) > 0 else 0,\n",
        "        'Rule2': 1 if len(trigger2) > 0 else 0,\n",
        "        'Rule3': 1 if len(trigger3) > 0 else 0,\n",
        "        'Rule4': 1 if len(trigger4) > 0 else 0,\n",
        "        'Rule5': 1 if len(trigger5) > 0 else 0,\n",
        "        'Rule6': 1 if len(trigger6) > 0 else 0,\n",
        "    }\n",
        "\n",
        "    # 將結果加入記錄列表\n",
        "    record.append(temp)\n",
        "\n",
        "# 將記錄轉換為 DataFrame\n",
        "record_df = pd.DataFrame(record)\n",
        "\n",
        "# 顯示結果\n",
        "print(record_df)"
      ],
      "metadata": {
        "id": "6rIP45WwGXbu"
      },
      "execution_count": null,
      "outputs": []
    },
    {
      "cell_type": "code",
      "source": [
        "# 移除 'col2' 列，只保留規則的觸發情況\n",
        "record_df_no_col2 = record_df.drop(columns=['col2'])\n",
        "\n",
        "# 根據 col1 分組，計算每個規則的觸發率 (平均值)\n",
        "rule_rate_df = record_df_no_col2.groupby('col1').mean()\n",
        "\n",
        "# 顯示規則觸發率\n",
        "print(rule_rate_df)"
      ],
      "metadata": {
        "id": "4zZRUyKWHS6-"
      },
      "execution_count": null,
      "outputs": []
    },
    {
      "cell_type": "markdown",
      "source": [
        "# 版2"
      ],
      "metadata": {
        "id": "WCKtz1rhGSvW"
      }
    },
    {
      "cell_type": "code",
      "source": [
        "\n",
        "# 初始化結果列表\n",
        "result = []\n",
        "\n",
        "# 定義要執行的規則\n",
        "rules = {\n",
        "    'Rule1': rule1,\n",
        "    'Rule2': rule2,\n",
        "    'Rule3': rule3,\n",
        "    'Rule4': rule4,\n",
        "    'Rule5': rule5,\n",
        "    'Rule6': rule6\n",
        "}\n",
        "\n",
        "# 根據 col1 和 col2 進行分群\n",
        "grouped = df.groupby(['col1', 'col2'])\n",
        "\n",
        "# 遍歷每一個群組\n",
        "for group_key, group_data in grouped:\n",
        "    group_result = {'col1': group_key[0], 'col2': group_key[1]}\n",
        "\n",
        "    # 遍歷每個規則，並檢查是否觸發\n",
        "    for rule_name, rule_func in rules.items():\n",
        "        result_data = rule_func(group_data)  # 執行規則\n",
        "        group_result[rule_name] = 1 if len(result_data) > 0 else 0  # 觸發為1，否則為0\n",
        "\n",
        "    # 將每個群組的結果加入列表\n",
        "    result.append(group_result)\n",
        "\n",
        "# 將結果轉為 DataFrame\n",
        "result_df = pd.DataFrame(result)\n",
        "\n",
        "# 顯示結果\n",
        "print(result_df)\n"
      ],
      "metadata": {
        "id": "ywQrHNBICW7H"
      },
      "execution_count": null,
      "outputs": []
    },
    {
      "cell_type": "code",
      "source": [],
      "metadata": {
        "id": "wesOxi0yHTyp"
      },
      "execution_count": null,
      "outputs": []
    },
    {
      "cell_type": "markdown",
      "source": [
        "# function : 組合各種rule"
      ],
      "metadata": {
        "id": "kDti5lM3KLKo"
      }
    },
    {
      "cell_type": "code",
      "source": [
        "import pandas as pd\n",
        "\n",
        "# 定義函數\n",
        "def calculate_trigger_rate(df, col_list):\n",
        "    \"\"\"\n",
        "    根據輸入的規則欄位列表，計算每個 col1 下規則的觸發率。\n",
        "\n",
        "    Parameters:\n",
        "    df (pd.DataFrame): 包含規則觸發信息的 DataFrame。\n",
        "    col_list (list): 包含規則名稱的列表，例如 ['Rule1', 'Rule2', 'Rule5']。\n",
        "\n",
        "    Returns:\n",
        "    pd.DataFrame: 返回每個 col1 在規則列表下的觸發率。\n",
        "    \"\"\"\n",
        "    # 先計算 col_list 中第一個規則的觸發率\n",
        "    initial_rule = col_list[0]\n",
        "    initial_rate = df.groupby('col1')[initial_rule].mean().rename(f'{initial_rule}_rate')\n",
        "\n",
        "    # 計算指定規則列表的觸發情況 (邏輯“或”運算)\n",
        "    df['combined_rule'] = df[col_list].any(axis=1).astype(int)\n",
        "\n",
        "    # 計算 col1 在所有規則條件下的觸發率\n",
        "    combined_rate = df.groupby('col1')['combined_rule'].mean().rename(f'{\"_\".join(col_list)}_rate')\n",
        "\n",
        "    # 將兩個觸發率合併在一起返回\n",
        "    result_df = pd.concat([initial_rate, combined_rate], axis=1)\n",
        "    return result_df\n",
        "\n",
        "# 測試資料\n",
        "record_df = {\n",
        "    'col1': ['A', 'A', 'A', 'B', 'B', 'C', 'C'],\n",
        "    'Rule1': [1, 1, 0, 0, 1, 1, 0],\n",
        "    'Rule2': [1, 0, 0, 1, 1, 0, 1],\n",
        "    'Rule3': [0, 0, 1, 0, 1, 0, 1],\n",
        "    'Rule4': [1, 1, 1, 0, 1, 1, 0],\n",
        "    'Rule5': [0, 0, 1, 1, 0, 0, 1],\n",
        "    'Rule6': [1, 0, 1, 0, 1, 0, 0]\n",
        "}\n",
        "\n",
        "df = pd.DataFrame(record_df)\n",
        "\n",
        "# 呼叫函數並指定規則列表 ['Rule1', 'Rule2', 'Rule5']\n",
        "result = calculate_trigger_rate(df, ['Rule1', 'Rule2', 'Rule5'])\n",
        "\n",
        "# 顯示結果\n",
        "print(result)\n"
      ],
      "metadata": {
        "id": "WIl1ms1hKOpQ"
      },
      "execution_count": null,
      "outputs": []
    }
  ]
}