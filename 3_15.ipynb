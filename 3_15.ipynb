{
  "nbformat": 4,
  "nbformat_minor": 0,
  "metadata": {
    "colab": {
      "provenance": [],
      "authorship_tag": "ABX9TyNrkshAzyn2UtNXheTwBpGM",
      "include_colab_link": true
    },
    "kernelspec": {
      "name": "python3",
      "display_name": "Python 3"
    },
    "language_info": {
      "name": "python"
    }
  },
  "cells": [
    {
      "cell_type": "markdown",
      "metadata": {
        "id": "view-in-github",
        "colab_type": "text"
      },
      "source": [
        "<a href=\"https://colab.research.google.com/github/Annie00000/Project/blob/main/3_15.ipynb\" target=\"_parent\"><img src=\"https://colab.research.google.com/assets/colab-badge.svg\" alt=\"Open In Colab\"/></a>"
      ]
    },
    {
      "cell_type": "code",
      "source": [
        "maps = [\n",
        "    {\"name\": \"map1\", \"info\": \"This is map 1\"},  # 假設這是正常的\n",
        "    {\"name\": \"map2\", \"info\": \"This is map 2\"},  # 假設這會產生錯誤\n",
        "    # 假設更多map，其中一些可能產生錯誤\n",
        "]\n",
        "\n",
        "error_logs = []  # 用於儲存錯誤訊息的列表\n",
        "\n",
        "for map in maps:\n",
        "    try:\n",
        "        # 這裡模擬處理每個map的操作，例如:\n",
        "        # process_map(map)\n",
        "        # 假設某些map會拋出異常\n",
        "        if map[\"name\"] == \"map2\":  # 假設這個map產生錯誤\n",
        "            raise ValueError(\"示例錯誤\")\n",
        "    except Exception as e:\n",
        "        # 當錯誤發生，記錄name和info\n",
        "        error_logs.append(f'Name: {map[\"name\"]}, Info: {map[\"info\"]}, Error: {str(e)}')\n",
        "\n",
        "\n",
        "# 如果有錯誤日誌，以追加模式寫入錯誤訊息\n",
        "if error_logs:\n",
        "    with open('error_logs.txt', 'a') as file:\n",
        "        for log in error_logs:\n",
        "            file.write(log + '\\n')\n",
        "    print(\"錯誤日誌已追加到 'error_logs.txt'\")\n",
        "else:\n",
        "    # 沒有錯誤且文件存在時，刪除文件\n",
        "    if os.path.exists('error_logs.txt'):\n",
        "        os.remove('error_logs.txt')\n",
        "        print(\"沒有錯誤，已移除 'error_logs.txt'\")\n",
        "    else:\n",
        "        print(\"沒有錯誤，且無先前的日誌文件\")\n"
      ],
      "metadata": {
        "id": "i2FC5l3iehbI"
      },
      "execution_count": null,
      "outputs": []
    },
    {
      "cell_type": "markdown",
      "source": [
        "* 如果沒有任何錯誤資訊，就不要創建檔案\n",
        "\n",
        "\n"
      ],
      "metadata": {
        "id": "fLrHMVFDez7A"
      }
    },
    {
      "cell_type": "code",
      "source": [],
      "metadata": {
        "id": "LtrvGG92e2Fz"
      },
      "execution_count": null,
      "outputs": []
    }
  ]
}