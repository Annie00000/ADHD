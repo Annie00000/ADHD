{
  "nbformat": 4,
  "nbformat_minor": 0,
  "metadata": {
    "colab": {
      "provenance": [],
      "gpuType": "T4",
      "collapsed_sections": [
        "ayttUqRptohW",
        "3JU4CanLwbCT",
        "SRXnwP5tnedU"
      ]
    },
    "kernelspec": {
      "name": "python3",
      "display_name": "Python 3"
    },
    "language_info": {
      "name": "python"
    },
    "accelerator": "GPU"
  },
  "cells": [
    {
      "cell_type": "code",
      "source": [
        "import pandas as pd\n",
        "import numpy as np\n",
        "import matplotlib.pyplot as plt\n",
        "import seaborn as sns\n",
        "import cv2\n",
        "import os\n",
        "import warnings\n",
        "warnings.filterwarnings('ignore')\n",
        "from sklearn.model_selection import train_test_split\n",
        "\n",
        "# Text Pre-Processing\n",
        "from bs4 import BeautifulSoup\n",
        "import re\n",
        "from nltk.stem import WordNetLemmatizer\n",
        "from nltk.corpus import stopwords\n",
        "import nltk\n",
        "nltk.download('stopwords')\n",
        "nltk.download('wordnet')\n",
        "\n",
        "import tensorflow as tf\n",
        "from tensorflow.keras.preprocessing.text import Tokenizer\n",
        "from tensorflow.keras.preprocessing.sequence import pad_sequences\n",
        "\n",
        "from gensim.models import Word2Vec\n",
        "\n",
        "\n",
        "# Tools for building a model\n",
        "from keras.models import Sequential\n",
        "from keras.layers import Dense, LSTM, GRU, Dropout, Bidirectional, GlobalMaxPool1D, SpatialDropout1D\n",
        "from tensorflow.keras.layers import Embedding\n",
        "from tensorflow.keras.optimizers import Adam\n",
        "from tensorflow.keras.callbacks import EarlyStopping\n",
        "\n",
        "# Tools for assessing the quality of model prediction\n",
        "from sklearn.metrics import f1_score, roc_auc_score, precision_score, recall_score, accuracy_score\n",
        "from sklearn.metrics import confusion_matrix, classification_report"
      ],
      "metadata": {
        "colab": {
          "base_uri": "https://localhost:8080/"
        },
        "id": "inloPLwN0rE0",
        "outputId": "5d60f129-d32f-4fea-8d19-563324120c24"
      },
      "execution_count": null,
      "outputs": [
        {
          "output_type": "stream",
          "name": "stderr",
          "text": [
            "[nltk_data] Downloading package stopwords to /root/nltk_data...\n",
            "[nltk_data]   Package stopwords is already up-to-date!\n",
            "[nltk_data] Downloading package wordnet to /root/nltk_data...\n",
            "[nltk_data]   Package wordnet is already up-to-date!\n"
          ]
        }
      ]
    },
    {
      "cell_type": "markdown",
      "source": [
        "## Load data"
      ],
      "metadata": {
        "id": "foze5qKm_nn4"
      }
    },
    {
      "cell_type": "code",
      "source": [
        "from google.colab import drive\n",
        "drive.mount('/content/drive')\n",
        "\n",
        "data_path = '/content/drive/MyDrive/Colab Notebooks/電影評論情緒分析'\n",
        "os.chdir(data_path)\n",
        "\n",
        "df = pd.read_csv(os.path.join(data_path, 'train.csv'))\n",
        "df_test = pd.read_csv(os.path.join(data_path, 'test.csv'))"
      ],
      "metadata": {
        "id": "6Kuu0sI12OWv",
        "colab": {
          "base_uri": "https://localhost:8080/"
        },
        "outputId": "b016f779-d9ea-4994-e17d-bd45e4fa21c5"
      },
      "execution_count": null,
      "outputs": [
        {
          "output_type": "stream",
          "name": "stdout",
          "text": [
            "Mounted at /content/drive\n"
          ]
        }
      ]
    },
    {
      "cell_type": "markdown",
      "source": [
        "## Data preprocessing :"
      ],
      "metadata": {
        "id": "IRd_16PtXpEI"
      }
    },
    {
      "cell_type": "markdown",
      "source": [
        "#### Find the appropriate sentence length:"
      ],
      "metadata": {
        "id": "jAMZ9ekaW03X"
      }
    },
    {
      "cell_type": "code",
      "source": [
        "# Can use the result as a reference for max_len\n",
        "print('The mean word count in a movie review :', df['review'].apply(lambda x: len(x.split(' '))).mean())\n",
        "\n",
        "# Also can use percentages as a reference for max_len\n",
        "sentence_lengths = df['review'].apply(lambda x: len(x.split(' ')))\n",
        "quantiles = np.percentile(sentence_lengths, [25, 50, 75])\n",
        "\n",
        "print('The minimal word count in a movie review : ', min(sentence_lengths))\n",
        "print('The first quantile (25%) of word count in a movie review :', quantiles[0])\n",
        "print('The second quantile (50%) of word count in a movie review :', quantiles[1])\n",
        "print('The third quantile (75%) of word count in a movie review :', quantiles[2])\n",
        "print('The maximum word count in a movie review : ', max(sentence_lengths))\n"
      ],
      "metadata": {
        "colab": {
          "base_uri": "https://localhost:8080/"
        },
        "id": "mC061Ao5W1Ph",
        "outputId": "182f6df7-3fea-47aa-d09f-2ffdacdcd84a"
      },
      "execution_count": null,
      "outputs": [
        {
          "output_type": "stream",
          "name": "stdout",
          "text": [
            "The mean word count in a movie review : 199.13876107702794\n",
            "The minimal word count in a movie review :  2\n",
            "The first quantile (25%) of word count in a movie review : 99.0\n",
            "The second quantile (50%) of word count in a movie review : 153.0\n",
            "The third quantile (75%) of word count in a movie review : 251.0\n",
            "The maximum word count in a movie review :  1839\n"
          ]
        }
      ]
    },
    {
      "cell_type": "code",
      "source": [
        "# set max_len\n",
        "max_len = 200"
      ],
      "metadata": {
        "id": "5DchUYzNqu5m"
      },
      "execution_count": null,
      "outputs": []
    },
    {
      "cell_type": "markdown",
      "source": [
        "### Text Pre-Processing"
      ],
      "metadata": {
        "id": "9sGfUQjkX7MT"
      }
    },
    {
      "cell_type": "markdown",
      "source": [
        "* Use spaCy to Lemmatize text and store it in review_lines\n",
        "\n",
        "Because when training Word2Vec, all words are lammatized in pre-processing, so be sure to do the same pre-processing for the data set"
      ],
      "metadata": {
        "id": "kNLJlqBj5oGB"
      }
    },
    {
      "cell_type": "code",
      "source": [
        "from tqdm import tqdm\n",
        "import spacy.cli\n",
        "spacy.cli.download(\"en_core_web_md\")\n",
        "nlp = spacy.load('en_core_web_md', disable=[\"ner\", \"parser\"])\n",
        "\n",
        "reviews1 = df['review'].values.tolist()\n",
        "df_text = list()\n",
        "for review in tqdm(reviews1):\n",
        "    doc = nlp(review)\n",
        "    words = [word.lemma_ for word in doc]\n",
        "    df_text.append(words)\n",
        "\n",
        "\n",
        "reviews2 = df_test['review'].values.tolist()\n",
        "test_text = list()\n",
        "for review in tqdm(reviews2):\n",
        "    doc = nlp(review)\n",
        "    words = [word.lemma_ for word in doc]\n",
        "    test_text.append(words)"
      ],
      "metadata": {
        "colab": {
          "base_uri": "https://localhost:8080/"
        },
        "id": "lLzzvipoX2FV",
        "outputId": "e5648e54-8f16-4614-dcc7-191ad72ddc26"
      },
      "execution_count": null,
      "outputs": [
        {
          "output_type": "stream",
          "name": "stdout",
          "text": [
            "\u001b[38;5;2m✔ Download and installation successful\u001b[0m\n",
            "You can now load the package via spacy.load('en_core_web_md')\n"
          ]
        },
        {
          "output_type": "stream",
          "name": "stderr",
          "text": [
            "100%|██████████| 23472/23472 [07:21<00:00, 53.22it/s]\n",
            "100%|██████████| 5869/5869 [01:38<00:00, 59.81it/s]\n"
          ]
        }
      ]
    },
    {
      "cell_type": "markdown",
      "source": [
        "### Split train data into training set / validation set\n",
        "\n",
        "\n"
      ],
      "metadata": {
        "id": "gaqJAuzKqlFY"
      }
    },
    {
      "cell_type": "code",
      "source": [
        "y = df['sentiment'].values\n",
        "y_test = df_test['sentiment'].values\n",
        "\n",
        "train_text, val_text, y_train, y_val = train_test_split(df_text, y, test_size=0.1, stratify=y, shuffle=True, random_state=42)"
      ],
      "metadata": {
        "id": "jZVs50M7n8mi"
      },
      "execution_count": null,
      "outputs": []
    },
    {
      "cell_type": "markdown",
      "source": [
        "### Create a vocabulary index :"
      ],
      "metadata": {
        "id": "2SpZ_9-DcdLt"
      }
    },
    {
      "cell_type": "code",
      "source": [
        "# Tokenize Text\n",
        "token = Tokenizer(oov_token='OOV')\n",
        "token.fit_on_texts(train_text)\n",
        "\n",
        "# Converting text to sequences\n",
        "x_train_seq = token.texts_to_sequences(train_text)\n",
        "x_val_seq = token.texts_to_sequences(val_text)\n",
        "x_test_seq = token.texts_to_sequences(test_text)\n",
        "\n",
        "# sequence padding\n",
        "x_train = pad_sequences(x_train_seq, maxlen = max_len, padding='post')\n",
        "x_val = pad_sequences(x_val_seq,  maxlen = max_len)\n",
        "x_test = pad_sequences(x_test_seq,  maxlen = max_len)\n"
      ],
      "metadata": {
        "id": "I8M7pWipYb-X"
      },
      "execution_count": null,
      "outputs": []
    },
    {
      "cell_type": "markdown",
      "source": [
        "## Prepare Pre-trained Word2Vec weights"
      ],
      "metadata": {
        "id": "PM1Q5KS4GBst"
      }
    },
    {
      "cell_type": "markdown",
      "source": [
        "### Load the pre-trained word2vec embedding weights"
      ],
      "metadata": {
        "id": "4nUETV3jpKKw"
      }
    },
    {
      "cell_type": "code",
      "source": [
        "!wget --load-cookies /tmp/cookies.txt \"https://docs.google.com/uc?export=download&confirm=$(wget --quiet --save-cookies /tmp/cookies.txt --keep-session-cookies --no-check-certificate 'https://docs.google.com/uc?export=download&id=17ThJchrSwnOy1HEKX1HT79vpl1y4UH2L' -O- | sed -rn 's/.*confirm=([0-9A-Za-z_]+).*/\\1\\n/p')&id=17ThJchrSwnOy1HEKX1HT79vpl1y4UH2L\" -O wiki-word2vec.zip && rm -rf /tmp/cookies.txt\n",
        "!unzip wiki-word2vec.zip"
      ],
      "metadata": {
        "colab": {
          "base_uri": "https://localhost:8080/"
        },
        "id": "C_ja66J1JCPJ",
        "outputId": "91865044-3c22-4fb8-830b-99b43e6b489a"
      },
      "execution_count": null,
      "outputs": [
        {
          "output_type": "stream",
          "name": "stdout",
          "text": [
            "--2023-10-04 14:53:41--  https://docs.google.com/uc?export=download&confirm=t&id=17ThJchrSwnOy1HEKX1HT79vpl1y4UH2L\n",
            "Resolving docs.google.com (docs.google.com)... 142.251.12.113, 142.251.12.102, 142.251.12.139, ...\n",
            "Connecting to docs.google.com (docs.google.com)|142.251.12.113|:443... connected.\n",
            "HTTP request sent, awaiting response... 303 See Other\n",
            "Location: https://doc-14-44-docs.googleusercontent.com/docs/securesc/ha0ro937gcuc7l7deffksulhg5h7mbp1/i9qnfqrffesfb8qtb8qcv1t5ocj0jeki/1696431150000/18293686574256102848/*/17ThJchrSwnOy1HEKX1HT79vpl1y4UH2L?e=download&uuid=7d950f58-7700-45aa-80fd-d321d6dd7e93 [following]\n",
            "Warning: wildcards not supported in HTTP.\n",
            "--2023-10-04 14:53:43--  https://doc-14-44-docs.googleusercontent.com/docs/securesc/ha0ro937gcuc7l7deffksulhg5h7mbp1/i9qnfqrffesfb8qtb8qcv1t5ocj0jeki/1696431150000/18293686574256102848/*/17ThJchrSwnOy1HEKX1HT79vpl1y4UH2L?e=download&uuid=7d950f58-7700-45aa-80fd-d321d6dd7e93\n",
            "Resolving doc-14-44-docs.googleusercontent.com (doc-14-44-docs.googleusercontent.com)... 172.217.194.132, 2404:6800:4003:c04::84\n",
            "Connecting to doc-14-44-docs.googleusercontent.com (doc-14-44-docs.googleusercontent.com)|172.217.194.132|:443... connected.\n",
            "HTTP request sent, awaiting response... 200 OK\n",
            "Length: 266297069 (254M) [application/zip]\n",
            "Saving to: ‘wiki-word2vec.zip’\n",
            "\n",
            "wiki-word2vec.zip   100%[===================>] 253.96M  20.6MB/s    in 12s     \n",
            "\n",
            "2023-10-04 14:53:56 (20.4 MB/s) - ‘wiki-word2vec.zip’ saved [266297069/266297069]\n",
            "\n",
            "Archive:  wiki-word2vec.zip\n",
            "  inflating: wiki-lemma-100D-phrase  \n",
            "  inflating: wiki-lemma-100D-phrase.trainables.syn1neg.npy  \n",
            "  inflating: wiki-lemma-100D-phrase.wv.vectors.npy  \n"
          ]
        }
      ]
    },
    {
      "cell_type": "markdown",
      "source": [
        "### Use Gensim to load the parameters you just downloaded"
      ],
      "metadata": {
        "id": "fUxx_QDfJHWV"
      }
    },
    {
      "cell_type": "code",
      "source": [
        "w2v_model = Word2Vec.load(\"wiki-lemma-100D-phrase\")"
      ],
      "metadata": {
        "id": "H2YsPb2PJEwS"
      },
      "execution_count": null,
      "outputs": []
    },
    {
      "cell_type": "markdown",
      "source": [
        "### Check the word vector"
      ],
      "metadata": {
        "id": "ayttUqRptohW"
      }
    },
    {
      "cell_type": "code",
      "source": [
        "w2v_model.wv.most_similar('Google', topn = 5)"
      ],
      "metadata": {
        "colab": {
          "base_uri": "https://localhost:8080/"
        },
        "id": "2GhbXuVOtsh4",
        "outputId": "cff5a31d-d0a7-4bd0-cc1f-a60d7cf18bfd"
      },
      "execution_count": null,
      "outputs": [
        {
          "output_type": "execute_result",
          "data": {
            "text/plain": [
              "[('Microsoft', 0.8559668660163879),\n",
              " ('Google_Search', 0.8424477577209473),\n",
              " ('Google_Analytics', 0.8412379026412964),\n",
              " ('Yahoo', 0.8326561450958252),\n",
              " ('AltaVista', 0.824895977973938)]"
            ]
          },
          "metadata": {},
          "execution_count": 10
        }
      ]
    },
    {
      "cell_type": "code",
      "source": [
        "# similaraity b/w two words\n",
        "w2v_model.wv.similarity('winter','summer')"
      ],
      "metadata": {
        "colab": {
          "base_uri": "https://localhost:8080/"
        },
        "id": "S_dxpacPtvFc",
        "outputId": "dbdafab4-7435-46ce-e851-de528bcc7528"
      },
      "execution_count": null,
      "outputs": [
        {
          "output_type": "execute_result",
          "data": {
            "text/plain": [
              "0.81486917"
            ]
          },
          "metadata": {},
          "execution_count": 18
        }
      ]
    },
    {
      "cell_type": "code",
      "source": [
        "w2v_model.wv['Google']"
      ],
      "metadata": {
        "colab": {
          "base_uri": "https://localhost:8080/"
        },
        "id": "CKSjRo5vtzeS",
        "outputId": "316a1520-ea5a-4a3d-d1e0-4d8adf710b13"
      },
      "execution_count": null,
      "outputs": [
        {
          "output_type": "execute_result",
          "data": {
            "text/plain": [
              "array([ 3.3885376 , -4.2511983 , -1.445084  ,  1.9302932 ,  0.84648174,\n",
              "       -0.63184077,  0.05726242,  0.7063744 , -0.05059653,  2.1846352 ,\n",
              "       -0.12328646,  0.6471171 ,  0.25026178, -0.14930539, -0.07820829,\n",
              "        0.16145864,  0.6498362 ,  1.0886047 ,  1.5343726 ,  4.950689  ,\n",
              "        0.50769436, -0.3946989 ,  2.1025164 , -3.1834273 ,  2.380777  ,\n",
              "        0.24872196, -2.5802555 ,  1.4149348 ,  0.63408375, -1.6591691 ,\n",
              "       -2.4389815 ,  2.1249    ,  0.39783332, -0.35228804, -2.9626958 ,\n",
              "       -4.475956  , -4.0608654 , -0.39374784, -0.37150937, -1.4930124 ,\n",
              "       -2.4813695 ,  2.203496  ,  1.9972353 ,  5.479271  , -0.00601585,\n",
              "        2.1382024 , -1.6378103 ,  1.9081411 , -0.6341882 , -2.2414782 ,\n",
              "       -0.70867395,  1.1144645 , -1.7722839 ,  0.37062666,  0.80082476,\n",
              "        1.9306395 ,  0.48852623, -1.1423063 ,  3.0780652 ,  0.7570495 ,\n",
              "       -2.8385687 ,  0.5158689 , -1.316193  ,  0.51292163,  1.862376  ,\n",
              "        1.7524154 ,  1.8987881 ,  0.06306809,  1.378573  , -3.1835907 ,\n",
              "       -1.7185044 , -1.2889273 , -2.4795012 ,  2.7307894 , -1.8105891 ,\n",
              "       -3.9534705 , -2.8385644 ,  1.1834143 ,  1.0085803 , -0.8193638 ,\n",
              "        2.307464  , -1.1131806 ,  0.6802008 ,  0.5620667 , -5.907173  ,\n",
              "        3.8217628 ,  1.9559139 , -1.3510746 , -1.45398   , -0.5087807 ,\n",
              "       -3.1976836 ,  1.17948   , -5.1467657 ,  3.9677458 , -0.48014182,\n",
              "        2.1130106 ,  1.8481046 , -4.7859154 , -2.2084837 ,  1.1197177 ],\n",
              "      dtype=float32)"
            ]
          },
          "metadata": {},
          "execution_count": 12
        }
      ]
    },
    {
      "cell_type": "markdown",
      "source": [
        "### Transfer the word2vec model under gensim into different formats (txt file)\n"
      ],
      "metadata": {
        "id": "s7ISPAkFK6I8"
      }
    },
    {
      "cell_type": "markdown",
      "source": [
        "* Since the word2vec model we just downloaded is specifically for gensim, if we want to use it for keras, we must first save the model in a different format (txt file)"
      ],
      "metadata": {
        "id": "Rg_dy2F3yu8M"
      }
    },
    {
      "cell_type": "code",
      "source": [
        "w2v_model.wv.save_word2vec_format('keras_word2vec.txt', binary=False)"
      ],
      "metadata": {
        "id": "8VwIhMQNK_HA"
      },
      "execution_count": null,
      "outputs": []
    },
    {
      "cell_type": "markdown",
      "source": [
        "### Create that dictionary with those embeddings :  \n",
        "  \n"
      ],
      "metadata": {
        "id": "TEhHPuRPVKCA"
      }
    },
    {
      "cell_type": "code",
      "source": [
        "embeddings_index = dict()\n",
        "\n",
        "with open('keras_word2vec.txt') as f:\n",
        "  for line in f:\n",
        "    values = line.split()\n",
        "    # Only accepts vectors of length 101 (word + 100d embedding)\n",
        "    if len(values) != 101:\n",
        "      print(values)\n",
        "      continue\n",
        "    word = values[0]\n",
        "    coefs = np.asarray(values[1:], dtype='float32')\n",
        "    embeddings_index[word] = coefs\n",
        "\n",
        "print(\"Found %s word vectors.\" % len(embeddings_index))"
      ],
      "metadata": {
        "colab": {
          "base_uri": "https://localhost:8080/"
        },
        "id": "aM2vxce5Tzlo",
        "outputId": "2d862451-ff27-4f0b-e3f5-bbe94a5672b3"
      },
      "execution_count": null,
      "outputs": [
        {
          "output_type": "stream",
          "name": "stdout",
          "text": [
            "['346848', '100']\n",
            "Found 346848 word vectors.\n"
          ]
        }
      ]
    },
    {
      "cell_type": "markdown",
      "source": [
        "### Create a lookup table (look up table/ embedding matrix):\n",
        "\n",
        "(Based on the results of the tokenizer above)"
      ],
      "metadata": {
        "id": "tSZyoy4c_TxW"
      }
    },
    {
      "cell_type": "code",
      "source": [
        "# extracted words.\n",
        "vocab = token.word_index\n",
        "vocab_size = len(vocab) + 1\n",
        "embed_dim = 100\n",
        "\n",
        "# Creat a look up table\n",
        "embedding_matrix = np.zeros((vocab_size, embed_dim))\n",
        "for word, i in vocab.items():\n",
        "\t  embedding_vector = embeddings_index.get(word)\n",
        "\t  if embedding_vector is not None:\n",
        "\t    \tembedding_matrix[i] = embedding_vector\n",
        "        # if word is not found then embed_vector corressponding to that vector will stay zero."
      ],
      "metadata": {
        "id": "mg92amXC_UJl"
      },
      "execution_count": null,
      "outputs": []
    },
    {
      "cell_type": "markdown",
      "source": [
        "## Modeling & Training\n"
      ],
      "metadata": {
        "id": "Q-qz75PFzPP9"
      }
    },
    {
      "cell_type": "code",
      "source": [
        "# function :  Accuracy and loss for training and validation\n",
        "def plot_performance(epochs, history):\n",
        "    acc = history.history['accuracy']\n",
        "    val_acc = history.history['val_accuracy']\n",
        "\n",
        "    loss = history.history['loss']\n",
        "    val_loss = history.history['val_loss']\n",
        "\n",
        "    plt.figure(figsize=(12, 4))\n",
        "    plt.subplot(1, 2, 1)\n",
        "    plt.plot(epochs, acc, label='Training Accuracy')\n",
        "    plt.plot(epochs, val_acc, label='Validation Accuracy')\n",
        "    plt.legend(loc='lower right')\n",
        "    plt.ylabel('Accuracy')\n",
        "    plt.xlabel('epoch')\n",
        "    plt.title('Training and Validation Accuracy')\n",
        "\n",
        "    plt.subplot(1, 2, 2)\n",
        "    plt.plot(epochs, loss, label='Training Loss')\n",
        "    plt.plot(epochs, val_loss, label='Validation Loss')\n",
        "    plt.legend(loc='upper right')\n",
        "    plt.ylabel('loss')\n",
        "    plt.xlabel('epoch')\n",
        "    plt.title('Training and Validation Loss')\n",
        "    plt.show()\n",
        "\n",
        "\n",
        "# evaluate function\n",
        "def evaluate(model, x_test, y_test):\n",
        "  y_pred = model.predict(x_test)\n",
        "  y_pred_label = (y_pred > 0.5)  # 也可寫 [1 if val > 0.5 else 0 for val in y_pred]\n",
        "  print('----- Model Evaluation -----')\n",
        "  print('Confusion Matrix:')\n",
        "  print(confusion_matrix(y_test, y_pred_label))\n",
        "  print('  ')\n",
        "  print(classification_report(y_test, y_pred_label))\n",
        "  print('  ')\n",
        "  print('---------------------')\n",
        "  print('  ')\n",
        "  print('AUC: {0}'.format(roc_auc_score(y_test, y_pred_label)))\n",
        "  print('F1 score: {0}'.format(f1_score(y_test, y_pred_label)))\n",
        "  print('Precision: {0}'.format(precision_score(y_test, y_pred_label)))\n",
        "  print('Recall: {0}'.format(recall_score(y_test, y_pred_label)))\n",
        "  print('Accuracy: {0}'.format(accuracy_score(y_test, y_pred_label, normalize=True)))"
      ],
      "metadata": {
        "id": "bfaJonhlEtoG"
      },
      "execution_count": null,
      "outputs": []
    },
    {
      "cell_type": "markdown",
      "source": [
        "### Word2vec + BiLSTM"
      ],
      "metadata": {
        "id": "AR_U91baxpmS"
      }
    },
    {
      "cell_type": "markdown",
      "source": [
        "*  Construct BiLSTM model\n"
      ],
      "metadata": {
        "id": "OMg_tHxHxpma"
      }
    },
    {
      "cell_type": "code",
      "source": [
        "# Define BiLSTM model\n",
        "model_LSTM_1 = Sequential()\n",
        "model_LSTM_1.add(Embedding(input_dim = vocab_size, output_dim = embed_dim, weights = [embedding_matrix], input_length = max_len, trainable=True))\n",
        "model_LSTM_1.add(SpatialDropout1D(0.25))\n",
        "model_LSTM_1.add(Bidirectional(LSTM(128, return_sequences = True)))\n",
        "model_LSTM_1.add(GlobalMaxPool1D())\n",
        "model_LSTM_1.add(Dropout(0.3))\n",
        "model_LSTM_1.add(Dense(30, activation=\"relu\"))\n",
        "model_LSTM_1.add(Dropout(0.3))\n",
        "model_LSTM_1.add(Dense(1, activation=\"sigmoid\"))\n",
        "\n",
        "model_LSTM_1.compile(loss='binary_crossentropy',\n",
        "        optimizer=Adam(learning_rate=1e-3),\n",
        "        metrics=['accuracy'])\n",
        "\n",
        "callback = EarlyStopping(monitor=\"val_loss\", mode='min', patience=2, restore_best_weights=True)\n",
        "\n",
        "# model structure\n",
        "#model_LSTM_1.summary()"
      ],
      "metadata": {
        "id": "qhHqlI9zxpma"
      },
      "execution_count": null,
      "outputs": []
    },
    {
      "cell_type": "markdown",
      "source": [
        "* Training"
      ],
      "metadata": {
        "id": "PXT8WZtCxpma"
      }
    },
    {
      "cell_type": "code",
      "source": [
        "batch_size = 128\n",
        "epochs = 20\n",
        "history_LSTM_1 = model_LSTM_1.fit(x_train, y_train, batch_size=batch_size, epochs=epochs, validation_data=(x_val, y_val), callbacks = [callback])"
      ],
      "metadata": {
        "colab": {
          "base_uri": "https://localhost:8080/"
        },
        "outputId": "800e70b6-f592-4497-80a0-a9d89013675f",
        "id": "qK_EnULtxpma"
      },
      "execution_count": null,
      "outputs": [
        {
          "output_type": "stream",
          "name": "stdout",
          "text": [
            "Epoch 1/20\n",
            "166/166 [==============================] - 31s 150ms/step - loss: 0.6499 - accuracy: 0.6076 - val_loss: 0.5578 - val_accuracy: 0.7151\n",
            "Epoch 2/20\n",
            "166/166 [==============================] - 16s 95ms/step - loss: 0.4835 - accuracy: 0.7710 - val_loss: 0.3768 - val_accuracy: 0.8399\n",
            "Epoch 3/20\n",
            "166/166 [==============================] - 13s 78ms/step - loss: 0.3888 - accuracy: 0.8300 - val_loss: 0.4006 - val_accuracy: 0.8143\n",
            "Epoch 4/20\n",
            "166/166 [==============================] - 11s 67ms/step - loss: 0.3448 - accuracy: 0.8539 - val_loss: 0.3324 - val_accuracy: 0.8620\n",
            "Epoch 5/20\n",
            "166/166 [==============================] - 11s 64ms/step - loss: 0.2980 - accuracy: 0.8784 - val_loss: 0.3379 - val_accuracy: 0.8595\n",
            "Epoch 6/20\n",
            "166/166 [==============================] - 9s 54ms/step - loss: 0.2532 - accuracy: 0.9004 - val_loss: 0.3131 - val_accuracy: 0.8688\n",
            "Epoch 7/20\n",
            "166/166 [==============================] - 9s 51ms/step - loss: 0.2073 - accuracy: 0.9192 - val_loss: 0.3689 - val_accuracy: 0.8543\n",
            "Epoch 8/20\n",
            "166/166 [==============================] - 9s 54ms/step - loss: 0.1672 - accuracy: 0.9359 - val_loss: 0.3411 - val_accuracy: 0.8697\n"
          ]
        }
      ]
    },
    {
      "cell_type": "markdown",
      "source": [
        "* Accuracy and loss for training and validation"
      ],
      "metadata": {
        "id": "Z5pQjWG8xpmb"
      }
    },
    {
      "cell_type": "code",
      "source": [
        "plot_performance(history_LSTM_1.epoch, history_LSTM_1)"
      ],
      "metadata": {
        "colab": {
          "base_uri": "https://localhost:8080/",
          "height": 410
        },
        "outputId": "e10e0945-7e78-4555-967a-068a022bad7b",
        "id": "XUgrMktrxpmb"
      },
      "execution_count": null,
      "outputs": [
        {
          "output_type": "display_data",
          "data": {
            "text/plain": [
              "<Figure size 1200x400 with 2 Axes>"
            ],
            "image/png": "[encoded data removed]"
          },
          "metadata": {}
        }
      ]
    },
    {
      "cell_type": "markdown",
      "source": [
        "* Test data 預測/評估"
      ],
      "metadata": {
        "id": "iWibX_vrxpmb"
      }
    },
    {
      "cell_type": "code",
      "source": [
        "evaluate(model_LSTM_1, x_test, y_test)"
      ],
      "metadata": {
        "colab": {
          "base_uri": "https://localhost:8080/"
        },
        "outputId": "b02a4af1-99bb-4c0e-cc0b-3f4923269b16",
        "id": "XY_HwCYBxpmb"
      },
      "execution_count": null,
      "outputs": [
        {
          "output_type": "stream",
          "name": "stdout",
          "text": [
            "184/184 [==============================] - 2s 7ms/step\n",
            "----- Model Evaluation -----\n",
            "Confusion Matrix:\n",
            "[[2487  391]\n",
            " [ 356 2635]]\n",
            "  \n",
            "              precision    recall  f1-score   support\n",
            "\n",
            "           0       0.87      0.86      0.87      2878\n",
            "           1       0.87      0.88      0.88      2991\n",
            "\n",
            "    accuracy                           0.87      5869\n",
            "   macro avg       0.87      0.87      0.87      5869\n",
            "weighted avg       0.87      0.87      0.87      5869\n",
            "\n",
            "  \n",
            "---------------------\n",
            "  \n",
            "AUC: 0.8725590136171777\n",
            "F1 score: 0.8758517533654646\n",
            "Precision: 0.8707865168539326\n",
            "Recall: 0.8809762621196924\n",
            "Accuracy: 0.8727210768444369\n"
          ]
        }
      ]
    }
  ]
}