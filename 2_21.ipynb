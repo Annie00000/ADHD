{
  "nbformat": 4,
  "nbformat_minor": 0,
  "metadata": {
    "colab": {
      "provenance": [],
      "authorship_tag": "ABX9TyMPPGB5t9FX2QAsQxIsfbSR",
      "include_colab_link": true
    },
    "kernelspec": {
      "name": "python3",
      "display_name": "Python 3"
    },
    "language_info": {
      "name": "python"
    }
  },
  "cells": [
    {
      "cell_type": "markdown",
      "metadata": {
        "id": "view-in-github",
        "colab_type": "text"
      },
      "source": [
        "<a href=\"https://colab.research.google.com/github/Annie00000/Project/blob/main/2_21.ipynb\" target=\"_parent\"><img src=\"https://colab.research.google.com/assets/colab-badge.svg\" alt=\"Open In Colab\"/></a>"
      ]
    },
    {
      "cell_type": "markdown",
      "source": [
        "## 第一則的想法"
      ],
      "metadata": {
        "id": "rHj_jWF8ZqJT"
      }
    },
    {
      "cell_type": "code",
      "source": [],
      "metadata": {
        "id": "dN0zpXb7ZqAR"
      },
      "execution_count": null,
      "outputs": []
    },
    {
      "cell_type": "markdown",
      "source": [
        "## 第二個的想法"
      ],
      "metadata": {
        "id": "cAvQlwlGYkF2"
      }
    },
    {
      "cell_type": "code",
      "source": [
        "\n",
        "WITH table1_prepared AS (\n",
        "    SELECT\n",
        "        col1 AS \"column1\",\n",
        "        col2,\n",
        "        col3,\n",
        "        LEFT(col1, 9) || '.00' AS col4  # CONCAT(SUBSTRING(col1, 1, 9), '.00')\n",
        "    FROM table1\n",
        "),\n",
        "table2_latest AS (\n",
        "    SELECT\n",
        "        col1,\n",
        "        col2,\n",
        "        ROW_NUMBER() OVER(PARTITION BY col1 ORDER BY [某个时间戳或递增ID字段] DESC) AS rn\n",
        "        -- 假设table2有一个可以表示顺序的字段，如时间戳或自增ID\n",
        "        # ROW_NUMBER() OVER(PARTITION BY col1 ORDER BY time_col DESC\n",
        "    FROM table2\n",
        "    # WHERE time_col < '特定时间' -- 假设有一个列名为time_col，且需要过滤出在特定时间之前的记录\n",
        "\n",
        ")\n",
        "SELECT\n",
        "    t1.\"column1\",\n",
        "    t1.col2 AS t1_col2,\n",
        "    t1.col3 AS t1_col3,\n",
        "    t1.col4,\n",
        "    t2.col1 AS t2_col1,\n",
        "    t2.col2 AS t2_col2\n",
        "FROM table1_prepared t1\n",
        "JOIN table2_latest t2 ON t1.col4 = t2.col1\n",
        "WHERE t2.rn = 1;  -- 选择重复中的最后一条记录\n"
      ],
      "metadata": {
        "id": "3aiufZyFYkLs"
      },
      "execution_count": null,
      "outputs": []
    },
    {
      "cell_type": "markdown",
      "source": [
        "请注意几点：\n",
        "\n",
        "LEFT(col1, 9) || '.00' 是用于创建 col4 的表达式，适用于 PostgreSQL。如果您使用的是 MySQL，您可能需要使用 CONCAT(LEFT(col1, 9), '.00')。\n",
        "\n",
        "在 table2_latest 子查询中，使用了 ROW_NUMBER() OVER(PARTITION BY col1 ORDER BY [某个时间戳或递增ID字段] DESC) 来为每个 col1 的重复值分配一个行号，其中最新（或最后一条）记录被赋予 rn=1。您需要替换 [某个时间戳或递增ID字段] 为实际能代表顺序的字段，比如一个时间戳字段或者自增的ID字段。\n",
        "\n",
        "\n",
        "使用 WITH 语句（公共表表达式或CTE）来简化查询，使其更加清晰。\n",
        "这个例子给出了一个基本的框架，您可能需要根据您的具体数据库系统和表结构进行相应的调整。"
      ],
      "metadata": {
        "id": "IQTdW7rhYtGu"
      }
    },
    {
      "cell_type": "code",
      "source": [],
      "metadata": {
        "id": "rWFIZ0oaZWQg"
      },
      "execution_count": null,
      "outputs": []
    }
  ]
}