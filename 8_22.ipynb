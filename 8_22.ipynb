{
  "nbformat": 4,
  "nbformat_minor": 0,
  "metadata": {
    "colab": {
      "provenance": [],
      "authorship_tag": "ABX9TyNVFGUd/pshBN02aHGivFlJ",
      "include_colab_link": true
    },
    "kernelspec": {
      "name": "python3",
      "display_name": "Python 3"
    },
    "language_info": {
      "name": "python"
    }
  },
  "cells": [
    {
      "cell_type": "markdown",
      "metadata": {
        "id": "view-in-github",
        "colab_type": "text"
      },
      "source": [
        "<a href=\"https://colab.research.google.com/github/Annie00000/Project/blob/main/8_22.ipynb\" target=\"_parent\"><img src=\"https://colab.research.google.com/assets/colab-badge.svg\" alt=\"Open In Colab\"/></a>"
      ]
    },
    {
      "cell_type": "markdown",
      "source": [
        "## Rule 1\n",
        "\n",
        "單一點落在3外"
      ],
      "metadata": {
        "id": "3GPYQm-fsG80"
      }
    },
    {
      "cell_type": "markdown",
      "source": [
        "#### 1.1 一般 (未分群，只查看 value)"
      ],
      "metadata": {
        "id": "oyqJaUl6ujQo"
      }
    },
    {
      "cell_type": "code",
      "source": [
        "import pandas as pd\n",
        "\n",
        "def check_western_electric_rule1(df, column_name, k):\n",
        "    \"\"\"\n",
        "    檢查 Western Electric Rule 1 是否被觸發。\n",
        "\n",
        "    參數:\n",
        "    df (pandas.DataFrame): 包含過程數據的 DataFrame。\n",
        "    column_name (str): DataFrame 中包含過程變數的列名。\n",
        "    k (float): 控制限的倍數，通常為 3 倍標準差。\n",
        "\n",
        "    返回:\n",
        "    violations (pandas.DataFrame): 包含違規點的 DataFrame。\n",
        "    \"\"\"\n",
        "    # 計算平均值和標準差\n",
        "    mean = df[column_name].mean()\n",
        "    std_dev = df[column_name].std()\n",
        "\n",
        "    # 計算控制限\n",
        "    upper_control_limit = mean + k * std_dev\n",
        "    lower_control_limit = mean - k * std_dev\n",
        "\n",
        "    # 檢測違規的點\n",
        "    mask = (df[column_name] > upper_control_limit) | (df[column_name] < lower_control_limit)\n",
        "    violations = df[mask]\n",
        "\n",
        "    return violations\n",
        "\n",
        "# 示例使用\n",
        "# 假設 'process_data' 是一個 DataFrame，並且我們關心名為 'measurement' 的列\n",
        "# process_data = pd.read_excel('path_to_your_file.xlsx')  # 加載你的數據\n",
        "# rule1_violations = check_western_electric_rule1(process_data, 'measurement', 3)\n",
        "# print(rule1_violations)\n"
      ],
      "metadata": {
        "id": "wawPH-irsImR"
      },
      "execution_count": null,
      "outputs": []
    },
    {
      "cell_type": "markdown",
      "source": [
        "#### 1.2 有分群"
      ],
      "metadata": {
        "id": "871vZzsfuuON"
      }
    },
    {
      "cell_type": "markdown",
      "source": [
        "## Rule 2\n",
        "\n",
        "連續9點同一側"
      ],
      "metadata": {
        "id": "LoEBPYkvsJMH"
      }
    },
    {
      "cell_type": "code",
      "source": [
        "import pandas as pd\n",
        "\n",
        "def western_electric_rule2(df, k, col_name):\n",
        "    # 初始化一個空的 DataFrame 來存儲結果\n",
        "    columns = ['col1', 'col2', 'col_value'] + [f'point{i}' for i in range(k, 0, -1)] + [f'point{i}_value' for i in range(k, 0, -1)]\n",
        "    results = pd.DataFrame(columns=columns)\n",
        "\n",
        "    # 檢查每個點是否符合連續 k 點在中心線同一側的規則\n",
        "    for i in range(len(df) - k + 1):\n",
        "        sub_df = df[col_name].iloc[i:i+k]\n",
        "        if all(sub_df > df[col_name].mean()) or all(sub_df < df[col_name].mean()):\n",
        "            # 如果找到符合條件的連續 k 點，記錄這些點及其索引\n",
        "            row = {\n",
        "                'col1': 'Sample',  # 根據實際需求自行調整\n",
        "                'col2': 'Sample',  # 根據實際需求自行調整\n",
        "                'col_value': df[col_name].iloc[i+k-1]\n",
        "            }\n",
        "            row.update({f'point{j}': i+k-j for j in range(k)})\n",
        "            row.update({f'point{j}_value': df[col_name].iloc[i+k-j] for j in range(k)})\n",
        "            results = results.append(row, ignore_index=True)\n",
        "\n",
        "    return results\n",
        "\n",
        "# 假設的 DataFrame 和用例\n",
        "data = {\n",
        "    'Measurement': [1, 2, 3, 4, 5, 4, 3, 2, 1, 2, 3, 4, 5, 6, 5, 4, 3, 2, 1]\n",
        "}\n",
        "df = pd.DataFrame(data)\n",
        "\n",
        "# 調用函數\n",
        "output_df = western_electric_rule2(df, 3, 'Measurement')\n",
        "print(output_df)\n"
      ],
      "metadata": {
        "id": "IM_LDNSYxu4G"
      },
      "execution_count": null,
      "outputs": []
    },
    {
      "cell_type": "code",
      "source": [
        "def western_electric_rule2_updated(df, k, col_name):\n",
        "    # 初始化一個空的 DataFrame 來存儲結果\n",
        "    columns = ['col1', 'col2']\n",
        "    for j in range(k, 0, -1):\n",
        "        columns.append(f'point{j}')\n",
        "        columns.append(f'point{j}_value')\n",
        "\n",
        "    results = pd.DataFrame(columns=columns)\n",
        "\n",
        "    # 檢查每個點是否符合連續 k 點在中心線同一側的規則\n",
        "    for i in range(len(df) - k + 1):\n",
        "        sub_df = df[col_name].iloc[i:i+k]\n",
        "        if all(sub_df > df[col_name].mean()) or all(sub_df < df[col_name].mean()):\n",
        "            # 如果找到符合條件的連續 k 點，記錄這些點及其索引\n",
        "            row = {\n",
        "                'col1': df.iloc[i+k-1]['col1'],  # 根據實際需求自行調整\n",
        "                'col2': df.iloc[i+k-1]['col2'],  # 根據實際需求自行調整\n",
        "            }\n",
        "            for j in range(k, 0, -1):\n",
        "                row[f'point{j}'] = i+k-j\n",
        "                row[f'point{j}_value'] = df[col_name].iloc[i+k-j]\n",
        "\n",
        "            results = results.append(row, ignore_index=True)\n",
        "\n",
        "    return results\n",
        "\n",
        "# 測試函數\n",
        "result_updated = western_electric_rule2_updated(df, 9, 'col_name')\n",
        "import ace_tools as tools; tools.display_dataframe_to_user(name=\"Updated Western Electric Rule Results\", dataframe=result_updated)\n"
      ],
      "metadata": {
        "id": "nW7-uiSJv3N5"
      },
      "execution_count": null,
      "outputs": []
    },
    {
      "cell_type": "markdown",
      "source": [
        "## Rule 3 (已做過)"
      ],
      "metadata": {
        "id": "YR2cqp9Hxv7A"
      }
    },
    {
      "cell_type": "markdown",
      "source": [
        "## Rule 4"
      ],
      "metadata": {
        "id": "jsSfPje1x4TQ"
      }
    },
    {
      "cell_type": "code",
      "source": [
        "def western_electric_rule4_v2(df, k, col_name):\n",
        "    # 初始化一個空的 DataFrame 來存儲結果\n",
        "    columns = ['col1', 'col2', 'col_value']\n",
        "    for i in range(k, 0, -1):\n",
        "        columns.append(f'point{i}')\n",
        "        columns.append(f'point{i}_value')\n",
        "\n",
        "    results = pd.DataFrame(columns=columns)\n",
        "\n",
        "    # 檢查每個點是否符合連續 k 點交替上升下降的規則\n",
        "    for i in range(len(df) - k + 1):\n",
        "        sub_df = df[col_name].iloc[i:i+k].values\n",
        "        # 檢查是否交替上升下降\n",
        "        is_alternating = all((sub_df[j] > sub_df[j-1] and sub_df[j+1] < sub_df[j]) or\n",
        "                             (sub_df[j] < sub_df[j-1] and sub_df[j+1] > sub_df[j])\n",
        "                             for j in range(1, k-1))\n",
        "        if is_alternating:\n",
        "            # 如果找到符合條件的連續 k 點，記錄這些點及其索引\n",
        "            row = {\n",
        "                'col1': df.iloc[i+k-1]['col1'],  # 根據實際需求自行調整\n",
        "                'col2': df.iloc[i+k-1]['col2'],  # 根據實際需求自行調整\n",
        "                'col_value': df[col_name].iloc[i+k-1]\n",
        "            }\n",
        "            for j in range(k):\n",
        "                row[f'point{k-j}'] = i+k-j\n",
        "                row[f'point{k-j}_value'] = df[col_name].iloc[i+k-j]\n",
        "\n",
        "            results = results.append(row, ignore_index=True)\n",
        "\n",
        "    return results\n",
        "\n",
        "# 測試函數\n",
        "result_rule4_v2 = western_electric_rule4_v2(df, 14, 'col_name')\n",
        "tools.display_dataframe_to_user(name=\"Western Electric Rule 4 Results (Corrected)\", dataframe=result_rule4_v2)\n"
      ],
      "metadata": {
        "id": "m0EbTvuJjoEa"
      },
      "execution_count": null,
      "outputs": []
    },
    {
      "cell_type": "code",
      "source": [],
      "metadata": {
        "id": "N-8nOdmjxxbd"
      },
      "execution_count": null,
      "outputs": []
    },
    {
      "cell_type": "markdown",
      "source": [
        "* (PPTX)補充"
      ],
      "metadata": {
        "id": "s9BgPzTCjlGQ"
      }
    },
    {
      "cell_type": "markdown",
      "source": [
        "1. https://www.ignsw.com/%E8%BE%A6%E5%85%AC%E5%AE%A4%E8%87%AA%E5%8B%95%E5%8C%96%E4%B9%8Bpowerpoint%E6%93%8D%E4%BD%9C/\n",
        "\n",
        "2. https://medium.com/%E6%9F%BF%E7%94%9C%E8%8C%B6%E9%A6%99/python-%E8%A3%BD%E4%BD%9C-ppt-%E4%B8%8A-accb8f5bb461\n",
        "\n",
        "3. https://www.dszhp.com/python-pptx.html\n",
        "\n",
        "4. https://ithelp.ithome.com.tw/articles/10248794?sc=iThomeR"
      ],
      "metadata": {
        "id": "518Uj_HDjowI"
      }
    }
  ]
}