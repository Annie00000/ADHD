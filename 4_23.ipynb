{
  "nbformat": 4,
  "nbformat_minor": 0,
  "metadata": {
    "colab": {
      "provenance": [],
      "authorship_tag": "ABX9TyMsZ0ArkZm1xXwIEv+VKcQY",
      "include_colab_link": true
    },
    "kernelspec": {
      "name": "python3",
      "display_name": "Python 3"
    },
    "language_info": {
      "name": "python"
    }
  },
  "cells": [
    {
      "cell_type": "markdown",
      "metadata": {
        "id": "view-in-github",
        "colab_type": "text"
      },
      "source": [
        "<a href=\"https://colab.research.google.com/github/Annie00000/Project/blob/main/4_23.ipynb\" target=\"_parent\"><img src=\"https://colab.research.google.com/assets/colab-badge.svg\" alt=\"Open In Colab\"/></a>"
      ]
    },
    {
      "cell_type": "code",
      "source": [
        "from dash import dash, html, dcc, Input, Output, State, no_update\n",
        "\n",
        "app = dash.Dash(__name__)\n",
        "\n",
        "app.layout = html.Div([\n",
        "    dcc.Store(id='data-store', data={'data': []}),  # 示例数据，实际应用中这里会动态更新\n",
        "    dcc.ConfirmDialog(\n",
        "        id='confirm-danger',\n",
        "        message='No data available to plot. Please check your selection.',\n",
        "    ),\n",
        "    html.Button(\"Plot\", id=\"plot-button\"),\n",
        "    html.Div(id='plot-link-container')\n",
        "])\n",
        "\n",
        "@app.callback(\n",
        "    [Output('confirm-danger', 'displayed'),  # 控制确认对话框是否显示\n",
        "     Output('plot-link-container', 'children')],  # 动态生成链接或提示信息\n",
        "    Input('plot-button', 'n_clicks'),  # 监听按钮点击\n",
        "    State('data-store', 'data')  # 从数据存储中获取数据\n",
        ")\n",
        "def handle_plot_action(n_clicks, data_store):\n",
        "    if n_clicks is None:\n",
        "        # 页面加载时，不进行任何操作\n",
        "        return False, no_update\n",
        "\n",
        "    if not data_store['data']:\n",
        "        # 数据检查未通过，显示警告对话框\n",
        "        return True, no_update\n",
        "\n",
        "    # 数据检查通过，生成跳转链接\n",
        "    plot_url = \"/path-to-plot-page\"\n",
        "    plot_link = html.A(\"Go to Plot Page\", href=plot_url, target='_blank')\n",
        "    return False, plot_link\n",
        "\n",
        "if __name__ == '__main__':\n",
        "    app.run_server(debug=True)\n"
      ],
      "metadata": {
        "id": "bZIrid81Cogt"
      },
      "execution_count": null,
      "outputs": []
    },
    {
      "cell_type": "code",
      "source": [
        "import dash\n",
        "from dash import html, dcc, Input, Output, no_update, State\n",
        "\n",
        "app = dash.Dash(__name__)\n",
        "\n",
        "app.layout = html.Div([\n",
        "    dcc.Store(id='data-store', data=[]),  # 假设这里动态更新，初始为空列表\n",
        "    dcc.ConfirmDialog(\n",
        "        id='confirm-danger',\n",
        "        message='No data available to plot. Please check your selection.',\n",
        "    ),\n",
        "    html.Button(\"Plot\", id=\"plot-button\"),\n",
        "    html.A(\"Go to Plot Page\", id='plot-link', target='_blank')\n",
        "])\n",
        "\n",
        "@app.callback(\n",
        "    [Output('confirm-danger', 'displayed'),  # 控制确认对话框是否显示\n",
        "     Output('plot-link', 'href')],  # 动态控制链接的 href 属性\n",
        "    Input('plot-button', 'n_clicks'),  # 监听按钮点击\n",
        "    State('data-store', 'data')  # 从数据存储中获取数据状态\n",
        ")\n",
        "def handle_plot_action(n_clicks, data_store):\n",
        "    if n_clicks is None:\n",
        "        return False, no_update  # 初始加载时不触发\n",
        "\n",
        "    if data_store:  # 检查是否有数据\n",
        "        plot_url = \"/path-to-plot-page\"\n",
        "        return False, plot_url\n",
        "    else:\n",
        "        return True, no_update  # 显示警告对话框，不更新链接\n",
        "\n",
        "if __name__ == '__main__':\n",
        "    app.run_server(debug=True)\n"
      ],
      "metadata": {
        "id": "aj4YnsjACoeI"
      },
      "execution_count": null,
      "outputs": []
    }
  ]
}