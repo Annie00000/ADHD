{
  "nbformat": 4,
  "nbformat_minor": 0,
  "metadata": {
    "colab": {
      "provenance": [],
      "authorship_tag": "ABX9TyPuEV/WUUOenABCuIgRa9Wd",
      "include_colab_link": true
    },
    "kernelspec": {
      "name": "python3",
      "display_name": "Python 3"
    },
    "language_info": {
      "name": "python"
    }
  },
  "cells": [
    {
      "cell_type": "markdown",
      "metadata": {
        "id": "view-in-github",
        "colab_type": "text"
      },
      "source": [
        "<a href=\"https://colab.research.google.com/github/Annie00000/Project/blob/main/4_15.ipynb\" target=\"_parent\"><img src=\"https://colab.research.google.com/assets/colab-badge.svg\" alt=\"Open In Colab\"/></a>"
      ]
    },
    {
      "cell_type": "markdown",
      "source": [
        "## 1. 日期选择器的输出和“Renew”按钮的点击事件结合为一个单一的回调"
      ],
      "metadata": {
        "id": "zt4hHyCQH18f"
      }
    },
    {
      "cell_type": "markdown",
      "source": [
        "在这段代码中，顶层的html.Div使用了display: flex布局，这使得其中的所有子组件（日期选择器、两个按钮）都**并列**显示。\n",
        "\n",
        "marginLeft: auto属性被应用到\n",
        "\"Release All\"按钮上，它会将该按钮推到最右侧。justifyContent: 'flex-start'确保其他元素从左侧开始排列。\n",
        "\n",
        "这样的布局可以让你的页面组件看起来更加整洁，并且符合你的需求，即让\"Release All\"按钮位于最右侧。"
      ],
      "metadata": {
        "id": "1x_C8YCJdrsS"
      }
    },
    {
      "cell_type": "code",
      "source": [
        "import dash\n",
        "from dash.dependencies import Input, Output, State\n",
        "import dash_core_components as dcc\n",
        "import dash_html_components as html\n",
        "import datetime\n",
        "import pandas as pd\n",
        "\n",
        "app = dash.Dash(__name__)\n",
        "\n",
        "app.layout = html.Div([\n",
        "    html.Div([\n",
        "        dcc.DatePickerRange(\n",
        "            id='date-picker-range',\n",
        "            end_date=datetime.date.today(),\n",
        "            start_date=datetime.date.today() - datetime.timedelta(days=30)\n",
        "        ),\n",
        "        html.Button(\"Renew\", id=\"renew-button\"),\n",
        "        html.Button(\"Release All\", id=\"release-all-button\", style={'marginLeft': 'auto', 'display': 'block'})\n",
        "    ], style={'display': 'flex', 'justifyContent': 'flex-start'}),\n",
        "    dcc.Store(id='filter_data'),\n",
        "    html.Div(id='filter_table')\n",
        "])\n",
        "\n",
        "@app.callback(\n",
        "    Output('filter_data', 'data'),\n",
        "    [Input('renew-button', 'n_clicks')],\n",
        "    [State('date-picker-range', 'start_date'),\n",
        "     State('date-picker-range', 'end_date')]\n",
        ")\n",
        "def update_data(n_clicks, start_date, end_date):\n",
        "    if n_clicks is None:\n",
        "        # 默认载入数据\n",
        "        return load_data_from_db(datetime.date.today() - datetime.timedelta(days=30), datetime.date.today())\n",
        "    else:\n",
        "        # 根据日期选择器更新数据\n",
        "        return load_data_from_db(start_date, end_date)\n",
        "\n",
        "@app.callback(\n",
        "    Output('filter_table', 'children'),\n",
        "    [Input('filter_data', 'data')]\n",
        ")\n",
        "def update_table(filter_data):\n",
        "    # 使用filter_data来生成表格\n",
        "    return html.Div(\"Table with data: {}\".format(filter_data))\n",
        "\n",
        "def load_data_from_db(start_date, end_date):\n",
        "    # 模拟从数据库加载数据\n",
        "    print(f\"Loading data from {start_date} to {end_date}\")\n",
        "    return {'start_date': start_date, 'end_date': end_date}\n",
        "\n",
        "if __name__ == '__main__':\n",
        "    app.run_server(debug=True)\n"
      ],
      "metadata": {
        "id": "kX7qWvkYH1LK"
      },
      "execution_count": null,
      "outputs": []
    },
    {
      "cell_type": "markdown",
      "source": [
        "* 用 style調整寬度"
      ],
      "metadata": {
        "id": "pgH_XIvdeDdv"
      }
    },
    {
      "cell_type": "markdown",
      "source": [
        "每个组件都被赋予了一个width属性值，这个值是基于其在父容器中应占的百分比。通过这种方式，你可以精确地控制每个组件的宽度，确保它们在一行内并排显示，并且每个组件都有足够的空间。设置display: flex和width: 100%确保了容器能够适应不同屏幕大小，并且内部组件根据设置的宽度分布。"
      ],
      "metadata": {
        "id": "Csu0honVeMpG"
      }
    },
    {
      "cell_type": "code",
      "source": [
        "app.layout = html.Div([\n",
        "    html.Div([\n",
        "        dcc.DatePickerRange(\n",
        "            id='date-picker-range',\n",
        "            end_date=datetime.date.today(),\n",
        "            start_date=datetime.date.today() - datetime.timedelta(days=30),\n",
        "            style={'width': '60%'}  # 调整日期选择器宽度\n",
        "        ),\n",
        "        html.Button(\"Renew\", id=\"renew-button\", style={'width': '15%'}),  # 调整Renew按钮宽度\n",
        "        html.Button(\"Release All\", id=\"release-all-button\", style={'width': '25%'}),  # 调整Release All按钮宽度\n",
        "        # style={'float': 'right', 'margin-right': '20px'}\n",
        "    ], style={'display': 'flex', 'width': '100%'}),\n",
        "    dcc.Store(id='filter_data'),\n",
        "    html.Div(id='filter_table')\n",
        "])"
      ],
      "metadata": {
        "id": "QqswrU-leFtK"
      },
      "execution_count": null,
      "outputs": []
    },
    {
      "cell_type": "markdown",
      "source": [
        "* 另一種排版"
      ],
      "metadata": {
        "id": "Xp3GFxbLhHIs"
      }
    },
    {
      "cell_type": "code",
      "source": [
        "import dash\n",
        "from dash.dependencies import Input, Output, State\n",
        "from dash import dcc, html\n",
        "import pandas as pd\n",
        "from datetime import datetime, timedelta\n",
        "import dash_bootstrap_components as dbc\n",
        "\n",
        "# 假设这是应用初始化\n",
        "app = dash.Dash(__name__)\n",
        "\n",
        "# 布局\n",
        "app.layout = html.Div([\n",
        "    dcc.DatePickerRange(\n",
        "        id='date-picker-range',\n",
        "        start_date=datetime.now() - timedelta(days=30),\n",
        "        end_date=datetime.now(),\n",
        "        style={'display': 'inline-block'}\n",
        "    ),\n",
        "    html.Button(\"Renew\", id=\"renew-button\", n_clicks=0, style={'display': 'inline-block'}),\n",
        "    html.Button(\"Release All\", id=\"release-all-button\", n_clicks=0, style={'margin-left': '20px', 'display': 'inline-block'}),\n",
        "    dcc.Store(id='filter_data'),\n",
        "    html.Div(id='filter_table')\n",
        "])\n",
        "\n",
        "# 合并的回调\n",
        "@app.callback(\n",
        "    Output('filter_data', 'data'),\n",
        "    [Input('renew-button', 'n_clicks')],\n",
        "    [State('date-picker-range', 'start_date'),\n",
        "     State('date-picker-range', 'end_date')]\n",
        ")\n",
        "def update_filter_data(n_clicks, start_date, end_date):\n",
        "    if n_clicks > 0:\n",
        "        # 假设这个函数是从数据库抓取数据\n",
        "        data = fetch_data_from_database(start_date, end_date)\n",
        "        return data.to_dict('records')\n",
        "    # 否则返回空（或初始加载数据）\n",
        "    return {}\n",
        "\n",
        "@app.callback(\n",
        "    Output('filter_table', 'children'),\n",
        "    [Input('filter_data', 'data')]\n",
        ")\n",
        "def update_table(filter_data):\n",
        "    # 根据filter_data来生成表格\n",
        "    if filter_data:\n",
        "        df = pd.DataFrame(filter_data)\n",
        "        return dash_table.DataTable(data=df.to_dict('records'), columns=[{\"name\": i, \"id\": i} for i in df.columns])\n",
        "    return \"No data\"\n",
        "\n",
        "# 启动服务器\n",
        "if __name__ == '__main__':\n",
        "    app.run_server(debug=True)\n"
      ],
      "metadata": {
        "id": "7NsuutJrhJzd"
      },
      "execution_count": null,
      "outputs": []
    },
    {
      "cell_type": "code",
      "source": [
        "import dash\n",
        "from dash.dependencies import Input, Output, State\n",
        "from dash import dcc, html\n",
        "import pandas as pd\n",
        "from datetime import datetime, timedelta\n",
        "import dash_bootstrap_components as dbc\n",
        "import dash_table\n",
        "\n",
        "# 假设这是应用初始化\n",
        "app = dash.Dash(__name__)\n",
        "\n",
        "# 布局\n",
        "app.layout = html.Div([\n",
        "    html.Div([\n",
        "        html.Label(\"Date Period\", style={'display': 'inline-block', 'margin-right': '10px'}),\n",
        "        dcc.DatePickerRange(\n",
        "            id='date-picker-range',\n",
        "            start_date=datetime.now() - timedelta(days=30),\n",
        "            end_date=datetime.now(),\n",
        "            style={'display': 'inline-block'}\n",
        "        ),\n",
        "        html.Button(\"Renew\", id=\"renew-button\", n_clicks=0, style={'display': 'inline-block', 'margin-left': '10px'}),\n",
        "        html.Button(\"Release All\", id=\"release-all-button\", n_clicks=0, style={'display': 'inline-block', 'margin-left': '20px'})\n",
        "    ], style={'margin-bottom': '20px'}),\n",
        "    dcc.Store(id='filter_data'),\n",
        "    html.Div(id='filter_table')\n",
        "])\n",
        "\n",
        "# 回调函数用于更新数据存储\n",
        "@app.callback(\n",
        "    Output('filter_data', 'data'),\n",
        "    [Input('renew-button', 'n_clicks')],\n",
        "    [State('date-picker-range', 'start_date'),\n",
        "     State('date-picker-range', 'end_date')]\n",
        ")\n",
        "def update_filter_data(n_clicks, start_date, end_date):\n",
        "    if n_clicks > 0:\n",
        "        # 假设这个函数是从数据库抓取数据\n",
        "        data = fetch_data_from_database(start_date, end_date)\n",
        "        return data.to_dict('records')\n",
        "    return {}\n",
        "\n",
        "# 回调函数用于更新表格\n",
        "@app.callback(\n",
        "    Output('filter_table', 'children'),\n",
        "    [Input('filter_data', 'data')]\n",
        ")\n",
        "def update_table(filter_data):\n",
        "    if filter_data:\n",
        "        df = pd.DataFrame(filter_data)\n",
        "        return dash_table.DataTable(data=df.to_dict('records'), columns=[{\"name\": i, \"id\": i} for i in df.columns])\n",
        "    return \"No data\"\n",
        "\n",
        "# 定义从数据库获取数据的模拟函数\n",
        "def fetch_data_from_database(start_date, end_date):\n",
        "    # 这里只是一个示例，你需要根据实际情况来实现这个函数\n",
        "    dates = pd.date_range(start=start_date, end=end_date, freq='D')\n",
        "    data = pd.DataFrame({\n",
        "        \"Date\": dates,\n",
        "        \"Value\": range(len(dates))\n",
        "    })\n",
        "    return data\n",
        "\n",
        "# 启动服务器\n",
        "if __name__ == '__main__':\n",
        "    app.run_server(debug=True)\n"
      ],
      "metadata": {
        "id": "j6f-AVxU_Z4b"
      },
      "execution_count": null,
      "outputs": []
    },
    {
      "cell_type": "code",
      "source": [
        "html.Div([\n",
        "    html.Div('Date period', style={'display': 'inline-block', 'margin-right': '20px'}),\n",
        "    dcc.DatePickerRange(id='date_picker', ...),\n",
        "    html.Button('Renew', id='renew_button', style={'display': 'inline-block', 'margin-left': '20px'}),\n",
        "    html.Button('Release All', id='release_all_button', style={'display': 'inline-block', 'margin-left': 'auto'})\n",
        "], style={'display': 'flex', 'align-items': 'center'})"
      ],
      "metadata": {
        "id": "V4XDIKQ-JW62"
      },
      "execution_count": null,
      "outputs": []
    },
    {
      "cell_type": "code",
      "source": [
        "def filter_data():\n",
        "  start_date=datetime.now() - timedelta(days=30),\n",
        "  end_date=datetime.now()\n",
        "  data_df = creat_data(start_date, end_date)\n",
        "\n",
        "  num = pd.read_csv('./num_label.csv')\n",
        "\n",
        "  def change_label(x):\n",
        "    if x in num:\n",
        "      return num(x)\n",
        "    else:\n",
        "      return str(x)\n",
        "  data_df['Bin']= data_df['Bin'].map(change_label)\n",
        "  return data_df.to_dict('records')\n"
      ],
      "metadata": {
        "id": "QmUB_fkfO9Em"
      },
      "execution_count": null,
      "outputs": []
    },
    {
      "cell_type": "markdown",
      "source": [
        "* 最終"
      ],
      "metadata": {
        "id": "9sRBj0nLX0PP"
      }
    },
    {
      "cell_type": "code",
      "source": [
        "import dash\n",
        "from dash import html, dcc\n",
        "from dash.dependencies import Input, Output, State\n",
        "import pandas as pd\n",
        "from datetime import datetime, timedelta\n",
        "\n",
        "app = dash.Dash(__name__)\n",
        "\n",
        "# 模拟从CSV文件加载num_label数据\n",
        "num_label = pd.read_csv('./num_label.csv')\n",
        "\n",
        "# 创建默认数据的函数\n",
        "def create_default_data():\n",
        "    start_date = datetime.now() - timedelta(days=30)\n",
        "    end_date = datetime.now()\n",
        "    data_df = create_data(start_date, end_date)  # 假设这是你的创建数据函数\n",
        "    data_df['Bin'] = data_df['Bin'].map(lambda x: num_label[x] if x in num_label else str(x))\n",
        "    return data_df.to_dict('records')\n",
        "\n",
        "# 创建默认数据\n",
        "default_data = create_default_data()\n",
        "\n",
        "app.layout = html.Div([\n",
        "    html.Div([\n",
        "        html.H6(\"Date Period: Last Month\"),  # 显示当前选择的日期范围\n",
        "        dcc.DatePickerRange(\n",
        "            id='date-picker-range',\n",
        "            start_date=datetime.now() - timedelta(days=30),\n",
        "            end_date=datetime.now()\n",
        "        ),\n",
        "        html.Button(\"Renew\", id=\"renew-button\"),\n",
        "        html.Button(\"Release All\", id=\"release-all-button\", style={'float': 'right', 'margin-left': '10px'})\n",
        "    ], style={'display': 'flex', 'align-items': 'center'}),\n",
        "    dcc.Store(id='filter_data', data=default_data),  # 存储数据的组件，使用默认数据\n",
        "    html.Div(id='filter_table')  # 显示表格的位置\n",
        "])\n",
        "\n",
        "# 更新数据的回调\n",
        "@app.callback(\n",
        "    Output('filter_data', 'data'),\n",
        "    [Input('renew-button', 'n_clicks')],\n",
        "    [State('date-picker-range', 'start_date'),\n",
        "     State('date-picker-range', 'end_date')]\n",
        ")\n",
        "def update_data(n_clicks, start_date, end_date):\n",
        "    if n_clicks is None:\n",
        "        raise dash.exceptions.PreventUpdate  # 防止页面加载时触发更新\n",
        "    new_data = create_data(start_date, end_date)  # 获取新的数据\n",
        "    new_data['Bin'] = new_data['Bin'].map(lambda x: num_label[x] if x in num_label else str(x))  # 更改标签\n",
        "    return new_data.to_dict('records')\n",
        "\n",
        "# 更新表格的回调\n",
        "@app.callback(\n",
        "    Output('filter_table', 'children'),\n",
        "    [Input('filter_data', 'data')]\n",
        ")\n",
        "def update_table(filter_data):\n",
        "    if filter_data is None:\n",
        "        raise dash.exceptions.PreventUpdate  # 防止页面加载时触发更新\n",
        "    df = pd.DataFrame(filter_data)\n",
        "    return [dash_table.DataTable(data=df.to_dict('records'))]  # 返回表格\n",
        "\n",
        "if __name__ == '__main__':\n",
        "    app.run_server(debug=True)\n"
      ],
      "metadata": {
        "id": "MPEnjnvKXz9e"
      },
      "execution_count": null,
      "outputs": []
    }
  ]
}