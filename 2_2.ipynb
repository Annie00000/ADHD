{
  "nbformat": 4,
  "nbformat_minor": 0,
  "metadata": {
    "colab": {
      "provenance": [],
      "authorship_tag": "ABX9TyNf6onGmgtwHrfSj5khjrL5",
      "include_colab_link": true
    },
    "kernelspec": {
      "name": "python3",
      "display_name": "Python 3"
    },
    "language_info": {
      "name": "python"
    }
  },
  "cells": [
    {
      "cell_type": "markdown",
      "metadata": {
        "id": "view-in-github",
        "colab_type": "text"
      },
      "source": [
        "<a href=\"https://colab.research.google.com/github/Annie00000/Project/blob/main/2_2.ipynb\" target=\"_parent\"><img src=\"https://colab.research.google.com/assets/colab-badge.svg\" alt=\"Open In Colab\"/></a>"
      ]
    },
    {
      "cell_type": "code",
      "source": [
        "import pandas as pd\n",
        "import numpy as np\n",
        "import datetime\n",
        "\n",
        "def get_dates(mode='today', recent=5):\n",
        "    current_date = datetime.datetime.now()\n",
        "    dates = []\n",
        "\n",
        "    if mode == 'today':  # 當天\n",
        "        dates.append(current_date.strftime('%Y-%m-%d'))\n",
        "\n",
        "    elif mode == 'recent':  # 過去14天（不含今天）\n",
        "        dates = [(current_date - datetime.timedelta(days=x)).strftime('%Y-%m-%d') for x in range(1, recent)]\n",
        "\n",
        "    elif mode == 'past':  # 過去一個月（不含過去14天和今天）\n",
        "        dates = [(current_date - datetime.timedelta(days=x)).strftime('%Y-%m-%d') for x in range(recent, 31)]\n",
        "\n",
        "    return dates"
      ],
      "metadata": {
        "id": "EntB0Af8FkZw"
      },
      "execution_count": 10,
      "outputs": []
    },
    {
      "cell_type": "code",
      "source": [
        "def get_dates_sofar(start_date):\n",
        "  start_date = datetime.datetime.strptime(start_date, '%Y-%m-%d')#.strftime('%Y-%m-%d')\n",
        "  end_date = datetime.datetime.now()\n",
        "  dates = [(start_date + datetime.timedelta(days=x)).strftime('%Y-%m-%d') for x in range((end_date - start_date).days + 1)]\n",
        "\n",
        "  return dates\n"
      ],
      "metadata": {
        "id": "9jbhPKPZc6BG"
      },
      "execution_count": null,
      "outputs": []
    },
    {
      "cell_type": "code",
      "source": [
        "# get dates_list\n",
        "date_list = get_dates(mode='recent', recent=14)\n",
        "\n",
        "# 某2個依照日期抓取database資料來建立dataframe的函數\n",
        "fetch_data\n",
        "get_data\n",
        "\n",
        "# 創建一個空的 DataFrame 以保存合併後的結果\n",
        "result = pd.DataFrame()\n",
        "\n",
        "# 遍歷日期列表\n",
        "for date in date_list:\n",
        "    # 調用 fetch_data 函數抓取該日期下的資料 (df1)\n",
        "    df1 = fetch_data(date)\n",
        "\n",
        "    # 創建一個空的 DataFrame 以保存合併後的 df2\n",
        "    df2 = pd.DataFrame()\n",
        "    # 使用 get_dates_sofar 函數獲取從當前日期至今天的日期列表\n",
        "    date_sofar_list = get_dates_sofar(date)\n",
        "    # 遍歷日期列表，並調用 get_data 函數抓取資料，合併到 df2 中\n",
        "    df2 = pd.concat([get_data(sub_date) for sub_date in date_sofar_list], ignore_index=True)\n",
        "    \"\"\"\n",
        "    for sub_date in date_sofar_list:\n",
        "      df2_sub = get_data(sub_date)\n",
        "      df2 = pd.concat([df2, df2_sub], ignore_index=True)\n",
        "    \"\"\"\n",
        "\n",
        "    # 找出 df1 中有而 df2 中沒有的行，並將它們添加到結果中\n",
        "    diff_df = df1[~df1['wafer_index'].isin(df2['wafer_index'])]\n",
        "\n",
        "    # 將每個日期的篩選結果合併到結果 DataFrame 中\n",
        "    result = pd.concat([result, diff_df], ignore_index=True)\n",
        "\n",
        "# 現在 result 包含了所有日期對應的 DataFrame 的合併結果\n",
        "print(result)"
      ],
      "metadata": {
        "id": "P50hCpqnMz5d"
      },
      "execution_count": null,
      "outputs": []
    }
  ]
}