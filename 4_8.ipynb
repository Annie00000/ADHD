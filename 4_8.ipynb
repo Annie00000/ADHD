{
  "nbformat": 4,
  "nbformat_minor": 0,
  "metadata": {
    "colab": {
      "provenance": [],
      "authorship_tag": "ABX9TyMqAzgNHxFLJhBHRldaGdSZ",
      "include_colab_link": true
    },
    "kernelspec": {
      "name": "python3",
      "display_name": "Python 3"
    },
    "language_info": {
      "name": "python"
    }
  },
  "cells": [
    {
      "cell_type": "markdown",
      "metadata": {
        "id": "view-in-github",
        "colab_type": "text"
      },
      "source": [
        "<a href=\"https://colab.research.google.com/github/Annie00000/Project/blob/main/4_8.ipynb\" target=\"_parent\"><img src=\"https://colab.research.google.com/assets/colab-badge.svg\" alt=\"Open In Colab\"/></a>"
      ]
    },
    {
      "cell_type": "code",
      "source": [
        "# 定义回调函数，输入是 'filter_data' 的数据，输出是 'filter_table' 的子组件\n",
        "@app.callback(\n",
        "    Output('filter_table', 'children'),\n",
        "    Input('filter_data', 'data')\n",
        ")\n",
        "def filter_table_func(filter_data):\n",
        "    # 将输入的数据转换为 pandas DataFrame\n",
        "    filter_data = pd.DataFrame(filter_data)\n",
        "    output = []  # 初始化输出列表，用于存放生成的表格和相关组件\n",
        "\n",
        "    # 遍历数据的每一列\n",
        "    for i in range(len(filter_data.columns)):\n",
        "        # 对当前列去重、排序并重置索引\n",
        "        df = filter_data[[filter_data.columns[i]]].drop_duplicates(keep='first').sort_values(filter_data.columns[i]).reset_index(drop=True)\n",
        "\n",
        "        # 创建一个包含数据表和按钮的 div 元素，作为子组件添加到输出列表中\n",
        "        output.append(\n",
        "            html.Div(\n",
        "                className='three columns',  # 设置 CSS 类，用于布局和样式\n",
        "                children=[\n",
        "                    dcc.Store({'type': 'select-data', 'index': i}, data=[]),  # 创建一个用于存储数据的 dcc.Store 组件\n",
        "                    html.Div(children=[\n",
        "                        html.Div([\n",
        "                            dash_table.DataTable(\n",
        "                                id={'type': 'select-table', 'index': i},  # 设置表格的 ID，使其唯一\n",
        "                                # 设置表格列\n",
        "                                columns=[{'name': list(df.columns)[0], 'id': list(df.columns)[0], 'selectable': True}],\n",
        "                                data=df.to_dict('records'),  # 将 DataFrame 转换为字典列表格式并设置为表格数据\n",
        "                                page_size=99999,  # 设置表格页面大小\n",
        "                                style_as_list_view=True,\n",
        "                                fixed_rows={'headers': True},  # 固定表头\n",
        "                                style_table={'height': '250px', 'width': '280px'},  # 设置表格样式\n",
        "                                filter_action='native',  # 启用内置的筛选功能\n",
        "                                 # 设置单元格样式\n",
        "                                style_cell={'font-size': '14px', 'textAlign': 'left', 'height': 'auto', 'color': 'black'},\n",
        "                                style_filter={'textAlign': 'left'},  # 设置筛选框样式\n",
        "                                style_header={  # 设置表头样式\n",
        "                                    'backgroundColor': '#f0f0f0',\n",
        "                                    'textAlign': 'center',\n",
        "                                    'fontWeight': 'bold',\n",
        "                                    'color': 'black',\n",
        "                                    'font-size': '14px',\n",
        "                                    'textAlign': 'left'\n",
        "                                },\n",
        "                                fill_width=True,\n",
        "                                sort_action='native',  # 启用内置的排序功能\n",
        "                                sort_mode='multi',\n",
        "                                column_selectable='multi',  # 允许多列选择\n",
        "                                row_selectable='multi',  # 允许多行选择\n",
        "                                # 设置默认选中的列\n",
        "                                selected_columns=[df.columns[0]] if df.columns[0] in ['STEP', 'SOURCE', \"PROG\"] else [],\n",
        "                                selected_rows=[],  # 设置默认选中的行\n",
        "                            )\n",
        "                        ])\n",
        "                    ]),\n",
        "                    html.Div(style={'backgroundColor': 'gray'},\n",
        "                        children=[\n",
        "                            html.Button(['Lock'],  # 创建“锁定”按钮\n",
        "                                        id={'type': 'lock-button', 'index': i},\n",
        "                                        n_clicks=0),\n",
        "                            html.Button(['Release'],  # 创建“释放”按钮\n",
        "                                        id={'type': 'release-button', 'index': i},\n",
        "                                        n_clicks=0),\n",
        "                        ]\n",
        "                    )\n",
        "                ],\n",
        "            )\n",
        "        )\n",
        "\n",
        "    return output  # 返回包含所有创建的表格和按钮的列表\n"
      ],
      "metadata": {
        "id": "-95GYltrirt8"
      },
      "execution_count": null,
      "outputs": []
    },
    {
      "cell_type": "code",
      "source": [
        "@app.callback(\n",
        "    Output('filter_table', 'children'),  # 指定回调的输出目标为ID为'filter_table'的组件的children属性\n",
        "    Input('filter_data', 'data')  # 指定回调的输入来源为ID为'filter_data'的dcc.Store组件的data属性\n",
        ")\n",
        "def filter_table_func(filter_data):  # 定义回调函数，参数filter_data接收输入的数据\n",
        "  filter_data = pd.DataFrame(filter_data)  # 将输入的数据转换为pandas DataFrame\n",
        "  output=[]  # 初始化输出列表，用于存放生成的HTML结构\n",
        "  for i in range(len(filter_data.columns)):  # 遍历DataFrame的每一列\n",
        "     # 对当前列去重、排序并重置索引\n",
        "    df = filter_data[[filter_data.columns[i]]].drop_duplicates(keep='first').sort_values(filter_data.columns[i]).reset_index(drop=True)\n",
        "    output.append(  # 向输出列表中添加新的HTML元素\n",
        "        html.Div(  # 创建一个新的Div，用于包裹当前列的数据表和按钮\n",
        "            className='three columns',  # 设置类名，用于应用CSS样式\n",
        "            children=[  # 定义Div包含的子元素\n",
        "                dcc.Store({'type': 'select-data', 'index': i}, data=[]),  # 创建一个用于存储选择的数据的dcc.Store\n",
        "                # 以下html.Div包含一个dash_table.DataTable显示当前列的数据\n",
        "                html.Div(children=[\n",
        "                    html.Div([\n",
        "                        dash_table.DataTable(\n",
        "                             # 设置数据表的ID，包含类型和索引，用于区分不同的数据表\n",
        "                            id = {'type': 'select-table', 'index':i},\n",
        "                            # 定义数据表的列 :\n",
        "                            # 列的显示名称 (name)、列在数据中的标识符 (id)，以及其他可选的列设置（如是否可选择、排序等）\n",
        "                            # 'selectable': True 是在示例中添加的一个假设选项，实际上 dash_table.DataTable 的 columns 属性默认并不支持 'selectable' 键。\n",
        "                            # 可能是想表示列是否可以被选择，但实际实现这一功能应该是通过其他属性如 column_selectable 实现的。\n",
        "                            columns = [{'name': list(df.columns)[0], 'id':list(df.columns)[0], 'selectable': True}],\n",
        "                            data = df.to_dict('records'),  # 将DataFrame转换为字典格式，并设置为数据表的数据源\n",
        "                            page_size=99999,  # 设置页面大小\n",
        "                            style_as_list_view=True,\n",
        "                            fixed_rows={'headers':True},  # 固定表头\n",
        "                            style_table={'height':'250px', 'width':'280px'},  # 设置表格样式\n",
        "                            filter_action='native',  # 启用过滤功能\n",
        "                             # 设置单元格样式\n",
        "                            style_cell={'font-size':'14px','textAlign':'left','height':'auto','color':'black'},\n",
        "                            # style_filter='textAlign':'left',  # 设置过滤器样式（此处代码有误，应在字典中）\n",
        "                            style_header={  # 设置表头样式\n",
        "                                'backgroundcolor':'#f0f0f0',\n",
        "                                'textAlign':'center',\n",
        "                                'fontWeight':'bold',\n",
        "                                'color':'black',\n",
        "                                'font-size':'14px',\n",
        "                                'textAlign':'left'\n",
        "                            },\n",
        "                            fill_width=True,\n",
        "                            sort_action='native',  # 启用排序功能\n",
        "                            sort_mode='multi',\n",
        "                            column_selectable='multi',  # 允许多列选择\n",
        "                            row_selectable='multi',  # 允许多行选择\n",
        "                             # 根据条件预选列\n",
        "                            selected_columns=[df.columns[0]] if df.columns[0] in ['STEP', 'SOURCE', \"PROG\"] else [],\n",
        "                            selected_rows=[],  # 预选行（此处未预选）\n",
        "                        )\n",
        "                    ])\n",
        "                ]),\n",
        "                # 以下html.Div包含两个按钮：Lock和Release\n",
        "                html.Div(style={'backgroundcolor':'gray'},  # 应用背景颜色样式（此处代码有误，应在字典外）\n",
        "                    children=[\n",
        "                        html.Button(['Lock'],  # 创建“Lock”按钮\n",
        "                              id={'type': 'lock-button','index':i},  # 设置按钮ID\n",
        "                              n_clicks=0,),  # 初始化点击次数\n",
        "                        html.Button(['Release'],  # 创建“Release”按钮\n",
        "                              id={'type': 'release-button','index':i},  # 设置按钮ID\n",
        "                              n_clicks=0,),  # 初始化点击次数\n",
        "                    ]\n",
        "                )\n",
        "            ],\n",
        "        )\n",
        "    )\n"
      ],
      "metadata": {
        "id": "HhiP0K2KkMQI"
      },
      "execution_count": null,
      "outputs": []
    },
    {
      "cell_type": "markdown",
      "source": [
        "## 2. Output_dict"
      ],
      "metadata": {
        "id": "uCMAeiLukwWM"
      }
    },
    {
      "cell_type": "code",
      "source": [
        "column_length = 7\n",
        "# 这行创建了一个字典，其键是从 A 开始的 ASCII 字符，每个键对应一个 Output 对象。\n",
        "\n",
        "# (1)选中的数据更新 :\n",
        "# 这些 Output 对象定义了数据表的 'data' 属性（即表格显示的数据）作为回调的输出目标。这意味着回调函数可以更新这些数据表的内容。\n",
        "output_dict = {chr(65+i):Output({'type': 'select-table', 'index':i}, 'data') for i in range(column_length)}\n",
        "# (2)选中的行更新 :\n",
        "# 这行向字典中添加的对象，是为了更新数据表的 'selected_rows' 属性（即用户在表格中选中的行）。\n",
        "# 通过这种方式，回调函数可以控制或响应表格的行选择状态。\n",
        "output_dict.update({chr(65+column_length+i):Output({'type':'select-table', 'index':i}, 'selected_rows') for i in range(column_length)})\n",
        "# (3)单元格样式更新 :\n",
        "# 这行为每个数据表的 'style-cell' 属性（即单元格的样式）添加了输出目标。这允许回调函数动态更改表格单元格的样式，例如，根据数据值改变颜色。\n",
        "output_dict.update({chr(65+column_length*2+i):Output({'type':'select-table', 'index':i}, 'style-cell') for i in range(column_length)})\n",
        "# (4)存储数据更新 :\n",
        "# 为每个 dcc.Store 组件的 'data' 属性添加了输出目标。\n",
        "# 这使得回调函数能够更新存储在 dcc.Store 中的数据，dcc.Store 通常用于在应用的不同部分之间共享数据。\n",
        "output_dict.update({chr(65+column_length*3+i):Output({'type':'select-data', 'index':i}, 'data') for i in range(column_length)})\n",
        "# (5)过滤查询更新 :\n",
        "# 这行代码为每个数据表的 'filter_query' 属性（即过滤器查询语句）添加了输出目标。这样，回调函数可以基于一些逻辑更改过滤器的状态或查询。\n",
        "output_dict.update({chr(65+column_length*4+i):Output({'type':'select-table', 'index':i}, 'filter_query') for i in range(column_length)})\n",
        "# 这行代码添加了一个特定的 Output，用于控制一个ID为 'confirm-lock-btn' 的按钮的显示状态（'display' 属性）。\n",
        "# 这可能用于在特定条件下显示或隐藏确认按钮。\n",
        "output_dict.update({chr(65+column_length*5):Output('confirm-lock-btn','display')})\n",
        "@app.callback(\n",
        "    output=output_dict,\n",
        "    inputs=[Input({'type':'lock-botton','index':ALL},'n_clicks'),\n",
        "        Input({'type':'release-botton','index':ALL,'n_clicks'}),\n",
        "        Input('release-all-btn', 'n_clicks'),\n",
        "        ],\n",
        "    state=[State('filter_data','data'),\n",
        "        tuple([State({'type':'select-table', 'index':i}, 'selected_rows') for i in range(column_length)]),\n",
        "        tuple([State({'type':'select-table', 'index':i}, 'data') for i in range(column_length)]),\n",
        "        tuple([State({'type':'select-data', 'index':i}, 'data') for i in range(column_length)]),\n",
        "        tuple([State({'type':'select-table', 'index':i}, 'style-cell') for i in range(column_length)]),\n",
        "        ],\n",
        "    prevent_initial_call=True\n",
        ")\n"
      ],
      "metadata": {
        "id": "ODx1oNZbkwDp"
      },
      "execution_count": null,
      "outputs": []
    },
    {
      "cell_type": "markdown",
      "source": [
        "这段代码使用了 Dash 的高级功能来动态生成回调的输出。output_dict 是一个字典，其中的键值对定义了回调函数的多个输出（Output）。每个输出对应于应用中的一个特定组件属性，这里主要操作了数据表（dash_table.DataTable）的几个属性，以及一个确认按钮的显示状态。"
      ],
      "metadata": {
        "id": "tK-Ud95rtjG9"
      }
    },
    {
      "cell_type": "markdown",
      "source": [
        "总体来说，这个设计使得回调可以根据输入和应用状态更新多个组件的多个属性，包括但不限于：\n",
        "\n",
        "- 更新数据表显示的数据。\n",
        "- 改变数据表选中的行。\n",
        "- 调整数据表单元格的样式。\n",
        "- 更新存储在 dcc.Store 中的数据。\n",
        "- 改变数据表的过滤查询。\n",
        "- 控制确认按钮的显示状态。"
      ],
      "metadata": {
        "id": "Y2anM75Vv55u"
      }
    },
    {
      "cell_type": "markdown",
      "source": [
        "### 2-1.簡介"
      ],
      "metadata": {
        "id": "blkd7Cbe3usr"
      }
    },
    {
      "cell_type": "markdown",
      "source": [
        "\n",
        "- output_dict 是一个字典，定义了多个回调的输出。这个字典**动态**生成了一系列**输出目标**，这些**输出目标与页面上的组件相对应**。这种做法使得可以在一个回调中更新多个组件的状态，增加了代码的复用性和动态性。\n",
        "\n",
        "- 设置 ID 和呼应 ID：每一行通过使用字典字面量构造，生成了一个具有特定类型和索引的 ID。这样的 ID 设计使得每个输出可以精确地关联到特定的组件实例，尤其是在有多个相似组件存在时（例如多个数据表或按钮）。\n",
        "- 功用：通过指定不同的属性（如 data、selected_rows、style-cell、filter_query 等），output_dict 控制了应用中多个组件的不同方面。例如，可以更新数据表的数据，改变选中的行，调整单元格样式，或者应用过滤查询等。"
      ],
      "metadata": {
        "id": "RZB0Tlzg3wgG"
      }
    },
    {
      "cell_type": "markdown",
      "source": [
        "### 2-2. 構造"
      ],
      "metadata": {
        "id": "CZoWBrI14diN"
      }
    },
    {
      "cell_type": "markdown",
      "source": [
        "- 前 7 个输出 (A 到 G)：对应每列的 'data' 属性，用于更新 dash_table.DataTable 的数据。\n",
        "- 接下来的 7 个输出 (H 到 N)：对应每列的 'selected_rows' 属性，用于更新选中的行。\n",
        "- 再接下来的 7 个输出 (O 到 U)：对应每列的 'style-cell' 属性，用于更新单元格样式。\n",
        "- 然后是 7 个输出 (V 到 AC)：对应每列的 'data' 属性，用于更新 dcc.Store 的数据。\n",
        "- 最后的 7 个输出 (AD 到 AJ)：对应每列的 'filter_query' 属性，用于更新表格的筛选查询。\n",
        "- 最终一个输出 (AK)：用于更新确认锁定按钮 (confirm-lock-btn) 的 'display' 属性。"
      ],
      "metadata": {
        "id": "NahaM3_M4kP6"
      }
    },
    {
      "cell_type": "markdown",
      "source": [
        "#### 範例 (顯示部分)"
      ],
      "metadata": {
        "id": "dye8uxgO43UY"
      }
    },
    {
      "cell_type": "code",
      "source": [
        "{\n",
        "    'A': Output({'type': 'select-table', 'index':0}, 'data'),\n",
        "    'B': Output({'type': 'select-table', 'index':1}, 'data'),\n",
        "    'H': Output({'type':'select-table', 'index':0}, 'selected_rows'),\n",
        "    'I': Output({'type':'select-table', 'index':1}, 'selected_rows'),\n",
        "    'O': Output({'type':'select-table', 'index':0}, 'style-cell'),\n",
        "    'P': Output({'type':'select-table', 'index':1}, 'style-cell'),\n",
        "    'V': Output({'type':'select-data', 'index':0}, 'data'),\n",
        "    'W': Output({'type':'select-data', 'index':1}, 'data'),\n",
        "    'AD': Output({'type':'select-table', 'index':0}, 'filter_query'),\n",
        "    'AE': Output({'type':'select-table', 'index':1}, 'filter_query'),\n",
        "    'AK': Output('confirm-lock-btn', 'display'),\n",
        "}\n"
      ],
      "metadata": {
        "id": "XOMcY_Df47KI"
      },
      "execution_count": null,
      "outputs": []
    },
    {
      "cell_type": "markdown",
      "source": [
        "- 字典的键 (A、B、H、I 等) 仅为示例，实际中这些键将按 ASCII 顺序对应不同的输出。\n",
        "- 每个输出 Output 对象由两部分构成：第一部分是组件 ID，这里使用了字典形式来支持动态 ID；第二部分是组件的属性名称，这指定了回调函数将更新哪个属性。\n",
        "- 这种结构使得回调可以同时更新多个组件的多个属性，实现复杂的交互逻辑。\n",
        "\n",
        "请注意，style-cell 和 filter_query 的更新可能需要特定的处理逻辑，确保这些操作符合 Dash 和 Plotly DataTable 组件的要求。此外，确保所有动态 ID 和组件属性在你的 Dash 应用中被正确处理和定义。"
      ],
      "metadata": {
        "id": "-cApdXPJ49Rk"
      }
    },
    {
      "cell_type": "markdown",
      "source": [
        "## 3.為何output_dict要在app.callback前?"
      ],
      "metadata": {
        "id": "3fw5gIF_wAZL"
      }
    },
    {
      "cell_type": "markdown",
      "source": [
        "在 Dash 应用中，@app.callback 装饰器用于定义回调函数，它将输入（Input）、状态（State）与输出（Output）连接起来。回调函数的输出定义必须在回调函数本身之前进行，因为 Python 的函数定义（包括使用装饰器的函数）是自上而下解析的。这意味着，**在回调函数被定义之前，所有的输入、输出和状态都需要先被明确指定。**"
      ],
      "metadata": {
        "id": "rcNkYMhgwJaz"
      }
    },
    {
      "cell_type": "markdown",
      "source": [
        "### 3-1. 为什么 output_dict 需要先定义"
      ],
      "metadata": {
        "id": "OOLKJ8erwTna"
      }
    },
    {
      "cell_type": "markdown",
      "source": [
        "1. **解析顺序**：Python 代码是从上到下执行的。在定义回调函数之前，必须先定义它的输入、输出和状态参数。因此，任何作为输出参数的字典或其他变量都需要在装饰器使用它们之前被创建和填充。\n",
        "\n",
        "2. **装饰器工作原理**：当 Python 解释器遇到 @app.callback 时，它实际上是在应用一个函数（即装饰器）到紧随其后的那个函数上。这个装饰器函数需要在它装饰的函数之前就已经定义好，因为它在定义回调时就会被调用。装饰器的参数（在这个案例中是 output=output_dict 和相关的输入和状态）必须在这一刻是已知的。\n",
        "\n",
        "3. **动态输出**：在某些复杂的 Dash 应用中，开发者可能会基于应用的状态或配置动态生成输出。这就要求在装饰器被应用（也就是回调函数被定义）之前，输出已经根据需要进行了计算和配置。"
      ],
      "metadata": {
        "id": "lq0qvuDHwsSK"
      }
    },
    {
      "cell_type": "markdown",
      "source": [
        "### 3-2. 使用 output_dict 的原因"
      ],
      "metadata": {
        "id": "w1HQOqXkwWPQ"
      }
    },
    {
      "cell_type": "markdown",
      "source": [
        "在复杂的 Dash 应用中，可能需要根据一系列条件**动态生成多个输出。**\n",
        "\n",
        "预先计算 output_dict 并在回调装饰器中使用，可以大大提高代码的可读性和维护性，尤其是当输出数量较多或者输出的配置比较复杂时。\n",
        "\n",
        "这种方法允许开发者在回调函数之外的地方集中处理输出逻辑，使得回调函数本身更加简洁和直观。"
      ],
      "metadata": {
        "id": "Irs0lydawcTK"
      }
    },
    {
      "cell_type": "markdown",
      "source": [
        "在你的示例中，output_dict 被用来动态构建一个复杂的输出集合，这是在定义回调之前完成的。这种方法使得开发者可以在回调定义之前根据特定的逻辑（例如基于数据列的数量）动态创建所需的输出配置。通过这样做，回调函数可以更加灵活地适应不同的需求和场景，同时保持代码的清晰和组织性。\n",
        "\n",
        "\n",
        "\n",
        "\n",
        "\n",
        "\n"
      ],
      "metadata": {
        "id": "wGYnTXPDwoyl"
      }
    },
    {
      "cell_type": "markdown",
      "source": [
        "## 4."
      ],
      "metadata": {
        "id": "CZuR7EyN3cmR"
      }
    }
  ]
}