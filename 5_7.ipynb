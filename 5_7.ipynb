{
  "nbformat": 4,
  "nbformat_minor": 0,
  "metadata": {
    "colab": {
      "provenance": [],
      "authorship_tag": "ABX9TyP5BDLUvjgUqDHow+FMSm2J",
      "include_colab_link": true
    },
    "kernelspec": {
      "name": "python3",
      "display_name": "Python 3"
    },
    "language_info": {
      "name": "python"
    }
  },
  "cells": [
    {
      "cell_type": "markdown",
      "metadata": {
        "id": "view-in-github",
        "colab_type": "text"
      },
      "source": [
        "<a href=\"https://colab.research.google.com/github/Annie00000/Project/blob/main/5_7.ipynb\" target=\"_parent\"><img src=\"https://colab.research.google.com/assets/colab-badge.svg\" alt=\"Open In Colab\"/></a>"
      ]
    },
    {
      "cell_type": "code",
      "source": [
        "import pandas as pd\n",
        "import numpy as np\n",
        "\n",
        "def process_group(group, window_size=3, min_ones=2):\n",
        "    data = group['col3']\n",
        "    col4 = group['col4']\n",
        "\n",
        "    # 存储结果的DataFrame\n",
        "    results = []\n",
        "\n",
        "    # 遍历数据\n",
        "    for i in range(len(data) - window_size + 1):\n",
        "        window = data.iloc[i:i + window_size]\n",
        "        count_ones = window.sum()\n",
        "        if count_ones >= min_ones:\n",
        "            indices = window[window == 1].index.tolist()\n",
        "            ones_values = window.iloc[indices].tolist()\n",
        "            col4_values = col4.iloc[indices].tolist()\n",
        "\n",
        "            # 创建单行结果\n",
        "            row = {\n",
        "                'col1': group['col1'].iloc[0],  # 需要传递原始分组键\n",
        "                'col2': group['col2'].iloc[0],\n",
        "                'proportion': count_ones / window_size\n",
        "            }\n",
        "            # 添加col3和col4的值\n",
        "            for j in range(3):  # 固定三列\n",
        "                col_name_col3 = f'col3_value_{j+1}'\n",
        "                col_name_col4 = f'col4_value_{j+1}'\n",
        "                if j < len(ones_values):\n",
        "                    row[col_name_col3] = ones_values[j]\n",
        "                    row[col_name_col4] = col4_values[j]\n",
        "                else:\n",
        "                    row[col_name_col3] = np.nan\n",
        "                    row[col_name_col4] = np.nan\n",
        "            results.append(row)\n",
        "\n",
        "    return pd.DataFrame(results)\n",
        "\n",
        "# 示例数据\n",
        "data = {\n",
        "    'col1': ['A', 'A', 'A', 'A', 'A', 'B', 'B', 'B', 'B', 'B'],\n",
        "    'col2': ['aa', 'aa', 'aa', 'aa', 'aa', 'bb', 'bb', 'bb', 'bb', 'bb'],\n",
        "    'col3': [0, 1, 1, 1, 0, 0, 1, 0, 1, 1],\n",
        "    'col4': [10, 20, 30, 40, 50, 60, 70, 80, 90, 100]\n",
        "}\n",
        "df = pd.DataFrame(data)\n",
        "\n",
        "# 应用函数\n",
        "result_df = df.groupby(['col1', 'col2']).apply(process_group)\n",
        "\n",
        "print(result_df.reset_index(drop=True))\n"
      ],
      "metadata": {
        "id": "EuM_Q_x-ziAm"
      },
      "execution_count": null,
      "outputs": []
    },
    {
      "cell_type": "markdown",
      "source": [
        "先收集所有数据到一个列表中，然后只在最后一次性创建 DataFrame，这样避免了多次创建 DataFrame 的开销。"
      ],
      "metadata": {
        "id": "LHxKr9sL2JYA"
      }
    },
    {
      "cell_type": "code",
      "source": [
        "import pandas as pd\n",
        "import numpy as np\n",
        "\n",
        "def process_group(group, window_size=3, min_ones=2):\n",
        "    data = group['col3'].reset_index(drop=True)\n",
        "    col4 = group['col4'].reset_index(drop=True)\n",
        "\n",
        "    # 存储结果\n",
        "    results = []\n",
        "\n",
        "    # 遍历数据以创建结果\n",
        "    for i in range(len(data) - window_size + 1):\n",
        "        window = data[i:i + window_size]\n",
        "        count_ones = window.sum()\n",
        "\n",
        "        if count_ones >= min_ones:\n",
        "            indices = window[window == 1].index.tolist()\n",
        "            ones_values = window.iloc[indices].tolist()\n",
        "            col4_values = col4.iloc[indices].tolist()\n",
        "\n",
        "            # 每个窗口结果作为列表存储\n",
        "            row = [\n",
        "                group['col1'].iloc[0],  # 分组键\n",
        "                group['col2'].iloc[0],\n",
        "                count_ones / window_size\n",
        "            ]\n",
        "            # 分别处理每个可能的列\n",
        "            for j in range(3):  # 固定三列\n",
        "                if j < len(ones_values):\n",
        "                    row.append(ones_values[j])\n",
        "                    row.append(col4_values[j])\n",
        "                else:\n",
        "                    row.append(np.nan)\n",
        "                    row.append(np.nan)\n",
        "            results.append(row)\n",
        "\n",
        "    # 一次性创建DataFrame\n",
        "    if results:\n",
        "        columns = ['col1', 'col2', 'proportion']\n",
        "        for j in range(3):\n",
        "            columns.extend([f'col3_value_{j+1}', f'col4_value_{j+1}'])\n",
        "        return pd.DataFrame(results, columns=columns)\n",
        "    else:\n",
        "        return pd.DataFrame(columns=['col1', 'col2', 'proportion'] + [f'col3_value_{i+1}' for i in range(3)] + [f'col4_value_{i+1}' for i in range(3)])\n",
        "\n",
        "# 示例数据\n",
        "data = {\n",
        "    'col1': ['A', 'A', 'A', 'A', 'A', 'B', 'B', 'B', 'B', 'B'],\n",
        "    'col2': ['aa', 'aa', 'aa', 'aa', 'aa', 'bb', 'bb', 'bb', 'bb', 'bb'],\n",
        "    'col3': [0, 1, 1, 1, 0, 0, 1, 0, 1, 1],\n",
        "    'col4': [10, 20, 30, 40, 50, 60, 70, 80, 90, 100]\n",
        "}\n",
        "df = pd.DataFrame(data)\n",
        "\n",
        "# 应用函数\n",
        "result_df = df.groupby(['col1', 'col2']).apply(process_group).reset_index(drop=True)\n",
        "\n",
        "print(result_df)\n"
      ],
      "metadata": {
        "id": "JwAGotsx2HYV"
      },
      "execution_count": null,
      "outputs": []
    }
  ]
}