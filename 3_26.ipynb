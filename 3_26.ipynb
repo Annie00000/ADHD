{
  "nbformat": 4,
  "nbformat_minor": 0,
  "metadata": {
    "colab": {
      "provenance": [],
      "authorship_tag": "ABX9TyOrnzyevCCRxHnXiGBWYvvO",
      "include_colab_link": true
    },
    "kernelspec": {
      "name": "python3",
      "display_name": "Python 3"
    },
    "language_info": {
      "name": "python"
    }
  },
  "cells": [
    {
      "cell_type": "markdown",
      "metadata": {
        "id": "view-in-github",
        "colab_type": "text"
      },
      "source": [
        "<a href=\"https://colab.research.google.com/github/Annie00000/Project/blob/main/3_26.ipynb\" target=\"_parent\"><img src=\"https://colab.research.google.com/assets/colab-badge.svg\" alt=\"Open In Colab\"/></a>"
      ]
    },
    {
      "cell_type": "markdown",
      "source": [
        "## 1.  介紹"
      ],
      "metadata": {
        "id": "NFYDnbREMcwE"
      }
    },
    {
      "cell_type": "code",
      "source": [
        "import dash\n",
        "from dash import dcc, html\n",
        "from dash.dependencies import Input, Output\n",
        "import plotly.express as px\n",
        "import pandas as pd\n",
        "\n",
        "# 示例数据\n",
        "df = pd.DataFrame({\n",
        "    'Year': ['2019', '2020', '2021'],\n",
        "    'Sales': [100, 150, 200]\n",
        "})\n",
        "\n",
        "# 创建 Dash\n",
        "app = dash.Dash(__name__)\n",
        "\n",
        "# 設定布局\n",
        "app.layout = html.Div([\n",
        "    html.H1(\"销售数据展示\"),\n",
        "    dcc.Dropdown(\n",
        "        id='year-dropdown',\n",
        "        options=[{'label': year, 'value': year} for year in df['Year']],\n",
        "        value='2019'  # 默认值\n",
        "    ),\n",
        "    dcc.Graph(id='sales-graph')\n",
        "])\n",
        "\n",
        "# 回调函数，更新图表\n",
        "@app.callback(\n",
        "    Output('sales-graph', 'figure'),\n",
        "    [Input('year-dropdown', 'value')]\n",
        ")\n",
        "def update_graph(selected_year):\n",
        "    # 根据选择的年份过滤数据\n",
        "    filtered_df = df[df['Year'] == selected_year]\n",
        "    # 创建图表\n",
        "    fig = px.bar(filtered_df, x='Year', y='Sales', title=f\"{selected_year}年销售数据\")\n",
        "    return fig\n",
        "\n",
        "# 运行应用\n",
        "if __name__ == '__main__':\n",
        "    app.run_server(debug=True)\n"
      ],
      "metadata": {
        "id": "Dqd-yRLXn66Q"
      },
      "execution_count": null,
      "outputs": []
    },
    {
      "cell_type": "markdown",
      "source": [
        "## 2.回調函數"
      ],
      "metadata": {
        "id": "eTlegTjpoTku"
      }
    },
    {
      "cell_type": "markdown",
      "source": [
        "**Output** :\n",
        "\n",
        "定义了回调函数的输出目标，也就是当回调函数被触发时，其返回值将更新的应用组件。每个 Output 需要指定两个参数：\n",
        "\n",
        "* 组件 ID (component_id): 这是你想要更新的 Dash 组件的 ID。每个 Dash 组件在布局中都应有一个唯一的标识符（ID）。\n",
        "* 属性名 (component_property): 这是指定的组件中，你想要\"更新\"的属性名。例如，图表组件 (dcc.Graph) 的 figure 属性，或是 HTML 组件如 html.Div 的 children 属性。\n",
        "\n",
        "**Input** :\n",
        "\n",
        "定义了触发回调函数的事件来源，即哪个用户操作或哪个组件状态的变化将会触发这个回调。Input 同样需要指定组件 ID 和属性名：\n",
        "\n",
        "* 组件 ID (component_id): 触发回调的 Dash 组件的 ID。\n",
        "* 属性名 (component_property): 当\"这个属性\"的值发生变化时，回调函数会被触发。例如，下拉菜单 (dcc.Dropdown) 的 value 属性变化会触发回调。"
      ],
      "metadata": {
        "id": "K2ydXb38oatx"
      }
    },
    {
      "cell_type": "markdown",
      "source": [
        "## 3. 範例"
      ],
      "metadata": {
        "id": "qGxmbq03LZ4D"
      }
    },
    {
      "cell_type": "code",
      "source": [
        "from dash import Dash, html, dcc\n",
        "from dash.dependencies import Input, Output, State\n",
        "\n",
        "app = Dash(__name__)\n",
        "\n",
        "app.layout = html.Div([\n",
        "    dcc.Input(id='input-text', type='text', placeholder='请输入文本'),\n",
        "    dcc.Dropdown(\n",
        "        id='dropdown-menu',\n",
        "        options=[\n",
        "            {'label': '选项 1', 'value': '1'},\n",
        "            {'label': '选项 2', 'value': '2'},\n",
        "            {'label': '选项 3', 'value': '3'}\n",
        "        ],\n",
        "        placeholder='请选择一个选项'\n",
        "    ),\n",
        "    html.Button('提交', id='submit-btn', n_clicks=0),\n",
        "    html.Div(id='output-container')\n",
        "])\n",
        "\n",
        "@app.callback(\n",
        "    Output('output-container', 'children'),\n",
        "    [Input('submit-btn', 'n_clicks')],\n",
        "    [State('input-text', 'value'), State('dropdown-menu', 'value')],\n",
        "    prevent_initial_call=True\n",
        ")\n",
        "def update_output(n_clicks, text, dropdown_value):\n",
        "    if n_clicks > 0:\n",
        "        return f'您输入的文本是: \"{text}\"，您选择的选项是: \"{dropdown_value}\"。'\n",
        "    else:\n",
        "        return '请提交您的输入和选择。'\n",
        "\n",
        "if __name__ == '__main__':\n",
        "    app.run_server(debug=True)\n"
      ],
      "metadata": {
        "id": "bzxJTiS0LfPo"
      },
      "execution_count": null,
      "outputs": []
    },
    {
      "cell_type": "markdown",
      "source": [
        "在这个案例中，我们将创建一个 Dash 应用，且将设置 prevent_initial_call=True，以防止应用在初始加载时就执行回调函数。\n",
        "\n",
        "* 应用布局包括：\n",
        "\n",
        "一个文本输入框，用于用户输入文本。\n",
        "一个下拉菜单，让用户选择一个选项。\n",
        "一个提交按钮，用户点击后会根据输入和选择更新显示结果。\n",
        "一个显示结果的 div，用于展示用户的输入和下拉菜单的选择。"
      ],
      "metadata": {
        "id": "lSZEthmZLhPk"
      }
    },
    {
      "cell_type": "markdown",
      "source": [
        "**功能解析**:\n",
        "\n",
        "\n",
        "*   用户可以在文本输入框中输入文本，并从下拉菜单中选择一个选项。\n",
        "\n",
        "*   这些操作本身不会触发回调函数；只有当用户点击提交按钮时，回调函数才会执行。\n",
        "* Input 参数设置为提交按钮的点击事件，而文本输入框的内容和下拉菜单的选择通过 State 传递给回调函数，这意味着它们是回调函数执行时的当前状态，但它们的变化不会触发回调。\n",
        "* 设置 prevent_initial_call=True 确保在页面初次加载时不执行回调函数，避免在用户未进行任何操作时就渲染输出。\n",
        "* 当用户点击提交按钮后，回调函数将使用用户在文本框中输入的文本和下拉菜单中的选择来更新显示结果。\n",
        "\n",
        "这个例子展示了如何使用 State 来接收用户输入但不直接触发回调，以及如何通过 prevent_initial_call 控制回调的初始调用行为，从而创建更加动态和交云石的 Dash 应用。"
      ],
      "metadata": {
        "id": "pGWNkrY_LtPe"
      }
    },
    {
      "cell_type": "markdown",
      "source": [
        "## 4. div 元素"
      ],
      "metadata": {
        "id": "FL7OOcE0MHs4"
      }
    },
    {
      "cell_type": "markdown",
      "source": [
        "用于组织和布局网页上的内容。\"div\" 是 \"division\" 的缩写，意味着它用于将文档分割成独立的部分。由于 \"div\" 本身没有任何视觉效果，它通常与 CSS（层叠样式表）一起使用，以控制布局和样式。\"div\" 元素是块级元素，意味着它默认会占据整个容器的宽度，并在前后创建换行。"
      ],
      "metadata": {
        "id": "6SG_pwwbMMQy"
      }
    },
    {
      "cell_type": "markdown",
      "source": [
        "在 Dash 中使用 \"div\"\n",
        "在 Dash 应用程序中，html.Div 对应于 HTML 的 \"div\" 元素。你可以使用它来组织和分隔你的 Dash 应用的不同部分，以及通过添加样式来调整这些部分的布局和外观。html.Div 可以包含文本、其他 HTML 组件，或者 Dash 组件作为其 children 属性的值，从而实现内容的嵌套和组合布局。"
      ],
      "metadata": {
        "id": "ZXzujccJMOrj"
      }
    },
    {
      "cell_type": "code",
      "source": [
        "import dash\n",
        "import dash_html_components as html\n",
        "\n",
        "app = dash.Dash(__name__)\n",
        "\n",
        "app.layout = html.Div(children=[\n",
        "    html.H1(children='这是一个标题'),\n",
        "    html.Div(children=[\n",
        "        html.P(children='这是第一个段落，位于左侧。', style={'float': 'left', 'margin-right': '20px'}),\n",
        "        html.P(children='这是第二个段落，位于右侧。', style={'float': 'right'}),\n",
        "    ])\n",
        "])\n",
        "\n",
        "if __name__ == '__main__':\n",
        "    app.run_server(debug=True)\n"
      ],
      "metadata": {
        "id": "4spBT9bzMYut"
      },
      "execution_count": null,
      "outputs": []
    },
    {
      "cell_type": "markdown",
      "source": [
        "* 最外层的 html.Div 包含一个标题（html.H1）和另一个 div。\n",
        "* 内部的 div 包含两个段落（html.P），它们通过 CSS 样式（style 属性）被设置为左浮动和右浮动，以实现并排布局。"
      ],
      "metadata": {
        "id": "9-KC_0UbMltl"
      }
    },
    {
      "cell_type": "markdown",
      "source": [
        "**div 的优点**\n",
        "\n",
        "* 灵活性：\"div\" 是非常灵活的容器，可以用于创建各种布局。\n",
        "* 样式化：通过 CSS，你可以轻松地为 \"div\" 添加背景色、边框、边距、填充等样式。\n",
        "* 组织性：使用 \"div\" 可以帮助你将页面内容分组，使结构更清晰，也便于应用 CSS 和 JavaScript。"
      ],
      "metadata": {
        "id": "iSoT-jPMMqYk"
      }
    },
    {
      "cell_type": "markdown",
      "source": [
        "## 5. 參考網址"
      ],
      "metadata": {
        "id": "9j8ReWKUNHfq"
      }
    },
    {
      "cell_type": "markdown",
      "source": [
        "1. https://chwang12341.medium.com/data-visualization%E8%B3%87%E6%96%99%E8%A6%96%E8%A6%BA%E5%8C%96-python-plotly%E9%80%B2%E9%9A%8E%E8%A6%96%E8%A6%BA%E5%8C%96-dash%E6%95%99%E5%AD%B8-%E4%B8%80-c087c0008b78\n",
        "\n",
        "2. https://www.bianalyst-gt.com/post/python-dash-%E5%AF%A6%E8%B8%90%EF%BC%88%E4%B8%8A%EF%BC%89-%E8%8D%89%E5%9C%96%E8%A8%AD%E8%A8%88%E8%88%87css-%E6%95%99%E5%AD%B8\n",
        "\n",
        "3. https://www.bianalyst-gt.com/post/python-dash-%E5%AF%A6%E8%B8%90%EF%BC%88%E4%B8%8B%EF%BC%89-callback%E8%88%87%E5%AF%A6%E9%9A%9B%E6%A1%88%E4%BE%8B-%E6%95%99%E5%AD%B8"
      ],
      "metadata": {
        "id": "br9w0RJENJOt"
      }
    }
  ]
}