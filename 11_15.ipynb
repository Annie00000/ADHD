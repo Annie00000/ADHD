{
  "nbformat": 4,
  "nbformat_minor": 0,
  "metadata": {
    "colab": {
      "provenance": [],
      "authorship_tag": "ABX9TyNZyVV3vSngbb/b77N5x2Ls",
      "include_colab_link": true
    },
    "kernelspec": {
      "name": "python3",
      "display_name": "Python 3"
    },
    "language_info": {
      "name": "python"
    }
  },
  "cells": [
    {
      "cell_type": "markdown",
      "metadata": {
        "id": "view-in-github",
        "colab_type": "text"
      },
      "source": [
        "<a href=\"https://colab.research.google.com/github/Annie00000/Project/blob/main/11_15.ipynb\" target=\"_parent\"><img src=\"https://colab.research.google.com/assets/colab-badge.svg\" alt=\"Open In Colab\"/></a>"
      ]
    },
    {
      "cell_type": "markdown",
      "source": [
        "## site 3 of 20 ooc\n",
        "\n",
        "以site區分繪圖，"
      ],
      "metadata": {
        "id": "pEwnbpdJyfTI"
      }
    },
    {
      "cell_type": "code",
      "source": [
        "import pandas as pd\n",
        "import plotly.graph_objects as go\n",
        "\n",
        "# 讀取 Excel 文件\n",
        "file_path = 'test.xlsx'  # 記得將路徑設置為你的文件位置\n",
        "df = pd.read_excel(file_path)\n",
        "\n",
        "# 合併 Time 和 ID 作為 X 軸標籤\n",
        "df['Time_ID'] = df['Time'].astype(str) + \"_\" + df['ID']\n",
        "\n",
        "# 根據 'Site' 分組並繪製每個站點的圖表\n",
        "site_plots = {}\n",
        "for site, site_data in df.groupby('Site'):\n",
        "    # 為每個站點創建圖表\n",
        "    fig = go.Figure()\n",
        "\n",
        "    # 添加 Value 的折線圖\n",
        "    fig.add_trace(go.Scatter(\n",
        "        x=site_data['Time_ID'],\n",
        "        y=site_data['Value'],\n",
        "        mode='lines+markers',\n",
        "        name='Value',\n",
        "        line=dict(color='blue')\n",
        "    ))\n",
        "\n",
        "    # 添加 LCL 和 UCL 的折線圖，並僅在第一個點上標註文字\n",
        "    fig.add_trace(go.Scatter(\n",
        "        x=site_data['Time_ID'],\n",
        "        y=site_data['LCL'],\n",
        "        mode='lines+text',\n",
        "        name='LCL',\n",
        "        text=['LCL'] + [''] * (len(site_data) - 1),  # 只在第一個點標註 \"LCL\"\n",
        "        textposition=\"top left\",\n",
        "        line=dict(color='gray', dash='dash')\n",
        "    ))\n",
        "\n",
        "    fig.add_trace(go.Scatter(\n",
        "        x=site_data['Time_ID'],\n",
        "        y=site_data['UCL'],\n",
        "        mode='lines+text',\n",
        "        name='UCL',\n",
        "        text=['UCL'] + [''] * (len(site_data) - 1),  # 只在第一個點標註 \"UCL\"\n",
        "        textposition=\"top left\",\n",
        "        line=dict(color='gray', dash='dash')\n",
        "    ))\n",
        "\n",
        "    # 設定圖表標題和軸標籤\n",
        "    fig.update_layout(\n",
        "        title=f'Site {site} - Value Over Time_ID',\n",
        "        xaxis_title='Time_ID',\n",
        "        yaxis_title='Value',\n",
        "        showlegend=True\n",
        "    )\n",
        "\n",
        "    # 儲存圖表\n",
        "    site_plots[site] = fig\n",
        "    fig.show()\n"
      ],
      "metadata": {
        "id": "7U0tDaWs1Gvn"
      },
      "execution_count": null,
      "outputs": []
    },
    {
      "cell_type": "markdown",
      "source": [
        "* box plot"
      ],
      "metadata": {
        "id": "yWXbYbL31G6o"
      }
    },
    {
      "cell_type": "code",
      "source": [
        "import pandas as pd\n",
        "import plotly.graph_objects as go\n",
        "\n",
        "# 讀取 Excel 文件\n",
        "file_path = '/mnt/data/tt.xlsx'\n",
        "df = pd.read_excel(file_path)\n",
        "\n",
        "# 創建圖表\n",
        "fig = go.Figure()\n",
        "\n",
        "# 繪製每個 ID 的 box plot\n",
        "for id_value in df['ID'].unique():\n",
        "    fig.add_trace(go.Box(\n",
        "        y=df[df['ID'] == id_value]['Value'],\n",
        "        name=str(id_value),  # x 軸顯示 ID 名稱\n",
        "        boxmean=True  #'是否顯示均值和標準差，可以是 True、False 或 'sd'。\n",
        "\n",
        "    ))\n",
        "\n",
        "# 添加 LCL 折線圖並標註文字\n",
        "fig.add_trace(go.Scatter(\n",
        "    x=df['ID'].astype(str),\n",
        "    y=df['LCL'],\n",
        "    mode='lines+markers+text',\n",
        "    name='LCL',\n",
        "    text=['LCL'] + [''] * (len(df) - 1),  # 只在 LCL 線的起始點標註\n",
        "    textposition=\"top left\",\n",
        "    line=dict(color='gray', dash='dash')\n",
        "))\n",
        "\n",
        "# 添加 UCL 折線圖並標註文字\n",
        "fig.add_trace(go.Scatter(\n",
        "    x=df['ID'].astype(str),\n",
        "    y=df['UCL'],\n",
        "    mode='lines+markers+text',\n",
        "    name='UCL',\n",
        "    text=['UCL'] + [''] * (len(df) - 1),  # 只在 UCL 線的起始點標註\n",
        "    textposition=\"top left\",\n",
        "    line=dict(color='gray', dash='dash')\n",
        "))\n",
        "\n",
        "# 設定圖表標題和軸標籤\n",
        "fig.update_layout(\n",
        "    title='Box Plot of Value by ID with LCL and UCL Lines',\n",
        "    xaxis_title='ID',\n",
        "    yaxis_title='Value',\n",
        "    showlegend=True\n",
        ")\n",
        "\n",
        "# 顯示圖表\n",
        "fig.show()\n"
      ],
      "metadata": {
        "id": "MeLFi6kl3nMs"
      },
      "execution_count": null,
      "outputs": []
    },
    {
      "cell_type": "markdown",
      "source": [
        "go.Box 有多個參數可以自訂 box plot 的外觀和行為，以下是一些常用的參數：\n",
        "\n",
        "* y: 設置 y 軸上的數據，這些數據將用於計算 box plot 中的統計信息（例如四分位數、中位數等）。\n",
        "* x: 設置 x 軸上的分類變量（如果需要分組或標籤）。\n",
        "* name: 用於給這個 box plot 一個名稱，圖例中會顯示此名稱。\n",
        "* boxmean: 可以設為 'sd' 或 True，用來顯示均值和標準差。\n",
        "* marker: 用於自定義異常值的標記樣式（如顏色、大小等）。\n",
        "* line: 自定義箱子和觸鬚的顏色和寬度。\n",
        "* orientation: 設定箱形圖的方向，可以是 'v'（垂直）或 'h'（水平）。\n",
        "* jitter 和 pointpos: 用於控制數據點的分佈範圍（當 boxpoints='all' 或 boxpoints='outliers' 時有效）。"
      ],
      "metadata": {
        "id": "0YOso9XY4Gfr"
      }
    },
    {
      "cell_type": "markdown",
      "source": [
        "---"
      ],
      "metadata": {
        "id": "QlhWvRQM4mHH"
      }
    },
    {
      "cell_type": "markdown",
      "source": [
        "* boxmean 的不同選項 :\n",
        "\n",
        "1. True：顯示均值。則箱型圖會顯示一條水平線標示均值的位置。這條線通常與中位數的線不同（除非數據完全對稱），這樣可以讓使用者看到數據的均值位置。\n",
        "\n",
        "2. 'sd'：顯示均值和標準差。箱型圖除了顯示均值外，還會以附加的線條或區域顯示標準差範圍，提供均值的變異範圍信息。這樣能幫助查看數據的集中情況和離散程度。\n",
        "\n",
        "3. False（預設值）：不顯示均值。如果 boxmean=False（預設），則不會顯示均值，僅展示箱型圖的標準結構：四分位範圍（IQR）、中位數和異常值。"
      ],
      "metadata": {
        "id": "k7IatH4Q4kW0"
      }
    }
  ]
}