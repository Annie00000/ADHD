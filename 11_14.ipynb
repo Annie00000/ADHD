{
  "nbformat": 4,
  "nbformat_minor": 0,
  "metadata": {
    "colab": {
      "provenance": [],
      "authorship_tag": "ABX9TyP8U2BlbN2T5MSlEwMuHx/I",
      "include_colab_link": true
    },
    "kernelspec": {
      "name": "python3",
      "display_name": "Python 3"
    },
    "language_info": {
      "name": "python"
    }
  },
  "cells": [
    {
      "cell_type": "markdown",
      "metadata": {
        "id": "view-in-github",
        "colab_type": "text"
      },
      "source": [
        "<a href=\"https://colab.research.google.com/github/Annie00000/Project/blob/main/11_14.ipynb\" target=\"_parent\"><img src=\"https://colab.research.google.com/assets/colab-badge.svg\" alt=\"Open In Colab\"/></a>"
      ]
    },
    {
      "cell_type": "code",
      "source": [
        "import plotly.graph_objects as go\n",
        "import pandas as pd\n",
        "\n",
        "# 假設的主要 DataFrame\n",
        "df = pd.DataFrame({\n",
        "    'time': pd.date_range(start='2023-01-01', periods=100, freq='D'),\n",
        "    'value': range(100)\n",
        "})\n",
        "\n",
        "# 假設的索引列表\n",
        "df1_index = df1.index.tolist()  # 將索引轉換為列表\n",
        "df2_index = df2.index.tolist()\n",
        "df3_index = df3.index.tolist()\n",
        "df4_index = df4.index.tolist()\n",
        "\n",
        "# 創建圖表\n",
        "fig = go.Figure()\n",
        "\n",
        "# 繪製灰色的折線和所有點作為背景\n",
        "fig.add_trace(go.Scatter(\n",
        "    x=df['time'],\n",
        "    y=df['value'],\n",
        "    mode='lines+markers',\n",
        "    marker=dict(color='lightgrey', size=8),  # 灰色背景點\n",
        "    line=dict(color='lightgrey', width=2),\n",
        "    name='Background'\n",
        "))\n",
        "\n",
        "# 繪製每個 df 的指定索引點，顏色不同\n",
        "# df1: 浅橘色\n",
        "fig.add_trace(go.Scatter(\n",
        "    x=df.loc[df1_index, 'time'],\n",
        "    y=df.loc[df1_index, 'value'],\n",
        "    mode='markers',\n",
        "    marker=dict(color='orange', size=10),\n",
        "    name='DF1 (Light Orange)'\n",
        "))\n",
        "\n",
        "# df2: 深橘色\n",
        "fig.add_trace(go.Scatter(\n",
        "    x=df.loc[df2_index, 'time'],\n",
        "    y=df.loc[df2_index, 'value'],\n",
        "    mode='markers',\n",
        "    marker=dict(color='darkorange', size=10),\n",
        "    name='DF2 (Dark Orange)'\n",
        "))\n",
        "\n",
        "# df3: 藍色\n",
        "fig.add_trace(go.Scatter(\n",
        "    x=df.loc[df3_index, 'time'],\n",
        "    y=df.loc[df3_index, 'value'],\n",
        "    mode='markers',\n",
        "    marker=dict(color='blue', size=10),\n",
        "    name='DF3 (Blue)'\n",
        "))\n",
        "\n",
        "# df4: 綠色\n",
        "fig.add_trace(go.Scatter(\n",
        "    x=df.loc[df4_index, 'time'],\n",
        "    y=df.loc[df4_index, 'value'],\n",
        "    mode='markers',\n",
        "    marker=dict(color='green', size=10),\n",
        "    name='DF4 (Green)'\n",
        "))\n",
        "\n",
        "# 設置圖表標題和軸標籤\n",
        "fig.update_layout(\n",
        "    title='Time Series with Highlighted Points from Multiple DataFrames',\n",
        "    xaxis_title='Time',\n",
        "    yaxis_title='Value'\n",
        ")\n",
        "\n",
        "# 顯示圖表\n",
        "fig.show()\n"
      ],
      "metadata": {
        "id": "zujpoM7JvKFI"
      },
      "execution_count": null,
      "outputs": []
    }
  ]
}