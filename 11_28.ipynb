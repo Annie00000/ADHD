{
  "nbformat": 4,
  "nbformat_minor": 0,
  "metadata": {
    "colab": {
      "provenance": [],
      "authorship_tag": "ABX9TyP0A0Y6CKYlDe3ZRtGR8cPC",
      "include_colab_link": true
    },
    "kernelspec": {
      "name": "python3",
      "display_name": "Python 3"
    },
    "language_info": {
      "name": "python"
    }
  },
  "cells": [
    {
      "cell_type": "markdown",
      "metadata": {
        "id": "view-in-github",
        "colab_type": "text"
      },
      "source": [
        "<a href=\"https://colab.research.google.com/github/Annie00000/Project/blob/main/11_28.ipynb\" target=\"_parent\"><img src=\"https://colab.research.google.com/assets/colab-badge.svg\" alt=\"Open In Colab\"/></a>"
      ]
    },
    {
      "cell_type": "code",
      "source": [
        "# 定義函數映射，擴展到 15 個函數\n",
        "function_mapping = {\n",
        "    0: rule_ooc,\n",
        "    1: rule_trend,\n",
        "    2: rule_cons_n_out,\n",
        "    # 添加其他函數的占位，直到15個\n",
        "    3: lambda df: df.assign(custom_rule_3=\"Applied custom_rule_3\"),\n",
        "    4: lambda df: df.assign(custom_rule_4=\"Applied custom_rule_4\"),\n",
        "    5: lambda df: df.assign(custom_rule_5=\"Applied custom_rule_5\"),\n",
        "    # ...\n",
        "    14: lambda df: df.assign(custom_rule_14=\"Applied custom_rule_14\"),\n",
        "}\n",
        "\n",
        "# 將 tt 的 rule 解碼為長度15的布林列表\n",
        "tt_df['rule'] = tt_df['rule'].apply(lambda x: list(map(int, str(x).zfill(15))))\n",
        "# str(x).zfill(15)：保證 rule 長度為 15。\n",
        "# list(map(int, ...))：將字元轉為整數列表\n",
        "\n",
        "\n",
        "\n",
        "# 分組處理邏輯\n",
        "result = pd.DataFrame()\n",
        "for name, group in data.groupby('name'):\n",
        "    # 獲取該 name 對應的 rule\n",
        "    rule = tt_df.loc[tt_df['name'] == name, 'rule'].values\n",
        "    if len(rule) > 0:\n",
        "        rule = rule[0]  # 獲取該 name 的第一條規則\n",
        "        # 按照 rule 應用函數\n",
        "        for idx, flag in enumerate(rule):\n",
        "            if flag == 1 and idx in function_mapping:\n",
        "                func = function_mapping[idx]\n",
        "                group = func(group)\n",
        "    result = pd.concat([result, group])\n",
        "\n",
        "result.reset_index(drop=True, inplace=True)\n",
        "print(result)\n"
      ],
      "metadata": {
        "id": "5ZP94wVLuooJ"
      },
      "execution_count": null,
      "outputs": []
    },
    {
      "cell_type": "markdown",
      "source": [
        "如果每個 rule 函數的參數數量與輸入值不同，解決方式是對每個函數建立對應的參數配置，然後在執行函數時動態傳遞這些參數。以下是實現方式的詳細步驟："
      ],
      "metadata": {
        "id": "scyqu3J1vVlz"
      }
    },
    {
      "cell_type": "code",
      "source": [
        "# 定義函數\n",
        "def rule_ooc(df, k=3):\n",
        "    df['rule_ooc'] = f\"Applied rule_ooc with k={k}\"\n",
        "    return df\n",
        "\n",
        "def rule_trend(df, n=7, factor=1.5):\n",
        "    df['rule_trend'] = f\"Applied rule_trend with n={n}, factor={factor}\"\n",
        "    return df\n",
        "\n",
        "def rule_cons_n_out(df, n=8, threshold=10):\n",
        "    df['rule_cons_n_out'] = f\"Applied rule_cons_n_out with n={n}, threshold={threshold}\"\n",
        "    return df\n",
        "\n",
        "# 函數映射與參數配置表\n",
        "function_mapping = {\n",
        "    0: rule_ooc,\n",
        "    1: rule_trend,\n",
        "    2: rule_cons_n_out,\n",
        "}\n",
        "\n",
        "# 每個函數對應的參數\n",
        "function_params = {\n",
        "    0: {\"k\": 5},\n",
        "    1: {\"n\": 10, \"factor\": 2.0},\n",
        "    2: {\"n\": 12, \"threshold\": 15},\n",
        "}\n",
        "\n",
        "# 模擬資料\n",
        "data = pd.DataFrame({\n",
        "    'name': ['A', 'A', 'B', 'C', 'D', 'E', 'A', 'C'],\n",
        "    'value': [10, 20, 30, 40, 50, 60, 70, 80]\n",
        "})\n",
        "\n",
        "# 更新 tt 表，確保 rule 長度為15\n",
        "tt_df['rule'] = tt_df['rule'].apply(lambda x: list(map(int, str(x).zfill(15))))\n",
        "\n",
        "# 分組處理邏輯\n",
        "result = pd.DataFrame()\n",
        "for name, group in data.groupby('name'):\n",
        "    # 獲取該 name 對應的 rule\n",
        "    rule = tt_df.loc[tt_df['name'] == name, 'rule'].values\n",
        "    if len(rule) > 0:\n",
        "        rule = rule[0]  # 獲取該 name 的第一條規則\n",
        "        # 按照 rule 應用函數\n",
        "        for idx, flag in enumerate(rule):\n",
        "            if flag == 1 and idx in function_mapping:\n",
        "                func = function_mapping[idx]\n",
        "                params = function_params.get(idx, {})  # 獲取對應參數\n",
        "                group = func(group, **params)  # 傳遞參數執行函數\n",
        "    result = pd.concat([result, group])\n",
        "\n",
        "result.reset_index(drop=True, inplace=True)\n",
        "print(result)\n"
      ],
      "metadata": {
        "id": "L0EqSEJXvel_"
      },
      "execution_count": null,
      "outputs": []
    },
    {
      "cell_type": "markdown",
      "source": [
        "* 明天看"
      ],
      "metadata": {
        "id": "BjP8Rv7WwM4z"
      }
    },
    {
      "cell_type": "code",
      "source": [
        "import ast\n",
        "\n",
        "# 假設 tt_df 中有一列 'params' 記錄數字參數，例如 '[1,2][2,2][]'\n",
        "tt_df['params'] = ['[1,2][2,2][]', '[3,4][5,6][7,8]', '[][][9,10]', '[1,1][][2,2]', '[3,3][4,4][]']\n",
        "\n",
        "# 定義函數\n",
        "def rule_ooc(df, k=3):\n",
        "    df['rule_ooc'] = f\"Applied rule_ooc with k={k}\"\n",
        "    return df\n",
        "\n",
        "def rule_trend(df, n=7, factor=1.5):\n",
        "    df['rule_trend'] = f\"Applied rule_trend with n={n}, factor={factor}\"\n",
        "    return df\n",
        "\n",
        "def rule_cons_n_out(df, n=8, threshold=10):\n",
        "    df['rule_cons_n_out'] = f\"Applied rule_cons_n_out with n={n}, threshold={threshold}\"\n",
        "    return df\n",
        "\n",
        "# 函數映射\n",
        "function_mapping = {\n",
        "    0: rule_ooc,\n",
        "    1: rule_trend,\n",
        "    2: rule_cons_n_out,\n",
        "}\n",
        "\n",
        "# 字串參數（如果有的話）\n",
        "function_params = {\n",
        "    1: {\"factor\": 2.0},\n",
        "    2: {\"threshold\": 15},\n",
        "}\n",
        "\n",
        "# 解析 'params' 為數字參數列表\n",
        "def parse_params(param_str):\n",
        "    # 將 '[1,2][2,2][]' 解析為 [[1, 2], [2, 2], []]\n",
        "    return [ast.literal_eval(p) if p else [] for p in param_str.strip('][').split('][')]\n",
        "\n",
        "tt_df['parsed_params'] = tt_df['params'].apply(parse_params)\n",
        "\n",
        "# 模擬數據\n",
        "data = pd.DataFrame({\n",
        "    'name': ['A', 'A', 'B', 'C', 'D', 'E', 'A', 'C'],\n",
        "    'value': [10, 20, 30, 40, 50, 60, 70, 80]\n",
        "})\n",
        "\n",
        "# 分組處理邏輯\n",
        "result = pd.DataFrame()\n",
        "for name, group in data.groupby('name'):\n",
        "    # 獲取該 name 對應的 rule 和解析參數\n",
        "    match = tt_df.loc[tt_df['name'] == name]\n",
        "    if not match.empty:\n",
        "        rule = match['rule'].values[0]\n",
        "        params = match['parsed_params'].values[0]\n",
        "        # 按照 rule 應用函數\n",
        "        for idx, flag in enumerate(rule):\n",
        "            if flag == 1 and idx in function_mapping:\n",
        "                func = function_mapping[idx]\n",
        "                # 數字參數與字串參數合併\n",
        "                param_dict = function_params.get(idx, {})\n",
        "                if idx < len(params) and params[idx]:  # 若數字參數存在\n",
        "                    param_dict.update({'k': params[idx][0], 'n': params[idx][1]})\n",
        "                # 執行函數\n",
        "                group = func(group, **param_dict)\n",
        "    result = pd.concat([result, group])\n",
        "\n",
        "result.reset_index(drop=True, inplace=True)\n",
        "print(result)\n"
      ],
      "metadata": {
        "id": "Yq8NnXvJwOSO"
      },
      "execution_count": null,
      "outputs": []
    },
    {
      "cell_type": "markdown",
      "source": [
        "1. 數字參數解析 (parse_params)：\n",
        "\n",
        "將 Excel 中的 [1,2][2,2][] 格式解析為 [[1, 2], [2, 2], []]。\n",
        "每個內部列表對應於函數的數字參數。\n",
        "2. 參數合併與動態調用：\n",
        "\n",
        "根據 rule 和 parsed_params 動態生成函數參數。\n",
        "將字串參數（如 factor 或 threshold）與解析出的數字參數合併，然後傳遞給函數。\n",
        "3. 保留靈活性：\n",
        "\n",
        "支援部分函數無參數（空 []）。\n",
        "支援字串與數字參數的混合使用。"
      ],
      "metadata": {
        "id": "IEnGTo06wR4Y"
      }
    }
  ]
}