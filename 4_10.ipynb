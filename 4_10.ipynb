{
  "nbformat": 4,
  "nbformat_minor": 0,
  "metadata": {
    "colab": {
      "provenance": [],
      "authorship_tag": "ABX9TyPz6Zvjz6ty/NAFuHhj98vI",
      "include_colab_link": true
    },
    "kernelspec": {
      "name": "python3",
      "display_name": "Python 3"
    },
    "language_info": {
      "name": "python"
    }
  },
  "cells": [
    {
      "cell_type": "markdown",
      "metadata": {
        "id": "view-in-github",
        "colab_type": "text"
      },
      "source": [
        "<a href=\"https://colab.research.google.com/github/Annie00000/Project/blob/main/4_10.ipynb\" target=\"_parent\"><img src=\"https://colab.research.google.com/assets/colab-badge.svg\" alt=\"Open In Colab\"/></a>"
      ]
    },
    {
      "cell_type": "markdown",
      "source": [
        "## 1. app.run_server() 方法"
      ],
      "metadata": {
        "id": "lVlFpXm7Wotr"
      }
    },
    {
      "cell_type": "markdown",
      "source": [
        "- debug: 布林值，指示是否以調試模式運行伺服器。在調試模式下，伺服器會在程式碼變更時自動重新加載，並提供偵錯資訊。\n",
        "\n",
        "- host: 字符串，指定服务器监听的主机名。默认为 '127.0.0.1'，只接受本机请求。设置为 '0.0.0.0' 可以接受任何 IP 地址的请求，使应用对外可见。"
      ],
      "metadata": {
        "id": "VhD45IOiWp0Q"
      }
    },
    {
      "cell_type": "markdown",
      "source": [
        "## 2. 分頁"
      ],
      "metadata": {
        "id": "GnBKZ-DoZr-g"
      }
    },
    {
      "cell_type": "markdown",
      "source": [
        "Dash 支援 URL 路由，讓你根據 URL 的不同路徑來顯示不同的頁面內容。這種方法利用 dcc.Location 元件來取得目前的 URL 路徑，並根據這個路徑在回呼中傳回對應頁面的佈局。"
      ],
      "metadata": {
        "id": "orMGqsnaZv2j"
      }
    },
    {
      "cell_type": "markdown",
      "source": [
        "1. 定義應用程式的佈局：在應用程式的佈局中包含 dcc.Location 元件用於獲取 URL 信息，和一個用於顯示頁面內容的 html.Div。\n",
        "\n",
        "2. 建立頁面模組：每個頁面的內容定義在不同的 Python 檔案或模組中。\n",
        "\n",
        "3. 使用回呼動態渲染頁面：根據 dcc.Location 的 pathname 屬性的值，從不同的頁面模組傳回對應的頁面佈局。"
      ],
      "metadata": {
        "id": "9qhPqlgHZ1IR"
      }
    },
    {
      "cell_type": "markdown",
      "source": [
        "### 示範"
      ],
      "metadata": {
        "id": "VQSMFi07bv8B"
      }
    },
    {
      "cell_type": "markdown",
      "source": [
        "假設你有兩個頁面模組 page1.py 和 page2.py，每個模組中都定義了一個 layout 變數作為頁面的佈局。"
      ],
      "metadata": {
        "id": "dFgl6ODSb1IY"
      }
    },
    {
      "cell_type": "code",
      "source": [
        "# 主應用程式\n",
        "\n",
        "from dash import Dash, html, dcc, Input, Output\n",
        "from pages import page1, page2  # 假设 pages 文件夹中有 page1.py 和 page2.py\n",
        "\n",
        "app = Dash(__name__)\n",
        "app.layout = html.Div([\n",
        "    dcc.Location(id='url', refresh=False),\n",
        "    html.Div(id='page-content')\n",
        "])\n",
        "\n",
        "@app.callback(Output('page-content', 'children'),\n",
        "              [Input('url', 'pathname')])\n",
        "def display_page(pathname):\n",
        "    if pathname == '/page1':\n",
        "        return page1.layout\n",
        "    elif pathname == '/page2':\n",
        "        return page2.layout\n",
        "    else:\n",
        "        return '404 Page Not Found'\n",
        "\n",
        "if __name__ == '__main__':\n",
        "    app.run_server(debug=True)\n"
      ],
      "metadata": {
        "id": "Id9MvQWDb0ip"
      },
      "execution_count": null,
      "outputs": []
    },
    {
      "cell_type": "markdown",
      "source": [
        "----------"
      ],
      "metadata": {
        "id": "kU5dswheixeh"
      }
    },
    {
      "cell_type": "markdown",
      "source": [
        "* 點擊 \"Go to Page 1\" 連結會將應用程式的 URL 路徑改為 '/page1'"
      ],
      "metadata": {
        "id": "eb2mIU_-i_pi"
      }
    },
    {
      "cell_type": "code",
      "source": [
        "dcc.Link('Go to Page 1', href='/page1')"
      ],
      "metadata": {
        "id": "MelDkDn0izaL"
      },
      "execution_count": null,
      "outputs": []
    },
    {
      "cell_type": "markdown",
      "source": [
        "* html.Form"
      ],
      "metadata": {
        "id": "6VrwRnP0jC0t"
      }
    },
    {
      "cell_type": "markdown",
      "source": [
        "使用 html.Form 在 Dash 中建立表單可以實現使用者輸入和提交資料的功能，但它通常用於處理表單資料提交的場景，而不是用來直接控制頁面導航。不過，你可以在表單提交的回呼中根據表單資料做出決策，包括改變應用程式的目前頁面（透過客戶端路由）。"
      ],
      "metadata": {
        "id": "nbQLnpzMl9pm"
      }
    },
    {
      "cell_type": "code",
      "source": [
        "from dash import Dash, html, dcc, ClientsideFunction\n",
        "\n",
        "app = Dash(__name__)\n",
        "\n",
        "app.layout = html.Div([\n",
        "    dcc.Location(id='url', refresh=False),\n",
        "    html.Form([\n",
        "        dcc.Input(id='input-on-submit', type='text'),\n",
        "        html.Button('Submit', type='submit')\n",
        "    ]),\n",
        "    html.Div(id='container')\n",
        "])\n",
        "\n"
      ],
      "metadata": {
        "id": "YfcVWEbojMGR"
      },
      "execution_count": null,
      "outputs": []
    },
    {
      "cell_type": "markdown",
      "source": [
        "## 3."
      ],
      "metadata": {
        "id": "FsH7gfrUmyy4"
      }
    },
    {
      "cell_type": "markdown",
      "source": [
        "dash.no_update 是 Dash 應用程式開發中一個非常有用的特性，它允許回呼函數在某些情況下不會對指定的輸出進行更新。當回調觸發後，如果你決定當前的輸入不應該引起任何變化（例如輸入不滿足特定條件），你可以返回 dash.no_update 來明確地告訴 Dash：這次回調不應該改變任何已指定的輸出狀態。"
      ],
      "metadata": {
        "id": "xnJNlBlHm4T-"
      }
    }
  ]
}