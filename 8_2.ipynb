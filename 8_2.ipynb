{
  "nbformat": 4,
  "nbformat_minor": 0,
  "metadata": {
    "colab": {
      "provenance": [],
      "authorship_tag": "ABX9TyO7jmOuMowIvl6QB4/qt1V5",
      "include_colab_link": true
    },
    "kernelspec": {
      "name": "python3",
      "display_name": "Python 3"
    },
    "language_info": {
      "name": "python"
    }
  },
  "cells": [
    {
      "cell_type": "markdown",
      "metadata": {
        "id": "view-in-github",
        "colab_type": "text"
      },
      "source": [
        "<a href=\"https://colab.research.google.com/github/Annie00000/Project/blob/main/8_2.ipynb\" target=\"_parent\"><img src=\"https://colab.research.google.com/assets/colab-badge.svg\" alt=\"Open In Colab\"/></a>"
      ]
    },
    {
      "cell_type": "markdown",
      "source": [
        "## 1. 將y軸數據繪製成box plot"
      ],
      "metadata": {
        "id": "aSUOVYfPwTVC"
      }
    },
    {
      "cell_type": "code",
      "source": [
        "# 計算百分位數值\n",
        "percentiles = df['col1'].quantile([0.0, 0.25, 0.5, 0.75, 1.0])\n",
        "\n",
        "# 創建箱線圖\n",
        "fig = go.Figure()\n",
        "\n",
        "# 添加箱線圖\n",
        "fig.add_trace(go.Box(y=df['col1'], name='Box Plot', orientation='h'))\n",
        "\n",
        "# 添加百分位數標註\n",
        "for perc, value in percentiles.items():\n",
        "    fig.add_trace(go.Scatter(\n",
        "        x=[value],\n",
        "        y=[0],\n",
        "        mode='markers+text',\n",
        "        text=f'{perc*100}th: {value}',\n",
        "        textposition='top right',\n",
        "        marker=dict(color='red', size=10),\n",
        "        showlegend=False\n",
        "    ))\n",
        "\n",
        "# 更新佈局\n",
        "fig.update_layout(\n",
        "    title='Box Plot with Percentile Annotations',\n",
        "    yaxis_title='Value'\n",
        ")\n",
        "# 顯示圖表\n",
        "fig.show()\n",
        "\n",
        "# 打印百分位數值\n",
        "print(\"百分位數值：\")\n",
        "for perc, value in percentiles.items():\n",
        "    print(f\"{perc*100}th percentile: {value}\")"
      ],
      "metadata": {
        "id": "nJn13JO_wUbl"
      },
      "execution_count": null,
      "outputs": []
    },
    {
      "cell_type": "markdown",
      "source": [
        "#### a.常見的百分位數包括：\n"
      ],
      "metadata": {
        "id": "QAHMjzvBwo1U"
      }
    },
    {
      "cell_type": "markdown",
      "source": [
        "\n",
        "* 第0百分位數（最小值）：數據集中最小的值。\n",
        "* 第25百分位數（第一四分位數，Q1）：數據中有25%的數據值小於或等於這個數值。\n",
        "* 第50百分位數（中位數，Q2）：數據中有50%的數據值小於或等於這個數值。\n",
        "* 第75百分位數（第三四分位數，Q3）：數據中有75%的數據值小於或等於這個數值。\n",
        "* 第100百分位數（最大值）：數據集中最大的值。"
      ],
      "metadata": {
        "id": "j1WCcV9NwykY"
      }
    },
    {
      "cell_type": "markdown",
      "source": [
        "#### b.如果在原始的y值中，我有一個指定的y值，可以知道其是第幾個percentile嗎?"
      ],
      "metadata": {
        "id": "Bm-efP36w7j-"
      }
    },
    {
      "cell_type": "code",
      "source": [
        "import pandas as pd\n",
        "import numpy as np\n",
        "\n",
        "# 示例數據\n",
        "data = {'col1': [10, 12, 15, 10, 10, 15, 12, 15, 10, 10]}\n",
        "df = pd.DataFrame(data)\n",
        "\n",
        "# 指定的Y值\n",
        "specified_value = 12\n",
        "\n",
        "# 計算指定值的百分位數\n",
        "percentile_rank = np.sum(df['col1'] <= specified_value) / len(df['col1']) * 100\n",
        "\n",
        "# 打印結果\n",
        "print(f\"Value {specified_value} is at the {percentile_rank}th percentile.\")\n"
      ],
      "metadata": {
        "id": "cSBxVm3TxAb8"
      },
      "execution_count": null,
      "outputs": []
    },
    {
      "cell_type": "markdown",
      "source": [
        "#### c. 該值有越高的百分位數，是否代表其發生機率也高?"
      ],
      "metadata": {
        "id": "Gkc3YbmYwztQ"
      }
    },
    {
      "cell_type": "markdown",
      "source": [
        "不完全是這樣理解。百分位數和發生機率是兩個不同的概念。\n",
        "\n",
        "**百分位數**\n",
        "\n",
        "- 定義：**百分位數表示數據分佈中的位置**。例如，第70百分位數表示數據集中有\n",
        "70%的數據點小於或等於這個值。\n",
        "- 解釋：數據點的百分位數越高，意味著在數據集中有更多的數據點小於或等於該值，但這並不意味著該值發生的機率更高。"
      ],
      "metadata": {
        "id": "2fToUZ-0xOIe"
      }
    },
    {
      "cell_type": "markdown",
      "source": [
        "**發生機率**\n",
        "\n",
        "- 定義：發生機率表示**某一事件發生的可能性**。在數據集中，這通常指的是某個特定值出現的頻率。\n",
        "- 解釋：發生機率與百分位數是不同的概念。發生機率高的值表示該值在數據集中出現的次數多，而百分位數高的值表示在數據集中有較多數據點小於或等於該值。"
      ],
      "metadata": {
        "id": "xGS8Z-iexc86"
      }
    },
    {
      "cell_type": "markdown",
      "source": [
        "### 1-1. 將 df[col2] 繪製成箱線圖，並在圖上標註指定的 col1 值(其在 col2 的百分位數位置。"
      ],
      "metadata": {
        "id": "H7yFK-Fb3fTH"
      }
    },
    {
      "cell_type": "code",
      "source": [
        "import pandas as pd\n",
        "import numpy as np\n",
        "import plotly.graph_objects as go\n",
        "\n",
        "# 示例數據\n",
        "data = {\n",
        "    'col1': [10, 20, 30, 40, 50, 60, 70, 80, 90, 100],\n",
        "    'col2': [1, 2, 2, 3, 4, 4, 5, 5, 6, 7]\n",
        "}\n",
        "df = pd.DataFrame(data)\n",
        "\n",
        "# 指定的 col1 值\n",
        "specified_values = [20, 50, 80]\n",
        "\n",
        "# 計算每個指定 col1 值對應的 col2 的值\n",
        "specified_col2_values = df.loc[df['col1'].isin(specified_values), 'col2'].values\n",
        "\n",
        "# 創建橫向箱線圖\n",
        "fig = go.Figure()\n",
        "\n",
        "# 添加橫向箱線圖\n",
        "fig.add_trace(go.Box(x=df['col2'], name='Box Plot', orientation='h'))\n",
        "\n",
        "# 添加百分位數標註\n",
        "for val in specified_col2_values:\n",
        "    perc = np.percentile(df['col2'], 100 * np.sum(df['col2'] <= val) / len(df['col2']))\n",
        "    fig.add_trace(go.Scatter(\n",
        "        x=[val],\n",
        "        y=[0],\n",
        "        mode='markers+text',\n",
        "        text=f'Value {val} ({perc:.2f}th percentile)',\n",
        "        textposition='top center',\n",
        "        marker=dict(color='red', size=10),\n",
        "        showlegend=False\n",
        "    ))\n",
        "\n",
        "# 更新佈局\n",
        "fig.update_layout(\n",
        "    title='Horizontal Box Plot with Percentile Annotations',\n",
        "    xaxis_title='Value'\n",
        ")\n",
        "\n",
        "# 顯示圖表\n",
        "fig.show()\n"
      ],
      "metadata": {
        "id": "uDdNeJfzZdxf"
      },
      "execution_count": null,
      "outputs": []
    },
    {
      "cell_type": "markdown",
      "source": [
        "* 法2"
      ],
      "metadata": {
        "id": "3PoikFYmZ-nx"
      }
    },
    {
      "cell_type": "code",
      "source": [
        "import pandas as pd\n",
        "import numpy as np\n",
        "import plotly.graph_objects as go\n",
        "\n",
        "# 示例數據\n",
        "data = {\n",
        "    'col1': [10, 20, 30, 40, 50, 60, 70, 80, 90, 100],\n",
        "    'col2': [1, 2, 2, 3, 4, 4, 5, 5, 6, 7]\n",
        "}\n",
        "df = pd.DataFrame(data)\n",
        "\n",
        "# 指定的 col1 值\n",
        "specified_indices = [1, 4, 7]\n",
        "\n",
        "# 計算每個指定 col1 值對應的 col2 的百分位數\n",
        "percentiles = [np.percentile(df['col2'], 100 * np.sum(df['col2'] <= df.loc[idx, 'col2']) / len(df['col2'])) for idx in specified_indices]\n",
        "\n",
        "# 創建橫向箱線圖\n",
        "fig = go.Figure()\n",
        "\n",
        "# 添加橫向箱線圖\n",
        "fig.add_trace(go.Box(x=df['col2'], name='Box Plot', orientation='h'))\n",
        "\n",
        "# 添加百分位數標註\n",
        "for idx, perc in zip(specified_indices, percentiles):\n",
        "    value = df.loc[idx, 'col2']\n",
        "    fig.add_trace(go.Scatter(\n",
        "        x=[value],\n",
        "        y=[0],\n",
        "        mode='markers+text',\n",
        "        text=f'Index {idx}: {value}',\n",
        "        textposition='top center',\n",
        "        marker=dict(color='red', size=10),\n",
        "        showlegend=False\n",
        "    ))\n",
        "\n",
        "# 更新佈局\n",
        "fig.update_layout(\n",
        "    title='Horizontal Box Plot with Percentile Annotations',\n",
        "    xaxis_title='Value'\n",
        ")\n",
        "\n",
        "# 顯示圖表\n",
        "fig.show()\n",
        "\n",
        "# 打印百分位數值\n",
        "print(\"百分位數值：\")\n",
        "for idx, perc in zip(specified_indices, percentiles):\n",
        "    print(f\"Index {idx} (value {df.loc[idx, 'col2']}) is at the {perc}th percentile.\")\n"
      ],
      "metadata": {
        "id": "uWmxzV1lZ9X5"
      },
      "execution_count": null,
      "outputs": []
    },
    {
      "cell_type": "markdown",
      "source": [],
      "metadata": {
        "id": "ETEEtyN5Z8by"
      }
    },
    {
      "cell_type": "markdown",
      "source": [
        "## 2. displot"
      ],
      "metadata": {
        "id": "PZi0MpLe78jQ"
      }
    },
    {
      "cell_type": "markdown",
      "source": [
        "* 使用 ff.create_distplot(data[col1], show_hist=True, curve_type='normal') 時，生成的直方圖（Histogram）和正態分佈概率密度函數（PDF）之間有差距是正常的。\n",
        "  - 這是**因為直方圖顯示的是數據的實際分佈(樣本的機率分配)**，\n",
        "  - 而正態分佈**PDF是一個理論上的分佈(母體分配)**，它假設數據遵循正態分佈，並根據數據的均值和標準差進行擬合(用樣本來推母體分配)。"
      ],
      "metadata": {
        "id": "byIy37I-7-0E"
      }
    },
    {
      "cell_type": "markdown",
      "source": [
        "### 2-1"
      ],
      "metadata": {
        "id": "lMAK-TZLGeJl"
      }
    },
    {
      "cell_type": "markdown",
      "source": [
        "那如果我要使用ff.create_distplot(data[col1], show_hist=True, curve_type='normal')\n",
        "然後將指定的index 的col1值 標住在圖上可以嗎? 那這個標註點又是什麼意思? y值"
      ],
      "metadata": {
        "id": "o0Lf6qE6Gw3B"
      }
    },
    {
      "cell_type": "markdown",
      "source": [
        "- 在直方圖上的標註點：標註點的 Y 值是該點在直方圖中的計數。\n",
        "- 在概率密度函數上的標註點：標註點的 Y 值是該點在正態分佈曲線上的密度值。"
      ],
      "metadata": {
        "id": "eW7tS_XJG2HL"
      }
    },
    {
      "cell_type": "code",
      "source": [
        "import pandas as pd\n",
        "import plotly.figure_factory as ff\n",
        "import numpy as np\n",
        "from scipy.stats import norm\n",
        "\n",
        "# 示例数据\n",
        "data = {'col1': [10, 10, 10, 20, 20, 30, 40, 50, 60, 70]}\n",
        "df = pd.DataFrame(data)\n",
        "\n",
        "# 指定要标注的索引\n",
        "annotation_indices = [1, 5]  # 要标注的点的索引\n",
        "\n",
        "# 使用ff.create_distplot创建分布图，包含直方图和正态分布PDF\n",
        "hist_data = [df['col1']]\n",
        "group_labels = ['col1']\n",
        "\n",
        "fig = ff.create_distplot(hist_data, group_labels, show_hist=True, curve_type='normal', histnorm='probability density')\n",
        "fig.update_layout(title='Histogram and Normal PDF with Probability Density Normalization')\n",
        "\n",
        "# 计算正态分布PDF\n",
        "mean, std = norm.fit(df['col1'])\n",
        "x = np.linspace(min(df['col1']), max(df['col1']), 100)\n",
        "pdf = norm.pdf(x, mean, std)\n",
        "\n",
        "# 添加标注点（在正态分布曲线上）\n",
        "for idx in annotation_indices:\n",
        "    value = df['col1'][idx]\n",
        "    density = norm.pdf(value, mean, std)\n",
        "    fig.add_trace(go.Scatter(\n",
        "        x=[value],\n",
        "        y=[density],\n",
        "        mode='markers+text',\n",
        "        text=f'Index {idx}',\n",
        "        textposition='top center',\n",
        "        marker=dict(color='red', size=10),\n",
        "        name=f'Annotation at Index {idx}'\n",
        "    ))\n",
        "\n",
        "# 显示图表\n",
        "fig.show()\n"
      ],
      "metadata": {
        "id": "u1w-iBZLGrVL"
      },
      "execution_count": null,
      "outputs": []
    },
    {
      "cell_type": "markdown",
      "source": [
        "* 一次標註出所有點"
      ],
      "metadata": {
        "id": "AN0eDaXcLLm4"
      }
    },
    {
      "cell_type": "code",
      "source": [
        "import pandas as pd\n",
        "import plotly.figure_factory as ff\n",
        "import plotly.graph_objects as go\n",
        "import numpy as np\n",
        "from scipy.stats import norm\n",
        "\n",
        "# 示例數據\n",
        "data = {'col1': [10, 10, 10, 20, 20, 30, 40, 50, 60, 70]}\n",
        "df = pd.DataFrame(data)\n",
        "\n",
        "# 指定要標註的索引\n",
        "annotation_indices = [1, 5]  # 要標註的點的索引\n",
        "\n",
        "# 使用ff.create_distplot創建分佈圖，包含直方圖和正態分佈PDF\n",
        "hist_data = [df['col1']]\n",
        "group_labels = ['col1']\n",
        "\n",
        "fig = ff.create_distplot(hist_data, group_labels, show_hist=True, curve_type='normal')\n",
        "fig.update_layout(title='Histogram and Normal PDF with Annotations')\n",
        "\n",
        "# 計算正態分佈PDF\n",
        "mean, std = norm.fit(df['col1'])\n",
        "x = np.linspace(min(df['col1']), max(df['col1']), 100)\n",
        "pdf = norm.pdf(x, mean, std)\n",
        "\n",
        "# 計算所有標註點的密度值\n",
        "annotation_values = [df['col1'][idx] for idx in annotation_indices]\n",
        "annotation_densities = [norm.pdf(value, mean, std) for value in annotation_values]\n",
        "\n",
        "# 添加所有標註點\n",
        "fig.add_trace(go.Scatter(\n",
        "    x=annotation_values,\n",
        "    y=annotation_densities,\n",
        "    mode='markers+text',\n",
        "    text=[f'Index {idx}' for idx in annotation_indices],\n",
        "    textposition='top center',\n",
        "    marker=dict(color='red', size=10),\n",
        "    name='Annotations'\n",
        "))\n",
        "\n",
        "# 顯示圖表\n",
        "fig.show()\n"
      ],
      "metadata": {
        "id": "eZn6Cwl7LL-N"
      },
      "execution_count": null,
      "outputs": []
    },
    {
      "cell_type": "markdown",
      "source": [
        "* 指定要標註的索引\n",
        "其實是指定的某些data ['col2']值"
      ],
      "metadata": {
        "id": "9Djy3p19LrGn"
      }
    },
    {
      "cell_type": "code",
      "source": [
        "import pandas as pd\n",
        "import plotly.figure_factory as ff\n",
        "import plotly.graph_objects as go\n",
        "import numpy as np\n",
        "from scipy.stats import norm\n",
        "\n",
        "# 示例數據\n",
        "data = {\n",
        "    'col1': [10, 10, 10, 20, 20, 30, 40, 50, 60, 70],\n",
        "    'col2': ['A', 'B', 'C', 'A', 'D', 'B', 'C', 'A', 'D', 'C']\n",
        "}\n",
        "df = pd.DataFrame(data)\n",
        "\n",
        "# 指定要標註的 col2 值\n",
        "annotation_values_col2 = ['A', 'C']\n",
        "\n",
        "# 對應的 col1 值\n",
        "annotation_values_col1 = df[df['col2'].isin(annotation_values_col2)]['col1'].values\n",
        "\n",
        "# 使用ff.create_distplot創建分佈圖，包含直方圖和正態分佈PDF\n",
        "hist_data = [df['col1']]\n",
        "group_labels = ['col1']\n",
        "\n",
        "fig = ff.create_distplot(hist_data, group_labels, show_hist=True, curve_type='normal')\n",
        "fig.update_layout(title='Histogram and Normal PDF with Annotations')\n",
        "\n",
        "# 計算正態分佈PDF\n",
        "mean, std = norm.fit(df['col1'])\n",
        "x = np.linspace(min(df['col1']), max(df['col1']), 100)\n",
        "pdf = norm.pdf(x, mean, std)\n",
        "\n",
        "# 計算所有標註點的密度值\n",
        "annotation_densities = [norm.pdf(value, mean, std) for value in annotation_values_col1]\n",
        "\n",
        "# 添加所有標註點\n",
        "fig.add_trace(go.Scatter(\n",
        "    x=annotation_values_col1,\n",
        "    y=annotation_densities,\n",
        "    mode='markers+text',\n",
        "    text=[f'Value {value}' for value in annotation_values_col1],\n",
        "    textposition='top center',\n",
        "    marker=dict(color='red', size=10),\n",
        "    name='Annotations'\n",
        "))\n",
        "\n",
        "# 顯示圖表\n",
        "fig.show()\n"
      ],
      "metadata": {
        "id": "qp09bdtJLtCw"
      },
      "execution_count": null,
      "outputs": []
    },
    {
      "cell_type": "markdown",
      "source": [
        "* **添加平均值 ± 3 倍標準差 (σ) 的垂直線**"
      ],
      "metadata": {
        "id": "Qy8Dj-PyMY5M"
      }
    },
    {
      "cell_type": "code",
      "source": [
        "import pandas as pd\n",
        "import plotly.figure_factory as ff\n",
        "import plotly.graph_objects as go\n",
        "import numpy as np\n",
        "from scipy.stats import norm\n",
        "\n",
        "# 示例數據\n",
        "data = {\n",
        "    'col1': [10, 10, 10, 20, 20, 30, 40, 50, 60, 70],\n",
        "    'col2': ['A', 'B', 'C', 'A', 'D', 'B', 'C', 'A', 'D', 'C']\n",
        "}\n",
        "df = pd.DataFrame(data)\n",
        "\n",
        "# 指定要標註的 col2 值\n",
        "annotation_values_col2 = ['A', 'C']\n",
        "\n",
        "# 對應的 col1 值\n",
        "annotation_values_col1 = df[df['col2'].isin(annotation_values_col2)]['col1'].values\n",
        "\n",
        "# 使用ff.create_distplot創建分佈圖，包含直方圖和正態分佈PDF\n",
        "hist_data = [df['col1']]\n",
        "group_labels = ['col1']\n",
        "\n",
        "fig = ff.create_distplot(hist_data, group_labels, show_hist=True, curve_type='normal')\n",
        "fig.update_layout(title='Histogram and Normal PDF with Annotations')\n",
        "\n",
        "# 計算正態分佈PDF\n",
        "mean, std = norm.fit(df['col1'])\n",
        "x = np.linspace(min(df['col1']), max(df['col1']), 100)\n",
        "pdf = norm.pdf(x, mean, std)\n",
        "\n",
        "# 計算所有標註點的密度值\n",
        "annotation_densities = [norm.pdf(value, mean, std) for value in annotation_values_col1]\n",
        "\n",
        "# 添加所有標註點\n",
        "fig.add_trace(go.Scatter(\n",
        "    x=annotation_values_col1,\n",
        "    y=annotation_densities,\n",
        "    mode='markers+text',\n",
        "    text=[f'Value {value}' for value in annotation_values_col1],\n",
        "    textposition='top center',\n",
        "    marker=dict(color='red', size=10),\n",
        "    name='Annotations'\n",
        "))\n",
        "\n",
        "# 添加平均值 ± 3σ 的垂直線\n",
        "for factor in [-3, 3]:\n",
        "    fig.add_trace(go.Scatter(\n",
        "        x=[mean + factor * std, mean + factor * std],\n",
        "        y=[0, max(pdf)],\n",
        "        mode='lines',\n",
        "        line=dict(color='blue', dash='dash'),\n",
        "        name=f'{mean + factor * std:.2f}'\n",
        "    ))\n",
        "\n",
        "# 添加平均值的垂直線\n",
        "fig.add_trace(go.Scatter(\n",
        "    x=[mean, mean],\n",
        "    y=[0, max(pdf)],\n",
        "    mode='lines',\n",
        "    line=dict(color='green', dash='dash'),\n",
        "    name=f'Mean {mean:.2f}'\n",
        "))\n",
        "\n",
        "# 顯示圖表\n",
        "fig.show()\n"
      ],
      "metadata": {
        "id": "LZORg_fgMaYr"
      },
      "execution_count": null,
      "outputs": []
    },
    {
      "cell_type": "markdown",
      "source": [
        "添加線 (法2)"
      ],
      "metadata": {
        "id": "5vs4N-fpMxAB"
      }
    },
    {
      "cell_type": "code",
      "source": [
        "# 添加平均值 ± 3σ 的垂直線\n",
        "fig.add_vline(x=mean, line=dict(color='green', dash='dash'), annotation_text=f'Mean {mean:.2f}', annotation_position='top left')\n",
        "\n",
        "fig.add_vline(x=mean - 3 * std, line=dict(color='blue', dash='dash'), annotation_text=f'Mean - 3σ {mean - 3 * std:.2f}', annotation_position='top left')\n",
        "fig.add_vline(x=mean + 3 * std, line=dict(color='blue', dash='dash'), annotation_text=f'Mean + 3σ {mean + 3 * std:.2f}', annotation_position='top left')\n"
      ],
      "metadata": {
        "id": "aANbdxpFMxOW"
      },
      "execution_count": null,
      "outputs": []
    }
  ]
}