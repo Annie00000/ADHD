{
  "nbformat": 4,
  "nbformat_minor": 0,
  "metadata": {
    "colab": {
      "provenance": [],
      "authorship_tag": "ABX9TyPODFoYbaRM9q4BAk/omQvv",
      "include_colab_link": true
    },
    "kernelspec": {
      "name": "python3",
      "display_name": "Python 3"
    },
    "language_info": {
      "name": "python"
    }
  },
  "cells": [
    {
      "cell_type": "markdown",
      "metadata": {
        "id": "view-in-github",
        "colab_type": "text"
      },
      "source": [
        "<a href=\"https://colab.research.google.com/github/Annie00000/Project/blob/main/10_16.ipynb\" target=\"_parent\"><img src=\"https://colab.research.google.com/assets/colab-badge.svg\" alt=\"Open In Colab\"/></a>"
      ]
    },
    {
      "cell_type": "markdown",
      "source": [
        "## mean shift"
      ],
      "metadata": {
        "id": "UKKEHTbPGXSr"
      }
    },
    {
      "cell_type": "code",
      "source": [
        "import pandas as pd\n",
        "import numpy as np\n",
        "\n",
        "def mean_shift_check(df, mean_col, golden_mean, golden_sigma, k=1.5):\n",
        "    \"\"\"\n",
        "    根據輸入 DataFrame 和參數計算 mean_shift，若 mean_shift > k，\n",
        "    則返回符合條件的 col1 和 col3。\n",
        "\n",
        "    Parameters:\n",
        "    df (pd.DataFrame): 要處理的資料表。\n",
        "    mean_col (str): 要計算平均值的欄位名稱。\n",
        "    golden_mean (float): 基準平均值 (Golden Mean)。\n",
        "    golden_sigma (float): 基準標準差 (Golden Sigma)。\n",
        "    k (float): 判斷閾值，預設為 1.5。\n",
        "\n",
        "    Returns:\n",
        "    pd.DataFrame: 符合條件的 col1 和 col3 組合。\n",
        "    \"\"\"\n",
        "    # 計算 mean_shift\n",
        "    mean_value = df[mean_col].mean()\n",
        "    mean_shift = abs((mean_value - golden_mean) / golden_sigma)\n",
        "\n",
        "    print(f\"Mean value: {mean_value}, Mean shift: {mean_shift}\")\n",
        "\n",
        "    # 判斷 mean_shift 是否大於 k，若是則返回 col1 和 col3 的資料\n",
        "    if mean_shift > k:\n",
        "        result = df[['col1', 'col3']].drop_duplicates().reset_index(drop=True)\n",
        "        return result\n",
        "    else:\n",
        "        print(\"Mean shift 不大於 k，無符合條件的資料。\")\n",
        "        return pd.DataFrame(columns=['col1', 'col3'])\n",
        "\n",
        "# 測試範例資料\n",
        "data = {\n",
        "    'col1': ['A', 'A', 'B', 'B', 'C', 'C'],\n",
        "    'col2': [10, 15, 5, 25, 30, 35],\n",
        "    'col3': ['X', 'X', 'Y', 'Y', 'Z', 'Z'],\n",
        "    'mean_col': [20, 22, 23, 19, 18, 21]\n",
        "}\n",
        "df = pd.DataFrame(data)\n",
        "\n",
        "# 呼叫函數進行測試\n",
        "result = mean_shift_check(df, mean_col='mean_col', golden_mean=20, golden_sigma=2, k=1.5)\n",
        "\n",
        "# 顯示結果\n",
        "print(\"符合條件的 col1 和 col3 資料：\")\n",
        "print(result)\n"
      ],
      "metadata": {
        "id": "oBfGrz0aFgyw"
      },
      "execution_count": null,
      "outputs": []
    },
    {
      "cell_type": "markdown",
      "source": [
        "## sigma ratio"
      ],
      "metadata": {
        "id": "fLuZb-6LGa4t"
      }
    }
  ]
}