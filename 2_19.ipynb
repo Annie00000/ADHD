{
  "nbformat": 4,
  "nbformat_minor": 0,
  "metadata": {
    "colab": {
      "provenance": [],
      "authorship_tag": "ABX9TyMulVEzbbszUVO3RW4d9l6T",
      "include_colab_link": true
    },
    "kernelspec": {
      "name": "python3",
      "display_name": "Python 3"
    },
    "language_info": {
      "name": "python"
    }
  },
  "cells": [
    {
      "cell_type": "markdown",
      "metadata": {
        "id": "view-in-github",
        "colab_type": "text"
      },
      "source": [
        "<a href=\"https://colab.research.google.com/github/Annie00000/Project/blob/main/2_19.ipynb\" target=\"_parent\"><img src=\"https://colab.research.google.com/assets/colab-badge.svg\" alt=\"Open In Colab\"/></a>"
      ]
    },
    {
      "cell_type": "markdown",
      "source": [
        "## 使用matplotlib.pyplot"
      ],
      "metadata": {
        "id": "nch0iqbQ2gic"
      }
    },
    {
      "cell_type": "code",
      "source": [
        "import numpy as np\n",
        "import matplotlib.pyplot as plt\n",
        "from matplotlib.patches import Ellipse\n",
        "\n",
        "def parse_color(rgb_string):\n",
        "    # 將RGB字符串轉換為三個浮點數組成的元組\n",
        "    rgb = rgb_string.strip('rgb()').split(',')\n",
        "    return tuple(int(x)/255 for x in rgb)\n",
        "\n",
        "# 計算橢圓的中心、半長軸和半短軸\n",
        "center_x = np.mean(x)\n",
        "center_y = np.mean(y)\n",
        "semi_major_axis = (max(x) - min(x)) / 2\n",
        "semi_minor_axis = (max(y) - min(y)) / 2\n",
        "\n",
        "# 繪製橢圓外框\n",
        "ellipse = Ellipse((center_x, center_y), width=semi_major_axis*2, height=semi_minor_axis*2,\n",
        "                  edgecolor=parse_color('rgb(50,160,160)'), fc='None', lw=2)\n",
        "plt.gca().add_patch(ellipse)\n",
        "\n",
        "\n",
        "# 使用zip將x, y, 和colors列表組合在一起\n",
        "for x_val, y_val, color_str in zip(x, y, colors):\n",
        "    plt.plot(x_val, y_val, 'o', color=parse_color(color_str), markersize=2)\n",
        "\n",
        "'''\n",
        "# 將x和y座標組合成一個點集\n",
        "points = np.array(list(zip(x, y)))\n",
        "# 計算點集的凸包\n",
        "hull = ConvexHull(points)\n",
        "\n",
        "# 繪製凸包的外框\n",
        "for simplex in hull.simplices:\n",
        "    plt.plot(points[simplex, 0], points[simplex, 1], 'k-') # k- : 繪製一條黑色的實線\n",
        "    #plt.plot(points[simplex, 0], points[simplex, 1], color='blue', linewidth=2)\n",
        "'''\n",
        "\n",
        "\n",
        "plt.axis('equal')  # 確保x和y軸的比例相同，從而使圓形看起來是正確的\n",
        "plt.show()\n"
      ],
      "metadata": {
        "id": "CMp5nTFF2cMJ"
      },
      "execution_count": null,
      "outputs": []
    },
    {
      "cell_type": "markdown",
      "source": [
        "## 邊緣框"
      ],
      "metadata": {
        "id": "30XjyHxZL51p"
      }
    },
    {
      "cell_type": "markdown",
      "source": [
        "* 自己的"
      ],
      "metadata": {
        "id": "ASSc40-mgSIb"
      }
    },
    {
      "cell_type": "code",
      "source": [
        "# 找邊緣點 : 找出每個x下的 min/max y (反之亦然)\n",
        "def find_edge_points(x, y):\n",
        "    coordinates = list(zip(x, y))\n",
        "    edge_points_x = {}\n",
        "    edge_points_y = {}\n",
        "\n",
        "    for x_val, y_val in coordinates:\n",
        "        edge_points_x[x_val] = {\n",
        "            'min': min([y for x, y in coordinates if x == x_val]),\n",
        "            'max': max([y for x, y in coordinates if x == x_val])\n",
        "        }\n",
        "        edge_points_y[y_val] = {\n",
        "            'min': min([x for x, y in coordinates if y == y_val]),\n",
        "            'max': max([x for x, y in coordinates if y == y_val])\n",
        "        }\n",
        "\n",
        "    return edge_points_x, edge_points_y\n",
        "\n",
        "\n",
        "# 擴展邊緣厚度 (自行設定=4)\n",
        "def extend_edge_points(edge_points_x, edge_points_y):\n",
        "    extended_points = set()\n",
        "    for x_val in edge_points_x:\n",
        "        for i in range(1, 5):  # 扩展4个点位\n",
        "            extended_points.add((edge_points_x[x_val]['min'] - i, x_val))\n",
        "            extended_points.add((edge_points_x[x_val]['max'] + i, x_val))\n",
        "    for y_val in edge_points_y:\n",
        "        for i in range(1, 5):  # 扩展4个点位\n",
        "            extended_points.add((y_val, edge_points_y[y_val]['min'] - i))\n",
        "            extended_points.add((y_val, edge_points_y[y_val]['max'] + i))\n",
        "    return extended_points\n",
        "\n",
        "''' PIL\n",
        "for point in extended_points:\n",
        "  draw.point((points[0],points[1]), fill='rgb(50, 160, 160)')\n",
        "\n",
        ",,,\n",
        "\n"
      ],
      "metadata": {
        "id": "IsEzGlySgU-D"
      },
      "execution_count": null,
      "outputs": []
    },
    {
      "cell_type": "code",
      "source": [
        "# 使用\n",
        "# 假设的x, y坐标列表\n",
        "x = [100, 150, 200, 150, 100, 50, 100]\n",
        "y = [200, 250, 300, 150, 100, 150, 200]\n",
        "\n",
        "# 找到边缘点\n",
        "edge_points_x, edge_points_y = find_edge_points(x, y)\n",
        "\n",
        "# 扩展边缘点\n",
        "extended_points = extend_edge_points(edge_points_x, edge_points_y)\n",
        "\n",
        "# 绘制扩展的边缘点作为外框\n",
        "for point in extended_points:\n",
        "    plt.plot(point[1], point[0], 'o', color=\"#3296A8\")  # 使用matplotlib颜色代码\n",
        "\n",
        "plt.gca().invert_yaxis()  # 根据需要调整y轴方向\n",
        "plt.show()\n"
      ],
      "metadata": {
        "id": "WydujPaegvxe"
      },
      "execution_count": null,
      "outputs": []
    },
    {
      "cell_type": "markdown",
      "source": [
        "* 回顧"
      ],
      "metadata": {
        "id": "J7LyE2V7gQUT"
      }
    },
    {
      "cell_type": "code",
      "source": [
        "## 填充其(右側)邊界以達到指定的最大長度(整個右邊邊界的粗度) ##\n",
        "def padding_right_margin(df, max_length):\n",
        "  cols = list(df.columns)\n",
        "  cols.reverse() # 將col順序倒過來\n",
        "  for col in cols: # 遍歷反轉後的欄位列表\n",
        "    # 檢查當前column中是否有值等於1(填充邊緣的元素)。如果是，表示找到了包含1的column (最\"右邊\"(外側)的非空column。)。\n",
        "    if sum(df[col]==1) != 0:\n",
        "      right_border_col = col # 將找到的最右邊(外側)的非空column名稱(只有\"一個\")，並將其存儲在right_border_col變數中。\n",
        "      break\n",
        "  index_ls = df[df[right_border_col]==1].index # 找到right_border_col中值為1的索引，存儲在index_ls中。\n",
        "  # 計算需要填充的行數。\n",
        "   # (計算right_border_col中值為1的總數減去max_length的差，然後除以8並向上取整，確保不超過指定的最大長度(邊界寬度)。)\n",
        "  padding_count = np.ceil((sum(df[right_border_col]==1) - max_length)/8)\n",
        "  # 在特定位置填充1。\n",
        "  for c in range(1, int(padding_count)+1): #從原本邊界的右邊一行開始,到\n",
        "    # 在距離最右邊的非空column c行，並且在index_ls中的相應範圍內填充。可擴展右邊邊界以達到指定的最大長度。\n",
        "    df.loc[min(index_ls)+4*c : max(index_ls)-4*c, right_border_col+c] = 1\n",
        "  return df"
      ],
      "metadata": {
        "id": "A9SYbbpNL7P3"
      },
      "execution_count": null,
      "outputs": []
    },
    {
      "cell_type": "code",
      "source": [],
      "metadata": {
        "id": "LLscQs15UJUc"
      },
      "execution_count": null,
      "outputs": []
    },
    {
      "cell_type": "markdown",
      "source": [
        "# 統整"
      ],
      "metadata": {
        "id": "6JZf8au7ii37"
      }
    },
    {
      "cell_type": "code",
      "source": [
        "import matplotlib.pyplot as plt\n",
        "import numpy as np\n",
        "from matplotlib.patches import Ellipse\n",
        "\n",
        "# parse_color 函数定义\n",
        "def parse_color(rgb_string):\n",
        "    rgb = rgb_string.strip('rgb()').split(',')\n",
        "    return tuple(int(x)/255 for x in rgb)\n",
        "\n",
        "# 假设的x, y坐标列表和颜色\n",
        "x = [100, 150, 200, 150, 100, 50, 100]\n",
        "y = [200, 250, 300, 150, 100, 150, 200]\n",
        "colors = ['rgb(255,0,0)', 'rgb(0,255,0)', 'rgb(0,0,255)', 'rgb(255,255,0)', 'rgb(0,255,255)', 'rgb(255,0,255)', 'rgb(128,128,128)']\n",
        "\n",
        "\n",
        "# 绘制点\n",
        "for x_val, y_val, color_str in zip(x, y, colors):\n",
        "    plt.plot(x_val, y_val, 'o', color=parse_color(color_str), markersize=2)\n",
        "\n",
        "# 计算橢圆的中心、半长轴和半短轴\n",
        "center_x = np.mean(x)\n",
        "center_y = np.mean(y)\n",
        "semi_major_axis = (max(x) - min(x)) / 2\n",
        "semi_minor_axis = (max(y) - min(y)) / 2\n",
        "# 绘制橢圆外框\n",
        "ellipse = Ellipse((center_x, center_y), width=semi_major_axis*2, height=semi_minor_axis*2,\n",
        "                  edgecolor=parse_color('rgb(50,160,160)'), fc='None', lw=2)\n",
        "plt.gca().add_patch(ellipse)\n",
        "\n",
        "# 找到并扩展边缘点\n",
        "edge_points_x, edge_points_y = find_edge_points(x, y)\n",
        "extended_points = extend_edge_points(edge_points_x, edge_points_y)\n",
        "\n",
        "# 绘制扩展的边缘点作为外框\n",
        "for point in extended_points:\n",
        "    plt.plot(point[1], point[0], 'o', color=parse_color('rgb(50,160,160)'), markersize=2)\n",
        "\n",
        "plt.gca().invert_yaxis()  # 根据需要调整y轴方向\n",
        "plt.axis('equal')\n",
        "plt.show()"
      ],
      "metadata": {
        "id": "0gRhgTviikHQ"
      },
      "execution_count": null,
      "outputs": []
    },
    {
      "cell_type": "markdown",
      "source": [
        "### 補充 : go"
      ],
      "metadata": {
        "id": "QfONblhpvX3x"
      }
    },
    {
      "cell_type": "code",
      "source": [
        "import plotly.graph_objects as go\n",
        "import numpy as np\n",
        "\n",
        "# 示例的x, y坐标列表和颜色\n",
        "x = [100, 150, 200, 150, 100, 50, 100]\n",
        "y = [200, 250, 300, 150, 100, 150, 200]\n",
        "colors = ['rgba(255,0,0,1)', 'rgba(0,255,0,1)', 'rgba(0,0,255,1)', 'rgba(255,255,0,1)', 'rgba(0,255,255,1)', 'rgba(255,0,255,1)', 'rgba(128,128,128,1)']\n",
        "\n",
        "# 创建Figure对象\n",
        "fig = go.Figure()\n",
        "\n",
        "# (1) 绘制点及其颜色\n",
        "for x_val, y_val, color in zip(x, y, colors):\n",
        "    fig.add_trace(go.Scatter(x=[x_val], y=[y_val], mode='markers', marker=dict(color=color, size=10)))\n",
        "\n",
        "# (2) 计算橢圆的中心、半长轴和半短轴\n",
        "center_x = np.mean(x)\n",
        "center_y = np.mean(y)\n",
        "semi_major_axis = (max(x) - min(x)) / 2\n",
        "semi_minor_axis = (max(y) - min(y)) / 2\n",
        "\n",
        "# 绘制橢圆\n",
        "fig.add_shape(type=\"ellipse\",\n",
        "    xref=\"x\", yref=\"y\",\n",
        "    x0=center_x-semi_major_axis, y0=center_y-semi_minor_axis,\n",
        "    x1=center_x+semi_major_axis, y1=center_y+semi_minor_axis,\n",
        "    line_color=\"rgba(50,160,160,1)\",\n",
        ")\n",
        "\n",
        "# (3) 假设扩展的外框点位（具体逻辑需要根据需求实现）\n",
        "# 为了演示，我们简单地以第一个点为例进行扩展\n",
        "extended_x = [x[0] - 4, x[0] + 4]\n",
        "extended_y = [y[0] - 4, y[0] + 4]\n",
        "fig.add_trace(go.Scatter(x=extended_x, y=extended_y, mode='markers', marker=dict(color='rgba(50,160,160,1)', size=10)))\n",
        "\n",
        "# 设置图表布局\n",
        "fig.update_layout(showlegend=False)\n",
        "fig.show()\n"
      ],
      "metadata": {
        "id": "sNM28cpuvbiR"
      },
      "execution_count": null,
      "outputs": []
    }
  ]
}