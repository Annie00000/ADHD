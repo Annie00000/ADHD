{
  "nbformat": 4,
  "nbformat_minor": 0,
  "metadata": {
    "colab": {
      "provenance": [],
      "authorship_tag": "ABX9TyMLoyADFrpsqmZSuG6h+318",
      "include_colab_link": true
    },
    "kernelspec": {
      "name": "python3",
      "display_name": "Python 3"
    },
    "language_info": {
      "name": "python"
    }
  },
  "cells": [
    {
      "cell_type": "markdown",
      "metadata": {
        "id": "view-in-github",
        "colab_type": "text"
      },
      "source": [
        "<a href=\"https://colab.research.google.com/github/Annie00000/Project/blob/main/10_18.ipynb\" target=\"_parent\"><img src=\"https://colab.research.google.com/assets/colab-badge.svg\" alt=\"Open In Colab\"/></a>"
      ]
    },
    {
      "cell_type": "markdown",
      "source": [
        "若我兩個df如下，想要將兩個df併再一起並且除col7外(col1-col6相同)的資料若相同，則視為一筆資料，且其col7就合併位元"
      ],
      "metadata": {
        "id": "HPVhs6ap2tXO"
      }
    },
    {
      "cell_type": "code",
      "source": [
        "import pandas as pd\n",
        "\n",
        "# 範例資料\n",
        "data1 = {\n",
        "    'col1': ['A', 'B', 'C'],\n",
        "    'col2': [1, 2, 3],\n",
        "    'col3': ['X', 'Y', 'Z'],\n",
        "    'col4': [10, 20, 30],\n",
        "    'col5': [100, 200, 300],\n",
        "    'col6': [1000, 2000, 3000],\n",
        "    'col7': ['10000 00000 00000', '10000 00000 00000', '10000 00000 00000']\n",
        "}\n",
        "\n",
        "data2 = {\n",
        "    'col1': ['A', 'D', 'E'],\n",
        "    'col2': [1, 5, 8],\n",
        "    'col3': ['X', 'Y', 'Z'],\n",
        "    'col4': [10, 50, 30],\n",
        "    'col5': [100, 100, 300],\n",
        "    'col6': [1000, 2000, 3000],\n",
        "    'col7': ['00100 00000 00000', '00100 00000 00000', '00100 00000 00000']\n",
        "}\n",
        "\n",
        "df1 = pd.DataFrame(data1)\n",
        "df2 = pd.DataFrame(data2)\n",
        "\n",
        "# Step 1: 合併 df1 和 df2\n",
        "combined_df = pd.concat([df1, df2])\n",
        "\n",
        "# Step 2: 定義合併 col7 的邏輯運算函數\n",
        "def merge_col7(col7_values):\n",
        "    # 先移除空值\n",
        "    col7_values = col7_values.dropna().unique()\n",
        "\n",
        "    if len(col7_values) == 1:\n",
        "        # 如果只有一個唯一值，返回它\n",
        "        return col7_values[0]\n",
        "\n",
        "    # 將每個 col7 的字串分割成位元串列表\n",
        "    merged_bits = [0] * len(col7_values[0].replace(\" \", \"\"))  # 初始化合併結果\n",
        "    for col7 in col7_values:\n",
        "        bits = col7.replace(\" \", \"\")\n",
        "        merged_bits = [str(int(b1) | int(b2)) for b1, b2 in zip(merged_bits, bits)]\n",
        "\n",
        "    # 將合併後的結果重新加入空格並返回\n",
        "    return ' '.join([''.join(merged_bits[i:i+5]) for i in range(0, len(merged_bits), 5)])\n",
        "\n",
        "# Step 3: 以 col1 到 col6 作為分群條件，合併 col7\n",
        "result_df = combined_df.groupby(['col1', 'col2', 'col3', 'col4', 'col5', 'col6'], as_index=False).agg({\n",
        "    'col7': merge_col7\n",
        "})\n",
        "#(as_index=False 是一個選項，用來控制分組後的結果是否將分組的列設置為 DataFrame 的索引。)\n",
        "\n",
        "# 顯示結果\n",
        "print(result_df)\n"
      ],
      "metadata": {
        "colab": {
          "base_uri": "https://localhost:8080/"
        },
        "id": "xu7YRixk1eC0",
        "outputId": "da7fb925-f665-468b-d296-4ba7cf886e2c"
      },
      "execution_count": 2,
      "outputs": [
        {
          "output_type": "stream",
          "name": "stdout",
          "text": [
            "  col1  col2 col3  col4  col5  col6               col7\n",
            "0    A     1    X    10   100  1000  10100 00000 00000\n",
            "1    B     2    Y    20   200  2000  10000 00000 00000\n",
            "2    C     3    Z    30   300  3000  10000 00000 00000\n",
            "3    D     5    Y    50   100  2000  00100 00000 00000\n",
            "4    E     8    Z    30   300  3000  00100 00000 00000\n"
          ]
        }
      ]
    },
    {
      "cell_type": "markdown",
      "source": [
        "* 結果"
      ],
      "metadata": {
        "id": "jNH2BkiY2-xr"
      }
    },
    {
      "cell_type": "markdown",
      "source": [
        "\n",
        "在合併後，若兩筆資料的 col1 到 col6 相同，col7 就會進行位元的邏輯或（OR）合併，如 '10000 00000 00000' 和 '00100 00000 00000' 被合併成 '10100 00000 00000'。\n",
        "其他不相同的資料則會保持不變並列入結果中"
      ],
      "metadata": {
        "id": "Hzk9yyxh3ALO"
      }
    },
    {
      "cell_type": "markdown",
      "source": [
        "-----"
      ],
      "metadata": {
        "id": "RWE7YfP94nIn"
      }
    },
    {
      "cell_type": "code",
      "source": [
        "import pandas as pd\n",
        "\n",
        "# 範例資料\n",
        "data1 = {\n",
        "    'col1': ['A', 'B', 'C'],\n",
        "    'col2': [1, 2, 3],\n",
        "    'col3': ['X', 'Y', 'Z'],\n",
        "    'col4': [10, 20, 30],\n",
        "    'col5': [100, 200, 300],\n",
        "    'col6': [1000, 2000, 3000],\n",
        "    'col7': ['10000 00000 00000', '10000 00000 00000', '10000 00000 00000']\n",
        "}\n",
        "\n",
        "data2 = {\n",
        "    'col1': ['A', 'D', 'E'],\n",
        "    'col2': [1, 5, 8],\n",
        "    'col3': ['X', 'Y', 'Z'],\n",
        "    'col4': [10, 50, 30],\n",
        "    'col5': [100, 100, 300],\n",
        "    'col6': [1000, 2000, 3000],\n",
        "    'col7': ['00100 00000 00000', '00100 00000 00000', '00100 00000 00000']\n",
        "}\n",
        "\n",
        "df1 = pd.DataFrame(data1)\n",
        "df2 = pd.DataFrame(data2)\n",
        "\n",
        "# Step 1: 合併 df1 和 df2\n",
        "combined_df = pd.concat([df1, df2])\n",
        "\n",
        "# Step 2: 定義合併 col7 的位元邏輯“或”運算\n",
        "def bitwise_or_merge(col7_list):\n",
        "    # 如果只有一個值，直接返回\n",
        "    if len(col7_list) == 1:\n",
        "        return col7_list[0]\n",
        "\n",
        "    # 將每個 col7 的字串分割成位元串\n",
        "    bit_lists = [bits.replace(\" \", \"\") for bits in col7_list]\n",
        "\n",
        "    # 進行逐位元的邏輯或運算\n",
        "    merged_bits = ''.join(str(int(any([int(bits[i]) for bits in bit_lists]))) for i in range(len(bit_lists[0])))\n",
        "\n",
        "    # 將結果重新加入空格，形成 5 位一組的形式\n",
        "    return ' '.join([merged_bits[i:i+5] for i in range(0, len(merged_bits), 5)])\n",
        "\n",
        "# Step 3: 對 col1 到 col6 相同的組合進行合併，合併 col7\n",
        "result_df = combined_df.groupby(['col1', 'col2', 'col3', 'col4', 'col5', 'col6'], as_index=False)['col7'].agg(bitwise_or_merge)\n",
        "\n",
        "# 顯示結果\n",
        "print(result_df)\n"
      ],
      "metadata": {
        "id": "i5SsmFr926Kg"
      },
      "execution_count": null,
      "outputs": []
    },
    {
      "cell_type": "markdown",
      "source": [
        "簡化的部分：\n",
        "1. 邏輯清晰化：使用更直接的 apply 和 agg 方式來處理 col7 的位元合併，直接在分組聚合中處理邏輯運算。\n",
        "\n",
        "2. 簡單的位元合併邏輯：\n",
        "\n",
        " - 將 col7 裡的位元字串去除空格，轉換為位元列表。\n",
        " - 使用 any() 函數在每個位元位置進行邏輯“或”運算，合併兩個位元串。\n",
        "處理結果的格式化：\n",
        "\n",
        "3. 最後的合併結果會重新插入空格，確保輸出的格式與原始數據相同。"
      ],
      "metadata": {
        "id": "G_eGydu84q5V"
      }
    }
  ]
}