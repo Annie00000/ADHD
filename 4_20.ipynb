{
  "nbformat": 4,
  "nbformat_minor": 0,
  "metadata": {
    "colab": {
      "provenance": [],
      "authorship_tag": "ABX9TyNNmt8KVd5/x/R71zrIhUUH",
      "include_colab_link": true
    },
    "kernelspec": {
      "name": "python3",
      "display_name": "Python 3"
    },
    "language_info": {
      "name": "python"
    }
  },
  "cells": [
    {
      "cell_type": "markdown",
      "metadata": {
        "id": "view-in-github",
        "colab_type": "text"
      },
      "source": [
        "<a href=\"https://colab.research.google.com/github/Annie00000/Project/blob/main/4_20.ipynb\" target=\"_parent\"><img src=\"https://colab.research.google.com/assets/colab-badge.svg\" alt=\"Open In Colab\"/></a>"
      ]
    },
    {
      "cell_type": "markdown",
      "source": [
        "## 1. callback_context.triggered"
      ],
      "metadata": {
        "id": "QE2B9uShGVGq"
      }
    },
    {
      "cell_type": "markdown",
      "source": [
        "* **作用** : callback_context.triggered 是一个列表，它包含了触发当前回调的组件和属性的信息。即使多个输入同时变化，Dash 也保证*只有一个输入会触发回调*，并将该触发源的信息包含在这个列表中。\n",
        "\n",
        "* **返回值** : 这个列表的每个元素都是一个字典，通常只有一个元素。这个字典包含两个关键的键值对：\n",
        "  - 'prop_id': 表示触发回调的组件*ID*和*属性名*，格式为 \"component_id.property\"。\n",
        "  - 'value': 是触发属性的当前值。"
      ],
      "metadata": {
        "id": "Ihv9j2krGX0r"
      }
    },
    {
      "cell_type": "code",
      "source": [
        "# 确定是哪个输入触发了回调\n",
        "trigger_id = callback_context.triggered[0]['prop_id'].split('.')[0] # .split('.')[0] 则是取拆分结果的第一个元素(id)。\n",
        "\n",
        "if trigger_id == 'url':\n",
        "  # 如果是页面加载触发，加载默认数据\n",
        "  start_date = datetime.now() - timedelta(days=30)\n",
        "  end_date = datetime.now()\n",
        "elif trigger_id == 'renew-button' and n_clicks is not None:\n",
        "  # 如果是Renew按钮触发，使用DatePickerRange的日期\n",
        "  pass  # 已经有start_date和end_date通过State传入"
      ],
      "metadata": {
        "id": "u2mbBnsCMe0V"
      },
      "execution_count": null,
      "outputs": []
    },
    {
      "cell_type": "markdown",
      "source": [
        "# 2. html.A v.s html.Form"
      ],
      "metadata": {
        "id": "iCIwPkB6Q9jJ"
      }
    },
    {
      "cell_type": "markdown",
      "source": [
        "## 2-1. html.A"
      ],
      "metadata": {
        "id": "fQtJQ2v8MySL"
      }
    },
    {
      "cell_type": "markdown",
      "source": [
        "- **用途**：html.A对应于HTML的\"a\"标签，主要用于**创建链接到其他页面的超链接**，或者在同一页面内的不同部分之间进行导航（锚点）。这个标签是Web中实现页面间跳转和内部导航的基础。\n",
        "\n",
        "- **属性：**\n",
        "  - href：链接的目标URL，可以是外部链接或页面内的锚点。\n",
        "  - target：定义如何打开链接，例如在新窗口中打开链接可以设置为_blank。\n",
        "  - style和className：用于CSS样式和类的应用。"
      ],
      "metadata": {
        "id": "6PU_EbcoGcOT"
      }
    },
    {
      "cell_type": "markdown",
      "source": [
        "## 2-2. html.Form"
      ],
      "metadata": {
        "id": "_NWVn94MGtXa"
      }
    },
    {
      "cell_type": "markdown",
      "source": [
        "- **用途**：html.Form对应于HTML的\"form:标签，用于创建*提交用户输入数据的表单*。表单可以包含输入字段、单选按钮、复选框、提交按钮等元素，并且可以设定提交行为，通过指定表单的 action（表单数据将要发送的处理页面的URL）和 method（发送方式如GET或POST）属性\n",
        "\n",
        "- **属性**：\n",
        "\n",
        "  *   action：表单提交时数据将被发送到的URL。\n",
        "  *   method：定义数据在表单提交时使用的HTTP方法，通常是POST或GET。\n",
        "  *   style和className：用于CSS样式和类的应用。"
      ],
      "metadata": {
        "id": "BhurB8GiQcoz"
      }
    },
    {
      "cell_type": "markdown",
      "source": [
        "1. 收集用户输入：表单是收集用户输入信息的一种方式，例如登录凭证、注册信息、搜索关键词等。\n",
        "2. 发送数据到服务器：表单允许用户填写信息后，通过点击提交按钮将这些信息发送到服务器上的指定地址进行处理。提交的方式主要有两种：\n",
        "  - GET：通过URL将数据发送到服务器。提交的数据会附加在URL之后，形成查询字符串的一部分，例如\"http://example.com/form?name=John&age=30。\"\n",
        "    - 使用GET方法提交表单时，提交的数据会附加到URL后面，形成所谓的查询字符串（query string）。查询字符串以?开始，后继是一系列的key=value对，每对之间用&符号分隔。\n",
        "  - POST：通过HTTP请求的body部分将数据发送到服务器，适用于需要上传文件或发送大量数据的情况。使用POST方式可以保证数据的隐私性更好，因为数据不会显示在URL中。\n",
        "    - 通过 POST 方法发送到服务器的 /login 路径，数据在 HTTP 请求的 body 中，不会出现在 URL。"
      ],
      "metadata": {
        "id": "hBf0BR9AUEXV"
      }
    },
    {
      "cell_type": "code",
      "source": [
        "import dash\n",
        "from dash import html, dcc\n",
        "\n",
        "app = dash.Dash(__name__)\n",
        "\n",
        "# 设定服务器以便直接运行此脚本\n",
        "server = app.server\n",
        "\n",
        "app.layout = html.Div([\n",
        "    html.H1(\"GET Method Form Submission\"),\n",
        "    html.Form(\n",
        "        action='/display',  # action='/display' 指定了提交数据的服务器端点\n",
        "        method='get',# 使用GET方法，提交的数据会显示在URL中，这通常用于非敏感数据的提交\n",
        "        # 使用POST方法，提交的数据不会出现在URL中\n",
        "        children=[\n",
        "            html.Label(\"Enter your name:\"),\n",
        "            html.Input(type='text', name='username'),\n",
        "            html.Button('Submit', type='submit')\n",
        "        ]\n",
        "    ),\n",
        "    html.Div(id='output')\n",
        "])\n",
        "\n",
        "@app.callback(\n",
        "    dash.dependencies.Output('output', 'children'),\n",
        "    [dash.dependencies.Input('username', 'value')]\n",
        ")\n",
        "def display_output(value):\n",
        "    # 只是为了演示，实际上这里不会显示结果\n",
        "    return f'Hello {value}'\n",
        "\n",
        "if __name__ == '__main__':\n",
        "    app.run_server(debug=True)\n"
      ],
      "metadata": {
        "id": "ssBNFP5eamiN"
      },
      "execution_count": null,
      "outputs": []
    },
    {
      "cell_type": "markdown",
      "source": [
        "上述code:\n",
        "\n",
        "1. 创建表单：用户可以输入他们的名字，并通过点击“Submit”按钮提交表单。\n",
        "2. 表单提交：使用 GET 方法，当表单提交时，浏览器会将输入数据添加到 URL 中。例如，如果用户输入的名字是 John，点击提交后，URL 将变为 /display?username=John。\n",
        "\n",
        "測試:\n",
        "1. 运行上面的 Python 脚本,點入創建的連結 http://127.0.0.1:8050\n",
        "2. 输入名字并提交表单。观察浏览器地址栏中的 URL 变化。"
      ],
      "metadata": {
        "id": "KgzCpOi5avnE"
      }
    },
    {
      "cell_type": "markdown",
      "source": [
        "## 2-3. 總結 :"
      ],
      "metadata": {
        "id": "7ReyNPoIQwee"
      }
    },
    {
      "cell_type": "markdown",
      "source": [
        "- 用途不同：html.A 主要用于**创建链接**，而html.Form用于**定义一个数据提交表单**。\n",
        "- 行为不同：点击html.A中的链接通常会导致浏览器跳转到新的URL或页面内某个位置，而html.Form用于收集用户输入并将数据提交到服务器。\n",
        "- 属性不同：html.A通常会有href, target, rel等属性，而html.Form则涉及action, method, enctype等属性。"
      ],
      "metadata": {
        "id": "_IADYyG2Q7VG"
      }
    },
    {
      "cell_type": "markdown",
      "source": [
        "## html.A 設成像按鈕"
      ],
      "metadata": {
        "id": "01PC54ngtLjO"
      }
    },
    {
      "cell_type": "code",
      "source": [
        "import dash\n",
        "from dash import html\n",
        "\n",
        "app = dash.Dash(__name__)\n",
        "\n",
        "app.layout = html.Div([\n",
        "    html.A(\n",
        "        html.Span(\"Go to Google\"),\n",
        "        href=\"https://www.google.com\",\n",
        "        style={\n",
        "            'display': 'inline-block',\n",
        "            'padding': '8px 15px',\n",
        "            'background-color': '#007BFF',\n",
        "            'color': 'white',\n",
        "            'text-align': 'center',\n",
        "            'text-decoration': 'none',\n",
        "            'border-radius': '5px'\n",
        "        },\n",
        "        target=\"_blank\"\n",
        "    )\n",
        "])\n",
        "\n",
        "if __name__ == '__main__':\n",
        "    app.run_server(debug=True)\n"
      ],
      "metadata": {
        "id": "rry2JiE9tRo3"
      },
      "execution_count": null,
      "outputs": []
    },
    {
      "cell_type": "code",
      "source": [
        "import dash\n",
        "from dash import html, dcc, callback, Input, Output\n",
        "\n",
        "app = dash.Dash(__name__)\n",
        "\n",
        "app.layout = html.Div([\n",
        "    dcc.Location(id='url', refresh=False),\n",
        "    html.Button(\"Go to Google\", id=\"navigate-button\"),\n",
        "])\n",
        "\n",
        "@app.callback(\n",
        "    Output('url', 'href'),\n",
        "    Input('navigate-button', 'n_clicks'),\n",
        "    prevent_initial_call=True\n",
        ")\n",
        "def navigate(n_clicks):\n",
        "    if n_clicks:\n",
        "        return \"https://www.google.com\"\n",
        "\n",
        "if __name__ == '__main__':\n",
        "    app.run_server(debug=True)\n"
      ],
      "metadata": {
        "id": "_pZLOhgwtU0J"
      },
      "execution_count": null,
      "outputs": []
    },
    {
      "cell_type": "code",
      "source": [
        "import dash\n",
        "from dash import html\n",
        "\n",
        "app = dash.Dash(__name__)\n",
        "\n",
        "app.layout = html.Div([\n",
        "    # 带有内联样式的链接，看起来像一个按钮\n",
        "    html.A(\n",
        "        \"Visit Google\",\n",
        "        href=\"https://www.google.com\",\n",
        "        target=\"_blank\",\n",
        "        style={\n",
        "            'display': 'inline-block',    # 使其表现为块状元素但又可以并排显示\n",
        "            'margin': '10px',             # 增加周围空间\n",
        "            'padding': '10px 20px',       # 内部填充，第一个值是垂直方向，第二个是水平方向\n",
        "            'background-color': '#007BFF', # 按钮的背景颜色，这里使用了Bootstrap的蓝色\n",
        "            'color': 'white',             # 文字颜色\n",
        "            'text-align': 'center',       # 文字居中显示\n",
        "            'text-decoration': 'none',    # 去除下划线\n",
        "            'border-radius': '5px',       # 圆角边框\n",
        "            'transition': 'background-color 0.3s', # 过渡效果，使得背景色的变化更平滑\n",
        "            'cursor': 'pointer'           # 鼠标悬停时显示为指针，增强按钮的感觉\n",
        "        }\n",
        "    )\n",
        "])\n",
        "\n",
        "if __name__ == '__main__':\n",
        "    app.run_server(debug=True)\n"
      ],
      "metadata": {
        "id": "Znurqs7mud6B"
      },
      "execution_count": null,
      "outputs": []
    },
    {
      "cell_type": "markdown",
      "source": [
        "## 3. JSON 跟 URL"
      ],
      "metadata": {
        "id": "aDk1DpjCFYgh"
      }
    },
    {
      "cell_type": "markdown",
      "source": [
        "### 3-1. 发送 JSON 数据到 URL"
      ],
      "metadata": {
        "id": "kC6p2DUCFdkb"
      }
    },
    {
      "cell_type": "code",
      "source": [
        "import dash\n",
        "from dash import html, dcc, Input, Output, callback\n",
        "import requests\n",
        "\n",
        "app = dash.Dash(__name__)\n",
        "\n",
        "app.layout = html.Div([\n",
        "    dcc.Input(id='input-text', type='text', value=''),\n",
        "    html.Button('Send Data', id='send-button'),\n",
        "    html.Div(id='response-text')\n",
        "])\n",
        "\n",
        "@callback(\n",
        "    Output('response-text', 'children'),\n",
        "    Input('send-button', 'n_clicks'),\n",
        "    State('input-text', 'value')\n",
        ")\n",
        "def send_data_to_url(n_clicks, input_value):\n",
        "    if n_clicks is not None:\n",
        "        url = \"http://example.com/api/data\"\n",
        "        headers = {'Content-Type': 'application/json'}\n",
        "        # headers 是在 HTTP 请求中用来指定传输数据的格式的一种方式，提供了关于该请求或响应的附加信息\n",
        "        data = {'message': input_value}\n",
        "        response = requests.post(url, json=data, headers=headers)\n",
        "        return f'Response: {response.text}'\n",
        "    return dash.no_update\n",
        "\n",
        "if __name__ == '__main__':\n",
        "    app.run_server(debug=True)\n"
      ],
      "metadata": {
        "id": "ppYeNzVGHC8I"
      },
      "execution_count": null,
      "outputs": []
    },
    {
      "cell_type": "markdown",
      "source": [
        "在这个例子中，当用户填写输入框并点击 \"Send Data\" 按钮时，输入的数据将被发送到 http://example.com/api/data。这里使用了 POST 请求，并且内容类型被设置为 application/json。"
      ],
      "metadata": {
        "id": "-HgLjWT0HFmK"
      }
    },
    {
      "cell_type": "markdown",
      "source": [
        "* 補充:headers = {'Content-Type': 'application/json'}\n",
        "\n",
        "1. 是 HTTP 请求中用来指定传输数据的格式的一种方式。在发送或接收 HTTP 请求时，headers 提供了关于该请求或响应的附加信息，这对于确保数据的正确处理非常重要。\n",
        "\n",
        "2. Content-Type : 是一个 HTTP 头部字段，用于声明请求体中内容的媒体类型（即数据类型）。在发送 JSON 数据到服务器的情况下，将此头部设置为 application/json 告诉服务器，发送的数据是 JSON 格式的。这样服务器知道如何解析传入的数据。"
      ],
      "metadata": {
        "id": "3ZxrzMDyIdl1"
      }
    },
    {
      "cell_type": "markdown",
      "source": [
        "### 3-2, 从 URL 获取 JSON 数据"
      ],
      "metadata": {
        "id": "2vfrj920Ffid"
      }
    },
    {
      "cell_type": "code",
      "source": [
        "import dash\n",
        "from dash import html, dcc, Input, Output, callback\n",
        "import requests\n",
        "\n",
        "app = dash.Dash(__name__)\n",
        "\n",
        "app.layout = html.Div([\n",
        "    html.Button('Get Data', id='get-button'),\n",
        "    dcc.Loading(id='loading-1', children=[html.Div(id='output-data')], type='circle')\n",
        "])\n",
        "\n",
        "@callback(\n",
        "    Output('output-data', 'children'),\n",
        "    Input('get-button', 'n_clicks')\n",
        ")\n",
        "def get_data_from_url(n_clicks):\n",
        "    if n_clicks is not None:\n",
        "        url = \"http://example.com/api/data\"\n",
        "        response = requests.get(url)\n",
        "        # requests.get(url, headers={'Accept': 'application/json'})\n",
        "        # 设置请求头部的 Accept 字段为 application/json 可以确保你告诉服务器你期望的响应数据类型是 JSON\n",
        "\n",
        "        data = response.json()  # Assume the response is JSON formatted\n",
        "        return str(data)\n",
        "    return 'Click the button to get data.'\n",
        "\n",
        "if __name__ == '__main__':\n",
        "    app.run_server(debug=True)\n"
      ],
      "metadata": {
        "id": "V77-sCC8HH1X"
      },
      "execution_count": null,
      "outputs": []
    },
    {
      "cell_type": "markdown",
      "source": [
        "在这个例子中，用户点击 \"Get Data\" 按钮后，应用将从 http://example.com/api/data 获取数据。数据被假定为 JSON 格式，并直接显示在界面上。"
      ],
      "metadata": {
        "id": "5UFFniFeHJjh"
      }
    },
    {
      "cell_type": "markdown",
      "source": [
        "### 3-3. 補充"
      ],
      "metadata": {
        "id": "KppBn8oeI61Q"
      }
    },
    {
      "cell_type": "code",
      "source": [
        "import requests\n",
        "\n",
        "# 发送 JSON 数据\n",
        "url_post = 'https://api.example.com/data'\n",
        "data = {'key': 'value'}\n",
        "headers_post = {'Content-Type': 'application/json'}\n",
        "response_post = requests.post(url_post, json=data, headers=headers_post)\n",
        "\n",
        "# 接收 JSON 数据\n",
        "url_get = 'https://api.example.com/data'\n",
        "headers_get = {'Accept': 'application/json'}\n",
        "response_get = requests.get(url_get, headers=headers_get)\n",
        "if response_get.status_code == 200:\n",
        "    received_data = response_get.json()\n",
        "    print(received_data)\n"
      ],
      "metadata": {
        "id": "-SU1qA1II8kd"
      },
      "execution_count": null,
      "outputs": []
    },
    {
      "cell_type": "markdown",
      "source": [
        "这个示例中，requests.post 和 requests.get 分别用来发送和接收数据。headers_post 在发送数据时用于指定我们正在发送 JSON，而 headers_get 在接收数据时用来请求 JSON 格式的响应。"
      ],
      "metadata": {
        "id": "Tk0zqoyUJAG6"
      }
    },
    {
      "cell_type": "markdown",
      "source": [
        "## 4. 傳遞兩種json"
      ],
      "metadata": {
        "id": "x_j-qBZYKe42"
      }
    },
    {
      "cell_type": "markdown",
      "source": [
        "### 4-1. 合并两个 JSON 对象\n",
        "\n",
        "(这通常适用于两个 JSON 对象没有重复的键（key）)"
      ],
      "metadata": {
        "id": "rYQ13Lx0KlFa"
      }
    },
    {
      "cell_type": "code",
      "source": [
        "import requests\n",
        "\n",
        "# 假设这是两个不同的 JSON 对象\n",
        "json_data1 = {'name': 'John', 'age': 30}\n",
        "json_data2 = {'occupation': 'Engineer', 'city': 'New York'}\n",
        "\n",
        "# 合并这两个 JSON 对象 (将两个 JSON 对象作为不同的字段发送)\n",
        "combined_json = {**json_data1, **json_data2}\n",
        "# combined_json = {'json1': json1, 'json2': json2}\n",
        "\n",
        "# 发送合并后的 JSON 数据\n",
        "url = 'https://api.example.com/data'\n",
        "headers = {'Content-Type': 'application/json'}\n",
        "response = requests.post(url, json=combined_json, headers=headers)\n",
        "print(response.status_code) #print(response.text)\n"
      ],
      "metadata": {
        "id": "2iJmcedpK0nj"
      },
      "execution_count": null,
      "outputs": []
    },
    {
      "cell_type": "markdown",
      "source": [
        "### 4-2. 分别发送两个请求"
      ],
      "metadata": {
        "id": "o14wCFbPK1Hx"
      }
    },
    {
      "cell_type": "code",
      "source": [
        "import requests\n",
        "\n",
        "url = 'http://example.com/api/data'\n",
        "headers = {'Content-Type': 'application/json'}\n",
        "\n",
        "# 发送第一个 JSON\n",
        "json1 = {'name': 'Alice'}\n",
        "response1 = requests.post(url, json=json1, headers=headers)\n",
        "\n",
        "# 发送第二个 JSON\n",
        "json2 = {'age': 25}\n",
        "response2 = requests.post(url, json=json2, headers=headers)\n",
        "\n",
        "print(response1.text, response2.text)\n"
      ],
      "metadata": {
        "id": "kp60_butP3iy"
      },
      "execution_count": null,
      "outputs": []
    },
    {
      "cell_type": "markdown",
      "source": [
        "在这种情况下，服务器需要能够处理来自同一 URL 的多个请求，并对每个请求分别做出响应。"
      ],
      "metadata": {
        "id": "FVOX-QxtP7Nd"
      }
    },
    {
      "cell_type": "markdown",
      "source": [
        ".... 後續get 不確定"
      ],
      "metadata": {
        "id": "Jz02oMIXWFsK"
      }
    },
    {
      "cell_type": "markdown",
      "source": [
        "## 5."
      ],
      "metadata": {
        "id": "MQ84Ug5mWHnI"
      }
    },
    {
      "cell_type": "code",
      "source": [
        "# 当用户点击一个按钮时，发送 JSON 数据到一个特定 URL 并在新标签页中打开该 URL\n",
        "import dash\n",
        "from dash import html, dcc, Input, Output, State, callback\n",
        "import requests\n",
        "import json\n",
        "\n",
        "app = dash.Dash(__name__)\n",
        "\n",
        "app.layout = html.Div([\n",
        "    dcc.Input(id='input-data', type='text', placeholder='Enter data here...'),\n",
        "    html.Button('Plot', id='plot-button'),\n",
        "    html.Div(id='hidden-div', style={'display': 'none'}),\n",
        "    dcc.Location(id='redirect', refresh=True),\n",
        "    html.A(id='link', children='Click here to open the data page', href='', target='_blank', style={'display': 'none'})\n",
        "])\n",
        "\n",
        "@app.callback(\n",
        "    Output('link', 'href'),\n",
        "    Input('plot-button', 'n_clicks'),\n",
        "    State('input-data', 'value'),\n",
        "    prevent_initial_call=True\n",
        ")\n",
        "def process_data_and_send(n_clicks, data):\n",
        "    if n_clicks:\n",
        "        # Suppose this is the URL to which you are sending data\n",
        "        url = 'http://example.com/receive_data'\n",
        "        # The data you are sending as JSON\n",
        "        payload = {'filter_data': data}\n",
        "        headers = {'Content-Type': 'application/json'}\n",
        "\n",
        "        # Sending data via POST request\n",
        "        response = requests.post(url, json=payload, headers=headers)\n",
        "\n",
        "        # Check if the POST request was successful\n",
        "        if response.status_code == 200:\n",
        "            # Returning the URL that should be opened in a new tab\n",
        "            return url\n",
        "        else:\n",
        "            # Handle the error or inform the user\n",
        "            return dash.no_update\n",
        "\n",
        "if __name__ == '__main__':\n",
        "    app.run_server(debug=True)\n"
      ],
      "metadata": {
        "id": "WKyShYobWIsq"
      },
      "execution_count": null,
      "outputs": []
    },
    {
      "cell_type": "markdown",
      "source": [
        "注意点\n",
        "1. 数据安全：当你通过互联网发送数据时，确保你了解发送的数据的敏感性。使用 HTTPS 来保护数据传输过程中的安全。\n",
        "2. 目标 URL：确保目标 URL (http://example.com/receive_data 在这个例子中) 是你控制的，并且能够正确处理接收到的 JSON 数据。如果你只是想在新标签页中打开一个链接而不发送数据，你可以直接修改 href 属性。\n",
        "3. 跨域请求：如果你的 Dash 应用和接收数据的服务器不在同一个域上，你可能需要处理跨源资源共享（CORS）相关的问题。\n",
        "这个示例展示了如何将数据作为 JSON 发送到一个 URL，并在 Dash 应用中创建一个链接，用户可以点击这个链接在新标签页中查看结果。这种方法适用于多种情况，尤其是在数据可视化和数据分析的应用中非常有用。"
      ],
      "metadata": {
        "id": "UZ4HnXE9WNRC"
      }
    },
    {
      "cell_type": "markdown",
      "source": [
        "## 6."
      ],
      "metadata": {
        "id": "wL2mJn_HWfIt"
      }
    },
    {
      "cell_type": "code",
      "source": [
        "import dash\n",
        "import json\n",
        "from dash import html, dcc\n",
        "from dash.dependencies import Input, Output, State\n",
        "\n",
        "app = dash.Dash(__name__)\n",
        "\n",
        "app.layout = html.Div([\n",
        "    dcc.Input(id='input-data', type='text', placeholder='Enter some data here...'),\n",
        "    html.Button('Save Data', id='save-button', n_clicks=0),\n",
        "    html.Div(id='output')\n",
        "])\n",
        "\n",
        "@app.callback(\n",
        "    Output('output', 'children'),\n",
        "    Input('save-button', 'n_clicks'),\n",
        "    State('input-data', 'value')\n",
        ")\n",
        "def save_data_to_file(n_clicks, input_data):\n",
        "    if n_clicks > 0 and input_data is not None:\n",
        "        data = {'user_input': input_data}\n",
        "        # Assuming you are running this on a server with write access to the local file system\n",
        "        with open('data.json', 'w') as f:\n",
        "            json.dump(data, f, indent=4)\n",
        "        return 'Data saved successfully!'\n",
        "    return 'Click the button to save data.'\n",
        "\n",
        "if __name__ == '__main__':\n",
        "    app.run_server(debug=True)\n"
      ],
      "metadata": {
        "id": "9k1ta_ycWV1f"
      },
      "execution_count": null,
      "outputs": []
    },
    {
      "cell_type": "code",
      "source": [],
      "metadata": {
        "id": "ZfQVGwgOWVys"
      },
      "execution_count": null,
      "outputs": []
    }
  ]
}